{
 "cells": [
  {
   "cell_type": "markdown",
   "metadata": {
    "id": "cQnfMYAIiS36"
   },
   "source": [
    "# Import Libraries "
   ]
  },
  {
   "cell_type": "code",
   "execution_count": 44,
   "metadata": {},
   "outputs": [],
   "source": [
    "import warnings\n",
    "warnings.filterwarnings('ignore')"
   ]
  },
  {
   "cell_type": "code",
   "execution_count": 2,
   "metadata": {
    "id": "ol_bieWxVEo3"
   },
   "outputs": [],
   "source": [
    "import csv\n",
    "import pandas as pd\n",
    "import numpy as np\n",
    "import seaborn as sns\n",
    "import matplotlib.pyplot as plt"
   ]
  },
  {
   "cell_type": "code",
   "execution_count": 40,
   "metadata": {},
   "outputs": [],
   "source": [
    "from sklearn import preprocessing\n",
    "from sklearn.model_selection import train_test_split\n",
    "from sklearn.metrics import accuracy_score, log_loss, confusion_matrix\n",
    "from sklearn.preprocessing import MinMaxScaler\n",
    "from sklearn.metrics import r2_score"
   ]
  },
  {
   "cell_type": "code",
   "execution_count": 42,
   "metadata": {},
   "outputs": [],
   "source": [
    "from xgboost import XGBClassifier"
   ]
  },
  {
   "cell_type": "markdown",
   "metadata": {},
   "source": [
    "# Dataset"
   ]
  },
  {
   "cell_type": "code",
   "execution_count": 4,
   "metadata": {},
   "outputs": [],
   "source": [
    "allen = pd.read_csv(\"Dataset.csv\")"
   ]
  },
  {
   "cell_type": "code",
   "execution_count": 5,
   "metadata": {
    "colab": {
     "base_uri": "https://localhost:8080/",
     "height": 204
    },
    "id": "Hnq3U6KrXc0W",
    "outputId": "3f388392-a3a2-4e65-c5ab-3a6383d98ed9"
   },
   "outputs": [
    {
     "output_type": "execute_result",
     "data": {
      "text/plain": [
       "                    Name                                              Party  \\\n",
       "0  OMALLOOR RAMACHANDRAN                         Ambedkarite Party of India   \n",
       "1        SANTHI OMALLOOR  Anna Democratic Human Rights Movement Party of...   \n",
       "2            BIJU MATHEW                             Bharatiya Janata Party   \n",
       "3           VEENA GEORGE                 Communist Party of India (Marxist)   \n",
       "4      K. SIVADASAN NAIR                           Indian National Congress   \n",
       "\n",
       "  Constituency   State  Age Gender  Prev_Contested  Prev_Wins    Assets  \\\n",
       "0     ARANMULA  KERALA   53      M               0          0    195000   \n",
       "1     ARANMULA  KERALA   36      F               0          0     50000   \n",
       "2     ARANMULA  KERALA   46      M               0          0  16905842   \n",
       "3     ARANMULA  KERALA   44      F               1          1  21717808   \n",
       "4     ARANMULA  KERALA   72      M               2          1   9212961   \n",
       "\n",
       "   Cases  Prev_Party  \n",
       "0      0           0  \n",
       "1      0           0  \n",
       "2      3           0  \n",
       "3      0           2  \n",
       "4      1           6  "
      ],
      "text/html": "<div>\n<style scoped>\n    .dataframe tbody tr th:only-of-type {\n        vertical-align: middle;\n    }\n\n    .dataframe tbody tr th {\n        vertical-align: top;\n    }\n\n    .dataframe thead th {\n        text-align: right;\n    }\n</style>\n<table border=\"1\" class=\"dataframe\">\n  <thead>\n    <tr style=\"text-align: right;\">\n      <th></th>\n      <th>Name</th>\n      <th>Party</th>\n      <th>Constituency</th>\n      <th>State</th>\n      <th>Age</th>\n      <th>Gender</th>\n      <th>Prev_Contested</th>\n      <th>Prev_Wins</th>\n      <th>Assets</th>\n      <th>Cases</th>\n      <th>Prev_Party</th>\n    </tr>\n  </thead>\n  <tbody>\n    <tr>\n      <th>0</th>\n      <td>OMALLOOR RAMACHANDRAN</td>\n      <td>Ambedkarite Party of India</td>\n      <td>ARANMULA</td>\n      <td>KERALA</td>\n      <td>53</td>\n      <td>M</td>\n      <td>0</td>\n      <td>0</td>\n      <td>195000</td>\n      <td>0</td>\n      <td>0</td>\n    </tr>\n    <tr>\n      <th>1</th>\n      <td>SANTHI OMALLOOR</td>\n      <td>Anna Democratic Human Rights Movement Party of...</td>\n      <td>ARANMULA</td>\n      <td>KERALA</td>\n      <td>36</td>\n      <td>F</td>\n      <td>0</td>\n      <td>0</td>\n      <td>50000</td>\n      <td>0</td>\n      <td>0</td>\n    </tr>\n    <tr>\n      <th>2</th>\n      <td>BIJU MATHEW</td>\n      <td>Bharatiya Janata Party</td>\n      <td>ARANMULA</td>\n      <td>KERALA</td>\n      <td>46</td>\n      <td>M</td>\n      <td>0</td>\n      <td>0</td>\n      <td>16905842</td>\n      <td>3</td>\n      <td>0</td>\n    </tr>\n    <tr>\n      <th>3</th>\n      <td>VEENA GEORGE</td>\n      <td>Communist Party of India (Marxist)</td>\n      <td>ARANMULA</td>\n      <td>KERALA</td>\n      <td>44</td>\n      <td>F</td>\n      <td>1</td>\n      <td>1</td>\n      <td>21717808</td>\n      <td>0</td>\n      <td>2</td>\n    </tr>\n    <tr>\n      <th>4</th>\n      <td>K. SIVADASAN NAIR</td>\n      <td>Indian National Congress</td>\n      <td>ARANMULA</td>\n      <td>KERALA</td>\n      <td>72</td>\n      <td>M</td>\n      <td>2</td>\n      <td>1</td>\n      <td>9212961</td>\n      <td>1</td>\n      <td>6</td>\n    </tr>\n  </tbody>\n</table>\n</div>"
     },
     "metadata": {},
     "execution_count": 5
    }
   ],
   "source": [
    "allen.head()"
   ]
  },
  {
   "cell_type": "code",
   "execution_count": 6,
   "metadata": {
    "colab": {
     "base_uri": "https://localhost:8080/",
     "height": 297
    },
    "id": "CZTL8TAbXfrX",
    "outputId": "9d4f7440-aa0f-429f-dc62-c0b0e24a7464"
   },
   "outputs": [
    {
     "output_type": "execute_result",
     "data": {
      "text/plain": [
       "             Age  Prev_Contested  Prev_Wins        Assets     Cases  \\\n",
       "count   9.000000        9.000000   9.000000  9.000000e+00  9.000000   \n",
       "mean   52.333333        0.444444   0.222222  9.649177e+06  0.555556   \n",
       "std    12.196311        0.726483   0.440959  9.141307e+06  1.013794   \n",
       "min    36.000000        0.000000   0.000000  5.000000e+04  0.000000   \n",
       "25%    44.000000        0.000000   0.000000  2.900000e+05  0.000000   \n",
       "50%    52.000000        0.000000   0.000000  8.540864e+06  0.000000   \n",
       "75%    63.000000        1.000000   0.000000  1.690584e+07  1.000000   \n",
       "max    72.000000        2.000000   1.000000  2.342500e+07  3.000000   \n",
       "\n",
       "       Prev_Party  \n",
       "count    9.000000  \n",
       "mean     1.777778  \n",
       "std      1.855921  \n",
       "min      0.000000  \n",
       "25%      0.000000  \n",
       "50%      2.000000  \n",
       "75%      2.000000  \n",
       "max      6.000000  "
      ],
      "text/html": "<div>\n<style scoped>\n    .dataframe tbody tr th:only-of-type {\n        vertical-align: middle;\n    }\n\n    .dataframe tbody tr th {\n        vertical-align: top;\n    }\n\n    .dataframe thead th {\n        text-align: right;\n    }\n</style>\n<table border=\"1\" class=\"dataframe\">\n  <thead>\n    <tr style=\"text-align: right;\">\n      <th></th>\n      <th>Age</th>\n      <th>Prev_Contested</th>\n      <th>Prev_Wins</th>\n      <th>Assets</th>\n      <th>Cases</th>\n      <th>Prev_Party</th>\n    </tr>\n  </thead>\n  <tbody>\n    <tr>\n      <th>count</th>\n      <td>9.000000</td>\n      <td>9.000000</td>\n      <td>9.000000</td>\n      <td>9.000000e+00</td>\n      <td>9.000000</td>\n      <td>9.000000</td>\n    </tr>\n    <tr>\n      <th>mean</th>\n      <td>52.333333</td>\n      <td>0.444444</td>\n      <td>0.222222</td>\n      <td>9.649177e+06</td>\n      <td>0.555556</td>\n      <td>1.777778</td>\n    </tr>\n    <tr>\n      <th>std</th>\n      <td>12.196311</td>\n      <td>0.726483</td>\n      <td>0.440959</td>\n      <td>9.141307e+06</td>\n      <td>1.013794</td>\n      <td>1.855921</td>\n    </tr>\n    <tr>\n      <th>min</th>\n      <td>36.000000</td>\n      <td>0.000000</td>\n      <td>0.000000</td>\n      <td>5.000000e+04</td>\n      <td>0.000000</td>\n      <td>0.000000</td>\n    </tr>\n    <tr>\n      <th>25%</th>\n      <td>44.000000</td>\n      <td>0.000000</td>\n      <td>0.000000</td>\n      <td>2.900000e+05</td>\n      <td>0.000000</td>\n      <td>0.000000</td>\n    </tr>\n    <tr>\n      <th>50%</th>\n      <td>52.000000</td>\n      <td>0.000000</td>\n      <td>0.000000</td>\n      <td>8.540864e+06</td>\n      <td>0.000000</td>\n      <td>2.000000</td>\n    </tr>\n    <tr>\n      <th>75%</th>\n      <td>63.000000</td>\n      <td>1.000000</td>\n      <td>0.000000</td>\n      <td>1.690584e+07</td>\n      <td>1.000000</td>\n      <td>2.000000</td>\n    </tr>\n    <tr>\n      <th>max</th>\n      <td>72.000000</td>\n      <td>2.000000</td>\n      <td>1.000000</td>\n      <td>2.342500e+07</td>\n      <td>3.000000</td>\n      <td>6.000000</td>\n    </tr>\n  </tbody>\n</table>\n</div>"
     },
     "metadata": {},
     "execution_count": 6
    }
   ],
   "source": [
    "allen.describe()"
   ]
  },
  {
   "cell_type": "code",
   "execution_count": 7,
   "metadata": {},
   "outputs": [
    {
     "output_type": "execute_result",
     "data": {
      "text/plain": [
       "<bound method DataFrame.info of                     Name                                              Party  \\\n",
       "0  OMALLOOR RAMACHANDRAN                         Ambedkarite Party of India   \n",
       "1        SANTHI OMALLOOR  Anna Democratic Human Rights Movement Party of...   \n",
       "2            BIJU MATHEW                             Bharatiya Janata Party   \n",
       "3           VEENA GEORGE                 Communist Party of India (Marxist)   \n",
       "4      K. SIVADASAN NAIR                           Indian National Congress   \n",
       "5           ARJUNAN C. K                                        Independent   \n",
       "6            G. SUGATHAN                                        Independent   \n",
       "7      PRASANTH ARANMULA                                        Independent   \n",
       "8         SIVADASAN NAIR                                        Independent   \n",
       "\n",
       "  Constituency   State  Age Gender  Prev_Contested  Prev_Wins    Assets  \\\n",
       "0     ARANMULA  KERALA   53      M               0          0    195000   \n",
       "1     ARANMULA  KERALA   36      F               0          0     50000   \n",
       "2     ARANMULA  KERALA   46      M               0          0  16905842   \n",
       "3     ARANMULA  KERALA   44      F               1          1  21717808   \n",
       "4     ARANMULA  KERALA   72      M               2          1   9212961   \n",
       "5     ARANMULA  KERALA   52      M               0          0    290000   \n",
       "6     ARANMULA  KERALA   65      M               1          0  23425000   \n",
       "7     ARANMULA  KERALA   40      M               0          0   6505120   \n",
       "8     ARANMULA  KERALA   63      M               0          0   8540864   \n",
       "\n",
       "   Cases  Prev_Party  \n",
       "0      0           0  \n",
       "1      0           0  \n",
       "2      3           0  \n",
       "3      0           2  \n",
       "4      1           6  \n",
       "5      0           2  \n",
       "6      1           2  \n",
       "7      0           2  \n",
       "8      0           2  >"
      ]
     },
     "metadata": {},
     "execution_count": 7
    }
   ],
   "source": [
    "allen.info"
   ]
  },
  {
   "cell_type": "markdown",
   "metadata": {},
   "source": [
    "# Dataset.csv - Label Encoding "
   ]
  },
  {
   "cell_type": "markdown",
   "metadata": {},
   "source": [
    "### Party"
   ]
  },
  {
   "cell_type": "code",
   "execution_count": 8,
   "metadata": {
    "colab": {
     "base_uri": "https://localhost:8080/"
    },
    "id": "4H6prVywXm55",
    "outputId": "cda05f9e-9790-4412-cffd-dcc464f46735"
   },
   "outputs": [],
   "source": [
    "l1 = preprocessing.LabelEncoder()\n",
    "f1 = l1.fit_transform(allen['Party']) \n",
    "f1 = pd.DataFrame(data=f1, columns=['Party'])"
   ]
  },
  {
   "cell_type": "markdown",
   "metadata": {},
   "source": [
    "### Gender"
   ]
  },
  {
   "cell_type": "code",
   "execution_count": 9,
   "metadata": {
    "colab": {
     "base_uri": "https://localhost:8080/"
    },
    "id": "vEoNa2rdXzcT",
    "outputId": "42115dbc-6115-45e5-9769-521665416e5d"
   },
   "outputs": [],
   "source": [
    "l2 = preprocessing.LabelEncoder()\n",
    "f2 = l2.fit_transform(allen['Gender']) \n",
    "f2 = pd.DataFrame(data=f2, columns=['Gender'])"
   ]
  },
  {
   "cell_type": "markdown",
   "metadata": {},
   "source": [
    "### Constituency"
   ]
  },
  {
   "cell_type": "code",
   "execution_count": 11,
   "metadata": {
    "colab": {
     "base_uri": "https://localhost:8080/"
    },
    "id": "9SaK6KlFYGag",
    "outputId": "9782270f-8fbd-45a4-9892-787792e22d79"
   },
   "outputs": [],
   "source": [
    "l3 = preprocessing.LabelEncoder()\n",
    "f3 = l3.fit_transform(allen['Constituency']) \n",
    "f3 = pd.DataFrame(data=f3, columns=['Constituency'])"
   ]
  },
  {
   "cell_type": "markdown",
   "metadata": {},
   "source": [
    "### State"
   ]
  },
  {
   "cell_type": "code",
   "execution_count": 12,
   "metadata": {
    "colab": {
     "base_uri": "https://localhost:8080/"
    },
    "id": "J7ZS-GjHYQC2",
    "outputId": "22336505-ce11-49a0-d74b-904ca9f2b514"
   },
   "outputs": [],
   "source": [
    "l4 = preprocessing.LabelEncoder()\n",
    "f4 = l4.fit_transform(allen['State']) \n",
    "f4 = pd.DataFrame(data=f4, columns=['State'])"
   ]
  },
  {
   "cell_type": "markdown",
   "metadata": {},
   "source": [
    "### Updation"
   ]
  },
  {
   "cell_type": "code",
   "execution_count": 13,
   "metadata": {
    "id": "u4StNldVYagF"
   },
   "outputs": [],
   "source": [
    "allen['Party'] = f1['Party']\n",
    "allen['Gender'] = f2['Gender']\n",
    "allen['Constituency'] = f3['Constituency']\n",
    "allen['State'] = f4['State']"
   ]
  },
  {
   "cell_type": "markdown",
   "metadata": {},
   "source": [
    "# Dataset.csv - MinMaxScaler "
   ]
  },
  {
   "cell_type": "code",
   "execution_count": 23,
   "metadata": {
    "id": "RVeH-pdNaC4t"
   },
   "outputs": [],
   "source": [
    "ms = MinMaxScaler()\n",
    "columns = ['Age','Prev_Party','Prev_Contested','Prev_Wins','Assets','Cases']\n",
    "allen[columns] = ms.fit_transform(allen[columns])"
   ]
  },
  {
   "cell_type": "code",
   "execution_count": 24,
   "metadata": {
    "colab": {
     "base_uri": "https://localhost:8080/",
     "height": 204
    },
    "id": "kW1JDIp9YyR7",
    "outputId": "59248f04-3b27-45a1-fc97-eb8eb202c005"
   },
   "outputs": [
    {
     "output_type": "execute_result",
     "data": {
      "text/plain": [
       "                    Name  Party  Constituency  State       Age  Gender  \\\n",
       "0  OMALLOOR RAMACHANDRAN      0             0      0  0.472222       1   \n",
       "1        SANTHI OMALLOOR      1             0      0  0.000000       0   \n",
       "2            BIJU MATHEW      2             0      0  0.277778       1   \n",
       "3           VEENA GEORGE      3             0      0  0.222222       0   \n",
       "4      K. SIVADASAN NAIR      5             0      0  1.000000       1   \n",
       "\n",
       "   Prev_Contested  Prev_Wins    Assets     Cases  Prev_Party  \n",
       "0             0.0        0.0  0.006203  0.000000    0.000000  \n",
       "1             0.0        0.0  0.000000  0.000000    0.000000  \n",
       "2             0.0        0.0  0.721106  1.000000    0.000000  \n",
       "3             0.5        1.0  0.926965  0.000000    0.333333  \n",
       "4             1.0        1.0  0.391998  0.333333    1.000000  "
      ],
      "text/html": "<div>\n<style scoped>\n    .dataframe tbody tr th:only-of-type {\n        vertical-align: middle;\n    }\n\n    .dataframe tbody tr th {\n        vertical-align: top;\n    }\n\n    .dataframe thead th {\n        text-align: right;\n    }\n</style>\n<table border=\"1\" class=\"dataframe\">\n  <thead>\n    <tr style=\"text-align: right;\">\n      <th></th>\n      <th>Name</th>\n      <th>Party</th>\n      <th>Constituency</th>\n      <th>State</th>\n      <th>Age</th>\n      <th>Gender</th>\n      <th>Prev_Contested</th>\n      <th>Prev_Wins</th>\n      <th>Assets</th>\n      <th>Cases</th>\n      <th>Prev_Party</th>\n    </tr>\n  </thead>\n  <tbody>\n    <tr>\n      <th>0</th>\n      <td>OMALLOOR RAMACHANDRAN</td>\n      <td>0</td>\n      <td>0</td>\n      <td>0</td>\n      <td>0.472222</td>\n      <td>1</td>\n      <td>0.0</td>\n      <td>0.0</td>\n      <td>0.006203</td>\n      <td>0.000000</td>\n      <td>0.000000</td>\n    </tr>\n    <tr>\n      <th>1</th>\n      <td>SANTHI OMALLOOR</td>\n      <td>1</td>\n      <td>0</td>\n      <td>0</td>\n      <td>0.000000</td>\n      <td>0</td>\n      <td>0.0</td>\n      <td>0.0</td>\n      <td>0.000000</td>\n      <td>0.000000</td>\n      <td>0.000000</td>\n    </tr>\n    <tr>\n      <th>2</th>\n      <td>BIJU MATHEW</td>\n      <td>2</td>\n      <td>0</td>\n      <td>0</td>\n      <td>0.277778</td>\n      <td>1</td>\n      <td>0.0</td>\n      <td>0.0</td>\n      <td>0.721106</td>\n      <td>1.000000</td>\n      <td>0.000000</td>\n    </tr>\n    <tr>\n      <th>3</th>\n      <td>VEENA GEORGE</td>\n      <td>3</td>\n      <td>0</td>\n      <td>0</td>\n      <td>0.222222</td>\n      <td>0</td>\n      <td>0.5</td>\n      <td>1.0</td>\n      <td>0.926965</td>\n      <td>0.000000</td>\n      <td>0.333333</td>\n    </tr>\n    <tr>\n      <th>4</th>\n      <td>K. SIVADASAN NAIR</td>\n      <td>5</td>\n      <td>0</td>\n      <td>0</td>\n      <td>1.000000</td>\n      <td>1</td>\n      <td>1.0</td>\n      <td>1.0</td>\n      <td>0.391998</td>\n      <td>0.333333</td>\n      <td>1.000000</td>\n    </tr>\n  </tbody>\n</table>\n</div>"
     },
     "metadata": {},
     "execution_count": 24
    }
   ],
   "source": [
    "allen.head()"
   ]
  },
  {
   "cell_type": "code",
   "execution_count": 25,
   "metadata": {},
   "outputs": [
    {
     "output_type": "execute_result",
     "data": {
      "text/plain": [
       "<bound method DataFrame.info of                     Name  Party  Constituency  State       Age  Gender  \\\n",
       "0  OMALLOOR RAMACHANDRAN      0             0      0  0.472222       1   \n",
       "1        SANTHI OMALLOOR      1             0      0  0.000000       0   \n",
       "2            BIJU MATHEW      2             0      0  0.277778       1   \n",
       "3           VEENA GEORGE      3             0      0  0.222222       0   \n",
       "4      K. SIVADASAN NAIR      5             0      0  1.000000       1   \n",
       "5           ARJUNAN C. K      4             0      0  0.444444       1   \n",
       "6            G. SUGATHAN      4             0      0  0.805556       1   \n",
       "7      PRASANTH ARANMULA      4             0      0  0.111111       1   \n",
       "8         SIVADASAN NAIR      4             0      0  0.750000       1   \n",
       "\n",
       "   Prev_Contested  Prev_Wins    Assets     Cases  Prev_Party  \n",
       "0             0.0        0.0  0.006203  0.000000    0.000000  \n",
       "1             0.0        0.0  0.000000  0.000000    0.000000  \n",
       "2             0.0        0.0  0.721106  1.000000    0.000000  \n",
       "3             0.5        1.0  0.926965  0.000000    0.333333  \n",
       "4             1.0        1.0  0.391998  0.333333    1.000000  \n",
       "5             0.0        0.0  0.010267  0.000000    0.333333  \n",
       "6             0.5        0.0  1.000000  0.333333    0.333333  \n",
       "7             0.0        0.0  0.276155  0.000000    0.333333  \n",
       "8             0.0        0.0  0.363246  0.000000    0.333333  >"
      ]
     },
     "metadata": {},
     "execution_count": 25
    }
   ],
   "source": [
    "allen.info"
   ]
  },
  {
   "cell_type": "markdown",
   "metadata": {},
   "source": [
    "# Dataset.csv - Index"
   ]
  },
  {
   "cell_type": "code",
   "execution_count": 26,
   "metadata": {},
   "outputs": [
    {
     "output_type": "stream",
     "name": "stdout",
     "text": [
      "['Ambedkarite Party of India', 'Anna Democratic Human Rights Movement Party of India', 'Bharatiya Janata Party', 'Communist Party of India (Marxist)', 'Independent', 'Indian National Congress']\n"
     ]
    }
   ],
   "source": [
    "print(list(l1.inverse_transform([0,1,2,3,4,5])))"
   ]
  },
  {
   "cell_type": "code",
   "execution_count": 27,
   "metadata": {},
   "outputs": [
    {
     "output_type": "stream",
     "name": "stdout",
     "text": [
      "['F', 'M']\n"
     ]
    }
   ],
   "source": [
    "print(list(l2.inverse_transform([0,1])))"
   ]
  },
  {
   "cell_type": "code",
   "execution_count": 28,
   "metadata": {},
   "outputs": [
    {
     "output_type": "stream",
     "name": "stdout",
     "text": [
      "['ARANMULA']\n"
     ]
    }
   ],
   "source": [
    "print(list(l3.inverse_transform([0])))"
   ]
  },
  {
   "cell_type": "code",
   "execution_count": 29,
   "metadata": {},
   "outputs": [
    {
     "output_type": "stream",
     "name": "stdout",
     "text": [
      "['KERALA']\n"
     ]
    }
   ],
   "source": [
    "print(list(l4.inverse_transform([0])))"
   ]
  },
  {
   "cell_type": "markdown",
   "metadata": {},
   "source": [
    "# Training"
   ]
  },
  {
   "cell_type": "code",
   "execution_count": 37,
   "metadata": {},
   "outputs": [
    {
     "output_type": "execute_result",
     "data": {
      "text/plain": [
       "   Party  Constituency  State       Age  Gender  Prev_Contested    Assets  \\\n",
       "0      0             0      0  0.472222       1             0.0  0.006203   \n",
       "1      1             0      0  0.000000       0             0.0  0.000000   \n",
       "2      2             0      0  0.277778       1             0.0  0.721106   \n",
       "3      3             0      0  0.222222       0             0.5  0.926965   \n",
       "4      5             0      0  1.000000       1             1.0  0.391998   \n",
       "\n",
       "      Cases  Prev_Party  \n",
       "0  0.000000    0.000000  \n",
       "1  0.000000    0.000000  \n",
       "2  1.000000    0.000000  \n",
       "3  0.000000    0.333333  \n",
       "4  0.333333    1.000000  "
      ],
      "text/html": "<div>\n<style scoped>\n    .dataframe tbody tr th:only-of-type {\n        vertical-align: middle;\n    }\n\n    .dataframe tbody tr th {\n        vertical-align: top;\n    }\n\n    .dataframe thead th {\n        text-align: right;\n    }\n</style>\n<table border=\"1\" class=\"dataframe\">\n  <thead>\n    <tr style=\"text-align: right;\">\n      <th></th>\n      <th>Party</th>\n      <th>Constituency</th>\n      <th>State</th>\n      <th>Age</th>\n      <th>Gender</th>\n      <th>Prev_Contested</th>\n      <th>Assets</th>\n      <th>Cases</th>\n      <th>Prev_Party</th>\n    </tr>\n  </thead>\n  <tbody>\n    <tr>\n      <th>0</th>\n      <td>0</td>\n      <td>0</td>\n      <td>0</td>\n      <td>0.472222</td>\n      <td>1</td>\n      <td>0.0</td>\n      <td>0.006203</td>\n      <td>0.000000</td>\n      <td>0.000000</td>\n    </tr>\n    <tr>\n      <th>1</th>\n      <td>1</td>\n      <td>0</td>\n      <td>0</td>\n      <td>0.000000</td>\n      <td>0</td>\n      <td>0.0</td>\n      <td>0.000000</td>\n      <td>0.000000</td>\n      <td>0.000000</td>\n    </tr>\n    <tr>\n      <th>2</th>\n      <td>2</td>\n      <td>0</td>\n      <td>0</td>\n      <td>0.277778</td>\n      <td>1</td>\n      <td>0.0</td>\n      <td>0.721106</td>\n      <td>1.000000</td>\n      <td>0.000000</td>\n    </tr>\n    <tr>\n      <th>3</th>\n      <td>3</td>\n      <td>0</td>\n      <td>0</td>\n      <td>0.222222</td>\n      <td>0</td>\n      <td>0.5</td>\n      <td>0.926965</td>\n      <td>0.000000</td>\n      <td>0.333333</td>\n    </tr>\n    <tr>\n      <th>4</th>\n      <td>5</td>\n      <td>0</td>\n      <td>0</td>\n      <td>1.000000</td>\n      <td>1</td>\n      <td>1.0</td>\n      <td>0.391998</td>\n      <td>0.333333</td>\n      <td>1.000000</td>\n    </tr>\n  </tbody>\n</table>\n</div>"
     },
     "metadata": {},
     "execution_count": 37
    }
   ],
   "source": [
    "x = allen.drop(['Name','Prev_Wins'],axis=1)\n",
    "x.head()"
   ]
  },
  {
   "cell_type": "code",
   "execution_count": 38,
   "metadata": {},
   "outputs": [],
   "source": [
    "y = allen['Prev_Wins']"
   ]
  },
  {
   "cell_type": "code",
   "execution_count": 39,
   "metadata": {},
   "outputs": [],
   "source": [
    "xtrain, xtest, ytrain, ytest = train_test_split(x,y,test_size=0.2,random_state=1)"
   ]
  },
  {
   "cell_type": "code",
   "execution_count": 47,
   "metadata": {
    "id": "-aRSs5mhdtD4"
   },
   "outputs": [
    {
     "output_type": "stream",
     "name": "stdout",
     "text": [
      "[17:03:22] WARNING: C:/Users/Administrator/workspace/xgboost-win64_release_1.4.0/src/learner.cc:1095: Starting in XGBoost 1.3.0, the default evaluation metric used with the objective 'binary:logistic' was changed from 'error' to 'logloss'. Explicitly set eval_metric if you'd like to restore the old behavior.\n"
     ]
    },
    {
     "output_type": "execute_result",
     "data": {
      "text/plain": [
       "array([0., 0.])"
      ]
     },
     "metadata": {},
     "execution_count": 47
    }
   ],
   "source": [
    "model = XGBClassifier()\n",
    "model.fit(xtrain,ytrain)\n",
    "p = model.predict(xtest)\n",
    "p"
   ]
  },
  {
   "source": [
    "### Accuracy"
   ],
   "cell_type": "markdown",
   "metadata": {}
  },
  {
   "cell_type": "code",
   "execution_count": 48,
   "metadata": {},
   "outputs": [
    {
     "output_type": "stream",
     "name": "stdout",
     "text": [
      "1.0\n"
     ]
    }
   ],
   "source": [
    "print(accuracy_score(p,ytest))"
   ]
  }
 ],
 "metadata": {
  "colab": {
   "collapsed_sections": [],
   "name": "NASSCOM LAB DA 4.ipynb",
   "provenance": [],
   "toc_visible": true
  },
  "kernelspec": {
   "name": "python38364bit570ee3c6a9ce451c90a4fee19734ed2d",
   "display_name": "Python 3.8.3 64-bit (conda)"
  },
  "language_info": {
   "codemirror_mode": {
    "name": "ipython",
    "version": 3
   },
   "file_extension": ".py",
   "mimetype": "text/x-python",
   "name": "python",
   "nbconvert_exporter": "python",
   "pygments_lexer": "ipython3",
   "version": "3.8.3"
  },
  "metadata": {
   "interpreter": {
    "hash": "5a2c2b1e8e21bd441da1d17902ec1befce5a77884cfd8dc3337a42ec4181cc68"
   }
  }
 },
 "nbformat": 4,
 "nbformat_minor": 1
}