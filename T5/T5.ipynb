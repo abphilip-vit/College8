{
 "cells": [
  {
   "cell_type": "markdown",
   "metadata": {},
   "source": [
    "# Import Libraries"
   ]
  },
  {
   "cell_type": "code",
   "execution_count": 35,
   "metadata": {
    "id": "s9IvUwnBSCl2"
   },
   "outputs": [],
   "source": [
    "import pandas as pd\n",
    "import numpy as np\n",
    "import seaborn as sns\n",
    "import matplotlib.pyplot as plt"
   ]
  },
  {
   "cell_type": "code",
   "execution_count": 36,
   "metadata": {},
   "outputs": [],
   "source": [
    "from sklearn import preprocessing\n",
    "from sklearn.metrics import accuracy_score, log_loss, confusion_matrix\n",
    "from sklearn.model_selection import train_test_split\n",
    "from sklearn.ensemble import RandomForestClassifier\n",
    "from sklearn.ensemble import RandomForestRegressor\n",
    "from sklearn.preprocessing import StandardScaler"
   ]
  },
  {
   "cell_type": "markdown",
   "metadata": {
    "id": "RyP9iy-qZY4k"
   },
   "source": [
    "# Dataset"
   ]
  },
  {
   "cell_type": "code",
   "execution_count": 39,
   "metadata": {},
   "outputs": [],
   "source": [
    "allen = pd.read_csv(\"Dataset.csv\")"
   ]
  },
  {
   "cell_type": "code",
   "execution_count": 40,
   "metadata": {
    "colab": {
     "base_uri": "https://localhost:8080/",
     "height": 204
    },
    "id": "87jf1rTUZL5C",
    "outputId": "5b060829-317b-425b-c5fb-c67c502aefb6"
   },
   "outputs": [
    {
     "output_type": "execute_result",
     "data": {
      "text/plain": [
       "                 Player       Span  Mat  Inn   Runs   HS    Avg  100  50   0\n",
       "0  SR Tendulkar (INDIA)  1989-2013  200  329  15921  248  53.78   51  68  14\n",
       "1      RT Ponting (AUS)  1995-2012  168  287  13378  257  51.85   41  62  17\n",
       "2    JH Kallis (ICC/SA)  1995-2013  166  280  13289  224  55.37   45  58  16\n",
       "3  R Dravid (ICC/INDIA)  1996-2012  164  286  13288  270  52.31   36  63   8\n",
       "4         AN Cook (ENG)  2006-2018  161  291  12472  294  45.35   33  57   9"
      ],
      "text/html": "<div>\n<style scoped>\n    .dataframe tbody tr th:only-of-type {\n        vertical-align: middle;\n    }\n\n    .dataframe tbody tr th {\n        vertical-align: top;\n    }\n\n    .dataframe thead th {\n        text-align: right;\n    }\n</style>\n<table border=\"1\" class=\"dataframe\">\n  <thead>\n    <tr style=\"text-align: right;\">\n      <th></th>\n      <th>Player</th>\n      <th>Span</th>\n      <th>Mat</th>\n      <th>Inn</th>\n      <th>Runs</th>\n      <th>HS</th>\n      <th>Avg</th>\n      <th>100</th>\n      <th>50</th>\n      <th>0</th>\n    </tr>\n  </thead>\n  <tbody>\n    <tr>\n      <th>0</th>\n      <td>SR Tendulkar (INDIA)</td>\n      <td>1989-2013</td>\n      <td>200</td>\n      <td>329</td>\n      <td>15921</td>\n      <td>248</td>\n      <td>53.78</td>\n      <td>51</td>\n      <td>68</td>\n      <td>14</td>\n    </tr>\n    <tr>\n      <th>1</th>\n      <td>RT Ponting (AUS)</td>\n      <td>1995-2012</td>\n      <td>168</td>\n      <td>287</td>\n      <td>13378</td>\n      <td>257</td>\n      <td>51.85</td>\n      <td>41</td>\n      <td>62</td>\n      <td>17</td>\n    </tr>\n    <tr>\n      <th>2</th>\n      <td>JH Kallis (ICC/SA)</td>\n      <td>1995-2013</td>\n      <td>166</td>\n      <td>280</td>\n      <td>13289</td>\n      <td>224</td>\n      <td>55.37</td>\n      <td>45</td>\n      <td>58</td>\n      <td>16</td>\n    </tr>\n    <tr>\n      <th>3</th>\n      <td>R Dravid (ICC/INDIA)</td>\n      <td>1996-2012</td>\n      <td>164</td>\n      <td>286</td>\n      <td>13288</td>\n      <td>270</td>\n      <td>52.31</td>\n      <td>36</td>\n      <td>63</td>\n      <td>8</td>\n    </tr>\n    <tr>\n      <th>4</th>\n      <td>AN Cook (ENG)</td>\n      <td>2006-2018</td>\n      <td>161</td>\n      <td>291</td>\n      <td>12472</td>\n      <td>294</td>\n      <td>45.35</td>\n      <td>33</td>\n      <td>57</td>\n      <td>9</td>\n    </tr>\n  </tbody>\n</table>\n</div>"
     },
     "metadata": {},
     "execution_count": 40
    }
   ],
   "source": [
    "allen.head()"
   ]
  },
  {
   "cell_type": "markdown",
   "metadata": {
    "id": "crrlZyeK1vU3"
   },
   "source": [
    "# Preprocessing"
   ]
  },
  {
   "cell_type": "code",
   "execution_count": 41,
   "metadata": {},
   "outputs": [],
   "source": [
    "allen = allen.drop(['Span'],axis=1)"
   ]
  },
  {
   "cell_type": "code",
   "execution_count": 42,
   "metadata": {
    "colab": {
     "base_uri": "https://localhost:8080/",
     "height": 204
    },
    "id": "1E6I2IpxL96L",
    "outputId": "1f5af59a-a5b5-49c9-d719-ccc7994d2005"
   },
   "outputs": [],
   "source": [
    "x = allen.drop(['Player','HS'],axis=1)"
   ]
  },
  {
   "cell_type": "code",
   "execution_count": 43,
   "metadata": {
    "colab": {
     "base_uri": "https://localhost:8080/"
    },
    "id": "HxQC2ml5MoTr",
    "outputId": "c3728f42-261d-48be-b1d5-6b02349892ed"
   },
   "outputs": [],
   "source": [
    "y = allen['HS']"
   ]
  },
  {
   "cell_type": "code",
   "execution_count": 44,
   "metadata": {
    "id": "-hUABKPIMvwE"
   },
   "outputs": [],
   "source": [
    "xtrain, xtest, ytrain, ytest = train_test_split(x,y,test_size=0.2,random_state=0)"
   ]
  },
  {
   "cell_type": "code",
   "execution_count": 45,
   "metadata": {},
   "outputs": [],
   "source": [
    "# Feature Scaling"
   ]
  },
  {
   "cell_type": "code",
   "execution_count": 46,
   "metadata": {},
   "outputs": [],
   "source": [
    "s = StandardScaler()\n",
    "xtrain = sc.fit_transform(xtrain)\n",
    "xtest = sc.transform(xtest)"
   ]
  },
  {
   "cell_type": "code",
   "execution_count": 47,
   "metadata": {},
   "outputs": [],
   "source": [
    "# Training"
   ]
  },
  {
   "cell_type": "code",
   "execution_count": 48,
   "metadata": {},
   "outputs": [],
   "source": [
    "model = RandomForestRegressor(n_estimators=100,max_features=None)\n",
    "model.fit(xtrain,ytrain)\n",
    "p = model.predict(xtest)"
   ]
  },
  {
   "cell_type": "code",
   "execution_count": 51,
   "metadata": {},
   "outputs": [
    {
     "output_type": "execute_result",
     "data": {
      "text/plain": [
       "array([257.35, 181.25, 242.76,  75.36, 163.54, 245.9 , 127.51, 134.97,\n",
       "       202.28, 156.14, 152.68, 147.81, 180.03, 221.23, 194.83, 175.15,\n",
       "       143.13, 164.78, 228.54, 262.38, 142.82, 175.82, 195.12, 220.77,\n",
       "       288.02, 148.05, 309.94, 196.68, 231.47, 212.58, 126.13, 162.74,\n",
       "       174.03, 212.15, 138.38, 120.05, 194.7 ,  71.59, 174.56, 170.94,\n",
       "       138.88, 225.71, 206.51, 130.94, 224.52, 285.73, 196.02, 137.13,\n",
       "       188.13, 222.07,  80.35, 165.2 , 129.79, 225.17, 222.86, 324.05,\n",
       "       162.67, 163.27, 159.94,  95.04, 254.03, 127.42, 164.7 , 126.68,\n",
       "       196.55, 193.05, 310.73, 181.26, 185.24, 263.74, 195.13, 253.43,\n",
       "       149.19, 151.43, 163.51, 176.73, 180.32, 209.1 , 136.29, 196.  ,\n",
       "       197.65, 175.67, 130.4 , 180.26, 157.72, 184.99,  88.95, 227.18,\n",
       "       148.21, 259.47, 214.58, 147.98, 149.37, 185.9 , 197.07, 121.72,\n",
       "       249.65, 158.83, 227.89, 136.83])"
      ]
     },
     "metadata": {},
     "execution_count": 51
    }
   ],
   "source": [
    "p"
   ]
  },
  {
   "cell_type": "code",
   "execution_count": 52,
   "metadata": {},
   "outputs": [
    {
     "output_type": "stream",
     "name": "stdout",
     "text": [
      "R^2: 59.04120402356254\n"
     ]
    },
    {
     "output_type": "error",
     "ename": "NameError",
     "evalue": "name 'custom_accuracy' is not defined",
     "traceback": [
      "\u001b[1;31m---------------------------------------------------------------------------\u001b[0m",
      "\u001b[1;31mNameError\u001b[0m                                 Traceback (most recent call last)",
      "\u001b[1;32m<ipython-input-52-3c708d23a145>\u001b[0m in \u001b[0;36m<module>\u001b[1;34m\u001b[0m\n\u001b[0;32m      1\u001b[0m \u001b[0mprint\u001b[0m\u001b[1;33m(\u001b[0m\u001b[1;34m\"R^2:\"\u001b[0m\u001b[1;33m,\u001b[0m \u001b[0mmodel\u001b[0m\u001b[1;33m.\u001b[0m\u001b[0mscore\u001b[0m\u001b[1;33m(\u001b[0m\u001b[0mxtest\u001b[0m\u001b[1;33m,\u001b[0m\u001b[0mytest\u001b[0m\u001b[1;33m)\u001b[0m\u001b[1;33m*\u001b[0m\u001b[1;36m100\u001b[0m\u001b[1;33m)\u001b[0m\u001b[1;33m\u001b[0m\u001b[1;33m\u001b[0m\u001b[0m\n\u001b[1;32m----> 2\u001b[1;33m \u001b[0mprint\u001b[0m\u001b[1;33m(\u001b[0m\u001b[1;34m\"Accuracy: \"\u001b[0m\u001b[1;33m,\u001b[0m \u001b[0mcustom_accuracy\u001b[0m\u001b[1;33m(\u001b[0m\u001b[0mytest\u001b[0m\u001b[1;33m,\u001b[0m\u001b[0mp\u001b[0m\u001b[1;33m,\u001b[0m\u001b[1;36m20\u001b[0m\u001b[1;33m)\u001b[0m\u001b[1;33m)\u001b[0m\u001b[1;33m\u001b[0m\u001b[1;33m\u001b[0m\u001b[0m\n\u001b[0m",
      "\u001b[1;31mNameError\u001b[0m: name 'custom_accuracy' is not defined"
     ]
    }
   ],
   "source": [
    "print(\"R^2:\", model.score(xtest,ytest)*100)\n",
    "print(\"Accuracy: \", custom_accuracy(ytest,p,20))"
   ]
  }
 ],
 "metadata": {
  "colab": {
   "name": "Nasscom Lab DA 3ipynb",
   "provenance": [],
   "toc_visible": true
  },
  "kernelspec": {
   "name": "python383jvsc74a57bd05a2c2b1e8e21bd441da1d17902ec1befce5a77884cfd8dc3337a42ec4181cc68",
   "display_name": "Python 3.8.3 64-bit ('base': conda)"
  },
  "language_info": {
   "codemirror_mode": {
    "name": "ipython",
    "version": 3
   },
   "file_extension": ".py",
   "mimetype": "text/x-python",
   "name": "python",
   "nbconvert_exporter": "python",
   "pygments_lexer": "ipython3",
   "version": "3.8.3"
  },
  "metadata": {
   "interpreter": {
    "hash": "5a2c2b1e8e21bd441da1d17902ec1befce5a77884cfd8dc3337a42ec4181cc68"
   }
  }
 },
 "nbformat": 4,
 "nbformat_minor": 1
}