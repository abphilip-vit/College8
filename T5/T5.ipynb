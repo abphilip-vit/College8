{
 "cells": [
  {
   "cell_type": "markdown",
   "metadata": {
    "id": "cQnfMYAIiS36"
   },
   "source": [
    "# Import Libraries "
   ]
  },
  {
   "cell_type": "code",
   "execution_count": 1,
   "metadata": {},
   "outputs": [],
   "source": [
    "import warnings\n",
    "warnings.filterwarnings('ignore')"
   ]
  },
  {
   "cell_type": "code",
   "execution_count": 2,
   "metadata": {
    "id": "ol_bieWxVEo3"
   },
   "outputs": [],
   "source": [
    "import csv\n",
    "import pandas as pd\n",
    "import numpy as np\n",
    "import seaborn as sns\n",
    "import matplotlib.pyplot as plt"
   ]
  },
  {
   "cell_type": "code",
   "execution_count": 3,
   "metadata": {},
   "outputs": [],
   "source": [
    "from sklearn import preprocessing\n",
    "from sklearn.model_selection import train_test_split\n",
    "from sklearn.linear_model import LinearRegression\n",
    "from sklearn.metrics import accuracy_score, log_loss, confusion_matrix\n",
    "from sklearn.preprocessing import MinMaxScaler\n",
    "from sklearn.metrics import r2_score"
   ]
  },
  {
   "cell_type": "markdown",
   "metadata": {},
   "source": [
    "# Dataset"
   ]
  },
  {
   "cell_type": "code",
   "execution_count": 4,
   "metadata": {},
   "outputs": [],
   "source": [
    "allen = pd.read_csv(\"Dataset.csv\")"
   ]
  },
  {
   "cell_type": "code",
   "execution_count": 5,
   "metadata": {
    "colab": {
     "base_uri": "https://localhost:8080/",
     "height": 204
    },
    "id": "Hnq3U6KrXc0W",
    "outputId": "3f388392-a3a2-4e65-c5ab-3a6383d98ed9"
   },
   "outputs": [
    {
     "output_type": "execute_result",
     "data": {
      "text/plain": [
       "                    Name                                              Party  \\\n",
       "0  OMALLOOR RAMACHANDRAN                         Ambedkarite Party of India   \n",
       "1        SANTHI OMALLOOR  Anna Democratic Human Rights Movement Party of...   \n",
       "2            BIJU MATHEW                             Bharatiya Janata Party   \n",
       "3           VEENA GEORGE                 Communist Party of India (Marxist)   \n",
       "4      K. SIVADASAN NAIR                           Indian National Congress   \n",
       "\n",
       "  Constituency   State  Age Gender  Prev_Contested  Prev_Wins    Assets  \\\n",
       "0     ARANMULA  KERALA   53      M               0          0    195000   \n",
       "1     ARANMULA  KERALA   36      F               0          0     50000   \n",
       "2     ARANMULA  KERALA   46      M               0          0  16905842   \n",
       "3     ARANMULA  KERALA   44      F               1          1  21717808   \n",
       "4     ARANMULA  KERALA   72      M               2          1   9212961   \n",
       "\n",
       "   Cases  Prev_Party  \n",
       "0      0           0  \n",
       "1      0           0  \n",
       "2      3           0  \n",
       "3      0           2  \n",
       "4      1           6  "
      ],
      "text/html": "<div>\n<style scoped>\n    .dataframe tbody tr th:only-of-type {\n        vertical-align: middle;\n    }\n\n    .dataframe tbody tr th {\n        vertical-align: top;\n    }\n\n    .dataframe thead th {\n        text-align: right;\n    }\n</style>\n<table border=\"1\" class=\"dataframe\">\n  <thead>\n    <tr style=\"text-align: right;\">\n      <th></th>\n      <th>Name</th>\n      <th>Party</th>\n      <th>Constituency</th>\n      <th>State</th>\n      <th>Age</th>\n      <th>Gender</th>\n      <th>Prev_Contested</th>\n      <th>Prev_Wins</th>\n      <th>Assets</th>\n      <th>Cases</th>\n      <th>Prev_Party</th>\n    </tr>\n  </thead>\n  <tbody>\n    <tr>\n      <th>0</th>\n      <td>OMALLOOR RAMACHANDRAN</td>\n      <td>Ambedkarite Party of India</td>\n      <td>ARANMULA</td>\n      <td>KERALA</td>\n      <td>53</td>\n      <td>M</td>\n      <td>0</td>\n      <td>0</td>\n      <td>195000</td>\n      <td>0</td>\n      <td>0</td>\n    </tr>\n    <tr>\n      <th>1</th>\n      <td>SANTHI OMALLOOR</td>\n      <td>Anna Democratic Human Rights Movement Party of...</td>\n      <td>ARANMULA</td>\n      <td>KERALA</td>\n      <td>36</td>\n      <td>F</td>\n      <td>0</td>\n      <td>0</td>\n      <td>50000</td>\n      <td>0</td>\n      <td>0</td>\n    </tr>\n    <tr>\n      <th>2</th>\n      <td>BIJU MATHEW</td>\n      <td>Bharatiya Janata Party</td>\n      <td>ARANMULA</td>\n      <td>KERALA</td>\n      <td>46</td>\n      <td>M</td>\n      <td>0</td>\n      <td>0</td>\n      <td>16905842</td>\n      <td>3</td>\n      <td>0</td>\n    </tr>\n    <tr>\n      <th>3</th>\n      <td>VEENA GEORGE</td>\n      <td>Communist Party of India (Marxist)</td>\n      <td>ARANMULA</td>\n      <td>KERALA</td>\n      <td>44</td>\n      <td>F</td>\n      <td>1</td>\n      <td>1</td>\n      <td>21717808</td>\n      <td>0</td>\n      <td>2</td>\n    </tr>\n    <tr>\n      <th>4</th>\n      <td>K. SIVADASAN NAIR</td>\n      <td>Indian National Congress</td>\n      <td>ARANMULA</td>\n      <td>KERALA</td>\n      <td>72</td>\n      <td>M</td>\n      <td>2</td>\n      <td>1</td>\n      <td>9212961</td>\n      <td>1</td>\n      <td>6</td>\n    </tr>\n  </tbody>\n</table>\n</div>"
     },
     "metadata": {},
     "execution_count": 5
    }
   ],
   "source": [
    "allen.head()"
   ]
  },
  {
   "cell_type": "code",
   "execution_count": 6,
   "metadata": {
    "colab": {
     "base_uri": "https://localhost:8080/",
     "height": 297
    },
    "id": "CZTL8TAbXfrX",
    "outputId": "9d4f7440-aa0f-429f-dc62-c0b0e24a7464"
   },
   "outputs": [
    {
     "output_type": "execute_result",
     "data": {
      "text/plain": [
       "             Age  Prev_Contested  Prev_Wins        Assets     Cases  \\\n",
       "count   9.000000        9.000000   9.000000  9.000000e+00  9.000000   \n",
       "mean   52.333333        0.444444   0.222222  9.649177e+06  0.555556   \n",
       "std    12.196311        0.726483   0.440959  9.141307e+06  1.013794   \n",
       "min    36.000000        0.000000   0.000000  5.000000e+04  0.000000   \n",
       "25%    44.000000        0.000000   0.000000  2.900000e+05  0.000000   \n",
       "50%    52.000000        0.000000   0.000000  8.540864e+06  0.000000   \n",
       "75%    63.000000        1.000000   0.000000  1.690584e+07  1.000000   \n",
       "max    72.000000        2.000000   1.000000  2.342500e+07  3.000000   \n",
       "\n",
       "       Prev_Party  \n",
       "count    9.000000  \n",
       "mean     1.777778  \n",
       "std      1.855921  \n",
       "min      0.000000  \n",
       "25%      0.000000  \n",
       "50%      2.000000  \n",
       "75%      2.000000  \n",
       "max      6.000000  "
      ],
      "text/html": "<div>\n<style scoped>\n    .dataframe tbody tr th:only-of-type {\n        vertical-align: middle;\n    }\n\n    .dataframe tbody tr th {\n        vertical-align: top;\n    }\n\n    .dataframe thead th {\n        text-align: right;\n    }\n</style>\n<table border=\"1\" class=\"dataframe\">\n  <thead>\n    <tr style=\"text-align: right;\">\n      <th></th>\n      <th>Age</th>\n      <th>Prev_Contested</th>\n      <th>Prev_Wins</th>\n      <th>Assets</th>\n      <th>Cases</th>\n      <th>Prev_Party</th>\n    </tr>\n  </thead>\n  <tbody>\n    <tr>\n      <th>count</th>\n      <td>9.000000</td>\n      <td>9.000000</td>\n      <td>9.000000</td>\n      <td>9.000000e+00</td>\n      <td>9.000000</td>\n      <td>9.000000</td>\n    </tr>\n    <tr>\n      <th>mean</th>\n      <td>52.333333</td>\n      <td>0.444444</td>\n      <td>0.222222</td>\n      <td>9.649177e+06</td>\n      <td>0.555556</td>\n      <td>1.777778</td>\n    </tr>\n    <tr>\n      <th>std</th>\n      <td>12.196311</td>\n      <td>0.726483</td>\n      <td>0.440959</td>\n      <td>9.141307e+06</td>\n      <td>1.013794</td>\n      <td>1.855921</td>\n    </tr>\n    <tr>\n      <th>min</th>\n      <td>36.000000</td>\n      <td>0.000000</td>\n      <td>0.000000</td>\n      <td>5.000000e+04</td>\n      <td>0.000000</td>\n      <td>0.000000</td>\n    </tr>\n    <tr>\n      <th>25%</th>\n      <td>44.000000</td>\n      <td>0.000000</td>\n      <td>0.000000</td>\n      <td>2.900000e+05</td>\n      <td>0.000000</td>\n      <td>0.000000</td>\n    </tr>\n    <tr>\n      <th>50%</th>\n      <td>52.000000</td>\n      <td>0.000000</td>\n      <td>0.000000</td>\n      <td>8.540864e+06</td>\n      <td>0.000000</td>\n      <td>2.000000</td>\n    </tr>\n    <tr>\n      <th>75%</th>\n      <td>63.000000</td>\n      <td>1.000000</td>\n      <td>0.000000</td>\n      <td>1.690584e+07</td>\n      <td>1.000000</td>\n      <td>2.000000</td>\n    </tr>\n    <tr>\n      <th>max</th>\n      <td>72.000000</td>\n      <td>2.000000</td>\n      <td>1.000000</td>\n      <td>2.342500e+07</td>\n      <td>3.000000</td>\n      <td>6.000000</td>\n    </tr>\n  </tbody>\n</table>\n</div>"
     },
     "metadata": {},
     "execution_count": 6
    }
   ],
   "source": [
    "allen.describe()"
   ]
  },
  {
   "cell_type": "code",
   "execution_count": 7,
   "metadata": {},
   "outputs": [
    {
     "output_type": "execute_result",
     "data": {
      "text/plain": [
       "<bound method DataFrame.info of                     Name                                              Party  \\\n",
       "0  OMALLOOR RAMACHANDRAN                         Ambedkarite Party of India   \n",
       "1        SANTHI OMALLOOR  Anna Democratic Human Rights Movement Party of...   \n",
       "2            BIJU MATHEW                             Bharatiya Janata Party   \n",
       "3           VEENA GEORGE                 Communist Party of India (Marxist)   \n",
       "4      K. SIVADASAN NAIR                           Indian National Congress   \n",
       "5           ARJUNAN C. K                                        Independent   \n",
       "6            G. SUGATHAN                                        Independent   \n",
       "7      PRASANTH ARANMULA                                        Independent   \n",
       "8         SIVADASAN NAIR                                        Independent   \n",
       "\n",
       "  Constituency   State  Age Gender  Prev_Contested  Prev_Wins    Assets  \\\n",
       "0     ARANMULA  KERALA   53      M               0          0    195000   \n",
       "1     ARANMULA  KERALA   36      F               0          0     50000   \n",
       "2     ARANMULA  KERALA   46      M               0          0  16905842   \n",
       "3     ARANMULA  KERALA   44      F               1          1  21717808   \n",
       "4     ARANMULA  KERALA   72      M               2          1   9212961   \n",
       "5     ARANMULA  KERALA   52      M               0          0    290000   \n",
       "6     ARANMULA  KERALA   65      M               1          0  23425000   \n",
       "7     ARANMULA  KERALA   40      M               0          0   6505120   \n",
       "8     ARANMULA  KERALA   63      M               0          0   8540864   \n",
       "\n",
       "   Cases  Prev_Party  \n",
       "0      0           0  \n",
       "1      0           0  \n",
       "2      3           0  \n",
       "3      0           2  \n",
       "4      1           6  \n",
       "5      0           2  \n",
       "6      1           2  \n",
       "7      0           2  \n",
       "8      0           2  >"
      ]
     },
     "metadata": {},
     "execution_count": 7
    }
   ],
   "source": [
    "allen.info"
   ]
  },
  {
   "cell_type": "markdown",
   "metadata": {},
   "source": [
    "# Dataset.csv - Label Encoding "
   ]
  },
  {
   "cell_type": "markdown",
   "metadata": {},
   "source": [
    "### Party"
   ]
  },
  {
   "cell_type": "code",
   "execution_count": 8,
   "metadata": {
    "colab": {
     "base_uri": "https://localhost:8080/"
    },
    "id": "4H6prVywXm55",
    "outputId": "cda05f9e-9790-4412-cffd-dcc464f46735"
   },
   "outputs": [],
   "source": [
    "l1 = preprocessing.LabelEncoder()\n",
    "f1 = l1.fit_transform(allen['Party']) \n",
    "f1 = pd.DataFrame(data=f1, columns=['Party'])"
   ]
  },
  {
   "cell_type": "markdown",
   "metadata": {},
   "source": [
    "### Gender"
   ]
  },
  {
   "cell_type": "code",
   "execution_count": 9,
   "metadata": {
    "colab": {
     "base_uri": "https://localhost:8080/"
    },
    "id": "vEoNa2rdXzcT",
    "outputId": "42115dbc-6115-45e5-9769-521665416e5d"
   },
   "outputs": [],
   "source": [
    "l2 = preprocessing.LabelEncoder()\n",
    "f2 = l2.fit_transform(allen['Gender']) \n",
    "f2 = pd.DataFrame(data=f2, columns=['Gender'])"
   ]
  },
  {
   "cell_type": "markdown",
   "metadata": {},
   "source": [
    "### Constituency"
   ]
  },
  {
   "cell_type": "code",
   "execution_count": 11,
   "metadata": {
    "colab": {
     "base_uri": "https://localhost:8080/"
    },
    "id": "9SaK6KlFYGag",
    "outputId": "9782270f-8fbd-45a4-9892-787792e22d79"
   },
   "outputs": [],
   "source": [
    "l3 = preprocessing.LabelEncoder()\n",
    "f3 = l3.fit_transform(allen['Constituency']) \n",
    "f3 = pd.DataFrame(data=f3, columns=['Constituency'])"
   ]
  },
  {
   "cell_type": "markdown",
   "metadata": {},
   "source": [
    "### State"
   ]
  },
  {
   "cell_type": "code",
   "execution_count": 12,
   "metadata": {
    "colab": {
     "base_uri": "https://localhost:8080/"
    },
    "id": "J7ZS-GjHYQC2",
    "outputId": "22336505-ce11-49a0-d74b-904ca9f2b514"
   },
   "outputs": [],
   "source": [
    "l4 = preprocessing.LabelEncoder()\n",
    "f4 = l4.fit_transform(allen['State']) \n",
    "f4 = pd.DataFrame(data=f4, columns=['State'])"
   ]
  },
  {
   "cell_type": "markdown",
   "metadata": {},
   "source": [
    "### Updation"
   ]
  },
  {
   "cell_type": "code",
   "execution_count": 13,
   "metadata": {
    "id": "u4StNldVYagF"
   },
   "outputs": [],
   "source": [
    "allen['Party'] = f1['Party']\n",
    "allen['Gender'] = f2['Gender']\n",
    "allen['Constituency'] = f3['Constituency']\n",
    "allen['State'] = f4['State']"
   ]
  },
  {
   "cell_type": "markdown",
   "metadata": {},
   "source": [
    "# Dataset.csv - MinMaxScaler "
   ]
  },
  {
   "cell_type": "code",
   "execution_count": 673,
   "metadata": {
    "id": "RVeH-pdNaC4t"
   },
   "outputs": [],
   "source": [
    "ms = MinMaxScaler()\n",
    "columns = ['Age ','no of experience in years']\n",
    "allen1[columns] = ms.fit_transform(allen1[columns])"
   ]
  },
  {
   "cell_type": "code",
   "execution_count": 674,
   "metadata": {
    "colab": {
     "base_uri": "https://localhost:8080/",
     "height": 204
    },
    "id": "kW1JDIp9YyR7",
    "outputId": "59248f04-3b27-45a1-fc97-eb8eb202c005"
   },
   "outputs": [
    {
     "data": {
      "text/html": [
       "<div>\n",
       "<style scoped>\n",
       "    .dataframe tbody tr th:only-of-type {\n",
       "        vertical-align: middle;\n",
       "    }\n",
       "\n",
       "    .dataframe tbody tr th {\n",
       "        vertical-align: top;\n",
       "    }\n",
       "\n",
       "    .dataframe thead th {\n",
       "        text-align: right;\n",
       "    }\n",
       "</style>\n",
       "<table border=\"1\" class=\"dataframe\">\n",
       "  <thead>\n",
       "    <tr style=\"text-align: right;\">\n",
       "      <th></th>\n",
       "      <th>S.No</th>\n",
       "      <th>company</th>\n",
       "      <th>Age</th>\n",
       "      <th>Gender</th>\n",
       "      <th>Qualification</th>\n",
       "      <th>no of experience in years</th>\n",
       "      <th>Area of work</th>\n",
       "      <th>salary package per month</th>\n",
       "    </tr>\n",
       "  </thead>\n",
       "  <tbody>\n",
       "    <tr>\n",
       "      <th>0</th>\n",
       "      <td>1</td>\n",
       "      <td>0</td>\n",
       "      <td>0.000000</td>\n",
       "      <td>1</td>\n",
       "      <td>0</td>\n",
       "      <td>0.000000</td>\n",
       "      <td>3</td>\n",
       "      <td>30000</td>\n",
       "    </tr>\n",
       "    <tr>\n",
       "      <th>1</th>\n",
       "      <td>2</td>\n",
       "      <td>0</td>\n",
       "      <td>0.136364</td>\n",
       "      <td>0</td>\n",
       "      <td>1</td>\n",
       "      <td>0.047619</td>\n",
       "      <td>2</td>\n",
       "      <td>50000</td>\n",
       "    </tr>\n",
       "    <tr>\n",
       "      <th>2</th>\n",
       "      <td>3</td>\n",
       "      <td>0</td>\n",
       "      <td>0.409091</td>\n",
       "      <td>1</td>\n",
       "      <td>1</td>\n",
       "      <td>0.238095</td>\n",
       "      <td>1</td>\n",
       "      <td>120000</td>\n",
       "    </tr>\n",
       "    <tr>\n",
       "      <th>3</th>\n",
       "      <td>4</td>\n",
       "      <td>0</td>\n",
       "      <td>0.090909</td>\n",
       "      <td>1</td>\n",
       "      <td>0</td>\n",
       "      <td>0.095238</td>\n",
       "      <td>3</td>\n",
       "      <td>42000</td>\n",
       "    </tr>\n",
       "    <tr>\n",
       "      <th>4</th>\n",
       "      <td>5</td>\n",
       "      <td>0</td>\n",
       "      <td>0.000000</td>\n",
       "      <td>0</td>\n",
       "      <td>0</td>\n",
       "      <td>0.000000</td>\n",
       "      <td>2</td>\n",
       "      <td>35000</td>\n",
       "    </tr>\n",
       "  </tbody>\n",
       "</table>\n",
       "</div>"
      ],
      "text/plain": [
       "   S.No  company      Age   Gender  Qualification  no of experience in years  \\\n",
       "0     1        0  0.000000       1              0                   0.000000   \n",
       "1     2        0  0.136364       0              1                   0.047619   \n",
       "2     3        0  0.409091       1              1                   0.238095   \n",
       "3     4        0  0.090909       1              0                   0.095238   \n",
       "4     5        0  0.000000       0              0                   0.000000   \n",
       "\n",
       "   Area of work  salary package per month  \n",
       "0             3                     30000  \n",
       "1             2                     50000  \n",
       "2             1                    120000  \n",
       "3             3                     42000  \n",
       "4             2                     35000  "
      ]
     },
     "execution_count": 674,
     "metadata": {},
     "output_type": "execute_result"
    }
   ],
   "source": [
    "allen1.head()"
   ]
  },
  {
   "cell_type": "markdown",
   "metadata": {},
   "source": [
    "# Dataset.csv - Index"
   ]
  },
  {
   "cell_type": "code",
   "execution_count": 675,
   "metadata": {},
   "outputs": [
    {
     "name": "stdout",
     "output_type": "stream",
     "text": [
      "['ABBB', 'Bashh', 'Link', 'Oxon', 'TSC', 'neuromorphic', 'palm', 'penguin ']\n"
     ]
    }
   ],
   "source": [
    "print(list(l1.inverse_transform([0,1,2,3,4,5,6,7])))"
   ]
  },
  {
   "cell_type": "code",
   "execution_count": 676,
   "metadata": {},
   "outputs": [
    {
     "name": "stdout",
     "output_type": "stream",
     "text": [
      "['Predective analysis', 'cloud server management', 'predective analysis', 'programming ']\n"
     ]
    }
   ],
   "source": [
    "print(list(l2.inverse_transform([0,1,2,3])))"
   ]
  },
  {
   "cell_type": "code",
   "execution_count": 677,
   "metadata": {},
   "outputs": [
    {
     "name": "stdout",
     "output_type": "stream",
     "text": [
      "['F', 'M']\n"
     ]
    }
   ],
   "source": [
    "print(list(l3.inverse_transform([0,1])))"
   ]
  },
  {
   "cell_type": "code",
   "execution_count": 678,
   "metadata": {},
   "outputs": [
    {
     "name": "stdout",
     "output_type": "stream",
     "text": [
      "['B.E', 'M.E']\n"
     ]
    }
   ],
   "source": [
    "print(list(l4.inverse_transform([0,1])))"
   ]
  },
  {
   "cell_type": "markdown",
   "metadata": {},
   "source": [
    "# Training"
   ]
  },
  {
   "cell_type": "code",
   "execution_count": 679,
   "metadata": {},
   "outputs": [
    {
     "data": {
      "text/html": [
       "<div>\n",
       "<style scoped>\n",
       "    .dataframe tbody tr th:only-of-type {\n",
       "        vertical-align: middle;\n",
       "    }\n",
       "\n",
       "    .dataframe tbody tr th {\n",
       "        vertical-align: top;\n",
       "    }\n",
       "\n",
       "    .dataframe thead th {\n",
       "        text-align: right;\n",
       "    }\n",
       "</style>\n",
       "<table border=\"1\" class=\"dataframe\">\n",
       "  <thead>\n",
       "    <tr style=\"text-align: right;\">\n",
       "      <th></th>\n",
       "      <th>company</th>\n",
       "      <th>Age</th>\n",
       "      <th>Gender</th>\n",
       "      <th>Qualification</th>\n",
       "      <th>no of experience in years</th>\n",
       "      <th>Area of work</th>\n",
       "    </tr>\n",
       "  </thead>\n",
       "  <tbody>\n",
       "    <tr>\n",
       "      <th>0</th>\n",
       "      <td>0</td>\n",
       "      <td>0.000000</td>\n",
       "      <td>1</td>\n",
       "      <td>0</td>\n",
       "      <td>0.000000</td>\n",
       "      <td>3</td>\n",
       "    </tr>\n",
       "    <tr>\n",
       "      <th>1</th>\n",
       "      <td>0</td>\n",
       "      <td>0.136364</td>\n",
       "      <td>0</td>\n",
       "      <td>1</td>\n",
       "      <td>0.047619</td>\n",
       "      <td>2</td>\n",
       "    </tr>\n",
       "    <tr>\n",
       "      <th>2</th>\n",
       "      <td>0</td>\n",
       "      <td>0.409091</td>\n",
       "      <td>1</td>\n",
       "      <td>1</td>\n",
       "      <td>0.238095</td>\n",
       "      <td>1</td>\n",
       "    </tr>\n",
       "    <tr>\n",
       "      <th>3</th>\n",
       "      <td>0</td>\n",
       "      <td>0.090909</td>\n",
       "      <td>1</td>\n",
       "      <td>0</td>\n",
       "      <td>0.095238</td>\n",
       "      <td>3</td>\n",
       "    </tr>\n",
       "    <tr>\n",
       "      <th>4</th>\n",
       "      <td>0</td>\n",
       "      <td>0.000000</td>\n",
       "      <td>0</td>\n",
       "      <td>0</td>\n",
       "      <td>0.000000</td>\n",
       "      <td>2</td>\n",
       "    </tr>\n",
       "  </tbody>\n",
       "</table>\n",
       "</div>"
      ],
      "text/plain": [
       "   company      Age   Gender  Qualification  no of experience in years  \\\n",
       "0        0  0.000000       1              0                   0.000000   \n",
       "1        0  0.136364       0              1                   0.047619   \n",
       "2        0  0.409091       1              1                   0.238095   \n",
       "3        0  0.090909       1              0                   0.095238   \n",
       "4        0  0.000000       0              0                   0.000000   \n",
       "\n",
       "   Area of work  \n",
       "0             3  \n",
       "1             2  \n",
       "2             1  \n",
       "3             3  \n",
       "4             2  "
      ]
     },
     "execution_count": 679,
     "metadata": {},
     "output_type": "execute_result"
    }
   ],
   "source": [
    "x = allen1.drop(['S.No','salary package per month'],axis=1)\n",
    "x.head()"
   ]
  },
  {
   "cell_type": "code",
   "execution_count": 680,
   "metadata": {},
   "outputs": [],
   "source": [
    "y = allen1['salary package per month']"
   ]
  },
  {
   "cell_type": "code",
   "execution_count": 681,
   "metadata": {},
   "outputs": [],
   "source": [
    "xtrain, xtest, ytrain, ytest = train_test_split(x,y,test_size=0.48,random_state=1)"
   ]
  },
  {
   "cell_type": "code",
   "execution_count": 682,
   "metadata": {
    "id": "-aRSs5mhdtD4"
   },
   "outputs": [
    {
     "name": "stdout",
     "output_type": "stream",
     "text": [
      "0.8081462969225229\n"
     ]
    }
   ],
   "source": [
    "model = LinearRegression()\n",
    "model.fit(xtrain,ytrain)\n",
    "p = model.predict(xtest)\n",
    "print(r2_score(ytest, p))"
   ]
  },
  {
   "cell_type": "markdown",
   "metadata": {},
   "source": [
    "# Test.csv - Creation\n",
    "\n",
    "### Assignment Q1"
   ]
  },
  {
   "cell_type": "code",
   "execution_count": 683,
   "metadata": {},
   "outputs": [],
   "source": [
    "companies = list(l1.inverse_transform([0,1,2,3,4,5,6,7]))"
   ]
  },
  {
   "cell_type": "code",
   "execution_count": 684,
   "metadata": {},
   "outputs": [],
   "source": [
    "allen2 = 0\n",
    "allen2 = pd.DataFrame(columns=['company','Age ','Gender','Qualification','no of experience in years','Area of work'])"
   ]
  },
  {
   "cell_type": "code",
   "execution_count": 685,
   "metadata": {},
   "outputs": [],
   "source": [
    "for i in range(0,len(companies)):\n",
    "    init = {\"company\": companies[i], \n",
    "            \"Age \": 35,\n",
    "            \"Gender\": \"F\",\n",
    "            \"Qualification\": \"B.E\",\n",
    "            \"no of experience in years\": 12,\n",
    "            \"Area of work\": \"cloud server management\"\n",
    "    }\n",
    "    allen2 = allen2.append(init, ignore_index=True)"
   ]
  },
  {
   "cell_type": "code",
   "execution_count": 686,
   "metadata": {},
   "outputs": [
    {
     "name": "stdout",
     "output_type": "stream",
     "text": [
      "        company Age  Gender Qualification no of experience in years             Area of work\n",
      "0          ABBB   35      F           B.E                        12  cloud server management\n",
      "1         Bashh   35      F           B.E                        12  cloud server management\n",
      "2          Link   35      F           B.E                        12  cloud server management\n",
      "3          Oxon   35      F           B.E                        12  cloud server management\n",
      "4           TSC   35      F           B.E                        12  cloud server management\n",
      "5  neuromorphic   35      F           B.E                        12  cloud server management\n",
      "6          palm   35      F           B.E                        12  cloud server management\n",
      "7      penguin    35      F           B.E                        12  cloud server management\n"
     ]
    }
   ],
   "source": [
    "print(allen2.to_string())"
   ]
  },
  {
   "cell_type": "markdown",
   "metadata": {},
   "source": [
    "# Test.csv - Label Encoding"
   ]
  },
  {
   "cell_type": "markdown",
   "metadata": {},
   "source": [
    "### Company"
   ]
  },
  {
   "cell_type": "code",
   "execution_count": 687,
   "metadata": {},
   "outputs": [],
   "source": [
    "l5 = preprocessing.LabelEncoder()\n",
    "f5 = l5.fit_transform(allen2['company']) \n",
    "f5 = pd.DataFrame(data=f5, columns=['company'])"
   ]
  },
  {
   "cell_type": "markdown",
   "metadata": {},
   "source": [
    "### Area"
   ]
  },
  {
   "cell_type": "code",
   "execution_count": 688,
   "metadata": {},
   "outputs": [],
   "source": [
    "l6 = preprocessing.LabelEncoder()\n",
    "f6 = l6.fit_transform(allen2['Area of work']) \n",
    "f6 = pd.DataFrame(data=f6, columns=['Area of work'])"
   ]
  },
  {
   "cell_type": "markdown",
   "metadata": {},
   "source": [
    "### Gender"
   ]
  },
  {
   "cell_type": "code",
   "execution_count": 689,
   "metadata": {},
   "outputs": [],
   "source": [
    "l7 = preprocessing.LabelEncoder()\n",
    "f7 = l7.fit_transform(allen2['Gender']) \n",
    "f7 = pd.DataFrame(data=f7, columns=['Gender'])"
   ]
  },
  {
   "cell_type": "markdown",
   "metadata": {},
   "source": [
    "### Qualification"
   ]
  },
  {
   "cell_type": "code",
   "execution_count": 690,
   "metadata": {},
   "outputs": [],
   "source": [
    "l8 = preprocessing.LabelEncoder()\n",
    "f8 = l8.fit_transform(allen2['Qualification']) \n",
    "f8 = pd.DataFrame(data=f8, columns=['Qualification'])"
   ]
  },
  {
   "cell_type": "markdown",
   "metadata": {},
   "source": [
    "### Updation"
   ]
  },
  {
   "cell_type": "code",
   "execution_count": 691,
   "metadata": {},
   "outputs": [],
   "source": [
    "allen2['company'] = f5['company']\n",
    "allen2['Area of work'] = f6['Area of work']\n",
    "allen2['Gender'] = f7['Gender']\n",
    "allen2['Qualification'] = f8['Qualification']"
   ]
  },
  {
   "cell_type": "markdown",
   "metadata": {},
   "source": [
    "# Test.csv - MinMaxScaler"
   ]
  },
  {
   "cell_type": "code",
   "execution_count": 692,
   "metadata": {},
   "outputs": [],
   "source": [
    "ms = MinMaxScaler()\n",
    "columns = ['Age ','no of experience in years']\n",
    "allen2[columns] = ms.fit_transform(allen2[columns])"
   ]
  },
  {
   "cell_type": "markdown",
   "metadata": {},
   "source": [
    "# Test.csv - Prediction"
   ]
  },
  {
   "cell_type": "code",
   "execution_count": 693,
   "metadata": {
    "colab": {
     "base_uri": "https://localhost:8080/"
    },
    "id": "O0mHBlaIlQH3",
    "outputId": "3ee38177-8415-49f4-e9ee-e41f41c8d15c",
    "scrolled": true
   },
   "outputs": [
    {
     "data": {
      "text/html": [
       "<div>\n",
       "<style scoped>\n",
       "    .dataframe tbody tr th:only-of-type {\n",
       "        vertical-align: middle;\n",
       "    }\n",
       "\n",
       "    .dataframe tbody tr th {\n",
       "        vertical-align: top;\n",
       "    }\n",
       "\n",
       "    .dataframe thead th {\n",
       "        text-align: right;\n",
       "    }\n",
       "</style>\n",
       "<table border=\"1\" class=\"dataframe\">\n",
       "  <thead>\n",
       "    <tr style=\"text-align: right;\">\n",
       "      <th></th>\n",
       "      <th>company</th>\n",
       "      <th>Age</th>\n",
       "      <th>Gender</th>\n",
       "      <th>Qualification</th>\n",
       "      <th>no of experience in years</th>\n",
       "      <th>Area of work</th>\n",
       "    </tr>\n",
       "  </thead>\n",
       "  <tbody>\n",
       "    <tr>\n",
       "      <th>0</th>\n",
       "      <td>0</td>\n",
       "      <td>0.0</td>\n",
       "      <td>0</td>\n",
       "      <td>0</td>\n",
       "      <td>0.0</td>\n",
       "      <td>0</td>\n",
       "    </tr>\n",
       "    <tr>\n",
       "      <th>1</th>\n",
       "      <td>1</td>\n",
       "      <td>0.0</td>\n",
       "      <td>0</td>\n",
       "      <td>0</td>\n",
       "      <td>0.0</td>\n",
       "      <td>0</td>\n",
       "    </tr>\n",
       "    <tr>\n",
       "      <th>2</th>\n",
       "      <td>2</td>\n",
       "      <td>0.0</td>\n",
       "      <td>0</td>\n",
       "      <td>0</td>\n",
       "      <td>0.0</td>\n",
       "      <td>0</td>\n",
       "    </tr>\n",
       "    <tr>\n",
       "      <th>3</th>\n",
       "      <td>3</td>\n",
       "      <td>0.0</td>\n",
       "      <td>0</td>\n",
       "      <td>0</td>\n",
       "      <td>0.0</td>\n",
       "      <td>0</td>\n",
       "    </tr>\n",
       "    <tr>\n",
       "      <th>4</th>\n",
       "      <td>4</td>\n",
       "      <td>0.0</td>\n",
       "      <td>0</td>\n",
       "      <td>0</td>\n",
       "      <td>0.0</td>\n",
       "      <td>0</td>\n",
       "    </tr>\n",
       "    <tr>\n",
       "      <th>5</th>\n",
       "      <td>5</td>\n",
       "      <td>0.0</td>\n",
       "      <td>0</td>\n",
       "      <td>0</td>\n",
       "      <td>0.0</td>\n",
       "      <td>0</td>\n",
       "    </tr>\n",
       "    <tr>\n",
       "      <th>6</th>\n",
       "      <td>6</td>\n",
       "      <td>0.0</td>\n",
       "      <td>0</td>\n",
       "      <td>0</td>\n",
       "      <td>0.0</td>\n",
       "      <td>0</td>\n",
       "    </tr>\n",
       "    <tr>\n",
       "      <th>7</th>\n",
       "      <td>7</td>\n",
       "      <td>0.0</td>\n",
       "      <td>0</td>\n",
       "      <td>0</td>\n",
       "      <td>0.0</td>\n",
       "      <td>0</td>\n",
       "    </tr>\n",
       "  </tbody>\n",
       "</table>\n",
       "</div>"
      ],
      "text/plain": [
       "   company  Age   Gender  Qualification  no of experience in years  \\\n",
       "0        0   0.0       0              0                        0.0   \n",
       "1        1   0.0       0              0                        0.0   \n",
       "2        2   0.0       0              0                        0.0   \n",
       "3        3   0.0       0              0                        0.0   \n",
       "4        4   0.0       0              0                        0.0   \n",
       "5        5   0.0       0              0                        0.0   \n",
       "6        6   0.0       0              0                        0.0   \n",
       "7        7   0.0       0              0                        0.0   \n",
       "\n",
       "   Area of work  \n",
       "0             0  \n",
       "1             0  \n",
       "2             0  \n",
       "3             0  \n",
       "4             0  \n",
       "5             0  \n",
       "6             0  \n",
       "7             0  "
      ]
     },
     "execution_count": 693,
     "metadata": {},
     "output_type": "execute_result"
    }
   ],
   "source": [
    "allen2.head(8)"
   ]
  },
  {
   "cell_type": "code",
   "execution_count": 694,
   "metadata": {
    "id": "ssWTzPknlYhc"
   },
   "outputs": [],
   "source": [
    "p2 = model.predict(allen2)"
   ]
  },
  {
   "cell_type": "code",
   "execution_count": 695,
   "metadata": {
    "id": "M0eNGPmNldF0"
   },
   "outputs": [
    {
     "data": {
      "text/html": [
       "<div>\n",
       "<style scoped>\n",
       "    .dataframe tbody tr th:only-of-type {\n",
       "        vertical-align: middle;\n",
       "    }\n",
       "\n",
       "    .dataframe tbody tr th {\n",
       "        vertical-align: top;\n",
       "    }\n",
       "\n",
       "    .dataframe thead th {\n",
       "        text-align: right;\n",
       "    }\n",
       "</style>\n",
       "<table border=\"1\" class=\"dataframe\">\n",
       "  <thead>\n",
       "    <tr style=\"text-align: right;\">\n",
       "      <th></th>\n",
       "      <th>company</th>\n",
       "      <th>Age</th>\n",
       "      <th>Gender</th>\n",
       "      <th>Qualification</th>\n",
       "      <th>no of experience in years</th>\n",
       "      <th>Area of work</th>\n",
       "      <th>salary</th>\n",
       "    </tr>\n",
       "  </thead>\n",
       "  <tbody>\n",
       "    <tr>\n",
       "      <th>0</th>\n",
       "      <td>0</td>\n",
       "      <td>0.0</td>\n",
       "      <td>0</td>\n",
       "      <td>0</td>\n",
       "      <td>0.0</td>\n",
       "      <td>0</td>\n",
       "      <td>69879.291815</td>\n",
       "    </tr>\n",
       "    <tr>\n",
       "      <th>1</th>\n",
       "      <td>1</td>\n",
       "      <td>0.0</td>\n",
       "      <td>0</td>\n",
       "      <td>0</td>\n",
       "      <td>0.0</td>\n",
       "      <td>0</td>\n",
       "      <td>63828.111187</td>\n",
       "    </tr>\n",
       "    <tr>\n",
       "      <th>2</th>\n",
       "      <td>2</td>\n",
       "      <td>0.0</td>\n",
       "      <td>0</td>\n",
       "      <td>0</td>\n",
       "      <td>0.0</td>\n",
       "      <td>0</td>\n",
       "      <td>57776.930560</td>\n",
       "    </tr>\n",
       "    <tr>\n",
       "      <th>3</th>\n",
       "      <td>3</td>\n",
       "      <td>0.0</td>\n",
       "      <td>0</td>\n",
       "      <td>0</td>\n",
       "      <td>0.0</td>\n",
       "      <td>0</td>\n",
       "      <td>51725.749932</td>\n",
       "    </tr>\n",
       "    <tr>\n",
       "      <th>4</th>\n",
       "      <td>4</td>\n",
       "      <td>0.0</td>\n",
       "      <td>0</td>\n",
       "      <td>0</td>\n",
       "      <td>0.0</td>\n",
       "      <td>0</td>\n",
       "      <td>45674.569305</td>\n",
       "    </tr>\n",
       "    <tr>\n",
       "      <th>5</th>\n",
       "      <td>5</td>\n",
       "      <td>0.0</td>\n",
       "      <td>0</td>\n",
       "      <td>0</td>\n",
       "      <td>0.0</td>\n",
       "      <td>0</td>\n",
       "      <td>39623.388678</td>\n",
       "    </tr>\n",
       "    <tr>\n",
       "      <th>6</th>\n",
       "      <td>6</td>\n",
       "      <td>0.0</td>\n",
       "      <td>0</td>\n",
       "      <td>0</td>\n",
       "      <td>0.0</td>\n",
       "      <td>0</td>\n",
       "      <td>33572.208050</td>\n",
       "    </tr>\n",
       "    <tr>\n",
       "      <th>7</th>\n",
       "      <td>7</td>\n",
       "      <td>0.0</td>\n",
       "      <td>0</td>\n",
       "      <td>0</td>\n",
       "      <td>0.0</td>\n",
       "      <td>0</td>\n",
       "      <td>27521.027423</td>\n",
       "    </tr>\n",
       "  </tbody>\n",
       "</table>\n",
       "</div>"
      ],
      "text/plain": [
       "   company  Age   Gender  Qualification  no of experience in years  \\\n",
       "0        0   0.0       0              0                        0.0   \n",
       "1        1   0.0       0              0                        0.0   \n",
       "2        2   0.0       0              0                        0.0   \n",
       "3        3   0.0       0              0                        0.0   \n",
       "4        4   0.0       0              0                        0.0   \n",
       "5        5   0.0       0              0                        0.0   \n",
       "6        6   0.0       0              0                        0.0   \n",
       "7        7   0.0       0              0                        0.0   \n",
       "\n",
       "   Area of work        salary  \n",
       "0             0  69879.291815  \n",
       "1             0  63828.111187  \n",
       "2             0  57776.930560  \n",
       "3             0  51725.749932  \n",
       "4             0  45674.569305  \n",
       "5             0  39623.388678  \n",
       "6             0  33572.208050  \n",
       "7             0  27521.027423  "
      ]
     },
     "execution_count": 695,
     "metadata": {},
     "output_type": "execute_result"
    }
   ],
   "source": [
    "allen2['salary'] = p2\n",
    "allen2.head(8)"
   ]
  },
  {
   "cell_type": "markdown",
   "metadata": {},
   "source": [
    "# Test.csv - Index"
   ]
  },
  {
   "cell_type": "code",
   "execution_count": 696,
   "metadata": {},
   "outputs": [
    {
     "name": "stdout",
     "output_type": "stream",
     "text": [
      "['ABBB' 'Bashh' 'Link' 'Oxon' 'TSC' 'neuromorphic' 'palm' 'penguin ']\n"
     ]
    }
   ],
   "source": [
    "print(l5.inverse_transform(f5['company']))\n",
    "allen2['company'] = l5.inverse_transform(f5['company'])"
   ]
  },
  {
   "cell_type": "code",
   "execution_count": 697,
   "metadata": {},
   "outputs": [
    {
     "name": "stdout",
     "output_type": "stream",
     "text": [
      "['cloud server management' 'cloud server management'\n",
      " 'cloud server management' 'cloud server management'\n",
      " 'cloud server management' 'cloud server management'\n",
      " 'cloud server management' 'cloud server management']\n"
     ]
    }
   ],
   "source": [
    "print(l6.inverse_transform(f6['Area of work']))\n",
    "allen2['Area of work'] = l6.inverse_transform(f6['Area of work'])"
   ]
  },
  {
   "cell_type": "code",
   "execution_count": 698,
   "metadata": {},
   "outputs": [
    {
     "name": "stdout",
     "output_type": "stream",
     "text": [
      "['F' 'F' 'F' 'F' 'F' 'F' 'F' 'F']\n"
     ]
    }
   ],
   "source": [
    "print(l7.inverse_transform(f7['Gender']))\n",
    "allen2['Gender'] = l7.inverse_transform(f7['Gender'])"
   ]
  },
  {
   "cell_type": "code",
   "execution_count": 699,
   "metadata": {},
   "outputs": [
    {
     "name": "stdout",
     "output_type": "stream",
     "text": [
      "['B.E' 'B.E' 'B.E' 'B.E' 'B.E' 'B.E' 'B.E' 'B.E']\n"
     ]
    }
   ],
   "source": [
    "print(l8.inverse_transform(f8['Qualification']))\n",
    "allen2['Qualification'] = l8.inverse_transform(f8['Qualification'])"
   ]
  },
  {
   "cell_type": "code",
   "execution_count": 700,
   "metadata": {},
   "outputs": [
    {
     "name": "stdout",
     "output_type": "stream",
     "text": [
      "[[35. 12.]\n",
      " [35. 12.]\n",
      " [35. 12.]\n",
      " [35. 12.]\n",
      " [35. 12.]\n",
      " [35. 12.]\n",
      " [35. 12.]\n",
      " [35. 12.]]\n"
     ]
    }
   ],
   "source": [
    "print(ms.inverse_transform(allen2[columns]))\n",
    "allen2[columns] = ms.inverse_transform(allen2[columns])"
   ]
  },
  {
   "cell_type": "code",
   "execution_count": 701,
   "metadata": {
    "colab": {
     "base_uri": "https://localhost:8080/",
     "height": 297
    },
    "id": "xVdfSkEDmSXn",
    "outputId": "51d4f669-bfbc-4ede-e1c8-d74efd6c5aae"
   },
   "outputs": [
    {
     "data": {
      "text/html": [
       "<div>\n",
       "<style scoped>\n",
       "    .dataframe tbody tr th:only-of-type {\n",
       "        vertical-align: middle;\n",
       "    }\n",
       "\n",
       "    .dataframe tbody tr th {\n",
       "        vertical-align: top;\n",
       "    }\n",
       "\n",
       "    .dataframe thead th {\n",
       "        text-align: right;\n",
       "    }\n",
       "</style>\n",
       "<table border=\"1\" class=\"dataframe\">\n",
       "  <thead>\n",
       "    <tr style=\"text-align: right;\">\n",
       "      <th></th>\n",
       "      <th>company</th>\n",
       "      <th>Age</th>\n",
       "      <th>Gender</th>\n",
       "      <th>Qualification</th>\n",
       "      <th>no of experience in years</th>\n",
       "      <th>Area of work</th>\n",
       "      <th>salary</th>\n",
       "    </tr>\n",
       "  </thead>\n",
       "  <tbody>\n",
       "    <tr>\n",
       "      <th>0</th>\n",
       "      <td>ABBB</td>\n",
       "      <td>35.0</td>\n",
       "      <td>F</td>\n",
       "      <td>B.E</td>\n",
       "      <td>12.0</td>\n",
       "      <td>cloud server management</td>\n",
       "      <td>69879.291815</td>\n",
       "    </tr>\n",
       "    <tr>\n",
       "      <th>1</th>\n",
       "      <td>Bashh</td>\n",
       "      <td>35.0</td>\n",
       "      <td>F</td>\n",
       "      <td>B.E</td>\n",
       "      <td>12.0</td>\n",
       "      <td>cloud server management</td>\n",
       "      <td>63828.111187</td>\n",
       "    </tr>\n",
       "    <tr>\n",
       "      <th>2</th>\n",
       "      <td>Link</td>\n",
       "      <td>35.0</td>\n",
       "      <td>F</td>\n",
       "      <td>B.E</td>\n",
       "      <td>12.0</td>\n",
       "      <td>cloud server management</td>\n",
       "      <td>57776.930560</td>\n",
       "    </tr>\n",
       "    <tr>\n",
       "      <th>3</th>\n",
       "      <td>Oxon</td>\n",
       "      <td>35.0</td>\n",
       "      <td>F</td>\n",
       "      <td>B.E</td>\n",
       "      <td>12.0</td>\n",
       "      <td>cloud server management</td>\n",
       "      <td>51725.749932</td>\n",
       "    </tr>\n",
       "    <tr>\n",
       "      <th>4</th>\n",
       "      <td>TSC</td>\n",
       "      <td>35.0</td>\n",
       "      <td>F</td>\n",
       "      <td>B.E</td>\n",
       "      <td>12.0</td>\n",
       "      <td>cloud server management</td>\n",
       "      <td>45674.569305</td>\n",
       "    </tr>\n",
       "    <tr>\n",
       "      <th>5</th>\n",
       "      <td>neuromorphic</td>\n",
       "      <td>35.0</td>\n",
       "      <td>F</td>\n",
       "      <td>B.E</td>\n",
       "      <td>12.0</td>\n",
       "      <td>cloud server management</td>\n",
       "      <td>39623.388678</td>\n",
       "    </tr>\n",
       "    <tr>\n",
       "      <th>6</th>\n",
       "      <td>palm</td>\n",
       "      <td>35.0</td>\n",
       "      <td>F</td>\n",
       "      <td>B.E</td>\n",
       "      <td>12.0</td>\n",
       "      <td>cloud server management</td>\n",
       "      <td>33572.208050</td>\n",
       "    </tr>\n",
       "    <tr>\n",
       "      <th>7</th>\n",
       "      <td>penguin</td>\n",
       "      <td>35.0</td>\n",
       "      <td>F</td>\n",
       "      <td>B.E</td>\n",
       "      <td>12.0</td>\n",
       "      <td>cloud server management</td>\n",
       "      <td>27521.027423</td>\n",
       "    </tr>\n",
       "  </tbody>\n",
       "</table>\n",
       "</div>"
      ],
      "text/plain": [
       "        company  Age  Gender Qualification  no of experience in years  \\\n",
       "0          ABBB  35.0      F           B.E                       12.0   \n",
       "1         Bashh  35.0      F           B.E                       12.0   \n",
       "2          Link  35.0      F           B.E                       12.0   \n",
       "3          Oxon  35.0      F           B.E                       12.0   \n",
       "4           TSC  35.0      F           B.E                       12.0   \n",
       "5  neuromorphic  35.0      F           B.E                       12.0   \n",
       "6          palm  35.0      F           B.E                       12.0   \n",
       "7      penguin   35.0      F           B.E                       12.0   \n",
       "\n",
       "              Area of work        salary  \n",
       "0  cloud server management  69879.291815  \n",
       "1  cloud server management  63828.111187  \n",
       "2  cloud server management  57776.930560  \n",
       "3  cloud server management  51725.749932  \n",
       "4  cloud server management  45674.569305  \n",
       "5  cloud server management  39623.388678  \n",
       "6  cloud server management  33572.208050  \n",
       "7  cloud server management  27521.027423  "
      ]
     },
     "execution_count": 701,
     "metadata": {},
     "output_type": "execute_result"
    }
   ],
   "source": [
    "allen2.head(8)"
   ]
  },
  {
   "cell_type": "markdown",
   "metadata": {},
   "source": [
    "# Test.csv - Save"
   ]
  },
  {
   "cell_type": "code",
   "execution_count": 702,
   "metadata": {
    "id": "jhhBjh9in4UR"
   },
   "outputs": [],
   "source": [
    "allen2.to_csv('Test.csv')"
   ]
  },
  {
   "cell_type": "markdown",
   "metadata": {},
   "source": [
    "# Validation.csv - Creation\n",
    "\n",
    "### Assignment Q2 "
   ]
  },
  {
   "cell_type": "code",
   "execution_count": 703,
   "metadata": {},
   "outputs": [
    {
     "data": {
      "text/html": [
       "<div>\n",
       "<style scoped>\n",
       "    .dataframe tbody tr th:only-of-type {\n",
       "        vertical-align: middle;\n",
       "    }\n",
       "\n",
       "    .dataframe tbody tr th {\n",
       "        vertical-align: top;\n",
       "    }\n",
       "\n",
       "    .dataframe thead th {\n",
       "        text-align: right;\n",
       "    }\n",
       "</style>\n",
       "<table border=\"1\" class=\"dataframe\">\n",
       "  <thead>\n",
       "    <tr style=\"text-align: right;\">\n",
       "      <th></th>\n",
       "      <th>S.No</th>\n",
       "      <th>person</th>\n",
       "      <th>Age</th>\n",
       "      <th>Gender</th>\n",
       "      <th>Qualification</th>\n",
       "      <th>no of experience in years</th>\n",
       "      <th>Area of work</th>\n",
       "      <th>salary package per month</th>\n",
       "    </tr>\n",
       "  </thead>\n",
       "  <tbody>\n",
       "    <tr>\n",
       "      <th>0</th>\n",
       "      <td>NaN</td>\n",
       "      <td>Bobby</td>\n",
       "      <td>22</td>\n",
       "      <td>F</td>\n",
       "      <td>B.E</td>\n",
       "      <td>1</td>\n",
       "      <td>programming</td>\n",
       "      <td>NaN</td>\n",
       "    </tr>\n",
       "    <tr>\n",
       "      <th>1</th>\n",
       "      <td>NaN</td>\n",
       "      <td>Rahul</td>\n",
       "      <td>28</td>\n",
       "      <td>M</td>\n",
       "      <td>B.E</td>\n",
       "      <td>5</td>\n",
       "      <td>predictive analysis</td>\n",
       "      <td>NaN</td>\n",
       "    </tr>\n",
       "    <tr>\n",
       "      <th>2</th>\n",
       "      <td>NaN</td>\n",
       "      <td>Jhanvi</td>\n",
       "      <td>30</td>\n",
       "      <td>F</td>\n",
       "      <td>M.E</td>\n",
       "      <td>4</td>\n",
       "      <td>cloud server management</td>\n",
       "      <td>NaN</td>\n",
       "    </tr>\n",
       "    <tr>\n",
       "      <th>3</th>\n",
       "      <td>NaN</td>\n",
       "      <td>Sanjay</td>\n",
       "      <td>35</td>\n",
       "      <td>M</td>\n",
       "      <td>M.E</td>\n",
       "      <td>9</td>\n",
       "      <td>predictive analysis</td>\n",
       "      <td>NaN</td>\n",
       "    </tr>\n",
       "    <tr>\n",
       "      <th>4</th>\n",
       "      <td>NaN</td>\n",
       "      <td>sukruti</td>\n",
       "      <td>29</td>\n",
       "      <td>F</td>\n",
       "      <td>M.E</td>\n",
       "      <td>5</td>\n",
       "      <td>cloud server management</td>\n",
       "      <td>NaN</td>\n",
       "    </tr>\n",
       "    <tr>\n",
       "      <th>5</th>\n",
       "      <td>NaN</td>\n",
       "      <td>prachi</td>\n",
       "      <td>27</td>\n",
       "      <td>F</td>\n",
       "      <td>B.E</td>\n",
       "      <td>5</td>\n",
       "      <td>predictive analysis</td>\n",
       "      <td>NaN</td>\n",
       "    </tr>\n",
       "    <tr>\n",
       "      <th>6</th>\n",
       "      <td>NaN</td>\n",
       "      <td>Nazim</td>\n",
       "      <td>26</td>\n",
       "      <td>M</td>\n",
       "      <td>B.E</td>\n",
       "      <td>5</td>\n",
       "      <td>cloud server management</td>\n",
       "      <td>NaN</td>\n",
       "    </tr>\n",
       "    <tr>\n",
       "      <th>7</th>\n",
       "      <td>NaN</td>\n",
       "      <td>Maithri</td>\n",
       "      <td>24</td>\n",
       "      <td>F</td>\n",
       "      <td>M.E</td>\n",
       "      <td>1</td>\n",
       "      <td>cloud server management</td>\n",
       "      <td>NaN</td>\n",
       "    </tr>\n",
       "  </tbody>\n",
       "</table>\n",
       "</div>"
      ],
      "text/plain": [
       "   S.No   person  Age  Gender Qualification  no of experience in years  \\\n",
       "0   NaN    Bobby    22      F           B.E                          1   \n",
       "1   NaN    Rahul    28      M           B.E                          5   \n",
       "2   NaN   Jhanvi    30      F           M.E                          4   \n",
       "3   NaN   Sanjay    35      M           M.E                          9   \n",
       "4   NaN  sukruti    29      F           M.E                          5   \n",
       "5   NaN   prachi    27      F           B.E                          5   \n",
       "6   NaN    Nazim    26      M           B.E                          5   \n",
       "7   NaN  Maithri    24      F           M.E                          1   \n",
       "\n",
       "              Area of work  salary package per month  \n",
       "0              programming                       NaN  \n",
       "1      predictive analysis                       NaN  \n",
       "2  cloud server management                       NaN  \n",
       "3      predictive analysis                       NaN  \n",
       "4  cloud server management                       NaN  \n",
       "5      predictive analysis                       NaN  \n",
       "6  cloud server management                       NaN  \n",
       "7  cloud server management                       NaN  "
      ]
     },
     "execution_count": 703,
     "metadata": {},
     "output_type": "execute_result"
    }
   ],
   "source": [
    "allen3 = pd.read_csv(\"Dataset2.csv\")\n",
    "allen4 = pd.read_csv(\"Dataset2.csv\")\n",
    "allen3.head(8)"
   ]
  },
  {
   "cell_type": "code",
   "execution_count": 704,
   "metadata": {},
   "outputs": [
    {
     "data": {
      "text/html": [
       "<div>\n",
       "<style scoped>\n",
       "    .dataframe tbody tr th:only-of-type {\n",
       "        vertical-align: middle;\n",
       "    }\n",
       "\n",
       "    .dataframe tbody tr th {\n",
       "        vertical-align: top;\n",
       "    }\n",
       "\n",
       "    .dataframe thead th {\n",
       "        text-align: right;\n",
       "    }\n",
       "</style>\n",
       "<table border=\"1\" class=\"dataframe\">\n",
       "  <thead>\n",
       "    <tr style=\"text-align: right;\">\n",
       "      <th></th>\n",
       "      <th>S.No</th>\n",
       "      <th>person</th>\n",
       "      <th>Age</th>\n",
       "      <th>Gender</th>\n",
       "      <th>Qualification</th>\n",
       "      <th>no of experience in years</th>\n",
       "      <th>Area of work</th>\n",
       "      <th>salary package per month</th>\n",
       "      <th>company</th>\n",
       "    </tr>\n",
       "  </thead>\n",
       "  <tbody>\n",
       "    <tr>\n",
       "      <th>0</th>\n",
       "      <td>NaN</td>\n",
       "      <td>Bobby</td>\n",
       "      <td>22</td>\n",
       "      <td>F</td>\n",
       "      <td>B.E</td>\n",
       "      <td>1</td>\n",
       "      <td>programming</td>\n",
       "      <td>NaN</td>\n",
       "      <td>ABBB</td>\n",
       "    </tr>\n",
       "    <tr>\n",
       "      <th>1</th>\n",
       "      <td>NaN</td>\n",
       "      <td>Rahul</td>\n",
       "      <td>28</td>\n",
       "      <td>M</td>\n",
       "      <td>B.E</td>\n",
       "      <td>5</td>\n",
       "      <td>predictive analysis</td>\n",
       "      <td>NaN</td>\n",
       "      <td>ABBB</td>\n",
       "    </tr>\n",
       "    <tr>\n",
       "      <th>2</th>\n",
       "      <td>NaN</td>\n",
       "      <td>Jhanvi</td>\n",
       "      <td>30</td>\n",
       "      <td>F</td>\n",
       "      <td>M.E</td>\n",
       "      <td>4</td>\n",
       "      <td>cloud server management</td>\n",
       "      <td>NaN</td>\n",
       "      <td>ABBB</td>\n",
       "    </tr>\n",
       "    <tr>\n",
       "      <th>3</th>\n",
       "      <td>NaN</td>\n",
       "      <td>Sanjay</td>\n",
       "      <td>35</td>\n",
       "      <td>M</td>\n",
       "      <td>M.E</td>\n",
       "      <td>9</td>\n",
       "      <td>predictive analysis</td>\n",
       "      <td>NaN</td>\n",
       "      <td>ABBB</td>\n",
       "    </tr>\n",
       "    <tr>\n",
       "      <th>4</th>\n",
       "      <td>NaN</td>\n",
       "      <td>sukruti</td>\n",
       "      <td>29</td>\n",
       "      <td>F</td>\n",
       "      <td>M.E</td>\n",
       "      <td>5</td>\n",
       "      <td>cloud server management</td>\n",
       "      <td>NaN</td>\n",
       "      <td>ABBB</td>\n",
       "    </tr>\n",
       "    <tr>\n",
       "      <th>...</th>\n",
       "      <td>...</td>\n",
       "      <td>...</td>\n",
       "      <td>...</td>\n",
       "      <td>...</td>\n",
       "      <td>...</td>\n",
       "      <td>...</td>\n",
       "      <td>...</td>\n",
       "      <td>...</td>\n",
       "      <td>...</td>\n",
       "    </tr>\n",
       "    <tr>\n",
       "      <th>59</th>\n",
       "      <td>NaN</td>\n",
       "      <td>Sanjay</td>\n",
       "      <td>35</td>\n",
       "      <td>M</td>\n",
       "      <td>M.E</td>\n",
       "      <td>9</td>\n",
       "      <td>predictive analysis</td>\n",
       "      <td>NaN</td>\n",
       "      <td>penguin</td>\n",
       "    </tr>\n",
       "    <tr>\n",
       "      <th>60</th>\n",
       "      <td>NaN</td>\n",
       "      <td>sukruti</td>\n",
       "      <td>29</td>\n",
       "      <td>F</td>\n",
       "      <td>M.E</td>\n",
       "      <td>5</td>\n",
       "      <td>cloud server management</td>\n",
       "      <td>NaN</td>\n",
       "      <td>penguin</td>\n",
       "    </tr>\n",
       "    <tr>\n",
       "      <th>61</th>\n",
       "      <td>NaN</td>\n",
       "      <td>prachi</td>\n",
       "      <td>27</td>\n",
       "      <td>F</td>\n",
       "      <td>B.E</td>\n",
       "      <td>5</td>\n",
       "      <td>predictive analysis</td>\n",
       "      <td>NaN</td>\n",
       "      <td>penguin</td>\n",
       "    </tr>\n",
       "    <tr>\n",
       "      <th>62</th>\n",
       "      <td>NaN</td>\n",
       "      <td>Nazim</td>\n",
       "      <td>26</td>\n",
       "      <td>M</td>\n",
       "      <td>B.E</td>\n",
       "      <td>5</td>\n",
       "      <td>cloud server management</td>\n",
       "      <td>NaN</td>\n",
       "      <td>penguin</td>\n",
       "    </tr>\n",
       "    <tr>\n",
       "      <th>63</th>\n",
       "      <td>NaN</td>\n",
       "      <td>Maithri</td>\n",
       "      <td>24</td>\n",
       "      <td>F</td>\n",
       "      <td>M.E</td>\n",
       "      <td>1</td>\n",
       "      <td>cloud server management</td>\n",
       "      <td>NaN</td>\n",
       "      <td>penguin</td>\n",
       "    </tr>\n",
       "  </tbody>\n",
       "</table>\n",
       "<p>64 rows × 9 columns</p>\n",
       "</div>"
      ],
      "text/plain": [
       "    S.No   person  Age  Gender Qualification  no of experience in years  \\\n",
       "0    NaN    Bobby    22      F           B.E                          1   \n",
       "1    NaN    Rahul    28      M           B.E                          5   \n",
       "2    NaN   Jhanvi    30      F           M.E                          4   \n",
       "3    NaN   Sanjay    35      M           M.E                          9   \n",
       "4    NaN  sukruti    29      F           M.E                          5   \n",
       "..   ...      ...   ...    ...           ...                        ...   \n",
       "59   NaN   Sanjay    35      M           M.E                          9   \n",
       "60   NaN  sukruti    29      F           M.E                          5   \n",
       "61   NaN   prachi    27      F           B.E                          5   \n",
       "62   NaN    Nazim    26      M           B.E                          5   \n",
       "63   NaN  Maithri    24      F           M.E                          1   \n",
       "\n",
       "               Area of work  salary package per month   company  \n",
       "0               programming                       NaN      ABBB  \n",
       "1       predictive analysis                       NaN      ABBB  \n",
       "2   cloud server management                       NaN      ABBB  \n",
       "3       predictive analysis                       NaN      ABBB  \n",
       "4   cloud server management                       NaN      ABBB  \n",
       "..                      ...                       ...       ...  \n",
       "59      predictive analysis                       NaN  penguin   \n",
       "60  cloud server management                       NaN  penguin   \n",
       "61      predictive analysis                       NaN  penguin   \n",
       "62  cloud server management                       NaN  penguin   \n",
       "63  cloud server management                       NaN  penguin   \n",
       "\n",
       "[64 rows x 9 columns]"
      ]
     },
     "execution_count": 704,
     "metadata": {},
     "output_type": "execute_result"
    }
   ],
   "source": [
    "allen3[\"company\"] = companies[0]\n",
    "for i in range(1,len(companies)):\n",
    "    allen4[\"company\"] = companies[i]\n",
    "    allen3 = pd.concat([allen3, allen4], ignore_index = True)\n",
    "allen3.head(64)"
   ]
  },
  {
   "cell_type": "markdown",
   "metadata": {},
   "source": [
    "# Validation.csv - Label Encoding"
   ]
  },
  {
   "cell_type": "markdown",
   "metadata": {},
   "source": [
    "### Company"
   ]
  },
  {
   "cell_type": "code",
   "execution_count": 705,
   "metadata": {},
   "outputs": [],
   "source": [
    "l9 = preprocessing.LabelEncoder()\n",
    "f9 = l9.fit_transform(allen3['company']) \n",
    "f9 = pd.DataFrame(data=f9, columns=['company'])"
   ]
  },
  {
   "cell_type": "markdown",
   "metadata": {},
   "source": [
    "### Area"
   ]
  },
  {
   "cell_type": "code",
   "execution_count": 706,
   "metadata": {},
   "outputs": [],
   "source": [
    "l10 = preprocessing.LabelEncoder()\n",
    "f10 = l10.fit_transform(allen3['Area of work']) \n",
    "f10 = pd.DataFrame(data=f10, columns=['Area of work'])"
   ]
  },
  {
   "cell_type": "markdown",
   "metadata": {},
   "source": [
    "### Gender"
   ]
  },
  {
   "cell_type": "code",
   "execution_count": 707,
   "metadata": {},
   "outputs": [],
   "source": [
    "l11 = preprocessing.LabelEncoder()\n",
    "f11 = l11.fit_transform(allen3['Gender']) \n",
    "f11 = pd.DataFrame(data=f11, columns=['Gender'])"
   ]
  },
  {
   "cell_type": "markdown",
   "metadata": {},
   "source": [
    "### Qualification"
   ]
  },
  {
   "cell_type": "code",
   "execution_count": 708,
   "metadata": {},
   "outputs": [],
   "source": [
    "l12 = preprocessing.LabelEncoder()\n",
    "f12 = l12.fit_transform(allen3['Qualification']) \n",
    "f12 = pd.DataFrame(data=f12, columns=['Qualification'])"
   ]
  },
  {
   "cell_type": "markdown",
   "metadata": {},
   "source": [
    "### Updation"
   ]
  },
  {
   "cell_type": "code",
   "execution_count": 709,
   "metadata": {},
   "outputs": [],
   "source": [
    "allen3['company'] = f9['company']\n",
    "allen3['Area of work'] = f10['Area of work']\n",
    "allen3['Gender'] = f11['Gender']\n",
    "allen3['Qualification'] = f12['Qualification']"
   ]
  },
  {
   "cell_type": "markdown",
   "metadata": {},
   "source": [
    "# Validation.csv - MinMaxScaler"
   ]
  },
  {
   "cell_type": "code",
   "execution_count": 710,
   "metadata": {},
   "outputs": [],
   "source": [
    "ms = MinMaxScaler()\n",
    "columns = ['Age ','no of experience in years']\n",
    "allen3[columns] = ms.fit_transform(allen3[columns])"
   ]
  },
  {
   "cell_type": "markdown",
   "metadata": {},
   "source": [
    "# Validation.csv - Prediction"
   ]
  },
  {
   "cell_type": "code",
   "execution_count": 711,
   "metadata": {},
   "outputs": [
    {
     "data": {
      "text/html": [
       "<div>\n",
       "<style scoped>\n",
       "    .dataframe tbody tr th:only-of-type {\n",
       "        vertical-align: middle;\n",
       "    }\n",
       "\n",
       "    .dataframe tbody tr th {\n",
       "        vertical-align: top;\n",
       "    }\n",
       "\n",
       "    .dataframe thead th {\n",
       "        text-align: right;\n",
       "    }\n",
       "</style>\n",
       "<table border=\"1\" class=\"dataframe\">\n",
       "  <thead>\n",
       "    <tr style=\"text-align: right;\">\n",
       "      <th></th>\n",
       "      <th>company</th>\n",
       "      <th>Age</th>\n",
       "      <th>Gender</th>\n",
       "      <th>Qualification</th>\n",
       "      <th>no of experience in years</th>\n",
       "      <th>Area of work</th>\n",
       "    </tr>\n",
       "  </thead>\n",
       "  <tbody>\n",
       "    <tr>\n",
       "      <th>0</th>\n",
       "      <td>0</td>\n",
       "      <td>0.000000</td>\n",
       "      <td>0</td>\n",
       "      <td>0</td>\n",
       "      <td>0.000</td>\n",
       "      <td>2</td>\n",
       "    </tr>\n",
       "    <tr>\n",
       "      <th>1</th>\n",
       "      <td>0</td>\n",
       "      <td>0.461538</td>\n",
       "      <td>1</td>\n",
       "      <td>0</td>\n",
       "      <td>0.500</td>\n",
       "      <td>1</td>\n",
       "    </tr>\n",
       "    <tr>\n",
       "      <th>2</th>\n",
       "      <td>0</td>\n",
       "      <td>0.615385</td>\n",
       "      <td>0</td>\n",
       "      <td>1</td>\n",
       "      <td>0.375</td>\n",
       "      <td>0</td>\n",
       "    </tr>\n",
       "    <tr>\n",
       "      <th>3</th>\n",
       "      <td>0</td>\n",
       "      <td>1.000000</td>\n",
       "      <td>1</td>\n",
       "      <td>1</td>\n",
       "      <td>1.000</td>\n",
       "      <td>1</td>\n",
       "    </tr>\n",
       "    <tr>\n",
       "      <th>4</th>\n",
       "      <td>0</td>\n",
       "      <td>0.538462</td>\n",
       "      <td>0</td>\n",
       "      <td>1</td>\n",
       "      <td>0.500</td>\n",
       "      <td>0</td>\n",
       "    </tr>\n",
       "    <tr>\n",
       "      <th>...</th>\n",
       "      <td>...</td>\n",
       "      <td>...</td>\n",
       "      <td>...</td>\n",
       "      <td>...</td>\n",
       "      <td>...</td>\n",
       "      <td>...</td>\n",
       "    </tr>\n",
       "    <tr>\n",
       "      <th>59</th>\n",
       "      <td>7</td>\n",
       "      <td>1.000000</td>\n",
       "      <td>1</td>\n",
       "      <td>1</td>\n",
       "      <td>1.000</td>\n",
       "      <td>1</td>\n",
       "    </tr>\n",
       "    <tr>\n",
       "      <th>60</th>\n",
       "      <td>7</td>\n",
       "      <td>0.538462</td>\n",
       "      <td>0</td>\n",
       "      <td>1</td>\n",
       "      <td>0.500</td>\n",
       "      <td>0</td>\n",
       "    </tr>\n",
       "    <tr>\n",
       "      <th>61</th>\n",
       "      <td>7</td>\n",
       "      <td>0.384615</td>\n",
       "      <td>0</td>\n",
       "      <td>0</td>\n",
       "      <td>0.500</td>\n",
       "      <td>1</td>\n",
       "    </tr>\n",
       "    <tr>\n",
       "      <th>62</th>\n",
       "      <td>7</td>\n",
       "      <td>0.307692</td>\n",
       "      <td>1</td>\n",
       "      <td>0</td>\n",
       "      <td>0.500</td>\n",
       "      <td>0</td>\n",
       "    </tr>\n",
       "    <tr>\n",
       "      <th>63</th>\n",
       "      <td>7</td>\n",
       "      <td>0.153846</td>\n",
       "      <td>0</td>\n",
       "      <td>1</td>\n",
       "      <td>0.000</td>\n",
       "      <td>0</td>\n",
       "    </tr>\n",
       "  </tbody>\n",
       "</table>\n",
       "<p>64 rows × 6 columns</p>\n",
       "</div>"
      ],
      "text/plain": [
       "    company      Age   Gender  Qualification  no of experience in years  \\\n",
       "0         0  0.000000       0              0                      0.000   \n",
       "1         0  0.461538       1              0                      0.500   \n",
       "2         0  0.615385       0              1                      0.375   \n",
       "3         0  1.000000       1              1                      1.000   \n",
       "4         0  0.538462       0              1                      0.500   \n",
       "..      ...       ...     ...            ...                        ...   \n",
       "59        7  1.000000       1              1                      1.000   \n",
       "60        7  0.538462       0              1                      0.500   \n",
       "61        7  0.384615       0              0                      0.500   \n",
       "62        7  0.307692       1              0                      0.500   \n",
       "63        7  0.153846       0              1                      0.000   \n",
       "\n",
       "    Area of work  \n",
       "0              2  \n",
       "1              1  \n",
       "2              0  \n",
       "3              1  \n",
       "4              0  \n",
       "..           ...  \n",
       "59             1  \n",
       "60             0  \n",
       "61             1  \n",
       "62             0  \n",
       "63             0  \n",
       "\n",
       "[64 rows x 6 columns]"
      ]
     },
     "execution_count": 711,
     "metadata": {},
     "output_type": "execute_result"
    }
   ],
   "source": [
    "allen3 = allen3.drop(['S.No','person','salary package per month'],axis=1)\n",
    "allen3 = allen3[['company','Age ','Gender','Qualification','no of experience in years','Area of work']]\n",
    "allen3.head(64)"
   ]
  },
  {
   "cell_type": "code",
   "execution_count": 712,
   "metadata": {
    "id": "xTS8mv39jN57"
   },
   "outputs": [],
   "source": [
    "p3 = model.predict(allen3)"
   ]
  },
  {
   "cell_type": "code",
   "execution_count": 713,
   "metadata": {
    "colab": {
     "base_uri": "https://localhost:8080/"
    },
    "id": "E41MjUfKHPFH",
    "outputId": "c4d68051-6eee-4a37-887e-64195f5d1724"
   },
   "outputs": [
    {
     "data": {
      "text/html": [
       "<div>\n",
       "<style scoped>\n",
       "    .dataframe tbody tr th:only-of-type {\n",
       "        vertical-align: middle;\n",
       "    }\n",
       "\n",
       "    .dataframe tbody tr th {\n",
       "        vertical-align: top;\n",
       "    }\n",
       "\n",
       "    .dataframe thead th {\n",
       "        text-align: right;\n",
       "    }\n",
       "</style>\n",
       "<table border=\"1\" class=\"dataframe\">\n",
       "  <thead>\n",
       "    <tr style=\"text-align: right;\">\n",
       "      <th></th>\n",
       "      <th>company</th>\n",
       "      <th>Age</th>\n",
       "      <th>Gender</th>\n",
       "      <th>Qualification</th>\n",
       "      <th>no of experience in years</th>\n",
       "      <th>Area of work</th>\n",
       "      <th>salary</th>\n",
       "    </tr>\n",
       "  </thead>\n",
       "  <tbody>\n",
       "    <tr>\n",
       "      <th>0</th>\n",
       "      <td>0</td>\n",
       "      <td>0.000000</td>\n",
       "      <td>0</td>\n",
       "      <td>0</td>\n",
       "      <td>0.000</td>\n",
       "      <td>2</td>\n",
       "      <td>54824.880146</td>\n",
       "    </tr>\n",
       "    <tr>\n",
       "      <th>1</th>\n",
       "      <td>0</td>\n",
       "      <td>0.461538</td>\n",
       "      <td>1</td>\n",
       "      <td>0</td>\n",
       "      <td>0.500</td>\n",
       "      <td>1</td>\n",
       "      <td>208400.793430</td>\n",
       "    </tr>\n",
       "    <tr>\n",
       "      <th>2</th>\n",
       "      <td>0</td>\n",
       "      <td>0.615385</td>\n",
       "      <td>0</td>\n",
       "      <td>1</td>\n",
       "      <td>0.375</td>\n",
       "      <td>0</td>\n",
       "      <td>145345.375236</td>\n",
       "    </tr>\n",
       "    <tr>\n",
       "      <th>3</th>\n",
       "      <td>0</td>\n",
       "      <td>1.000000</td>\n",
       "      <td>1</td>\n",
       "      <td>1</td>\n",
       "      <td>1.000</td>\n",
       "      <td>1</td>\n",
       "      <td>352574.982362</td>\n",
       "    </tr>\n",
       "    <tr>\n",
       "      <th>4</th>\n",
       "      <td>0</td>\n",
       "      <td>0.538462</td>\n",
       "      <td>0</td>\n",
       "      <td>1</td>\n",
       "      <td>0.500</td>\n",
       "      <td>0</td>\n",
       "      <td>214053.480747</td>\n",
       "    </tr>\n",
       "    <tr>\n",
       "      <th>...</th>\n",
       "      <td>...</td>\n",
       "      <td>...</td>\n",
       "      <td>...</td>\n",
       "      <td>...</td>\n",
       "      <td>...</td>\n",
       "      <td>...</td>\n",
       "      <td>...</td>\n",
       "    </tr>\n",
       "    <tr>\n",
       "      <th>59</th>\n",
       "      <td>7</td>\n",
       "      <td>1.000000</td>\n",
       "      <td>1</td>\n",
       "      <td>1</td>\n",
       "      <td>1.000</td>\n",
       "      <td>1</td>\n",
       "      <td>310216.717970</td>\n",
       "    </tr>\n",
       "    <tr>\n",
       "      <th>60</th>\n",
       "      <td>7</td>\n",
       "      <td>0.538462</td>\n",
       "      <td>0</td>\n",
       "      <td>1</td>\n",
       "      <td>0.500</td>\n",
       "      <td>0</td>\n",
       "      <td>171695.216355</td>\n",
       "    </tr>\n",
       "    <tr>\n",
       "      <th>61</th>\n",
       "      <td>7</td>\n",
       "      <td>0.384615</td>\n",
       "      <td>0</td>\n",
       "      <td>0</td>\n",
       "      <td>0.500</td>\n",
       "      <td>1</td>\n",
       "      <td>185702.464296</td>\n",
       "    </tr>\n",
       "    <tr>\n",
       "      <th>62</th>\n",
       "      <td>7</td>\n",
       "      <td>0.307692</td>\n",
       "      <td>1</td>\n",
       "      <td>0</td>\n",
       "      <td>0.500</td>\n",
       "      <td>0</td>\n",
       "      <td>197819.463614</td>\n",
       "    </tr>\n",
       "    <tr>\n",
       "      <th>63</th>\n",
       "      <td>7</td>\n",
       "      <td>0.153846</td>\n",
       "      <td>0</td>\n",
       "      <td>1</td>\n",
       "      <td>0.000</td>\n",
       "      <td>0</td>\n",
       "      <td>5986.573648</td>\n",
       "    </tr>\n",
       "  </tbody>\n",
       "</table>\n",
       "<p>64 rows × 7 columns</p>\n",
       "</div>"
      ],
      "text/plain": [
       "    company      Age   Gender  Qualification  no of experience in years  \\\n",
       "0         0  0.000000       0              0                      0.000   \n",
       "1         0  0.461538       1              0                      0.500   \n",
       "2         0  0.615385       0              1                      0.375   \n",
       "3         0  1.000000       1              1                      1.000   \n",
       "4         0  0.538462       0              1                      0.500   \n",
       "..      ...       ...     ...            ...                        ...   \n",
       "59        7  1.000000       1              1                      1.000   \n",
       "60        7  0.538462       0              1                      0.500   \n",
       "61        7  0.384615       0              0                      0.500   \n",
       "62        7  0.307692       1              0                      0.500   \n",
       "63        7  0.153846       0              1                      0.000   \n",
       "\n",
       "    Area of work         salary  \n",
       "0              2   54824.880146  \n",
       "1              1  208400.793430  \n",
       "2              0  145345.375236  \n",
       "3              1  352574.982362  \n",
       "4              0  214053.480747  \n",
       "..           ...            ...  \n",
       "59             1  310216.717970  \n",
       "60             0  171695.216355  \n",
       "61             1  185702.464296  \n",
       "62             0  197819.463614  \n",
       "63             0    5986.573648  \n",
       "\n",
       "[64 rows x 7 columns]"
      ]
     },
     "execution_count": 713,
     "metadata": {},
     "output_type": "execute_result"
    }
   ],
   "source": [
    "allen3['salary'] = p3\n",
    "allen3.head(64)"
   ]
  },
  {
   "cell_type": "code",
   "execution_count": 714,
   "metadata": {},
   "outputs": [
    {
     "name": "stdout",
     "output_type": "stream",
     "text": [
      "    company      Age   Gender  Qualification  no of experience in years  Area of work         salary\n",
      "0         0  0.000000       0              0                      0.000             2   54824.880146\n",
      "1         0  0.461538       1              0                      0.500             1  208400.793430\n",
      "2         0  0.615385       0              1                      0.375             0  145345.375236\n",
      "3         0  1.000000       1              1                      1.000             1  352574.982362\n",
      "4         0  0.538462       0              1                      0.500             0  214053.480747\n",
      "5         0  0.384615       0              0                      0.500             1  228060.728687\n",
      "6         0  0.307692       1              0                      0.500             0  240177.728006\n",
      "7         0  0.153846       0              1                      0.000             0   48344.838040\n",
      "8         1  0.000000       0              0                      0.000             2   48773.699519\n",
      "9         1  0.461538       1              0                      0.500             1  202349.612803\n",
      "10        1  0.615385       0              1                      0.375             0  139294.194608\n",
      "11        1  1.000000       1              1                      1.000             1  346523.801735\n",
      "12        1  0.538462       0              1                      0.500             0  208002.300120\n",
      "13        1  0.384615       0              0                      0.500             1  222009.548060\n",
      "14        1  0.307692       1              0                      0.500             0  234126.547378\n",
      "15        1  0.153846       0              1                      0.000             0   42293.657413\n",
      "16        2  0.000000       0              0                      0.000             2   42722.518892\n",
      "17        2  0.461538       1              0                      0.500             1  196298.432175\n",
      "18        2  0.615385       0              1                      0.375             0  133243.013981\n",
      "19        2  1.000000       1              1                      1.000             1  340472.621108\n",
      "20        2  0.538462       0              1                      0.500             0  201951.119492\n",
      "21        2  0.384615       0              0                      0.500             1  215958.367433\n",
      "22        2  0.307692       1              0                      0.500             0  228075.366751\n",
      "23        2  0.153846       0              1                      0.000             0   36242.476785\n",
      "24        3  0.000000       0              0                      0.000             2   36671.338264\n",
      "25        3  0.461538       1              0                      0.500             1  190247.251548\n",
      "26        3  0.615385       0              1                      0.375             0  127191.833354\n",
      "27        3  1.000000       1              1                      1.000             1  334421.440480\n",
      "28        3  0.538462       0              1                      0.500             0  195899.938865\n",
      "29        3  0.384615       0              0                      0.500             1  209907.186805\n",
      "30        3  0.307692       1              0                      0.500             0  222024.186124\n",
      "31        3  0.153846       0              1                      0.000             0   30191.296158\n",
      "32        4  0.000000       0              0                      0.000             2   30620.157637\n",
      "33        4  0.461538       1              0                      0.500             1  184196.070920\n",
      "34        4  0.615385       0              1                      0.375             0  121140.652726\n",
      "35        4  1.000000       1              1                      1.000             1  328370.259853\n",
      "36        4  0.538462       0              1                      0.500             0  189848.758237\n",
      "37        4  0.384615       0              0                      0.500             1  203856.006178\n",
      "38        4  0.307692       1              0                      0.500             0  215973.005496\n",
      "39        4  0.153846       0              1                      0.000             0   24140.115530\n",
      "40        5  0.000000       0              0                      0.000             2   24568.977009\n",
      "41        5  0.461538       1              0                      0.500             1  178144.890293\n",
      "42        5  0.615385       0              1                      0.375             0  115089.472099\n",
      "43        5  1.000000       1              1                      1.000             1  322319.079225\n",
      "44        5  0.538462       0              1                      0.500             0  183797.577610\n",
      "45        5  0.384615       0              0                      0.500             1  197804.825550\n",
      "46        5  0.307692       1              0                      0.500             0  209921.824869\n",
      "47        5  0.153846       0              1                      0.000             0   18088.934903\n",
      "48        6  0.000000       0              0                      0.000             2   18517.796382\n",
      "49        6  0.461538       1              0                      0.500             1  172093.709666\n",
      "50        6  0.615385       0              1                      0.375             0  109038.291471\n",
      "51        6  1.000000       1              1                      1.000             1  316267.898598\n",
      "52        6  0.538462       0              1                      0.500             0  177746.396982\n",
      "53        6  0.384615       0              0                      0.500             1  191753.644923\n",
      "54        6  0.307692       1              0                      0.500             0  203870.644241\n",
      "55        6  0.153846       0              1                      0.000             0   12037.754276\n",
      "56        7  0.000000       0              0                      0.000             2   12466.615754\n",
      "57        7  0.461538       1              0                      0.500             1  166042.529038\n",
      "58        7  0.615385       0              1                      0.375             0  102987.110844\n",
      "59        7  1.000000       1              1                      1.000             1  310216.717970\n",
      "60        7  0.538462       0              1                      0.500             0  171695.216355\n",
      "61        7  0.384615       0              0                      0.500             1  185702.464296\n",
      "62        7  0.307692       1              0                      0.500             0  197819.463614\n",
      "63        7  0.153846       0              1                      0.000             0    5986.573648\n"
     ]
    }
   ],
   "source": [
    "print(allen3.to_string())"
   ]
  },
  {
   "cell_type": "markdown",
   "metadata": {},
   "source": [
    "# Validation.csv - Index"
   ]
  },
  {
   "cell_type": "code",
   "execution_count": 715,
   "metadata": {},
   "outputs": [],
   "source": [
    "allen3['company'] = l9.inverse_transform(f9['company'])"
   ]
  },
  {
   "cell_type": "code",
   "execution_count": 716,
   "metadata": {},
   "outputs": [],
   "source": [
    "allen3['Area of work'] = l10.inverse_transform(f10['Area of work'])"
   ]
  },
  {
   "cell_type": "code",
   "execution_count": 717,
   "metadata": {},
   "outputs": [],
   "source": [
    "allen3['Gender'] = l11.inverse_transform(f11['Gender'])"
   ]
  },
  {
   "cell_type": "code",
   "execution_count": 718,
   "metadata": {},
   "outputs": [],
   "source": [
    "allen3['Qualification'] = l12.inverse_transform(f12['Qualification'])"
   ]
  },
  {
   "cell_type": "code",
   "execution_count": 719,
   "metadata": {},
   "outputs": [],
   "source": [
    "allen3[columns] = ms.inverse_transform(allen3[columns])"
   ]
  },
  {
   "cell_type": "code",
   "execution_count": 720,
   "metadata": {},
   "outputs": [
    {
     "data": {
      "text/html": [
       "<div>\n",
       "<style scoped>\n",
       "    .dataframe tbody tr th:only-of-type {\n",
       "        vertical-align: middle;\n",
       "    }\n",
       "\n",
       "    .dataframe tbody tr th {\n",
       "        vertical-align: top;\n",
       "    }\n",
       "\n",
       "    .dataframe thead th {\n",
       "        text-align: right;\n",
       "    }\n",
       "</style>\n",
       "<table border=\"1\" class=\"dataframe\">\n",
       "  <thead>\n",
       "    <tr style=\"text-align: right;\">\n",
       "      <th></th>\n",
       "      <th>company</th>\n",
       "      <th>Age</th>\n",
       "      <th>Gender</th>\n",
       "      <th>Qualification</th>\n",
       "      <th>no of experience in years</th>\n",
       "      <th>Area of work</th>\n",
       "      <th>salary</th>\n",
       "    </tr>\n",
       "  </thead>\n",
       "  <tbody>\n",
       "    <tr>\n",
       "      <th>0</th>\n",
       "      <td>ABBB</td>\n",
       "      <td>22.0</td>\n",
       "      <td>F</td>\n",
       "      <td>B.E</td>\n",
       "      <td>1.0</td>\n",
       "      <td>programming</td>\n",
       "      <td>54824.880146</td>\n",
       "    </tr>\n",
       "    <tr>\n",
       "      <th>1</th>\n",
       "      <td>ABBB</td>\n",
       "      <td>28.0</td>\n",
       "      <td>M</td>\n",
       "      <td>B.E</td>\n",
       "      <td>5.0</td>\n",
       "      <td>predictive analysis</td>\n",
       "      <td>208400.793430</td>\n",
       "    </tr>\n",
       "    <tr>\n",
       "      <th>2</th>\n",
       "      <td>ABBB</td>\n",
       "      <td>30.0</td>\n",
       "      <td>F</td>\n",
       "      <td>M.E</td>\n",
       "      <td>4.0</td>\n",
       "      <td>cloud server management</td>\n",
       "      <td>145345.375236</td>\n",
       "    </tr>\n",
       "    <tr>\n",
       "      <th>3</th>\n",
       "      <td>ABBB</td>\n",
       "      <td>35.0</td>\n",
       "      <td>M</td>\n",
       "      <td>M.E</td>\n",
       "      <td>9.0</td>\n",
       "      <td>predictive analysis</td>\n",
       "      <td>352574.982362</td>\n",
       "    </tr>\n",
       "    <tr>\n",
       "      <th>4</th>\n",
       "      <td>ABBB</td>\n",
       "      <td>29.0</td>\n",
       "      <td>F</td>\n",
       "      <td>M.E</td>\n",
       "      <td>5.0</td>\n",
       "      <td>cloud server management</td>\n",
       "      <td>214053.480747</td>\n",
       "    </tr>\n",
       "    <tr>\n",
       "      <th>...</th>\n",
       "      <td>...</td>\n",
       "      <td>...</td>\n",
       "      <td>...</td>\n",
       "      <td>...</td>\n",
       "      <td>...</td>\n",
       "      <td>...</td>\n",
       "      <td>...</td>\n",
       "    </tr>\n",
       "    <tr>\n",
       "      <th>59</th>\n",
       "      <td>penguin</td>\n",
       "      <td>35.0</td>\n",
       "      <td>M</td>\n",
       "      <td>M.E</td>\n",
       "      <td>9.0</td>\n",
       "      <td>predictive analysis</td>\n",
       "      <td>310216.717970</td>\n",
       "    </tr>\n",
       "    <tr>\n",
       "      <th>60</th>\n",
       "      <td>penguin</td>\n",
       "      <td>29.0</td>\n",
       "      <td>F</td>\n",
       "      <td>M.E</td>\n",
       "      <td>5.0</td>\n",
       "      <td>cloud server management</td>\n",
       "      <td>171695.216355</td>\n",
       "    </tr>\n",
       "    <tr>\n",
       "      <th>61</th>\n",
       "      <td>penguin</td>\n",
       "      <td>27.0</td>\n",
       "      <td>F</td>\n",
       "      <td>B.E</td>\n",
       "      <td>5.0</td>\n",
       "      <td>predictive analysis</td>\n",
       "      <td>185702.464296</td>\n",
       "    </tr>\n",
       "    <tr>\n",
       "      <th>62</th>\n",
       "      <td>penguin</td>\n",
       "      <td>26.0</td>\n",
       "      <td>M</td>\n",
       "      <td>B.E</td>\n",
       "      <td>5.0</td>\n",
       "      <td>cloud server management</td>\n",
       "      <td>197819.463614</td>\n",
       "    </tr>\n",
       "    <tr>\n",
       "      <th>63</th>\n",
       "      <td>penguin</td>\n",
       "      <td>24.0</td>\n",
       "      <td>F</td>\n",
       "      <td>M.E</td>\n",
       "      <td>1.0</td>\n",
       "      <td>cloud server management</td>\n",
       "      <td>5986.573648</td>\n",
       "    </tr>\n",
       "  </tbody>\n",
       "</table>\n",
       "<p>64 rows × 7 columns</p>\n",
       "</div>"
      ],
      "text/plain": [
       "     company  Age  Gender Qualification  no of experience in years  \\\n",
       "0       ABBB  22.0      F           B.E                        1.0   \n",
       "1       ABBB  28.0      M           B.E                        5.0   \n",
       "2       ABBB  30.0      F           M.E                        4.0   \n",
       "3       ABBB  35.0      M           M.E                        9.0   \n",
       "4       ABBB  29.0      F           M.E                        5.0   \n",
       "..       ...   ...    ...           ...                        ...   \n",
       "59  penguin   35.0      M           M.E                        9.0   \n",
       "60  penguin   29.0      F           M.E                        5.0   \n",
       "61  penguin   27.0      F           B.E                        5.0   \n",
       "62  penguin   26.0      M           B.E                        5.0   \n",
       "63  penguin   24.0      F           M.E                        1.0   \n",
       "\n",
       "               Area of work         salary  \n",
       "0               programming   54824.880146  \n",
       "1       predictive analysis  208400.793430  \n",
       "2   cloud server management  145345.375236  \n",
       "3       predictive analysis  352574.982362  \n",
       "4   cloud server management  214053.480747  \n",
       "..                      ...            ...  \n",
       "59      predictive analysis  310216.717970  \n",
       "60  cloud server management  171695.216355  \n",
       "61      predictive analysis  185702.464296  \n",
       "62  cloud server management  197819.463614  \n",
       "63  cloud server management    5986.573648  \n",
       "\n",
       "[64 rows x 7 columns]"
      ]
     },
     "execution_count": 720,
     "metadata": {},
     "output_type": "execute_result"
    }
   ],
   "source": [
    "allen3.head(64)"
   ]
  },
  {
   "cell_type": "code",
   "execution_count": 721,
   "metadata": {},
   "outputs": [
    {
     "name": "stdout",
     "output_type": "stream",
     "text": [
      "         company  Age  Gender Qualification  no of experience in years             Area of work         salary\n",
      "0           ABBB  22.0      F           B.E                        1.0              programming   54824.880146\n",
      "1           ABBB  28.0      M           B.E                        5.0      predictive analysis  208400.793430\n",
      "2           ABBB  30.0      F           M.E                        4.0  cloud server management  145345.375236\n",
      "3           ABBB  35.0      M           M.E                        9.0      predictive analysis  352574.982362\n",
      "4           ABBB  29.0      F           M.E                        5.0  cloud server management  214053.480747\n",
      "5           ABBB  27.0      F           B.E                        5.0      predictive analysis  228060.728687\n",
      "6           ABBB  26.0      M           B.E                        5.0  cloud server management  240177.728006\n",
      "7           ABBB  24.0      F           M.E                        1.0  cloud server management   48344.838040\n",
      "8          Bashh  22.0      F           B.E                        1.0              programming   48773.699519\n",
      "9          Bashh  28.0      M           B.E                        5.0      predictive analysis  202349.612803\n",
      "10         Bashh  30.0      F           M.E                        4.0  cloud server management  139294.194608\n",
      "11         Bashh  35.0      M           M.E                        9.0      predictive analysis  346523.801735\n",
      "12         Bashh  29.0      F           M.E                        5.0  cloud server management  208002.300120\n",
      "13         Bashh  27.0      F           B.E                        5.0      predictive analysis  222009.548060\n",
      "14         Bashh  26.0      M           B.E                        5.0  cloud server management  234126.547378\n",
      "15         Bashh  24.0      F           M.E                        1.0  cloud server management   42293.657413\n",
      "16          Link  22.0      F           B.E                        1.0              programming   42722.518892\n",
      "17          Link  28.0      M           B.E                        5.0      predictive analysis  196298.432175\n",
      "18          Link  30.0      F           M.E                        4.0  cloud server management  133243.013981\n",
      "19          Link  35.0      M           M.E                        9.0      predictive analysis  340472.621108\n",
      "20          Link  29.0      F           M.E                        5.0  cloud server management  201951.119492\n",
      "21          Link  27.0      F           B.E                        5.0      predictive analysis  215958.367433\n",
      "22          Link  26.0      M           B.E                        5.0  cloud server management  228075.366751\n",
      "23          Link  24.0      F           M.E                        1.0  cloud server management   36242.476785\n",
      "24          Oxon  22.0      F           B.E                        1.0              programming   36671.338264\n",
      "25          Oxon  28.0      M           B.E                        5.0      predictive analysis  190247.251548\n",
      "26          Oxon  30.0      F           M.E                        4.0  cloud server management  127191.833354\n",
      "27          Oxon  35.0      M           M.E                        9.0      predictive analysis  334421.440480\n",
      "28          Oxon  29.0      F           M.E                        5.0  cloud server management  195899.938865\n",
      "29          Oxon  27.0      F           B.E                        5.0      predictive analysis  209907.186805\n",
      "30          Oxon  26.0      M           B.E                        5.0  cloud server management  222024.186124\n",
      "31          Oxon  24.0      F           M.E                        1.0  cloud server management   30191.296158\n",
      "32           TSC  22.0      F           B.E                        1.0              programming   30620.157637\n",
      "33           TSC  28.0      M           B.E                        5.0      predictive analysis  184196.070920\n",
      "34           TSC  30.0      F           M.E                        4.0  cloud server management  121140.652726\n",
      "35           TSC  35.0      M           M.E                        9.0      predictive analysis  328370.259853\n",
      "36           TSC  29.0      F           M.E                        5.0  cloud server management  189848.758237\n",
      "37           TSC  27.0      F           B.E                        5.0      predictive analysis  203856.006178\n",
      "38           TSC  26.0      M           B.E                        5.0  cloud server management  215973.005496\n",
      "39           TSC  24.0      F           M.E                        1.0  cloud server management   24140.115530\n",
      "40  neuromorphic  22.0      F           B.E                        1.0              programming   24568.977009\n",
      "41  neuromorphic  28.0      M           B.E                        5.0      predictive analysis  178144.890293\n",
      "42  neuromorphic  30.0      F           M.E                        4.0  cloud server management  115089.472099\n",
      "43  neuromorphic  35.0      M           M.E                        9.0      predictive analysis  322319.079225\n",
      "44  neuromorphic  29.0      F           M.E                        5.0  cloud server management  183797.577610\n",
      "45  neuromorphic  27.0      F           B.E                        5.0      predictive analysis  197804.825550\n",
      "46  neuromorphic  26.0      M           B.E                        5.0  cloud server management  209921.824869\n",
      "47  neuromorphic  24.0      F           M.E                        1.0  cloud server management   18088.934903\n",
      "48          palm  22.0      F           B.E                        1.0              programming   18517.796382\n",
      "49          palm  28.0      M           B.E                        5.0      predictive analysis  172093.709666\n",
      "50          palm  30.0      F           M.E                        4.0  cloud server management  109038.291471\n",
      "51          palm  35.0      M           M.E                        9.0      predictive analysis  316267.898598\n",
      "52          palm  29.0      F           M.E                        5.0  cloud server management  177746.396982\n",
      "53          palm  27.0      F           B.E                        5.0      predictive analysis  191753.644923\n",
      "54          palm  26.0      M           B.E                        5.0  cloud server management  203870.644241\n",
      "55          palm  24.0      F           M.E                        1.0  cloud server management   12037.754276\n",
      "56      penguin   22.0      F           B.E                        1.0              programming   12466.615754\n",
      "57      penguin   28.0      M           B.E                        5.0      predictive analysis  166042.529038\n",
      "58      penguin   30.0      F           M.E                        4.0  cloud server management  102987.110844\n",
      "59      penguin   35.0      M           M.E                        9.0      predictive analysis  310216.717970\n",
      "60      penguin   29.0      F           M.E                        5.0  cloud server management  171695.216355\n",
      "61      penguin   27.0      F           B.E                        5.0      predictive analysis  185702.464296\n",
      "62      penguin   26.0      M           B.E                        5.0  cloud server management  197819.463614\n",
      "63      penguin   24.0      F           M.E                        1.0  cloud server management    5986.573648\n"
     ]
    }
   ],
   "source": [
    "print(allen3.to_string())"
   ]
  },
  {
   "cell_type": "markdown",
   "metadata": {},
   "source": [
    "# Validation.csv - Save"
   ]
  },
  {
   "cell_type": "code",
   "execution_count": 722,
   "metadata": {
    "id": "vJKufy3ZoTWR"
   },
   "outputs": [],
   "source": [
    "allen3.to_csv('Validation.csv')"
   ]
  }
 ],
 "metadata": {
  "colab": {
   "collapsed_sections": [],
   "name": "NASSCOM LAB DA 4.ipynb",
   "provenance": [],
   "toc_visible": true
  },
  "kernelspec": {
   "name": "python38364bit570ee3c6a9ce451c90a4fee19734ed2d",
   "display_name": "Python 3.8.3 64-bit (conda)"
  },
  "language_info": {
   "codemirror_mode": {
    "name": "ipython",
    "version": 3
   },
   "file_extension": ".py",
   "mimetype": "text/x-python",
   "name": "python",
   "nbconvert_exporter": "python",
   "pygments_lexer": "ipython3",
   "version": "3.8.3"
  },
  "metadata": {
   "interpreter": {
    "hash": "5a2c2b1e8e21bd441da1d17902ec1befce5a77884cfd8dc3337a42ec4181cc68"
   }
  }
 },
 "nbformat": 4,
 "nbformat_minor": 1
}