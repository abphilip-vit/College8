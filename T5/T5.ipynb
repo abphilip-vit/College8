{
 "cells": [
  {
   "cell_type": "markdown",
   "metadata": {},
   "source": [
    "# Import Libraries"
   ]
  },
  {
   "cell_type": "code",
   "execution_count": 20,
   "metadata": {
    "id": "s9IvUwnBSCl2"
   },
   "outputs": [],
   "source": [
    "import pandas as pd\n",
    "import numpy as np\n",
    "import seaborn as sns\n",
    "import matplotlib.pyplot as plt\n",
    "from sklearn import preprocessing\n",
    "from sklearn.metrics import accuracy_score, log_loss, confusion_matrix\n",
    "from sklearn.model_selection import train_test_split\n",
    "from sklearn.ensemble import RandomForestClassifier\n",
    "from sklearn.preprocessing import MinMaxScaler"
   ]
  },
  {
   "cell_type": "markdown",
   "metadata": {
    "id": "RyP9iy-qZY4k"
   },
   "source": [
    "# Dataset"
   ]
  },
  {
   "cell_type": "code",
   "execution_count": 21,
   "metadata": {},
   "outputs": [],
   "source": [
    "allen = pd.read_csv(\"Dataset.csv\")"
   ]
  },
  {
   "cell_type": "code",
   "execution_count": 29,
   "metadata": {
    "colab": {
     "base_uri": "https://localhost:8080/",
     "height": 204
    },
    "id": "87jf1rTUZL5C",
    "outputId": "5b060829-317b-425b-c5fb-c67c502aefb6"
   },
   "outputs": [
    {
     "output_type": "execute_result",
     "data": {
      "text/plain": [
       "   Mat  Inn  NO   Runs   HS    Avg  100  50   0\n",
       "0  200  329  33  15921  248  53.78   51  68  14\n",
       "1  168  287  29  13378  257  51.85   41  62  17\n",
       "2  166  280  40  13289  224  55.37   45  58  16\n",
       "3  164  286  32  13288  270  52.31   36  63   8\n",
       "4  161  291  16  12472  294  45.35   33  57   9"
      ],
      "text/html": "<div>\n<style scoped>\n    .dataframe tbody tr th:only-of-type {\n        vertical-align: middle;\n    }\n\n    .dataframe tbody tr th {\n        vertical-align: top;\n    }\n\n    .dataframe thead th {\n        text-align: right;\n    }\n</style>\n<table border=\"1\" class=\"dataframe\">\n  <thead>\n    <tr style=\"text-align: right;\">\n      <th></th>\n      <th>Mat</th>\n      <th>Inn</th>\n      <th>NO</th>\n      <th>Runs</th>\n      <th>HS</th>\n      <th>Avg</th>\n      <th>100</th>\n      <th>50</th>\n      <th>0</th>\n    </tr>\n  </thead>\n  <tbody>\n    <tr>\n      <th>0</th>\n      <td>200</td>\n      <td>329</td>\n      <td>33</td>\n      <td>15921</td>\n      <td>248</td>\n      <td>53.78</td>\n      <td>51</td>\n      <td>68</td>\n      <td>14</td>\n    </tr>\n    <tr>\n      <th>1</th>\n      <td>168</td>\n      <td>287</td>\n      <td>29</td>\n      <td>13378</td>\n      <td>257</td>\n      <td>51.85</td>\n      <td>41</td>\n      <td>62</td>\n      <td>17</td>\n    </tr>\n    <tr>\n      <th>2</th>\n      <td>166</td>\n      <td>280</td>\n      <td>40</td>\n      <td>13289</td>\n      <td>224</td>\n      <td>55.37</td>\n      <td>45</td>\n      <td>58</td>\n      <td>16</td>\n    </tr>\n    <tr>\n      <th>3</th>\n      <td>164</td>\n      <td>286</td>\n      <td>32</td>\n      <td>13288</td>\n      <td>270</td>\n      <td>52.31</td>\n      <td>36</td>\n      <td>63</td>\n      <td>8</td>\n    </tr>\n    <tr>\n      <th>4</th>\n      <td>161</td>\n      <td>291</td>\n      <td>16</td>\n      <td>12472</td>\n      <td>294</td>\n      <td>45.35</td>\n      <td>33</td>\n      <td>57</td>\n      <td>9</td>\n    </tr>\n  </tbody>\n</table>\n</div>"
     },
     "metadata": {},
     "execution_count": 29
    }
   ],
   "source": [
    "allen.head()"
   ]
  },
  {
   "cell_type": "markdown",
   "metadata": {
    "id": "crrlZyeK1vU3"
   },
   "source": [
    "# Training"
   ]
  },
  {
   "cell_type": "code",
   "execution_count": 23,
   "metadata": {},
   "outputs": [],
   "source": [
    "allen = allen.drop(['Player','Span'],axis=1)"
   ]
  },
  {
   "cell_type": "code",
   "execution_count": 30,
   "metadata": {
    "colab": {
     "base_uri": "https://localhost:8080/",
     "height": 204
    },
    "id": "1E6I2IpxL96L",
    "outputId": "1f5af59a-a5b5-49c9-d719-ccc7994d2005"
   },
   "outputs": [],
   "source": [
    "x = allen.drop(['HS'],axis=1)"
   ]
  },
  {
   "cell_type": "code",
   "execution_count": 31,
   "metadata": {
    "colab": {
     "base_uri": "https://localhost:8080/"
    },
    "id": "HxQC2ml5MoTr",
    "outputId": "c3728f42-261d-48be-b1d5-6b02349892ed"
   },
   "outputs": [],
   "source": [
    "y = allen['HS']"
   ]
  },
  {
   "cell_type": "code",
   "execution_count": 33,
   "metadata": {
    "id": "-hUABKPIMvwE"
   },
   "outputs": [],
   "source": [
    "xtrain, xtest, ytrain, ytest = train_test_split(x,y,test_size=0.2,random_state=1)"
   ]
  },
  {
   "cell_type": "code",
   "execution_count": 37,
   "metadata": {
    "id": "-9qxQPoaNxsw"
   },
   "outputs": [
    {
     "output_type": "execute_result",
     "data": {
      "text/plain": [
       "array([194, 217, 129, 137, 174, 205, 159, 121, 154, 216, 154, 242,  51,\n",
       "       110, 125, 169, 336, 137, 184, 100, 206, 261, 259, 158, 174, 134,\n",
       "       250, 117, 224, 335, 228, 157, 128, 206, 200, 109, 270, 169, 128,\n",
       "       119, 175, 111, 193, 173, 189, 232,  64, 144,  53, 138, 124, 374,\n",
       "       170, 138, 199, 138, 120, 246, 208, 137, 261, 127, 161, 212, 203,\n",
       "       206, 187, 274, 201, 201, 174, 176, 185, 223, 109, 158, 203, 174,\n",
       "       205, 152, 129, 206, 113, 127, 171, 164, 134,  95, 109,  67, 122,\n",
       "       127, 333, 160, 311, 136, 207, 119, 222, 107], dtype=int64)"
      ]
     },
     "metadata": {},
     "execution_count": 37
    }
   ],
   "source": [
    "model = RandomForestClassifier()\n",
    "model.fit(xtrain,ytrain)\n",
    "p = model.predict(xtest)\n",
    "p"
   ]
  },
  {
   "cell_type": "markdown",
   "metadata": {
    "id": "9DsUfaZu2Ei-"
   },
   "source": [
    "# Assignment"
   ]
  },
  {
   "cell_type": "markdown",
   "metadata": {},
   "source": [
    "### Confusion Matrix "
   ]
  },
  {
   "cell_type": "code",
   "execution_count": 38,
   "metadata": {
    "colab": {
     "base_uri": "https://localhost:8080/"
    },
    "id": "QQK3hbNx3w5g",
    "outputId": "e82b34ce-dc79-4f25-a59a-dffef18d9306"
   },
   "outputs": [
    {
     "output_type": "stream",
     "name": "stdout",
     "text": [
      "[[0 0 0 ... 0 0 0]\n [0 0 0 ... 0 0 0]\n [0 0 0 ... 0 0 0]\n ...\n [0 0 0 ... 0 0 0]\n [0 0 0 ... 0 0 0]\n [0 0 0 ... 0 0 0]]\n"
     ]
    }
   ],
   "source": [
    "print(confusion_matrix(ytest,p))"
   ]
  },
  {
   "cell_type": "markdown",
   "metadata": {},
   "source": [
    "### Specificity and Sensitivity"
   ]
  },
  {
   "cell_type": "code",
   "execution_count": 36,
   "metadata": {},
   "outputs": [
    {
     "output_type": "stream",
     "name": "stdout",
     "text": [
      "Specificity:  nan\n",
      "Sensitivity:  nan\n",
      "<ipython-input-36-6128350372b0>:2: RuntimeWarning: invalid value encountered in longlong_scalars\n",
      "  print('Specificity: ', c[1,1]/(c[1,0]+c[1,1]))\n",
      "<ipython-input-36-6128350372b0>:3: RuntimeWarning: invalid value encountered in longlong_scalars\n",
      "  print('Sensitivity: ', c[0,0]/(c[0,0]+c[0,1]))\n"
     ]
    }
   ],
   "source": [
    "c = confusion_matrix(ytest,p)\n",
    "print('Specificity: ', c[1,1]/(c[1,0]+c[1,1]))\n",
    "print('Sensitivity: ', c[0,0]/(c[0,0]+c[0,1]))"
   ]
  },
  {
   "cell_type": "markdown",
   "metadata": {},
   "source": [
    "### Accuracy"
   ]
  },
  {
   "cell_type": "code",
   "execution_count": 60,
   "metadata": {},
   "outputs": [
    {
     "name": "stdout",
     "output_type": "stream",
     "text": [
      "Accuracy: 90.90909%\n"
     ]
    }
   ],
   "source": [
    "c = confusion_matrix(ytest,p)\n",
    "print('Accuracy: {:.5%}'.format((c[0,0]+c[1,1])/sum(sum(c))))"
   ]
  }
 ],
 "metadata": {
  "colab": {
   "name": "Nasscom Lab DA 3ipynb",
   "provenance": [],
   "toc_visible": true
  },
  "kernelspec": {
   "name": "python38364bit570ee3c6a9ce451c90a4fee19734ed2d",
   "display_name": "Python 3.8.3 64-bit ('base': conda)"
  },
  "language_info": {
   "codemirror_mode": {
    "name": "ipython",
    "version": 3
   },
   "file_extension": ".py",
   "mimetype": "text/x-python",
   "name": "python",
   "nbconvert_exporter": "python",
   "pygments_lexer": "ipython3",
   "version": "3.8.3"
  },
  "metadata": {
   "interpreter": {
    "hash": "5a2c2b1e8e21bd441da1d17902ec1befce5a77884cfd8dc3337a42ec4181cc68"
   }
  }
 },
 "nbformat": 4,
 "nbformat_minor": 1
}