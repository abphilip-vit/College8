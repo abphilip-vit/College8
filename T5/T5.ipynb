{
 "cells": [
  {
   "cell_type": "markdown",
   "metadata": {},
   "source": [
    "# Import Libraries"
   ]
  },
  {
   "cell_type": "code",
   "execution_count": 1,
   "metadata": {
    "id": "s9IvUwnBSCl2"
   },
   "outputs": [],
   "source": [
    "import pandas as pd\n",
    "import numpy as np\n",
    "import seaborn as sns\n",
    "import matplotlib.pyplot as plt\n",
    "from sklearn import preprocessing\n",
    "from sklearn.metrics import accuracy_score, log_loss, confusion_matrix\n",
    "from sklearn.model_selection import train_test_split\n",
    "from sklearn.ensemble import RandomForestClassifier\n",
    "from sklearn.ensemble import RandomForestRegressor\n",
    "from sklearn.preprocessing import StandardScaler"
   ]
  },
  {
   "cell_type": "markdown",
   "metadata": {
    "id": "RyP9iy-qZY4k"
   },
   "source": [
    "# Dataset"
   ]
  },
  {
   "cell_type": "code",
   "execution_count": 2,
   "metadata": {},
   "outputs": [],
   "source": [
    "allen = pd.read_csv(\"Dataset.csv\")"
   ]
  },
  {
   "cell_type": "code",
   "execution_count": 3,
   "metadata": {
    "colab": {
     "base_uri": "https://localhost:8080/",
     "height": 204
    },
    "id": "87jf1rTUZL5C",
    "outputId": "5b060829-317b-425b-c5fb-c67c502aefb6"
   },
   "outputs": [
    {
     "output_type": "execute_result",
     "data": {
      "text/plain": [
       "                 Player       Span  Mat  Inn   Runs   HS    Avg  100  50   0\n",
       "0  SR Tendulkar (INDIA)  1989-2013  200  329  15921  248  53.78   51  68  14\n",
       "1      RT Ponting (AUS)  1995-2012  168  287  13378  257  51.85   41  62  17\n",
       "2    JH Kallis (ICC/SA)  1995-2013  166  280  13289  224  55.37   45  58  16\n",
       "3  R Dravid (ICC/INDIA)  1996-2012  164  286  13288  270  52.31   36  63   8\n",
       "4         AN Cook (ENG)  2006-2018  161  291  12472  294  45.35   33  57   9"
      ],
      "text/html": "<div>\n<style scoped>\n    .dataframe tbody tr th:only-of-type {\n        vertical-align: middle;\n    }\n\n    .dataframe tbody tr th {\n        vertical-align: top;\n    }\n\n    .dataframe thead th {\n        text-align: right;\n    }\n</style>\n<table border=\"1\" class=\"dataframe\">\n  <thead>\n    <tr style=\"text-align: right;\">\n      <th></th>\n      <th>Player</th>\n      <th>Span</th>\n      <th>Mat</th>\n      <th>Inn</th>\n      <th>Runs</th>\n      <th>HS</th>\n      <th>Avg</th>\n      <th>100</th>\n      <th>50</th>\n      <th>0</th>\n    </tr>\n  </thead>\n  <tbody>\n    <tr>\n      <th>0</th>\n      <td>SR Tendulkar (INDIA)</td>\n      <td>1989-2013</td>\n      <td>200</td>\n      <td>329</td>\n      <td>15921</td>\n      <td>248</td>\n      <td>53.78</td>\n      <td>51</td>\n      <td>68</td>\n      <td>14</td>\n    </tr>\n    <tr>\n      <th>1</th>\n      <td>RT Ponting (AUS)</td>\n      <td>1995-2012</td>\n      <td>168</td>\n      <td>287</td>\n      <td>13378</td>\n      <td>257</td>\n      <td>51.85</td>\n      <td>41</td>\n      <td>62</td>\n      <td>17</td>\n    </tr>\n    <tr>\n      <th>2</th>\n      <td>JH Kallis (ICC/SA)</td>\n      <td>1995-2013</td>\n      <td>166</td>\n      <td>280</td>\n      <td>13289</td>\n      <td>224</td>\n      <td>55.37</td>\n      <td>45</td>\n      <td>58</td>\n      <td>16</td>\n    </tr>\n    <tr>\n      <th>3</th>\n      <td>R Dravid (ICC/INDIA)</td>\n      <td>1996-2012</td>\n      <td>164</td>\n      <td>286</td>\n      <td>13288</td>\n      <td>270</td>\n      <td>52.31</td>\n      <td>36</td>\n      <td>63</td>\n      <td>8</td>\n    </tr>\n    <tr>\n      <th>4</th>\n      <td>AN Cook (ENG)</td>\n      <td>2006-2018</td>\n      <td>161</td>\n      <td>291</td>\n      <td>12472</td>\n      <td>294</td>\n      <td>45.35</td>\n      <td>33</td>\n      <td>57</td>\n      <td>9</td>\n    </tr>\n  </tbody>\n</table>\n</div>"
     },
     "metadata": {},
     "execution_count": 3
    }
   ],
   "source": [
    "allen.head()"
   ]
  },
  {
   "cell_type": "markdown",
   "metadata": {
    "id": "crrlZyeK1vU3"
   },
   "source": [
    "# Training"
   ]
  },
  {
   "cell_type": "code",
   "execution_count": 4,
   "metadata": {},
   "outputs": [],
   "source": [
    "allen = allen.drop(['Player','Span'],axis=1)"
   ]
  },
  {
   "cell_type": "code",
   "execution_count": 5,
   "metadata": {
    "colab": {
     "base_uri": "https://localhost:8080/",
     "height": 204
    },
    "id": "1E6I2IpxL96L",
    "outputId": "1f5af59a-a5b5-49c9-d719-ccc7994d2005"
   },
   "outputs": [],
   "source": [
    "x = allen.drop(['HS'],axis=1)"
   ]
  },
  {
   "cell_type": "code",
   "execution_count": 6,
   "metadata": {
    "colab": {
     "base_uri": "https://localhost:8080/"
    },
    "id": "HxQC2ml5MoTr",
    "outputId": "c3728f42-261d-48be-b1d5-6b02349892ed"
   },
   "outputs": [],
   "source": [
    "y = allen['HS']"
   ]
  },
  {
   "cell_type": "code",
   "execution_count": 7,
   "metadata": {
    "id": "-hUABKPIMvwE"
   },
   "outputs": [],
   "source": [
    "xtrain, xtest, ytrain, ytest = train_test_split(x,y,test_size=0.2,random_state=0)"
   ]
  },
  {
   "cell_type": "code",
   "execution_count": 8,
   "metadata": {},
   "outputs": [],
   "source": [
    "model = RandomForestRegressor()\n",
    "model.fit(xtrain,ytrain)\n",
    "p = model.predict(xtest)"
   ]
  },
  {
   "cell_type": "code",
   "execution_count": 9,
   "metadata": {},
   "outputs": [
    {
     "output_type": "execute_result",
     "data": {
      "text/plain": [
       "array([260.06, 188.73, 248.1 ,  75.17, 172.74, 231.99, 132.83, 132.88,\n",
       "       203.15, 145.91, 151.27, 155.18, 183.3 , 234.86, 190.91, 180.04,\n",
       "       138.62, 167.63, 227.86, 266.85, 149.56, 174.88, 195.47, 218.07,\n",
       "       286.94, 150.53, 304.68, 196.89, 227.06, 215.48, 128.48, 153.14,\n",
       "       174.72, 211.45, 149.9 , 121.23, 196.8 ,  70.46, 172.54, 170.66,\n",
       "       143.66, 218.43, 207.47, 134.55, 225.98, 312.23, 198.56, 138.35,\n",
       "       187.68, 221.78,  80.82, 168.95, 123.83, 222.48, 220.01, 339.21,\n",
       "       174.4 , 166.62, 157.57,  93.54, 241.13, 132.26, 166.5 , 123.51,\n",
       "       188.88, 198.76, 322.69, 183.28, 175.76, 249.38, 190.27, 243.13,\n",
       "       158.58, 159.08, 160.68, 173.24, 181.38, 206.76, 133.  , 194.23,\n",
       "       195.47, 168.28, 126.12, 177.72, 169.59, 186.72,  87.44, 221.48,\n",
       "       152.13, 262.22, 216.7 , 145.48, 145.43, 182.51, 204.24, 120.58,\n",
       "       250.72, 163.53, 222.16, 137.6 ])"
      ]
     },
     "metadata": {},
     "execution_count": 9
    }
   ],
   "source": [
    "p"
   ]
  },
  {
   "cell_type": "code",
   "execution_count": 70,
   "metadata": {},
   "outputs": [
    {
     "output_type": "error",
     "ename": "NameError",
     "evalue": "name 'regressor' is not defined",
     "traceback": [
      "\u001b[1;31m---------------------------------------------------------------------------\u001b[0m",
      "\u001b[1;31mNameError\u001b[0m                                 Traceback (most recent call last)",
      "\u001b[1;32m<ipython-input-70-7b07f684cdbd>\u001b[0m in \u001b[0;36m<module>\u001b[1;34m\u001b[0m\n\u001b[1;32m----> 1\u001b[1;33m \u001b[0mprint\u001b[0m\u001b[1;33m(\u001b[0m\u001b[0mregressor\u001b[0m\u001b[1;33m.\u001b[0m\u001b[0mscore\u001b[0m\u001b[1;33m(\u001b[0m\u001b[0mxtest\u001b[0m\u001b[1;33m,\u001b[0m\u001b[0mytest\u001b[0m\u001b[1;33m)\u001b[0m\u001b[1;33m)\u001b[0m\u001b[1;33m\u001b[0m\u001b[1;33m\u001b[0m\u001b[0m\n\u001b[0m",
      "\u001b[1;31mNameError\u001b[0m: name 'regressor' is not defined"
     ]
    }
   ],
   "source": []
  }
 ],
 "metadata": {
  "colab": {
   "name": "Nasscom Lab DA 3ipynb",
   "provenance": [],
   "toc_visible": true
  },
  "kernelspec": {
   "name": "python383jvsc74a57bd05a2c2b1e8e21bd441da1d17902ec1befce5a77884cfd8dc3337a42ec4181cc68",
   "display_name": "Python 3.8.3 64-bit ('base': conda)"
  },
  "language_info": {
   "codemirror_mode": {
    "name": "ipython",
    "version": 3
   },
   "file_extension": ".py",
   "mimetype": "text/x-python",
   "name": "python",
   "nbconvert_exporter": "python",
   "pygments_lexer": "ipython3",
   "version": "3.8.3"
  },
  "metadata": {
   "interpreter": {
    "hash": "5a2c2b1e8e21bd441da1d17902ec1befce5a77884cfd8dc3337a42ec4181cc68"
   }
  }
 },
 "nbformat": 4,
 "nbformat_minor": 1
}