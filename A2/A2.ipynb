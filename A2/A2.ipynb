{
 "cells": [
  {
   "source": [
    "# Allen Ben Philipose - 18BIS0043\n",
    "#### Mock Lab FAT, L53+L54\n",
    "#### ECE3502 - IoT Domain Analyst\n",
    "#### Submitted to: Prof. Pradheep T"
   ],
   "cell_type": "markdown",
   "metadata": {}
  },
  {
   "source": [
    "# Aim\n",
    "\n",
    "In the given dataset, use decision tree and predict the online shopping website for \n",
    "- F,34,4900 (Reg.No: 18BEC2008-18BIS0057)"
   ],
   "cell_type": "markdown",
   "metadata": {}
  },
  {
   "source": [
    "# Algorithm Explanation\n",
    "\n",
    "A decision tree is a flowchart-like framework in which each internal node represents a \"test\" on an attribute, each branch represents the result of the test, and each leaf node represents a class name (decision taken after computing all attributes). Classification laws are described by the pathways from root to leaf.\n",
    "\n",
    "A decision tree and its closely associated effect diagram are used in decision research as a visual and empirical decision support method for calculating the predicted values (or expected utility) of competing alternatives.\n",
    "\n",
    "A decision tree is made up of three distinct forms of nodes:\n",
    "Nodes of decision – usually denoted by squares\n",
    "Nodes of chance – usually denoted by circles\n",
    "End nodes – commonly denoted by triangles\n",
    "\n",
    "\n",
    "The decision tree is the most effective and widely used classification and prediction method available. A decision tree is a tree structure resembling a flowchart, in which each internal node represents a test on an attribute, each branch represents the test's result, and each leaf node (terminal node) represents a class name.\n",
    "\n",
    "\n",
    "Decision trees identify instances by sorting them down the tree from the root to a leaf node that corresponds to the instance's classification. As seen in the preceding diagram, an instance is identified by beginning at the root node of the tree, evaluating the attribute defined by this node, and then going down the tree branch corresponding to the value of the attribute. This procedure is then replicated for the new node's subtree."
   ],
   "cell_type": "markdown",
   "metadata": {}
  },
  {
   "source": [
    "# Code and Result"
   ],
   "cell_type": "markdown",
   "metadata": {}
  },
  {
   "cell_type": "markdown",
   "metadata": {},
   "source": [
    "## Import Libraries"
   ]
  },
  {
   "cell_type": "code",
   "execution_count": 1,
   "metadata": {
    "id": "s9IvUwnBSCl2"
   },
   "outputs": [],
   "source": [
    "import pandas as pd\n",
    "import numpy as np\n",
    "import seaborn as sns\n",
    "import matplotlib.pyplot as plt"
   ]
  },
  {
   "cell_type": "code",
   "execution_count": 2,
   "metadata": {},
   "outputs": [],
   "source": [
    "from sklearn import preprocessing\n",
    "from sklearn.metrics import accuracy_score, log_loss, confusion_matrix, f1_score \n",
    "from sklearn.model_selection import train_test_split, cross_val_score\n",
    "from sklearn.model_selection import StratifiedKFold, GridSearchCV, KFold \n",
    "from sklearn.preprocessing import MinMaxScaler\n",
    "from sklearn.metrics import classification_report"
   ]
  },
  {
   "cell_type": "code",
   "execution_count": 3,
   "metadata": {},
   "outputs": [],
   "source": [
    "from sklearn.ensemble import RandomForestClassifier\n",
    "from sklearn.tree import DecisionTreeClassifier\n",
    "from sklearn.naive_bayes import GaussianNB\n",
    "from sklearn.neighbors import KNeighborsClassifier\n",
    "from sklearn.linear_model import LogisticRegression"
   ]
  },
  {
   "source": [
    "import warnings\n",
    "warnings.filterwarnings('ignore')"
   ],
   "cell_type": "code",
   "metadata": {},
   "execution_count": 4,
   "outputs": []
  },
  {
   "cell_type": "markdown",
   "metadata": {
    "id": "RyP9iy-qZY4k"
   },
   "source": [
    "## Dataset"
   ]
  },
  {
   "cell_type": "code",
   "execution_count": 5,
   "metadata": {},
   "outputs": [],
   "source": [
    "allen = pd.read_csv(\"Dataset.csv\")"
   ]
  },
  {
   "cell_type": "code",
   "execution_count": 6,
   "metadata": {},
   "outputs": [],
   "source": [
    "allen['Online shopping website'] = allen['Online shopping website'].str.upper()"
   ]
  },
  {
   "cell_type": "code",
   "execution_count": 7,
   "metadata": {
    "colab": {
     "base_uri": "https://localhost:8080/",
     "height": 204
    },
    "id": "87jf1rTUZL5C",
    "outputId": "5b060829-317b-425b-c5fb-c67c502aefb6"
   },
   "outputs": [
    {
     "output_type": "execute_result",
     "data": {
      "text/plain": [
       "   S.No Gender  Age  Amount spend on shopping Online shopping website\n",
       "0     1      M   18                      1000                  AMAZON\n",
       "1     2      F   22                      1100                   NYKAA\n",
       "2     3      F   24                      1150                  MYNTRA\n",
       "3     4      F   32                      2300                  AMAZON\n",
       "4     5      F   34                      2200                TATACLIQ"
      ],
      "text/html": "<div>\n<style scoped>\n    .dataframe tbody tr th:only-of-type {\n        vertical-align: middle;\n    }\n\n    .dataframe tbody tr th {\n        vertical-align: top;\n    }\n\n    .dataframe thead th {\n        text-align: right;\n    }\n</style>\n<table border=\"1\" class=\"dataframe\">\n  <thead>\n    <tr style=\"text-align: right;\">\n      <th></th>\n      <th>S.No</th>\n      <th>Gender</th>\n      <th>Age</th>\n      <th>Amount spend on shopping</th>\n      <th>Online shopping website</th>\n    </tr>\n  </thead>\n  <tbody>\n    <tr>\n      <th>0</th>\n      <td>1</td>\n      <td>M</td>\n      <td>18</td>\n      <td>1000</td>\n      <td>AMAZON</td>\n    </tr>\n    <tr>\n      <th>1</th>\n      <td>2</td>\n      <td>F</td>\n      <td>22</td>\n      <td>1100</td>\n      <td>NYKAA</td>\n    </tr>\n    <tr>\n      <th>2</th>\n      <td>3</td>\n      <td>F</td>\n      <td>24</td>\n      <td>1150</td>\n      <td>MYNTRA</td>\n    </tr>\n    <tr>\n      <th>3</th>\n      <td>4</td>\n      <td>F</td>\n      <td>32</td>\n      <td>2300</td>\n      <td>AMAZON</td>\n    </tr>\n    <tr>\n      <th>4</th>\n      <td>5</td>\n      <td>F</td>\n      <td>34</td>\n      <td>2200</td>\n      <td>TATACLIQ</td>\n    </tr>\n  </tbody>\n</table>\n</div>"
     },
     "metadata": {},
     "execution_count": 7
    }
   ],
   "source": [
    "allen.head()"
   ]
  },
  {
   "cell_type": "markdown",
   "metadata": {},
   "source": [
    "## Label Encoding"
   ]
  },
  {
   "source": [
    "#### Gender"
   ],
   "cell_type": "markdown",
   "metadata": {}
  },
  {
   "cell_type": "code",
   "execution_count": 8,
   "metadata": {
    "colab": {
     "base_uri": "https://localhost:8080/"
    },
    "id": "xdHNmBriIOo1",
    "outputId": "40f73c7c-244b-4025-a71c-f192c2431176"
   },
   "outputs": [],
   "source": [
    "l1 = preprocessing.LabelEncoder()\n",
    "f1 = l1.fit_transform(allen['Gender']) \n",
    "f1 = pd.DataFrame(data=f1, columns=['Gender'])\n",
    "allen['Gender'] = f1['Gender']"
   ]
  },
  {
   "cell_type": "code",
   "execution_count": 9,
   "metadata": {},
   "outputs": [
    {
     "output_type": "stream",
     "name": "stdout",
     "text": [
      "['F', 'M']\n"
     ]
    }
   ],
   "source": [
    "print(list(l1.inverse_transform([0,1])))"
   ]
  },
  {
   "source": [
    "#### Site"
   ],
   "cell_type": "markdown",
   "metadata": {}
  },
  {
   "cell_type": "code",
   "execution_count": 10,
   "metadata": {},
   "outputs": [],
   "source": [
    "l2 = preprocessing.LabelEncoder()\n",
    "f2 = l2.fit_transform(allen['Online shopping website']) \n",
    "f2 = pd.DataFrame(data=f2, columns=['Online shopping website'])\n",
    "allen['Online shopping website'] = f2['Online shopping website']"
   ]
  },
  {
   "cell_type": "code",
   "execution_count": 11,
   "metadata": {},
   "outputs": [
    {
     "output_type": "stream",
     "name": "stdout",
     "text": [
      "['AMAZON', 'BIGBASKET', 'CROMA', 'FLIPKART', 'MYNTRA', 'NYKAA', 'TATACLIQ']\n"
     ]
    }
   ],
   "source": [
    "print(list(l2.inverse_transform([0,1,2,3,4,5,6])))"
   ]
  },
  {
   "cell_type": "code",
   "execution_count": 12,
   "metadata": {},
   "outputs": [
    {
     "output_type": "execute_result",
     "data": {
      "text/plain": [
       "   S.No  Gender  Age  Amount spend on shopping  Online shopping website\n",
       "0     1       1   18                      1000                        0\n",
       "1     2       0   22                      1100                        5\n",
       "2     3       0   24                      1150                        4\n",
       "3     4       0   32                      2300                        0\n",
       "4     5       0   34                      2200                        6"
      ],
      "text/html": "<div>\n<style scoped>\n    .dataframe tbody tr th:only-of-type {\n        vertical-align: middle;\n    }\n\n    .dataframe tbody tr th {\n        vertical-align: top;\n    }\n\n    .dataframe thead th {\n        text-align: right;\n    }\n</style>\n<table border=\"1\" class=\"dataframe\">\n  <thead>\n    <tr style=\"text-align: right;\">\n      <th></th>\n      <th>S.No</th>\n      <th>Gender</th>\n      <th>Age</th>\n      <th>Amount spend on shopping</th>\n      <th>Online shopping website</th>\n    </tr>\n  </thead>\n  <tbody>\n    <tr>\n      <th>0</th>\n      <td>1</td>\n      <td>1</td>\n      <td>18</td>\n      <td>1000</td>\n      <td>0</td>\n    </tr>\n    <tr>\n      <th>1</th>\n      <td>2</td>\n      <td>0</td>\n      <td>22</td>\n      <td>1100</td>\n      <td>5</td>\n    </tr>\n    <tr>\n      <th>2</th>\n      <td>3</td>\n      <td>0</td>\n      <td>24</td>\n      <td>1150</td>\n      <td>4</td>\n    </tr>\n    <tr>\n      <th>3</th>\n      <td>4</td>\n      <td>0</td>\n      <td>32</td>\n      <td>2300</td>\n      <td>0</td>\n    </tr>\n    <tr>\n      <th>4</th>\n      <td>5</td>\n      <td>0</td>\n      <td>34</td>\n      <td>2200</td>\n      <td>6</td>\n    </tr>\n  </tbody>\n</table>\n</div>"
     },
     "metadata": {},
     "execution_count": 12
    }
   ],
   "source": [
    "allen.head()"
   ]
  },
  {
   "cell_type": "markdown",
   "metadata": {
    "id": "crrlZyeK1vU3"
   },
   "source": [
    "## Train-test-split"
   ]
  },
  {
   "cell_type": "code",
   "execution_count": 13,
   "metadata": {
    "colab": {
     "base_uri": "https://localhost:8080/",
     "height": 204
    },
    "id": "1E6I2IpxL96L",
    "outputId": "1f5af59a-a5b5-49c9-d719-ccc7994d2005"
   },
   "outputs": [],
   "source": [
    "x = allen.drop(['Online shopping website','S.No'],axis=1)"
   ]
  },
  {
   "cell_type": "code",
   "execution_count": 14,
   "metadata": {
    "colab": {
     "base_uri": "https://localhost:8080/"
    },
    "id": "HxQC2ml5MoTr",
    "outputId": "c3728f42-261d-48be-b1d5-6b02349892ed"
   },
   "outputs": [],
   "source": [
    "y = allen['Online shopping website']"
   ]
  },
  {
   "cell_type": "code",
   "execution_count": 15,
   "metadata": {
    "id": "-hUABKPIMvwE"
   },
   "outputs": [],
   "source": [
    "xtrain, xtest, ytrain, ytest = train_test_split(x,y,test_size=0.1,random_state=42)"
   ]
  },
  {
   "source": [
    "## Model"
   ],
   "cell_type": "markdown",
   "metadata": {}
  },
  {
   "cell_type": "code",
   "execution_count": 16,
   "metadata": {},
   "outputs": [],
   "source": [
    "model0 = DecisionTreeClassifier()\n",
    "model0.fit(xtrain,ytrain)\n",
    "p0 = model0.predict(xtest)"
   ]
  },
  {
   "source": [
    "## Prediction (18BIS0043)"
   ],
   "cell_type": "markdown",
   "metadata": {}
  },
  {
   "cell_type": "code",
   "execution_count": 17,
   "metadata": {},
   "outputs": [],
   "source": [
    "allen2 = pd.DataFrame(columns=['Gender','Age','Amount spend on shopping','Online shopping website'])"
   ]
  },
  {
   "cell_type": "code",
   "execution_count": 18,
   "metadata": {},
   "outputs": [],
   "source": [
    "init = {\"Gender\": 0, \n",
    "        \"Age\": 34,\n",
    "        \"Amount spend on shopping\": 4900,\n",
    "}\n",
    "allen2 = allen2.append(init, ignore_index=True)"
   ]
  },
  {
   "cell_type": "code",
   "execution_count": 19,
   "metadata": {},
   "outputs": [],
   "source": [
    "pred = model0.predict(allen2.drop(['Online shopping website'],axis=1))\n",
    "allen2['Online shopping website']=pred"
   ]
  },
  {
   "cell_type": "code",
   "execution_count": 20,
   "metadata": {},
   "outputs": [
    {
     "output_type": "execute_result",
     "data": {
      "text/plain": [
       "   Gender   Age  Amount spend on shopping  Online shopping website\n",
       "0     0.0  34.0                    4900.0                        5"
      ],
      "text/html": "<div>\n<style scoped>\n    .dataframe tbody tr th:only-of-type {\n        vertical-align: middle;\n    }\n\n    .dataframe tbody tr th {\n        vertical-align: top;\n    }\n\n    .dataframe thead th {\n        text-align: right;\n    }\n</style>\n<table border=\"1\" class=\"dataframe\">\n  <thead>\n    <tr style=\"text-align: right;\">\n      <th></th>\n      <th>Gender</th>\n      <th>Age</th>\n      <th>Amount spend on shopping</th>\n      <th>Online shopping website</th>\n    </tr>\n  </thead>\n  <tbody>\n    <tr>\n      <th>0</th>\n      <td>0.0</td>\n      <td>34.0</td>\n      <td>4900.0</td>\n      <td>5</td>\n    </tr>\n  </tbody>\n</table>\n</div>"
     },
     "metadata": {},
     "execution_count": 20
    }
   ],
   "source": [
    "allen2.head()"
   ]
  },
  {
   "cell_type": "code",
   "execution_count": 21,
   "metadata": {},
   "outputs": [
    {
     "output_type": "stream",
     "name": "stdout",
     "text": [
      "['NYKAA']\n"
     ]
    }
   ],
   "source": [
    "print(list(l2.inverse_transform([allen2['Online shopping website']])))"
   ]
  },
  {
   "source": [
    "# Inferences"
   ],
   "cell_type": "markdown",
   "metadata": {}
  },
  {
   "cell_type": "code",
   "execution_count": 22,
   "metadata": {},
   "outputs": [
    {
     "output_type": "stream",
     "name": "stdout",
     "text": [
      "              precision    recall  f1-score   support\n\n           0       0.50      0.40      0.44         5\n           1       0.67      0.25      0.36         8\n           2       0.33      0.50      0.40         6\n           3       0.25      0.40      0.31         5\n           4       0.33      0.25      0.29         4\n           5       0.40      0.40      0.40         5\n           6       0.29      0.33      0.31         6\n\n    accuracy                           0.36        39\n   macro avg       0.40      0.36      0.36        39\nweighted avg       0.41      0.36      0.36        39\n\n"
     ]
    }
   ],
   "source": [
    "print(classification_report(ytest.values.ravel(),p0,target_names=['0','1','2','3','4','5','6']))"
   ]
  },
  {
   "source": [
    "# Viva"
   ],
   "cell_type": "markdown",
   "metadata": {}
  },
  {
   "source": [
    "## Comparisons"
   ],
   "cell_type": "markdown",
   "metadata": {}
  },
  {
   "cell_type": "markdown",
   "metadata": {},
   "source": [
    "#### Random Forest"
   ]
  },
  {
   "cell_type": "code",
   "execution_count": 23,
   "metadata": {
    "id": "-9qxQPoaNxsw"
   },
   "outputs": [],
   "source": [
    "model1 = RandomForestClassifier()\n",
    "model1.fit(xtrain,ytrain)\n",
    "p1 = model1.predict(xtest)"
   ]
  },
  {
   "cell_type": "markdown",
   "metadata": {},
   "source": [
    "#### Confusion Matrix "
   ]
  },
  {
   "cell_type": "code",
   "execution_count": 24,
   "metadata": {
    "colab": {
     "base_uri": "https://localhost:8080/"
    },
    "id": "QQK3hbNx3w5g",
    "outputId": "e82b34ce-dc79-4f25-a59a-dffef18d9306"
   },
   "outputs": [
    {
     "output_type": "stream",
     "name": "stdout",
     "text": [
      "[[2 0 0 1 0 1 1]\n [0 2 3 2 0 0 1]\n [1 0 4 0 1 0 0]\n [1 0 0 2 1 0 1]\n [1 1 0 0 1 0 1]\n [1 0 1 1 0 2 0]\n [2 0 0 1 0 2 1]]\n"
     ]
    }
   ],
   "source": [
    "print(confusion_matrix(ytest,p1))"
   ]
  },
  {
   "cell_type": "code",
   "execution_count": 25,
   "metadata": {},
   "outputs": [
    {
     "output_type": "stream",
     "name": "stdout",
     "text": [
      "              precision    recall  f1-score   support\n\n           0       0.25      0.40      0.31         5\n           1       0.67      0.25      0.36         8\n           2       0.50      0.67      0.57         6\n           3       0.29      0.40      0.33         5\n           4       0.33      0.25      0.29         4\n           5       0.40      0.40      0.40         5\n           6       0.20      0.17      0.18         6\n\n    accuracy                           0.36        39\n   macro avg       0.38      0.36      0.35        39\nweighted avg       0.40      0.36      0.35        39\n\n"
     ]
    }
   ],
   "source": [
    "print(classification_report(ytest.values.ravel(),p1,target_names=['0','1','2','3','4','5','6']))"
   ]
  },
  {
   "cell_type": "markdown",
   "metadata": {},
   "source": [
    "#### Decision Tree"
   ]
  },
  {
   "cell_type": "code",
   "execution_count": 26,
   "metadata": {},
   "outputs": [],
   "source": [
    "model2 = DecisionTreeClassifier()\n",
    "model2.fit(xtrain,ytrain)\n",
    "p2 = model2.predict(xtest)"
   ]
  },
  {
   "cell_type": "markdown",
   "metadata": {},
   "source": [
    "#### Confusion Matrix "
   ]
  },
  {
   "cell_type": "code",
   "execution_count": 27,
   "metadata": {},
   "outputs": [
    {
     "output_type": "stream",
     "name": "stdout",
     "text": [
      "[[2 0 0 1 0 1 1]\n [0 2 4 1 0 0 1]\n [0 0 3 2 1 0 0]\n [0 0 0 2 1 1 1]\n [1 0 0 1 1 0 1]\n [0 0 2 0 0 2 1]\n [1 1 0 1 0 2 1]]\n"
     ]
    }
   ],
   "source": [
    "print(confusion_matrix(ytest,p2))"
   ]
  },
  {
   "cell_type": "code",
   "execution_count": 28,
   "metadata": {},
   "outputs": [
    {
     "output_type": "stream",
     "name": "stdout",
     "text": [
      "              precision    recall  f1-score   support\n\n           0       0.50      0.40      0.44         5\n           1       0.67      0.25      0.36         8\n           2       0.33      0.50      0.40         6\n           3       0.25      0.40      0.31         5\n           4       0.33      0.25      0.29         4\n           5       0.33      0.40      0.36         5\n           6       0.17      0.17      0.17         6\n\n    accuracy                           0.33        39\n   macro avg       0.37      0.34      0.33        39\nweighted avg       0.39      0.33      0.33        39\n\n"
     ]
    }
   ],
   "source": [
    "print(classification_report(ytest.values.ravel(),p2,target_names=['0','1','2','3','4','5','6']))"
   ]
  },
  {
   "cell_type": "markdown",
   "metadata": {},
   "source": [
    "#### Naive Bayes"
   ]
  },
  {
   "cell_type": "code",
   "execution_count": 29,
   "metadata": {},
   "outputs": [],
   "source": [
    "model3 = GaussianNB()\n",
    "model3.fit(xtrain,ytrain)\n",
    "p3 = model3.predict(xtest)"
   ]
  },
  {
   "cell_type": "markdown",
   "metadata": {},
   "source": [
    "#### Confusion Matrix"
   ]
  },
  {
   "source": [
    "print(confusion_matrix(ytest,p3))"
   ],
   "cell_type": "code",
   "metadata": {},
   "execution_count": 30,
   "outputs": [
    {
     "output_type": "stream",
     "name": "stdout",
     "text": [
      "[[0 0 1 2 1 1 0]\n [1 3 0 2 1 1 0]\n [0 0 4 0 0 1 1]\n [1 0 0 4 0 0 0]\n [2 0 1 1 0 0 0]\n [1 2 1 0 0 1 0]\n [2 0 1 2 0 0 1]]\n"
     ]
    }
   ]
  },
  {
   "cell_type": "code",
   "execution_count": 31,
   "metadata": {},
   "outputs": [
    {
     "output_type": "stream",
     "name": "stdout",
     "text": [
      "              precision    recall  f1-score   support\n\n           0       0.00      0.00      0.00         5\n           1       0.60      0.38      0.46         8\n           2       0.50      0.67      0.57         6\n           3       0.36      0.80      0.50         5\n           4       0.00      0.00      0.00         4\n           5       0.25      0.20      0.22         5\n           6       0.50      0.17      0.25         6\n\n    accuracy                           0.33        39\n   macro avg       0.32      0.32      0.29        39\nweighted avg       0.36      0.33      0.31        39\n\n"
     ]
    }
   ],
   "source": [
    "print(classification_report(ytest.values.ravel(),p3,target_names=['0','1','2','3','4','5','6']))"
   ]
  },
  {
   "cell_type": "markdown",
   "metadata": {},
   "source": [
    "#### K-Nearest Neighbour"
   ]
  },
  {
   "cell_type": "code",
   "execution_count": 32,
   "metadata": {},
   "outputs": [],
   "source": [
    "model4 = KNeighborsClassifier()\n",
    "model4.fit(xtrain,ytrain)\n",
    "p4 = model4.predict(xtest)"
   ]
  },
  {
   "cell_type": "markdown",
   "metadata": {},
   "source": [
    "#### Confusion Matrix"
   ]
  },
  {
   "cell_type": "code",
   "execution_count": 33,
   "metadata": {},
   "outputs": [
    {
     "output_type": "stream",
     "name": "stdout",
     "text": [
      "[[1 0 1 0 1 0 2]\n [1 2 0 3 1 1 0]\n [1 0 2 0 0 3 0]\n [0 1 0 0 2 1 1]\n [1 0 0 1 1 0 1]\n [1 1 0 0 1 2 0]\n [1 2 0 1 0 0 2]]\n"
     ]
    }
   ],
   "source": [
    "print(confusion_matrix(ytest,p4))"
   ]
  },
  {
   "cell_type": "code",
   "execution_count": 34,
   "metadata": {},
   "outputs": [
    {
     "output_type": "stream",
     "name": "stdout",
     "text": [
      "              precision    recall  f1-score   support\n\n           0       0.17      0.20      0.18         5\n           1       0.33      0.25      0.29         8\n           2       0.67      0.33      0.44         6\n           3       0.00      0.00      0.00         5\n           4       0.17      0.25      0.20         4\n           5       0.29      0.40      0.33         5\n           6       0.33      0.33      0.33         6\n\n    accuracy                           0.26        39\n   macro avg       0.28      0.25      0.25        39\nweighted avg       0.30      0.26      0.26        39\n\n"
     ]
    }
   ],
   "source": [
    "print(classification_report(ytest.values.ravel(),p4,target_names=['0','1','2','3','4','5','6']))"
   ]
  },
  {
   "cell_type": "markdown",
   "metadata": {},
   "source": [
    "#### Logistic Regression"
   ]
  },
  {
   "cell_type": "code",
   "execution_count": 35,
   "metadata": {},
   "outputs": [],
   "source": [
    "model5 = LogisticRegression()\n",
    "model5.fit(xtrain,ytrain)\n",
    "p5 = model5.predict(xtest)"
   ]
  },
  {
   "cell_type": "markdown",
   "metadata": {},
   "source": [
    "#### Confusion Matrix"
   ]
  },
  {
   "cell_type": "code",
   "execution_count": 36,
   "metadata": {},
   "outputs": [
    {
     "output_type": "stream",
     "name": "stdout",
     "text": [
      "[[0 0 0 5 0 0 0]\n [2 0 0 6 0 0 0]\n [1 0 0 5 0 0 0]\n [1 0 0 4 0 0 0]\n [2 0 0 2 0 0 0]\n [2 0 0 3 0 0 0]\n [2 0 0 4 0 0 0]]\n"
     ]
    }
   ],
   "source": [
    "print(confusion_matrix(ytest,p5))"
   ]
  },
  {
   "cell_type": "code",
   "execution_count": 37,
   "metadata": {},
   "outputs": [
    {
     "output_type": "stream",
     "name": "stdout",
     "text": [
      "              precision    recall  f1-score   support\n\n           0       0.00      0.00      0.00         5\n           1       0.00      0.00      0.00         8\n           2       0.00      0.00      0.00         6\n           3       0.14      0.80      0.24         5\n           4       0.00      0.00      0.00         4\n           5       0.00      0.00      0.00         5\n           6       0.00      0.00      0.00         6\n\n    accuracy                           0.10        39\n   macro avg       0.02      0.11      0.03        39\nweighted avg       0.02      0.10      0.03        39\n\n"
     ]
    }
   ],
   "source": [
    "print(classification_report(ytest.values.ravel(),p5,target_names=['0','1','2','3','4','5','6']))"
   ]
  },
  {
   "cell_type": "markdown",
   "metadata": {},
   "source": [
    "## K-Fold"
   ]
  },
  {
   "cell_type": "code",
   "execution_count": 38,
   "metadata": {},
   "outputs": [],
   "source": [
    "kfold = StratifiedKFold(n_splits=5, shuffle=True, random_state=30)"
   ]
  },
  {
   "cell_type": "markdown",
   "metadata": {},
   "source": [
    "#### Random Forest"
   ]
  },
  {
   "cell_type": "code",
   "execution_count": 39,
   "metadata": {},
   "outputs": [],
   "source": [
    "acc = np.mean(cross_val_score(model1, xtrain, ytrain, scoring='accuracy', cv=kfold))"
   ]
  },
  {
   "cell_type": "code",
   "execution_count": 40,
   "metadata": {},
   "outputs": [],
   "source": [
    "allen11 = pd.DataFrame({'Model':'Random Forest',\n",
    "                      'Accuracy':[acc]})"
   ]
  },
  {
   "cell_type": "markdown",
   "metadata": {},
   "source": [
    "#### Decision Tree"
   ]
  },
  {
   "cell_type": "code",
   "execution_count": 41,
   "metadata": {},
   "outputs": [],
   "source": [
    "acc = np.mean(cross_val_score(model2, xtrain, ytrain, scoring='accuracy', cv=kfold))"
   ]
  },
  {
   "cell_type": "code",
   "execution_count": 42,
   "metadata": {},
   "outputs": [],
   "source": [
    "allen12 = pd.DataFrame({'Model':'Decision Tree',\n",
    "                      'Accuracy':[acc]})"
   ]
  },
  {
   "cell_type": "markdown",
   "metadata": {},
   "source": [
    "#### Naive Bayes"
   ]
  },
  {
   "cell_type": "code",
   "execution_count": 43,
   "metadata": {},
   "outputs": [],
   "source": [
    "acc = np.mean(cross_val_score(model3, xtrain, ytrain, scoring='accuracy', cv=kfold))"
   ]
  },
  {
   "cell_type": "code",
   "execution_count": 44,
   "metadata": {},
   "outputs": [],
   "source": [
    "allen13 = pd.DataFrame({'Model':'Naive Bayes',\n",
    "                      'Accuracy':[acc]})"
   ]
  },
  {
   "cell_type": "markdown",
   "metadata": {},
   "source": [
    "#### K-Nearest Neighbour"
   ]
  },
  {
   "cell_type": "code",
   "execution_count": 45,
   "metadata": {},
   "outputs": [],
   "source": [
    "acc = np.mean(cross_val_score(model4, xtrain, ytrain, scoring='accuracy', cv=kfold))"
   ]
  },
  {
   "cell_type": "code",
   "execution_count": 46,
   "metadata": {},
   "outputs": [],
   "source": [
    "allen14 = pd.DataFrame({'Model':'K-Nearest Neighbour',\n",
    "                      'Accuracy':[acc]})"
   ]
  },
  {
   "cell_type": "markdown",
   "metadata": {},
   "source": [
    "#### Logistic Regression"
   ]
  },
  {
   "cell_type": "code",
   "execution_count": 47,
   "metadata": {},
   "outputs": [],
   "source": [
    "acc = np.mean(cross_val_score(model5, xtrain, ytrain, scoring='accuracy', cv=kfold))"
   ]
  },
  {
   "cell_type": "code",
   "execution_count": 48,
   "metadata": {},
   "outputs": [],
   "source": [
    "allen15 = pd.DataFrame({'Model':'Logistic Regression',\n",
    "                      'Accuracy':[acc]})"
   ]
  },
  {
   "cell_type": "markdown",
   "metadata": {},
   "source": [
    "#### Concat"
   ]
  },
  {
   "cell_type": "code",
   "execution_count": 50,
   "metadata": {},
   "outputs": [
    {
     "output_type": "execute_result",
     "data": {
      "text/plain": [
       "                 Model  Accuracy\n",
       "0        Random Forest  0.262733\n",
       "1        Decision Tree  0.285921\n",
       "2          Naive Bayes  0.236687\n",
       "3  K-Nearest Neighbour  0.211097\n",
       "4  Logistic Regression  0.190766"
      ],
      "text/html": "<div>\n<style scoped>\n    .dataframe tbody tr th:only-of-type {\n        vertical-align: middle;\n    }\n\n    .dataframe tbody tr th {\n        vertical-align: top;\n    }\n\n    .dataframe thead th {\n        text-align: right;\n    }\n</style>\n<table border=\"1\" class=\"dataframe\">\n  <thead>\n    <tr style=\"text-align: right;\">\n      <th></th>\n      <th>Model</th>\n      <th>Accuracy</th>\n    </tr>\n  </thead>\n  <tbody>\n    <tr>\n      <th>0</th>\n      <td>Random Forest</td>\n      <td>0.262733</td>\n    </tr>\n    <tr>\n      <th>1</th>\n      <td>Decision Tree</td>\n      <td>0.285921</td>\n    </tr>\n    <tr>\n      <th>2</th>\n      <td>Naive Bayes</td>\n      <td>0.236687</td>\n    </tr>\n    <tr>\n      <th>3</th>\n      <td>K-Nearest Neighbour</td>\n      <td>0.211097</td>\n    </tr>\n    <tr>\n      <th>4</th>\n      <td>Logistic Regression</td>\n      <td>0.190766</td>\n    </tr>\n  </tbody>\n</table>\n</div>"
     },
     "metadata": {},
     "execution_count": 50
    }
   ],
   "source": [
    "al = pd.concat([allen11,allen12,allen13,allen14,allen15],axis=0).reset_index()\n",
    "al = al.drop('index',axis=1)\n",
    "al"
   ]
  }
 ],
 "metadata": {
  "colab": {
   "name": "Nasscom Lab DA 3ipynb",
   "provenance": [],
   "toc_visible": true
  },
  "kernelspec": {
   "name": "python38364bit570ee3c6a9ce451c90a4fee19734ed2d",
   "display_name": "Python 3.8.3 64-bit ('base': conda)"
  },
  "language_info": {
   "codemirror_mode": {
    "name": "ipython",
    "version": 3
   },
   "file_extension": ".py",
   "mimetype": "text/x-python",
   "name": "python",
   "nbconvert_exporter": "python",
   "pygments_lexer": "ipython3",
   "version": "3.8.3"
  },
  "metadata": {
   "interpreter": {
    "hash": "5a2c2b1e8e21bd441da1d17902ec1befce5a77884cfd8dc3337a42ec4181cc68"
   }
  }
 },
 "nbformat": 4,
 "nbformat_minor": 1
}