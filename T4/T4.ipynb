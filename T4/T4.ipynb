{
 "cells": [
  {
   "cell_type": "markdown",
   "metadata": {
    "id": "cQnfMYAIiS36"
   },
   "source": [
    "# Import Libraries "
   ]
  },
  {
   "cell_type": "code",
   "execution_count": 660,
   "metadata": {},
   "outputs": [],
   "source": [
    "import warnings\n",
    "warnings.filterwarnings('ignore')"
   ]
  },
  {
   "cell_type": "code",
   "execution_count": 661,
   "metadata": {
    "id": "ol_bieWxVEo3"
   },
   "outputs": [],
   "source": [
    "import csv\n",
    "import pandas as pd\n",
    "import numpy as np\n",
    "import seaborn as sns\n",
    "import matplotlib.pyplot as plt"
   ]
  },
  {
   "cell_type": "code",
   "execution_count": 662,
   "metadata": {},
   "outputs": [],
   "source": [
    "from sklearn import preprocessing\n",
    "from sklearn.model_selection import train_test_split\n",
    "from sklearn.linear_model import LinearRegression\n",
    "from sklearn.metrics import accuracy_score, log_loss, confusion_matrix\n",
    "from sklearn.preprocessing import MinMaxScaler\n",
    "from sklearn.metrics import r2_score"
   ]
  },
  {
   "cell_type": "markdown",
   "metadata": {},
   "source": [
    "# Dataset"
   ]
  },
  {
   "cell_type": "code",
   "execution_count": 663,
   "metadata": {},
   "outputs": [],
   "source": [
    "allen1 = pd.read_csv(\"Dataset1.csv\")\n",
    "allen3 = pd.read_csv(\"Dataset2.csv\")"
   ]
  },
  {
   "cell_type": "code",
   "execution_count": 664,
   "metadata": {
    "colab": {
     "base_uri": "https://localhost:8080/",
     "height": 204
    },
    "id": "Hnq3U6KrXc0W",
    "outputId": "3f388392-a3a2-4e65-c5ab-3a6383d98ed9"
   },
   "outputs": [
    {
     "data": {
      "text/html": [
       "<div>\n",
       "<style scoped>\n",
       "    .dataframe tbody tr th:only-of-type {\n",
       "        vertical-align: middle;\n",
       "    }\n",
       "\n",
       "    .dataframe tbody tr th {\n",
       "        vertical-align: top;\n",
       "    }\n",
       "\n",
       "    .dataframe thead th {\n",
       "        text-align: right;\n",
       "    }\n",
       "</style>\n",
       "<table border=\"1\" class=\"dataframe\">\n",
       "  <thead>\n",
       "    <tr style=\"text-align: right;\">\n",
       "      <th></th>\n",
       "      <th>S.No</th>\n",
       "      <th>company</th>\n",
       "      <th>Age</th>\n",
       "      <th>Gender</th>\n",
       "      <th>Qualification</th>\n",
       "      <th>no of experience in years</th>\n",
       "      <th>Area of work</th>\n",
       "      <th>salary package per month</th>\n",
       "    </tr>\n",
       "  </thead>\n",
       "  <tbody>\n",
       "    <tr>\n",
       "      <th>0</th>\n",
       "      <td>1</td>\n",
       "      <td>ABBB</td>\n",
       "      <td>21</td>\n",
       "      <td>M</td>\n",
       "      <td>B.E</td>\n",
       "      <td>0</td>\n",
       "      <td>programming</td>\n",
       "      <td>30000</td>\n",
       "    </tr>\n",
       "    <tr>\n",
       "      <th>1</th>\n",
       "      <td>2</td>\n",
       "      <td>ABBB</td>\n",
       "      <td>24</td>\n",
       "      <td>F</td>\n",
       "      <td>M.E</td>\n",
       "      <td>1</td>\n",
       "      <td>predective analysis</td>\n",
       "      <td>50000</td>\n",
       "    </tr>\n",
       "    <tr>\n",
       "      <th>2</th>\n",
       "      <td>3</td>\n",
       "      <td>ABBB</td>\n",
       "      <td>30</td>\n",
       "      <td>M</td>\n",
       "      <td>M.E</td>\n",
       "      <td>5</td>\n",
       "      <td>cloud server management</td>\n",
       "      <td>120000</td>\n",
       "    </tr>\n",
       "    <tr>\n",
       "      <th>3</th>\n",
       "      <td>4</td>\n",
       "      <td>ABBB</td>\n",
       "      <td>23</td>\n",
       "      <td>M</td>\n",
       "      <td>B.E</td>\n",
       "      <td>2</td>\n",
       "      <td>programming</td>\n",
       "      <td>42000</td>\n",
       "    </tr>\n",
       "    <tr>\n",
       "      <th>4</th>\n",
       "      <td>5</td>\n",
       "      <td>ABBB</td>\n",
       "      <td>21</td>\n",
       "      <td>F</td>\n",
       "      <td>B.E</td>\n",
       "      <td>0</td>\n",
       "      <td>predective analysis</td>\n",
       "      <td>35000</td>\n",
       "    </tr>\n",
       "  </tbody>\n",
       "</table>\n",
       "</div>"
      ],
      "text/plain": [
       "   S.No company  Age  Gender Qualification  no of experience in years  \\\n",
       "0     1    ABBB    21      M           B.E                          0   \n",
       "1     2    ABBB    24      F           M.E                          1   \n",
       "2     3    ABBB    30      M           M.E                          5   \n",
       "3     4    ABBB    23      M           B.E                          2   \n",
       "4     5    ABBB    21      F           B.E                          0   \n",
       "\n",
       "              Area of work  salary package per month  \n",
       "0             programming                      30000  \n",
       "1      predective analysis                     50000  \n",
       "2  cloud server management                    120000  \n",
       "3             programming                      42000  \n",
       "4      predective analysis                     35000  "
      ]
     },
     "execution_count": 664,
     "metadata": {},
     "output_type": "execute_result"
    }
   ],
   "source": [
    "allen1.head()"
   ]
  },
  {
   "cell_type": "code",
   "execution_count": 665,
   "metadata": {},
   "outputs": [
    {
     "data": {
      "text/html": [
       "<div>\n",
       "<style scoped>\n",
       "    .dataframe tbody tr th:only-of-type {\n",
       "        vertical-align: middle;\n",
       "    }\n",
       "\n",
       "    .dataframe tbody tr th {\n",
       "        vertical-align: top;\n",
       "    }\n",
       "\n",
       "    .dataframe thead th {\n",
       "        text-align: right;\n",
       "    }\n",
       "</style>\n",
       "<table border=\"1\" class=\"dataframe\">\n",
       "  <thead>\n",
       "    <tr style=\"text-align: right;\">\n",
       "      <th></th>\n",
       "      <th>S.No</th>\n",
       "      <th>person</th>\n",
       "      <th>Age</th>\n",
       "      <th>Gender</th>\n",
       "      <th>Qualification</th>\n",
       "      <th>no of experience in years</th>\n",
       "      <th>Area of work</th>\n",
       "      <th>salary package per month</th>\n",
       "    </tr>\n",
       "  </thead>\n",
       "  <tbody>\n",
       "    <tr>\n",
       "      <th>0</th>\n",
       "      <td>NaN</td>\n",
       "      <td>Bobby</td>\n",
       "      <td>22</td>\n",
       "      <td>F</td>\n",
       "      <td>B.E</td>\n",
       "      <td>1</td>\n",
       "      <td>programming</td>\n",
       "      <td>NaN</td>\n",
       "    </tr>\n",
       "    <tr>\n",
       "      <th>1</th>\n",
       "      <td>NaN</td>\n",
       "      <td>Rahul</td>\n",
       "      <td>28</td>\n",
       "      <td>M</td>\n",
       "      <td>B.E</td>\n",
       "      <td>5</td>\n",
       "      <td>predictive analysis</td>\n",
       "      <td>NaN</td>\n",
       "    </tr>\n",
       "    <tr>\n",
       "      <th>2</th>\n",
       "      <td>NaN</td>\n",
       "      <td>Jhanvi</td>\n",
       "      <td>30</td>\n",
       "      <td>F</td>\n",
       "      <td>M.E</td>\n",
       "      <td>4</td>\n",
       "      <td>cloud server management</td>\n",
       "      <td>NaN</td>\n",
       "    </tr>\n",
       "    <tr>\n",
       "      <th>3</th>\n",
       "      <td>NaN</td>\n",
       "      <td>Sanjay</td>\n",
       "      <td>35</td>\n",
       "      <td>M</td>\n",
       "      <td>M.E</td>\n",
       "      <td>9</td>\n",
       "      <td>predictive analysis</td>\n",
       "      <td>NaN</td>\n",
       "    </tr>\n",
       "    <tr>\n",
       "      <th>4</th>\n",
       "      <td>NaN</td>\n",
       "      <td>sukruti</td>\n",
       "      <td>29</td>\n",
       "      <td>F</td>\n",
       "      <td>M.E</td>\n",
       "      <td>5</td>\n",
       "      <td>cloud server management</td>\n",
       "      <td>NaN</td>\n",
       "    </tr>\n",
       "  </tbody>\n",
       "</table>\n",
       "</div>"
      ],
      "text/plain": [
       "   S.No   person  Age  Gender Qualification  no of experience in years  \\\n",
       "0   NaN    Bobby    22      F           B.E                          1   \n",
       "1   NaN    Rahul    28      M           B.E                          5   \n",
       "2   NaN   Jhanvi    30      F           M.E                          4   \n",
       "3   NaN   Sanjay    35      M           M.E                          9   \n",
       "4   NaN  sukruti    29      F           M.E                          5   \n",
       "\n",
       "              Area of work  salary package per month  \n",
       "0              programming                       NaN  \n",
       "1      predictive analysis                       NaN  \n",
       "2  cloud server management                       NaN  \n",
       "3      predictive analysis                       NaN  \n",
       "4  cloud server management                       NaN  "
      ]
     },
     "execution_count": 665,
     "metadata": {},
     "output_type": "execute_result"
    }
   ],
   "source": [
    "allen3.head()"
   ]
  },
  {
   "cell_type": "code",
   "execution_count": 666,
   "metadata": {
    "colab": {
     "base_uri": "https://localhost:8080/",
     "height": 297
    },
    "id": "CZTL8TAbXfrX",
    "outputId": "9d4f7440-aa0f-429f-dc62-c0b0e24a7464"
   },
   "outputs": [
    {
     "data": {
      "text/html": [
       "<div>\n",
       "<style scoped>\n",
       "    .dataframe tbody tr th:only-of-type {\n",
       "        vertical-align: middle;\n",
       "    }\n",
       "\n",
       "    .dataframe tbody tr th {\n",
       "        vertical-align: top;\n",
       "    }\n",
       "\n",
       "    .dataframe thead th {\n",
       "        text-align: right;\n",
       "    }\n",
       "</style>\n",
       "<table border=\"1\" class=\"dataframe\">\n",
       "  <thead>\n",
       "    <tr style=\"text-align: right;\">\n",
       "      <th></th>\n",
       "      <th>S.No</th>\n",
       "      <th>Age</th>\n",
       "      <th>no of experience in years</th>\n",
       "      <th>salary package per month</th>\n",
       "    </tr>\n",
       "  </thead>\n",
       "  <tbody>\n",
       "    <tr>\n",
       "      <th>count</th>\n",
       "      <td>52.000000</td>\n",
       "      <td>52.000000</td>\n",
       "      <td>52.000000</td>\n",
       "      <td>52.000000</td>\n",
       "    </tr>\n",
       "    <tr>\n",
       "      <th>mean</th>\n",
       "      <td>26.500000</td>\n",
       "      <td>27.788462</td>\n",
       "      <td>4.980769</td>\n",
       "      <td>87769.230769</td>\n",
       "    </tr>\n",
       "    <tr>\n",
       "      <th>std</th>\n",
       "      <td>15.154757</td>\n",
       "      <td>6.347260</td>\n",
       "      <td>6.027682</td>\n",
       "      <td>97667.024436</td>\n",
       "    </tr>\n",
       "    <tr>\n",
       "      <th>min</th>\n",
       "      <td>1.000000</td>\n",
       "      <td>21.000000</td>\n",
       "      <td>0.000000</td>\n",
       "      <td>20000.000000</td>\n",
       "    </tr>\n",
       "    <tr>\n",
       "      <th>25%</th>\n",
       "      <td>13.750000</td>\n",
       "      <td>22.000000</td>\n",
       "      <td>0.750000</td>\n",
       "      <td>25000.000000</td>\n",
       "    </tr>\n",
       "    <tr>\n",
       "      <th>50%</th>\n",
       "      <td>26.500000</td>\n",
       "      <td>26.000000</td>\n",
       "      <td>2.000000</td>\n",
       "      <td>39500.000000</td>\n",
       "    </tr>\n",
       "    <tr>\n",
       "      <th>75%</th>\n",
       "      <td>39.250000</td>\n",
       "      <td>31.250000</td>\n",
       "      <td>8.250000</td>\n",
       "      <td>112500.000000</td>\n",
       "    </tr>\n",
       "    <tr>\n",
       "      <th>max</th>\n",
       "      <td>52.000000</td>\n",
       "      <td>43.000000</td>\n",
       "      <td>21.000000</td>\n",
       "      <td>500000.000000</td>\n",
       "    </tr>\n",
       "  </tbody>\n",
       "</table>\n",
       "</div>"
      ],
      "text/plain": [
       "            S.No       Age   no of experience in years  \\\n",
       "count  52.000000  52.000000                  52.000000   \n",
       "mean   26.500000  27.788462                   4.980769   \n",
       "std    15.154757   6.347260                   6.027682   \n",
       "min     1.000000  21.000000                   0.000000   \n",
       "25%    13.750000  22.000000                   0.750000   \n",
       "50%    26.500000  26.000000                   2.000000   \n",
       "75%    39.250000  31.250000                   8.250000   \n",
       "max    52.000000  43.000000                  21.000000   \n",
       "\n",
       "       salary package per month  \n",
       "count                 52.000000  \n",
       "mean               87769.230769  \n",
       "std                97667.024436  \n",
       "min                20000.000000  \n",
       "25%                25000.000000  \n",
       "50%                39500.000000  \n",
       "75%               112500.000000  \n",
       "max               500000.000000  "
      ]
     },
     "execution_count": 666,
     "metadata": {},
     "output_type": "execute_result"
    }
   ],
   "source": [
    "allen1.describe()"
   ]
  },
  {
   "cell_type": "code",
   "execution_count": 667,
   "metadata": {},
   "outputs": [
    {
     "data": {
      "text/html": [
       "<div>\n",
       "<style scoped>\n",
       "    .dataframe tbody tr th:only-of-type {\n",
       "        vertical-align: middle;\n",
       "    }\n",
       "\n",
       "    .dataframe tbody tr th {\n",
       "        vertical-align: top;\n",
       "    }\n",
       "\n",
       "    .dataframe thead th {\n",
       "        text-align: right;\n",
       "    }\n",
       "</style>\n",
       "<table border=\"1\" class=\"dataframe\">\n",
       "  <thead>\n",
       "    <tr style=\"text-align: right;\">\n",
       "      <th></th>\n",
       "      <th>S.No</th>\n",
       "      <th>Age</th>\n",
       "      <th>no of experience in years</th>\n",
       "      <th>salary package per month</th>\n",
       "    </tr>\n",
       "  </thead>\n",
       "  <tbody>\n",
       "    <tr>\n",
       "      <th>count</th>\n",
       "      <td>0.0</td>\n",
       "      <td>8.000000</td>\n",
       "      <td>8.000000</td>\n",
       "      <td>0.0</td>\n",
       "    </tr>\n",
       "    <tr>\n",
       "      <th>mean</th>\n",
       "      <td>NaN</td>\n",
       "      <td>27.625000</td>\n",
       "      <td>4.375000</td>\n",
       "      <td>NaN</td>\n",
       "    </tr>\n",
       "    <tr>\n",
       "      <th>std</th>\n",
       "      <td>NaN</td>\n",
       "      <td>3.961872</td>\n",
       "      <td>2.559994</td>\n",
       "      <td>NaN</td>\n",
       "    </tr>\n",
       "    <tr>\n",
       "      <th>min</th>\n",
       "      <td>NaN</td>\n",
       "      <td>22.000000</td>\n",
       "      <td>1.000000</td>\n",
       "      <td>NaN</td>\n",
       "    </tr>\n",
       "    <tr>\n",
       "      <th>25%</th>\n",
       "      <td>NaN</td>\n",
       "      <td>25.500000</td>\n",
       "      <td>3.250000</td>\n",
       "      <td>NaN</td>\n",
       "    </tr>\n",
       "    <tr>\n",
       "      <th>50%</th>\n",
       "      <td>NaN</td>\n",
       "      <td>27.500000</td>\n",
       "      <td>5.000000</td>\n",
       "      <td>NaN</td>\n",
       "    </tr>\n",
       "    <tr>\n",
       "      <th>75%</th>\n",
       "      <td>NaN</td>\n",
       "      <td>29.250000</td>\n",
       "      <td>5.000000</td>\n",
       "      <td>NaN</td>\n",
       "    </tr>\n",
       "    <tr>\n",
       "      <th>max</th>\n",
       "      <td>NaN</td>\n",
       "      <td>35.000000</td>\n",
       "      <td>9.000000</td>\n",
       "      <td>NaN</td>\n",
       "    </tr>\n",
       "  </tbody>\n",
       "</table>\n",
       "</div>"
      ],
      "text/plain": [
       "       S.No       Age   no of experience in years  salary package per month\n",
       "count   0.0   8.000000                   8.000000                       0.0\n",
       "mean    NaN  27.625000                   4.375000                       NaN\n",
       "std     NaN   3.961872                   2.559994                       NaN\n",
       "min     NaN  22.000000                   1.000000                       NaN\n",
       "25%     NaN  25.500000                   3.250000                       NaN\n",
       "50%     NaN  27.500000                   5.000000                       NaN\n",
       "75%     NaN  29.250000                   5.000000                       NaN\n",
       "max     NaN  35.000000                   9.000000                       NaN"
      ]
     },
     "execution_count": 667,
     "metadata": {},
     "output_type": "execute_result"
    }
   ],
   "source": [
    "allen3.describe()"
   ]
  },
  {
   "cell_type": "markdown",
   "metadata": {},
   "source": [
    "# Dataset.csv - Label Encoding "
   ]
  },
  {
   "cell_type": "markdown",
   "metadata": {},
   "source": [
    "### Company"
   ]
  },
  {
   "cell_type": "code",
   "execution_count": 668,
   "metadata": {
    "colab": {
     "base_uri": "https://localhost:8080/"
    },
    "id": "4H6prVywXm55",
    "outputId": "cda05f9e-9790-4412-cffd-dcc464f46735"
   },
   "outputs": [],
   "source": [
    "l1 = preprocessing.LabelEncoder()\n",
    "f1 = l1.fit_transform(allen1['company']) \n",
    "f1 = pd.DataFrame(data=f1, columns=['company'])"
   ]
  },
  {
   "cell_type": "markdown",
   "metadata": {},
   "source": [
    "### Area"
   ]
  },
  {
   "cell_type": "code",
   "execution_count": 669,
   "metadata": {
    "colab": {
     "base_uri": "https://localhost:8080/"
    },
    "id": "vEoNa2rdXzcT",
    "outputId": "42115dbc-6115-45e5-9769-521665416e5d"
   },
   "outputs": [],
   "source": [
    "l2 = preprocessing.LabelEncoder()\n",
    "f2 = l2.fit_transform(allen1['Area of work']) \n",
    "f2 = pd.DataFrame(data=f2, columns=['Area of work'])"
   ]
  },
  {
   "cell_type": "markdown",
   "metadata": {},
   "source": [
    "### Gender"
   ]
  },
  {
   "cell_type": "code",
   "execution_count": 670,
   "metadata": {
    "colab": {
     "base_uri": "https://localhost:8080/"
    },
    "id": "9SaK6KlFYGag",
    "outputId": "9782270f-8fbd-45a4-9892-787792e22d79"
   },
   "outputs": [],
   "source": [
    "l3 = preprocessing.LabelEncoder()\n",
    "f3 = l3.fit_transform(allen1['Gender']) \n",
    "f3 = pd.DataFrame(data=f3, columns=['Gender'])"
   ]
  },
  {
   "cell_type": "markdown",
   "metadata": {},
   "source": [
    "### Qualification"
   ]
  },
  {
   "cell_type": "code",
   "execution_count": 671,
   "metadata": {
    "colab": {
     "base_uri": "https://localhost:8080/"
    },
    "id": "J7ZS-GjHYQC2",
    "outputId": "22336505-ce11-49a0-d74b-904ca9f2b514"
   },
   "outputs": [],
   "source": [
    "l4 = preprocessing.LabelEncoder()\n",
    "f4 = l4.fit_transform(allen1['Qualification']) \n",
    "f4 = pd.DataFrame(data=f4, columns=['Qualification'])"
   ]
  },
  {
   "cell_type": "markdown",
   "metadata": {},
   "source": [
    "### Updation"
   ]
  },
  {
   "cell_type": "code",
   "execution_count": 672,
   "metadata": {
    "id": "u4StNldVYagF"
   },
   "outputs": [],
   "source": [
    "allen1['company'] = f1['company']\n",
    "allen1['Area of work'] = f2['Area of work']\n",
    "allen1['Gender'] = f3['Gender']\n",
    "allen1['Qualification'] = f4['Qualification']"
   ]
  },
  {
   "cell_type": "markdown",
   "metadata": {},
   "source": [
    "# Dataset.csv - MinMaxScaler "
   ]
  },
  {
   "cell_type": "code",
   "execution_count": 673,
   "metadata": {
    "id": "RVeH-pdNaC4t"
   },
   "outputs": [],
   "source": [
    "ms = MinMaxScaler()\n",
    "columns = ['Age ','no of experience in years']\n",
    "allen1[columns] = ms.fit_transform(allen1[columns])"
   ]
  },
  {
   "cell_type": "code",
   "execution_count": 674,
   "metadata": {
    "colab": {
     "base_uri": "https://localhost:8080/",
     "height": 204
    },
    "id": "kW1JDIp9YyR7",
    "outputId": "59248f04-3b27-45a1-fc97-eb8eb202c005"
   },
   "outputs": [
    {
     "data": {
      "text/html": [
       "<div>\n",
       "<style scoped>\n",
       "    .dataframe tbody tr th:only-of-type {\n",
       "        vertical-align: middle;\n",
       "    }\n",
       "\n",
       "    .dataframe tbody tr th {\n",
       "        vertical-align: top;\n",
       "    }\n",
       "\n",
       "    .dataframe thead th {\n",
       "        text-align: right;\n",
       "    }\n",
       "</style>\n",
       "<table border=\"1\" class=\"dataframe\">\n",
       "  <thead>\n",
       "    <tr style=\"text-align: right;\">\n",
       "      <th></th>\n",
       "      <th>S.No</th>\n",
       "      <th>company</th>\n",
       "      <th>Age</th>\n",
       "      <th>Gender</th>\n",
       "      <th>Qualification</th>\n",
       "      <th>no of experience in years</th>\n",
       "      <th>Area of work</th>\n",
       "      <th>salary package per month</th>\n",
       "    </tr>\n",
       "  </thead>\n",
       "  <tbody>\n",
       "    <tr>\n",
       "      <th>0</th>\n",
       "      <td>1</td>\n",
       "      <td>0</td>\n",
       "      <td>0.000000</td>\n",
       "      <td>1</td>\n",
       "      <td>0</td>\n",
       "      <td>0.000000</td>\n",
       "      <td>3</td>\n",
       "      <td>30000</td>\n",
       "    </tr>\n",
       "    <tr>\n",
       "      <th>1</th>\n",
       "      <td>2</td>\n",
       "      <td>0</td>\n",
       "      <td>0.136364</td>\n",
       "      <td>0</td>\n",
       "      <td>1</td>\n",
       "      <td>0.047619</td>\n",
       "      <td>2</td>\n",
       "      <td>50000</td>\n",
       "    </tr>\n",
       "    <tr>\n",
       "      <th>2</th>\n",
       "      <td>3</td>\n",
       "      <td>0</td>\n",
       "      <td>0.409091</td>\n",
       "      <td>1</td>\n",
       "      <td>1</td>\n",
       "      <td>0.238095</td>\n",
       "      <td>1</td>\n",
       "      <td>120000</td>\n",
       "    </tr>\n",
       "    <tr>\n",
       "      <th>3</th>\n",
       "      <td>4</td>\n",
       "      <td>0</td>\n",
       "      <td>0.090909</td>\n",
       "      <td>1</td>\n",
       "      <td>0</td>\n",
       "      <td>0.095238</td>\n",
       "      <td>3</td>\n",
       "      <td>42000</td>\n",
       "    </tr>\n",
       "    <tr>\n",
       "      <th>4</th>\n",
       "      <td>5</td>\n",
       "      <td>0</td>\n",
       "      <td>0.000000</td>\n",
       "      <td>0</td>\n",
       "      <td>0</td>\n",
       "      <td>0.000000</td>\n",
       "      <td>2</td>\n",
       "      <td>35000</td>\n",
       "    </tr>\n",
       "  </tbody>\n",
       "</table>\n",
       "</div>"
      ],
      "text/plain": [
       "   S.No  company      Age   Gender  Qualification  no of experience in years  \\\n",
       "0     1        0  0.000000       1              0                   0.000000   \n",
       "1     2        0  0.136364       0              1                   0.047619   \n",
       "2     3        0  0.409091       1              1                   0.238095   \n",
       "3     4        0  0.090909       1              0                   0.095238   \n",
       "4     5        0  0.000000       0              0                   0.000000   \n",
       "\n",
       "   Area of work  salary package per month  \n",
       "0             3                     30000  \n",
       "1             2                     50000  \n",
       "2             1                    120000  \n",
       "3             3                     42000  \n",
       "4             2                     35000  "
      ]
     },
     "execution_count": 674,
     "metadata": {},
     "output_type": "execute_result"
    }
   ],
   "source": [
    "allen1.head()"
   ]
  },
  {
   "cell_type": "markdown",
   "metadata": {},
   "source": [
    "# Dataset.csv - Index"
   ]
  },
  {
   "cell_type": "code",
   "execution_count": 675,
   "metadata": {},
   "outputs": [
    {
     "name": "stdout",
     "output_type": "stream",
     "text": [
      "['ABBB', 'Bashh', 'Link', 'Oxon', 'TSC', 'neuromorphic', 'palm', 'penguin ']\n"
     ]
    }
   ],
   "source": [
    "print(list(l1.inverse_transform([0,1,2,3,4,5,6,7])))"
   ]
  },
  {
   "cell_type": "code",
   "execution_count": 676,
   "metadata": {},
   "outputs": [
    {
     "name": "stdout",
     "output_type": "stream",
     "text": [
      "['Predective analysis', 'cloud server management', 'predective analysis', 'programming ']\n"
     ]
    }
   ],
   "source": [
    "print(list(l2.inverse_transform([0,1,2,3])))"
   ]
  },
  {
   "cell_type": "code",
   "execution_count": 677,
   "metadata": {},
   "outputs": [
    {
     "name": "stdout",
     "output_type": "stream",
     "text": [
      "['F', 'M']\n"
     ]
    }
   ],
   "source": [
    "print(list(l3.inverse_transform([0,1])))"
   ]
  },
  {
   "cell_type": "code",
   "execution_count": 678,
   "metadata": {},
   "outputs": [
    {
     "name": "stdout",
     "output_type": "stream",
     "text": [
      "['B.E', 'M.E']\n"
     ]
    }
   ],
   "source": [
    "print(list(l4.inverse_transform([0,1])))"
   ]
  },
  {
   "cell_type": "markdown",
   "metadata": {},
   "source": [
    "# Training"
   ]
  },
  {
   "cell_type": "code",
   "execution_count": 679,
   "metadata": {},
   "outputs": [
    {
     "data": {
      "text/html": [
       "<div>\n",
       "<style scoped>\n",
       "    .dataframe tbody tr th:only-of-type {\n",
       "        vertical-align: middle;\n",
       "    }\n",
       "\n",
       "    .dataframe tbody tr th {\n",
       "        vertical-align: top;\n",
       "    }\n",
       "\n",
       "    .dataframe thead th {\n",
       "        text-align: right;\n",
       "    }\n",
       "</style>\n",
       "<table border=\"1\" class=\"dataframe\">\n",
       "  <thead>\n",
       "    <tr style=\"text-align: right;\">\n",
       "      <th></th>\n",
       "      <th>company</th>\n",
       "      <th>Age</th>\n",
       "      <th>Gender</th>\n",
       "      <th>Qualification</th>\n",
       "      <th>no of experience in years</th>\n",
       "      <th>Area of work</th>\n",
       "    </tr>\n",
       "  </thead>\n",
       "  <tbody>\n",
       "    <tr>\n",
       "      <th>0</th>\n",
       "      <td>0</td>\n",
       "      <td>0.000000</td>\n",
       "      <td>1</td>\n",
       "      <td>0</td>\n",
       "      <td>0.000000</td>\n",
       "      <td>3</td>\n",
       "    </tr>\n",
       "    <tr>\n",
       "      <th>1</th>\n",
       "      <td>0</td>\n",
       "      <td>0.136364</td>\n",
       "      <td>0</td>\n",
       "      <td>1</td>\n",
       "      <td>0.047619</td>\n",
       "      <td>2</td>\n",
       "    </tr>\n",
       "    <tr>\n",
       "      <th>2</th>\n",
       "      <td>0</td>\n",
       "      <td>0.409091</td>\n",
       "      <td>1</td>\n",
       "      <td>1</td>\n",
       "      <td>0.238095</td>\n",
       "      <td>1</td>\n",
       "    </tr>\n",
       "    <tr>\n",
       "      <th>3</th>\n",
       "      <td>0</td>\n",
       "      <td>0.090909</td>\n",
       "      <td>1</td>\n",
       "      <td>0</td>\n",
       "      <td>0.095238</td>\n",
       "      <td>3</td>\n",
       "    </tr>\n",
       "    <tr>\n",
       "      <th>4</th>\n",
       "      <td>0</td>\n",
       "      <td>0.000000</td>\n",
       "      <td>0</td>\n",
       "      <td>0</td>\n",
       "      <td>0.000000</td>\n",
       "      <td>2</td>\n",
       "    </tr>\n",
       "  </tbody>\n",
       "</table>\n",
       "</div>"
      ],
      "text/plain": [
       "   company      Age   Gender  Qualification  no of experience in years  \\\n",
       "0        0  0.000000       1              0                   0.000000   \n",
       "1        0  0.136364       0              1                   0.047619   \n",
       "2        0  0.409091       1              1                   0.238095   \n",
       "3        0  0.090909       1              0                   0.095238   \n",
       "4        0  0.000000       0              0                   0.000000   \n",
       "\n",
       "   Area of work  \n",
       "0             3  \n",
       "1             2  \n",
       "2             1  \n",
       "3             3  \n",
       "4             2  "
      ]
     },
     "execution_count": 679,
     "metadata": {},
     "output_type": "execute_result"
    }
   ],
   "source": [
    "x = allen1.drop(['S.No','salary package per month'],axis=1)\n",
    "x.head()"
   ]
  },
  {
   "cell_type": "code",
   "execution_count": 680,
   "metadata": {},
   "outputs": [],
   "source": [
    "y = allen1['salary package per month']"
   ]
  },
  {
   "cell_type": "code",
   "execution_count": 681,
   "metadata": {},
   "outputs": [],
   "source": [
    "xtrain, xtest, ytrain, ytest = train_test_split(x,y,test_size=0.48,random_state=1)"
   ]
  },
  {
   "cell_type": "code",
   "execution_count": 682,
   "metadata": {
    "id": "-aRSs5mhdtD4"
   },
   "outputs": [
    {
     "name": "stdout",
     "output_type": "stream",
     "text": [
      "0.8081462969225229\n"
     ]
    }
   ],
   "source": [
    "model = LinearRegression()\n",
    "model.fit(xtrain,ytrain)\n",
    "p = model.predict(xtest)\n",
    "print(r2_score(ytest, p))"
   ]
  },
  {
   "cell_type": "markdown",
   "metadata": {},
   "source": [
    "# Test.csv - Creation\n",
    "\n",
    "### Assignment Q1"
   ]
  },
  {
   "cell_type": "code",
   "execution_count": 683,
   "metadata": {},
   "outputs": [],
   "source": [
    "companies = list(l1.inverse_transform([0,1,2,3,4,5,6,7]))"
   ]
  },
  {
   "cell_type": "code",
   "execution_count": 684,
   "metadata": {},
   "outputs": [],
   "source": [
    "allen2 = 0\n",
    "allen2 = pd.DataFrame(columns=['company','Age ','Gender','Qualification','no of experience in years','Area of work'])"
   ]
  },
  {
   "cell_type": "code",
   "execution_count": 685,
   "metadata": {},
   "outputs": [],
   "source": [
    "for i in range(0,len(companies)):\n",
    "    init = {\"company\": companies[i], \n",
    "            \"Age \": 35,\n",
    "            \"Gender\": \"F\",\n",
    "            \"Qualification\": \"B.E\",\n",
    "            \"no of experience in years\": 12,\n",
    "            \"Area of work\": \"cloud server management\"\n",
    "    }\n",
    "    allen2 = allen2.append(init, ignore_index=True)"
   ]
  },
  {
   "cell_type": "code",
   "execution_count": 686,
   "metadata": {},
   "outputs": [
    {
     "name": "stdout",
     "output_type": "stream",
     "text": [
      "        company Age  Gender Qualification no of experience in years             Area of work\n",
      "0          ABBB   35      F           B.E                        12  cloud server management\n",
      "1         Bashh   35      F           B.E                        12  cloud server management\n",
      "2          Link   35      F           B.E                        12  cloud server management\n",
      "3          Oxon   35      F           B.E                        12  cloud server management\n",
      "4           TSC   35      F           B.E                        12  cloud server management\n",
      "5  neuromorphic   35      F           B.E                        12  cloud server management\n",
      "6          palm   35      F           B.E                        12  cloud server management\n",
      "7      penguin    35      F           B.E                        12  cloud server management\n"
     ]
    }
   ],
   "source": [
    "print(allen2.to_string())"
   ]
  },
  {
   "cell_type": "markdown",
   "metadata": {},
   "source": [
    "# Test.csv - Label Encoding"
   ]
  },
  {
   "cell_type": "markdown",
   "metadata": {},
   "source": [
    "### Company"
   ]
  },
  {
   "cell_type": "code",
   "execution_count": 687,
   "metadata": {},
   "outputs": [],
   "source": [
    "l5 = preprocessing.LabelEncoder()\n",
    "f5 = l5.fit_transform(allen2['company']) \n",
    "f5 = pd.DataFrame(data=f5, columns=['company'])"
   ]
  },
  {
   "cell_type": "markdown",
   "metadata": {},
   "source": [
    "### Area"
   ]
  },
  {
   "cell_type": "code",
   "execution_count": 688,
   "metadata": {},
   "outputs": [],
   "source": [
    "l6 = preprocessing.LabelEncoder()\n",
    "f6 = l6.fit_transform(allen2['Area of work']) \n",
    "f6 = pd.DataFrame(data=f6, columns=['Area of work'])"
   ]
  },
  {
   "cell_type": "markdown",
   "metadata": {},
   "source": [
    "### Gender"
   ]
  },
  {
   "cell_type": "code",
   "execution_count": 689,
   "metadata": {},
   "outputs": [],
   "source": [
    "l7 = preprocessing.LabelEncoder()\n",
    "f7 = l7.fit_transform(allen2['Gender']) \n",
    "f7 = pd.DataFrame(data=f7, columns=['Gender'])"
   ]
  },
  {
   "cell_type": "markdown",
   "metadata": {},
   "source": [
    "### Qualification"
   ]
  },
  {
   "cell_type": "code",
   "execution_count": 690,
   "metadata": {},
   "outputs": [],
   "source": [
    "l8 = preprocessing.LabelEncoder()\n",
    "f8 = l8.fit_transform(allen2['Qualification']) \n",
    "f8 = pd.DataFrame(data=f8, columns=['Qualification'])"
   ]
  },
  {
   "cell_type": "markdown",
   "metadata": {},
   "source": [
    "### Updation"
   ]
  },
  {
   "cell_type": "code",
   "execution_count": 691,
   "metadata": {},
   "outputs": [],
   "source": [
    "allen2['company'] = f5['company']\n",
    "allen2['Area of work'] = f6['Area of work']\n",
    "allen2['Gender'] = f7['Gender']\n",
    "allen2['Qualification'] = f8['Qualification']"
   ]
  },
  {
   "cell_type": "markdown",
   "metadata": {},
   "source": [
    "# Test.csv - MinMaxScaler"
   ]
  },
  {
   "cell_type": "code",
   "execution_count": 692,
   "metadata": {},
   "outputs": [],
   "source": [
    "ms = MinMaxScaler()\n",
    "columns = ['Age ','no of experience in years']\n",
    "allen2[columns] = ms.fit_transform(allen2[columns])"
   ]
  },
  {
   "cell_type": "markdown",
   "metadata": {},
   "source": [
    "# Test.csv - Prediction"
   ]
  },
  {
   "cell_type": "code",
   "execution_count": 693,
   "metadata": {
    "colab": {
     "base_uri": "https://localhost:8080/"
    },
    "id": "O0mHBlaIlQH3",
    "outputId": "3ee38177-8415-49f4-e9ee-e41f41c8d15c",
    "scrolled": true
   },
   "outputs": [
    {
     "data": {
      "text/html": [
       "<div>\n",
       "<style scoped>\n",
       "    .dataframe tbody tr th:only-of-type {\n",
       "        vertical-align: middle;\n",
       "    }\n",
       "\n",
       "    .dataframe tbody tr th {\n",
       "        vertical-align: top;\n",
       "    }\n",
       "\n",
       "    .dataframe thead th {\n",
       "        text-align: right;\n",
       "    }\n",
       "</style>\n",
       "<table border=\"1\" class=\"dataframe\">\n",
       "  <thead>\n",
       "    <tr style=\"text-align: right;\">\n",
       "      <th></th>\n",
       "      <th>company</th>\n",
       "      <th>Age</th>\n",
       "      <th>Gender</th>\n",
       "      <th>Qualification</th>\n",
       "      <th>no of experience in years</th>\n",
       "      <th>Area of work</th>\n",
       "    </tr>\n",
       "  </thead>\n",
       "  <tbody>\n",
       "    <tr>\n",
       "      <th>0</th>\n",
       "      <td>0</td>\n",
       "      <td>0.0</td>\n",
       "      <td>0</td>\n",
       "      <td>0</td>\n",
       "      <td>0.0</td>\n",
       "      <td>0</td>\n",
       "    </tr>\n",
       "    <tr>\n",
       "      <th>1</th>\n",
       "      <td>1</td>\n",
       "      <td>0.0</td>\n",
       "      <td>0</td>\n",
       "      <td>0</td>\n",
       "      <td>0.0</td>\n",
       "      <td>0</td>\n",
       "    </tr>\n",
       "    <tr>\n",
       "      <th>2</th>\n",
       "      <td>2</td>\n",
       "      <td>0.0</td>\n",
       "      <td>0</td>\n",
       "      <td>0</td>\n",
       "      <td>0.0</td>\n",
       "      <td>0</td>\n",
       "    </tr>\n",
       "    <tr>\n",
       "      <th>3</th>\n",
       "      <td>3</td>\n",
       "      <td>0.0</td>\n",
       "      <td>0</td>\n",
       "      <td>0</td>\n",
       "      <td>0.0</td>\n",
       "      <td>0</td>\n",
       "    </tr>\n",
       "    <tr>\n",
       "      <th>4</th>\n",
       "      <td>4</td>\n",
       "      <td>0.0</td>\n",
       "      <td>0</td>\n",
       "      <td>0</td>\n",
       "      <td>0.0</td>\n",
       "      <td>0</td>\n",
       "    </tr>\n",
       "    <tr>\n",
       "      <th>5</th>\n",
       "      <td>5</td>\n",
       "      <td>0.0</td>\n",
       "      <td>0</td>\n",
       "      <td>0</td>\n",
       "      <td>0.0</td>\n",
       "      <td>0</td>\n",
       "    </tr>\n",
       "    <tr>\n",
       "      <th>6</th>\n",
       "      <td>6</td>\n",
       "      <td>0.0</td>\n",
       "      <td>0</td>\n",
       "      <td>0</td>\n",
       "      <td>0.0</td>\n",
       "      <td>0</td>\n",
       "    </tr>\n",
       "    <tr>\n",
       "      <th>7</th>\n",
       "      <td>7</td>\n",
       "      <td>0.0</td>\n",
       "      <td>0</td>\n",
       "      <td>0</td>\n",
       "      <td>0.0</td>\n",
       "      <td>0</td>\n",
       "    </tr>\n",
       "  </tbody>\n",
       "</table>\n",
       "</div>"
      ],
      "text/plain": [
       "   company  Age   Gender  Qualification  no of experience in years  \\\n",
       "0        0   0.0       0              0                        0.0   \n",
       "1        1   0.0       0              0                        0.0   \n",
       "2        2   0.0       0              0                        0.0   \n",
       "3        3   0.0       0              0                        0.0   \n",
       "4        4   0.0       0              0                        0.0   \n",
       "5        5   0.0       0              0                        0.0   \n",
       "6        6   0.0       0              0                        0.0   \n",
       "7        7   0.0       0              0                        0.0   \n",
       "\n",
       "   Area of work  \n",
       "0             0  \n",
       "1             0  \n",
       "2             0  \n",
       "3             0  \n",
       "4             0  \n",
       "5             0  \n",
       "6             0  \n",
       "7             0  "
      ]
     },
     "execution_count": 693,
     "metadata": {},
     "output_type": "execute_result"
    }
   ],
   "source": [
    "allen2.head(8)"
   ]
  },
  {
   "cell_type": "code",
   "execution_count": 694,
   "metadata": {
    "id": "ssWTzPknlYhc"
   },
   "outputs": [],
   "source": [
    "p2 = model.predict(allen2)"
   ]
  },
  {
   "cell_type": "code",
   "execution_count": 695,
   "metadata": {
    "id": "M0eNGPmNldF0"
   },
   "outputs": [
    {
     "data": {
      "text/html": [
       "<div>\n",
       "<style scoped>\n",
       "    .dataframe tbody tr th:only-of-type {\n",
       "        vertical-align: middle;\n",
       "    }\n",
       "\n",
       "    .dataframe tbody tr th {\n",
       "        vertical-align: top;\n",
       "    }\n",
       "\n",
       "    .dataframe thead th {\n",
       "        text-align: right;\n",
       "    }\n",
       "</style>\n",
       "<table border=\"1\" class=\"dataframe\">\n",
       "  <thead>\n",
       "    <tr style=\"text-align: right;\">\n",
       "      <th></th>\n",
       "      <th>company</th>\n",
       "      <th>Age</th>\n",
       "      <th>Gender</th>\n",
       "      <th>Qualification</th>\n",
       "      <th>no of experience in years</th>\n",
       "      <th>Area of work</th>\n",
       "      <th>salary</th>\n",
       "    </tr>\n",
       "  </thead>\n",
       "  <tbody>\n",
       "    <tr>\n",
       "      <th>0</th>\n",
       "      <td>0</td>\n",
       "      <td>0.0</td>\n",
       "      <td>0</td>\n",
       "      <td>0</td>\n",
       "      <td>0.0</td>\n",
       "      <td>0</td>\n",
       "      <td>69879.291815</td>\n",
       "    </tr>\n",
       "    <tr>\n",
       "      <th>1</th>\n",
       "      <td>1</td>\n",
       "      <td>0.0</td>\n",
       "      <td>0</td>\n",
       "      <td>0</td>\n",
       "      <td>0.0</td>\n",
       "      <td>0</td>\n",
       "      <td>63828.111187</td>\n",
       "    </tr>\n",
       "    <tr>\n",
       "      <th>2</th>\n",
       "      <td>2</td>\n",
       "      <td>0.0</td>\n",
       "      <td>0</td>\n",
       "      <td>0</td>\n",
       "      <td>0.0</td>\n",
       "      <td>0</td>\n",
       "      <td>57776.930560</td>\n",
       "    </tr>\n",
       "    <tr>\n",
       "      <th>3</th>\n",
       "      <td>3</td>\n",
       "      <td>0.0</td>\n",
       "      <td>0</td>\n",
       "      <td>0</td>\n",
       "      <td>0.0</td>\n",
       "      <td>0</td>\n",
       "      <td>51725.749932</td>\n",
       "    </tr>\n",
       "    <tr>\n",
       "      <th>4</th>\n",
       "      <td>4</td>\n",
       "      <td>0.0</td>\n",
       "      <td>0</td>\n",
       "      <td>0</td>\n",
       "      <td>0.0</td>\n",
       "      <td>0</td>\n",
       "      <td>45674.569305</td>\n",
       "    </tr>\n",
       "    <tr>\n",
       "      <th>5</th>\n",
       "      <td>5</td>\n",
       "      <td>0.0</td>\n",
       "      <td>0</td>\n",
       "      <td>0</td>\n",
       "      <td>0.0</td>\n",
       "      <td>0</td>\n",
       "      <td>39623.388678</td>\n",
       "    </tr>\n",
       "    <tr>\n",
       "      <th>6</th>\n",
       "      <td>6</td>\n",
       "      <td>0.0</td>\n",
       "      <td>0</td>\n",
       "      <td>0</td>\n",
       "      <td>0.0</td>\n",
       "      <td>0</td>\n",
       "      <td>33572.208050</td>\n",
       "    </tr>\n",
       "    <tr>\n",
       "      <th>7</th>\n",
       "      <td>7</td>\n",
       "      <td>0.0</td>\n",
       "      <td>0</td>\n",
       "      <td>0</td>\n",
       "      <td>0.0</td>\n",
       "      <td>0</td>\n",
       "      <td>27521.027423</td>\n",
       "    </tr>\n",
       "  </tbody>\n",
       "</table>\n",
       "</div>"
      ],
      "text/plain": [
       "   company  Age   Gender  Qualification  no of experience in years  \\\n",
       "0        0   0.0       0              0                        0.0   \n",
       "1        1   0.0       0              0                        0.0   \n",
       "2        2   0.0       0              0                        0.0   \n",
       "3        3   0.0       0              0                        0.0   \n",
       "4        4   0.0       0              0                        0.0   \n",
       "5        5   0.0       0              0                        0.0   \n",
       "6        6   0.0       0              0                        0.0   \n",
       "7        7   0.0       0              0                        0.0   \n",
       "\n",
       "   Area of work        salary  \n",
       "0             0  69879.291815  \n",
       "1             0  63828.111187  \n",
       "2             0  57776.930560  \n",
       "3             0  51725.749932  \n",
       "4             0  45674.569305  \n",
       "5             0  39623.388678  \n",
       "6             0  33572.208050  \n",
       "7             0  27521.027423  "
      ]
     },
     "execution_count": 695,
     "metadata": {},
     "output_type": "execute_result"
    }
   ],
   "source": [
    "allen2['salary'] = p2\n",
    "allen2.head(8)"
   ]
  },
  {
   "cell_type": "markdown",
   "metadata": {},
   "source": [
    "# Test.csv - Index"
   ]
  },
  {
   "cell_type": "code",
   "execution_count": 696,
   "metadata": {},
   "outputs": [
    {
     "name": "stdout",
     "output_type": "stream",
     "text": [
      "['ABBB' 'Bashh' 'Link' 'Oxon' 'TSC' 'neuromorphic' 'palm' 'penguin ']\n"
     ]
    }
   ],
   "source": [
    "print(l5.inverse_transform(f5['company']))\n",
    "allen2['company'] = l5.inverse_transform(f5['company'])"
   ]
  },
  {
   "cell_type": "code",
   "execution_count": 697,
   "metadata": {},
   "outputs": [
    {
     "name": "stdout",
     "output_type": "stream",
     "text": [
      "['cloud server management' 'cloud server management'\n",
      " 'cloud server management' 'cloud server management'\n",
      " 'cloud server management' 'cloud server management'\n",
      " 'cloud server management' 'cloud server management']\n"
     ]
    }
   ],
   "source": [
    "print(l6.inverse_transform(f6['Area of work']))\n",
    "allen2['Area of work'] = l6.inverse_transform(f6['Area of work'])"
   ]
  },
  {
   "cell_type": "code",
   "execution_count": 698,
   "metadata": {},
   "outputs": [
    {
     "name": "stdout",
     "output_type": "stream",
     "text": [
      "['F' 'F' 'F' 'F' 'F' 'F' 'F' 'F']\n"
     ]
    }
   ],
   "source": [
    "print(l7.inverse_transform(f7['Gender']))\n",
    "allen2['Gender'] = l7.inverse_transform(f7['Gender'])"
   ]
  },
  {
   "cell_type": "code",
   "execution_count": 699,
   "metadata": {},
   "outputs": [
    {
     "name": "stdout",
     "output_type": "stream",
     "text": [
      "['B.E' 'B.E' 'B.E' 'B.E' 'B.E' 'B.E' 'B.E' 'B.E']\n"
     ]
    }
   ],
   "source": [
    "print(l8.inverse_transform(f8['Qualification']))\n",
    "allen2['Qualification'] = l8.inverse_transform(f8['Qualification'])"
   ]
  },
  {
   "cell_type": "code",
   "execution_count": 700,
   "metadata": {},
   "outputs": [
    {
     "name": "stdout",
     "output_type": "stream",
     "text": [
      "[[35. 12.]\n",
      " [35. 12.]\n",
      " [35. 12.]\n",
      " [35. 12.]\n",
      " [35. 12.]\n",
      " [35. 12.]\n",
      " [35. 12.]\n",
      " [35. 12.]]\n"
     ]
    }
   ],
   "source": [
    "print(ms.inverse_transform(allen2[columns]))\n",
    "allen2[columns] = ms.inverse_transform(allen2[columns])"
   ]
  },
  {
   "cell_type": "code",
   "execution_count": 701,
   "metadata": {
    "colab": {
     "base_uri": "https://localhost:8080/",
     "height": 297
    },
    "id": "xVdfSkEDmSXn",
    "outputId": "51d4f669-bfbc-4ede-e1c8-d74efd6c5aae"
   },
   "outputs": [
    {
     "data": {
      "text/html": [
       "<div>\n",
       "<style scoped>\n",
       "    .dataframe tbody tr th:only-of-type {\n",
       "        vertical-align: middle;\n",
       "    }\n",
       "\n",
       "    .dataframe tbody tr th {\n",
       "        vertical-align: top;\n",
       "    }\n",
       "\n",
       "    .dataframe thead th {\n",
       "        text-align: right;\n",
       "    }\n",
       "</style>\n",
       "<table border=\"1\" class=\"dataframe\">\n",
       "  <thead>\n",
       "    <tr style=\"text-align: right;\">\n",
       "      <th></th>\n",
       "      <th>company</th>\n",
       "      <th>Age</th>\n",
       "      <th>Gender</th>\n",
       "      <th>Qualification</th>\n",
       "      <th>no of experience in years</th>\n",
       "      <th>Area of work</th>\n",
       "      <th>salary</th>\n",
       "    </tr>\n",
       "  </thead>\n",
       "  <tbody>\n",
       "    <tr>\n",
       "      <th>0</th>\n",
       "      <td>ABBB</td>\n",
       "      <td>35.0</td>\n",
       "      <td>F</td>\n",
       "      <td>B.E</td>\n",
       "      <td>12.0</td>\n",
       "      <td>cloud server management</td>\n",
       "      <td>69879.291815</td>\n",
       "    </tr>\n",
       "    <tr>\n",
       "      <th>1</th>\n",
       "      <td>Bashh</td>\n",
       "      <td>35.0</td>\n",
       "      <td>F</td>\n",
       "      <td>B.E</td>\n",
       "      <td>12.0</td>\n",
       "      <td>cloud server management</td>\n",
       "      <td>63828.111187</td>\n",
       "    </tr>\n",
       "    <tr>\n",
       "      <th>2</th>\n",
       "      <td>Link</td>\n",
       "      <td>35.0</td>\n",
       "      <td>F</td>\n",
       "      <td>B.E</td>\n",
       "      <td>12.0</td>\n",
       "      <td>cloud server management</td>\n",
       "      <td>57776.930560</td>\n",
       "    </tr>\n",
       "    <tr>\n",
       "      <th>3</th>\n",
       "      <td>Oxon</td>\n",
       "      <td>35.0</td>\n",
       "      <td>F</td>\n",
       "      <td>B.E</td>\n",
       "      <td>12.0</td>\n",
       "      <td>cloud server management</td>\n",
       "      <td>51725.749932</td>\n",
       "    </tr>\n",
       "    <tr>\n",
       "      <th>4</th>\n",
       "      <td>TSC</td>\n",
       "      <td>35.0</td>\n",
       "      <td>F</td>\n",
       "      <td>B.E</td>\n",
       "      <td>12.0</td>\n",
       "      <td>cloud server management</td>\n",
       "      <td>45674.569305</td>\n",
       "    </tr>\n",
       "    <tr>\n",
       "      <th>5</th>\n",
       "      <td>neuromorphic</td>\n",
       "      <td>35.0</td>\n",
       "      <td>F</td>\n",
       "      <td>B.E</td>\n",
       "      <td>12.0</td>\n",
       "      <td>cloud server management</td>\n",
       "      <td>39623.388678</td>\n",
       "    </tr>\n",
       "    <tr>\n",
       "      <th>6</th>\n",
       "      <td>palm</td>\n",
       "      <td>35.0</td>\n",
       "      <td>F</td>\n",
       "      <td>B.E</td>\n",
       "      <td>12.0</td>\n",
       "      <td>cloud server management</td>\n",
       "      <td>33572.208050</td>\n",
       "    </tr>\n",
       "    <tr>\n",
       "      <th>7</th>\n",
       "      <td>penguin</td>\n",
       "      <td>35.0</td>\n",
       "      <td>F</td>\n",
       "      <td>B.E</td>\n",
       "      <td>12.0</td>\n",
       "      <td>cloud server management</td>\n",
       "      <td>27521.027423</td>\n",
       "    </tr>\n",
       "  </tbody>\n",
       "</table>\n",
       "</div>"
      ],
      "text/plain": [
       "        company  Age  Gender Qualification  no of experience in years  \\\n",
       "0          ABBB  35.0      F           B.E                       12.0   \n",
       "1         Bashh  35.0      F           B.E                       12.0   \n",
       "2          Link  35.0      F           B.E                       12.0   \n",
       "3          Oxon  35.0      F           B.E                       12.0   \n",
       "4           TSC  35.0      F           B.E                       12.0   \n",
       "5  neuromorphic  35.0      F           B.E                       12.0   \n",
       "6          palm  35.0      F           B.E                       12.0   \n",
       "7      penguin   35.0      F           B.E                       12.0   \n",
       "\n",
       "              Area of work        salary  \n",
       "0  cloud server management  69879.291815  \n",
       "1  cloud server management  63828.111187  \n",
       "2  cloud server management  57776.930560  \n",
       "3  cloud server management  51725.749932  \n",
       "4  cloud server management  45674.569305  \n",
       "5  cloud server management  39623.388678  \n",
       "6  cloud server management  33572.208050  \n",
       "7  cloud server management  27521.027423  "
      ]
     },
     "execution_count": 701,
     "metadata": {},
     "output_type": "execute_result"
    }
   ],
   "source": [
    "allen2.head(8)"
   ]
  },
  {
   "cell_type": "markdown",
   "metadata": {},
   "source": [
    "# Test.csv - Save"
   ]
  },
  {
   "cell_type": "code",
   "execution_count": 702,
   "metadata": {
    "id": "jhhBjh9in4UR"
   },
   "outputs": [],
   "source": [
    "allen2.to_csv('Test.csv')"
   ]
  }
 ],
 "metadata": {
  "colab": {
   "collapsed_sections": [],
   "name": "NASSCOM LAB DA 4.ipynb",
   "provenance": [],
   "toc_visible": true
  },
  "kernelspec": {
   "display_name": "Python 3",
   "language": "python",
   "name": "python3"
  },
  "language_info": {
   "codemirror_mode": {
    "name": "ipython",
    "version": 3
   },
   "file_extension": ".py",
   "mimetype": "text/x-python",
   "name": "python",
   "nbconvert_exporter": "python",
   "pygments_lexer": "ipython3",
   "version": "3.8.3"
  }
 },
 "nbformat": 4,
 "nbformat_minor": 1
}