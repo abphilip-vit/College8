{
 "cells": [
  {
   "cell_type": "markdown",
   "metadata": {},
   "source": [
    "# Import Libraries"
   ]
  },
  {
   "cell_type": "code",
   "execution_count": 42,
   "metadata": {
    "id": "s9IvUwnBSCl2"
   },
   "outputs": [],
   "source": [
    "import pandas as pd\n",
    "import numpy as np\n",
    "import seaborn as sns\n",
    "import matplotlib.pyplot as plt\n",
    "from sklearn import preprocessing\n",
    "from sklearn.metrics import accuracy_score, log_loss, confusion_matrix\n",
    "from sklearn.model_selection import train_test_split\n",
    "from sklearn.ensemble import RandomForestClassifier\n",
    "from sklearn.preprocessing import MinMaxScaler"
   ]
  },
  {
   "cell_type": "markdown",
   "metadata": {
    "id": "RyP9iy-qZY4k"
   },
   "source": [
    "# Dataset"
   ]
  },
  {
   "cell_type": "code",
   "execution_count": 43,
   "metadata": {},
   "outputs": [],
   "source": [
    "allen = pd.read_csv(\"Dataset.csv\")"
   ]
  },
  {
   "cell_type": "code",
   "execution_count": 44,
   "metadata": {
    "colab": {
     "base_uri": "https://localhost:8080/",
     "height": 204
    },
    "id": "87jf1rTUZL5C",
    "outputId": "5b060829-317b-425b-c5fb-c67c502aefb6"
   },
   "outputs": [
    {
     "output_type": "execute_result",
     "data": {
      "text/plain": [
       "   PNO  AGE GENDER  DIABETES SINCE (IN YRS)      OHS PAN CHEW SMOKING  \\\n",
       "0    1   45      F                        7  AVERAGE       NO      NO   \n",
       "1    2   51      M                       10     POOR       NO     YES   \n",
       "2    3   60      M                       25     POOR       NO     YES   \n",
       "3    4   56      F                        6  AVERAGE       NO      NO   \n",
       "4    5   62      M                       12     POOR       NO     YES   \n",
       "\n",
       "  ALCOHOLIC  TOTAL TOOTH PRESENT     GI     PI  TM G1  TMG2  TMG3  FUR TOOTH  \\\n",
       "0        NO                   32  1.780  5.875      3     0     0         14   \n",
       "1       YES                   31  1.806  6.451      6     0     1         13   \n",
       "2       YES                   15  2.466  8.000      5     4     6          7   \n",
       "3        NO                   27  1.370  5.037      2     2     0          9   \n",
       "4       YES                   14  2.857  8.000      4     7     3          5   \n",
       "\n",
       "  GRADING  \n",
       "0  SEVERE  \n",
       "1  SEVERE  \n",
       "2  SEVERE  \n",
       "3  SEVERE  \n",
       "4  SEVERE  "
      ],
      "text/html": "<div>\n<style scoped>\n    .dataframe tbody tr th:only-of-type {\n        vertical-align: middle;\n    }\n\n    .dataframe tbody tr th {\n        vertical-align: top;\n    }\n\n    .dataframe thead th {\n        text-align: right;\n    }\n</style>\n<table border=\"1\" class=\"dataframe\">\n  <thead>\n    <tr style=\"text-align: right;\">\n      <th></th>\n      <th>PNO</th>\n      <th>AGE</th>\n      <th>GENDER</th>\n      <th>DIABETES SINCE (IN YRS)</th>\n      <th>OHS</th>\n      <th>PAN CHEW</th>\n      <th>SMOKING</th>\n      <th>ALCOHOLIC</th>\n      <th>TOTAL TOOTH PRESENT</th>\n      <th>GI</th>\n      <th>PI</th>\n      <th>TM G1</th>\n      <th>TMG2</th>\n      <th>TMG3</th>\n      <th>FUR TOOTH</th>\n      <th>GRADING</th>\n    </tr>\n  </thead>\n  <tbody>\n    <tr>\n      <th>0</th>\n      <td>1</td>\n      <td>45</td>\n      <td>F</td>\n      <td>7</td>\n      <td>AVERAGE</td>\n      <td>NO</td>\n      <td>NO</td>\n      <td>NO</td>\n      <td>32</td>\n      <td>1.780</td>\n      <td>5.875</td>\n      <td>3</td>\n      <td>0</td>\n      <td>0</td>\n      <td>14</td>\n      <td>SEVERE</td>\n    </tr>\n    <tr>\n      <th>1</th>\n      <td>2</td>\n      <td>51</td>\n      <td>M</td>\n      <td>10</td>\n      <td>POOR</td>\n      <td>NO</td>\n      <td>YES</td>\n      <td>YES</td>\n      <td>31</td>\n      <td>1.806</td>\n      <td>6.451</td>\n      <td>6</td>\n      <td>0</td>\n      <td>1</td>\n      <td>13</td>\n      <td>SEVERE</td>\n    </tr>\n    <tr>\n      <th>2</th>\n      <td>3</td>\n      <td>60</td>\n      <td>M</td>\n      <td>25</td>\n      <td>POOR</td>\n      <td>NO</td>\n      <td>YES</td>\n      <td>YES</td>\n      <td>15</td>\n      <td>2.466</td>\n      <td>8.000</td>\n      <td>5</td>\n      <td>4</td>\n      <td>6</td>\n      <td>7</td>\n      <td>SEVERE</td>\n    </tr>\n    <tr>\n      <th>3</th>\n      <td>4</td>\n      <td>56</td>\n      <td>F</td>\n      <td>6</td>\n      <td>AVERAGE</td>\n      <td>NO</td>\n      <td>NO</td>\n      <td>NO</td>\n      <td>27</td>\n      <td>1.370</td>\n      <td>5.037</td>\n      <td>2</td>\n      <td>2</td>\n      <td>0</td>\n      <td>9</td>\n      <td>SEVERE</td>\n    </tr>\n    <tr>\n      <th>4</th>\n      <td>5</td>\n      <td>62</td>\n      <td>M</td>\n      <td>12</td>\n      <td>POOR</td>\n      <td>NO</td>\n      <td>YES</td>\n      <td>YES</td>\n      <td>14</td>\n      <td>2.857</td>\n      <td>8.000</td>\n      <td>4</td>\n      <td>7</td>\n      <td>3</td>\n      <td>5</td>\n      <td>SEVERE</td>\n    </tr>\n  </tbody>\n</table>\n</div>"
     },
     "metadata": {},
     "execution_count": 44
    }
   ],
   "source": [
    "allen.head()"
   ]
  },
  {
   "cell_type": "markdown",
   "metadata": {
    "id": "ZARWO8sZZb_P"
   },
   "source": [
    "# Preprocessing - Label Encoding"
   ]
  },
  {
   "cell_type": "markdown",
   "metadata": {
    "id": "kP_VdczWZ3il"
   },
   "source": [
    "### Grading"
   ]
  },
  {
   "cell_type": "code",
   "execution_count": 45,
   "metadata": {
    "colab": {
     "base_uri": "https://localhost:8080/"
    },
    "id": "hq5cTqHRZVas",
    "outputId": "bb951e55-38d9-4ed3-a619-0efca413130d"
   },
   "outputs": [],
   "source": [
    "l1 = preprocessing.LabelEncoder()\n",
    "f1 = l1.fit_transform(allen['GRADING']) \n",
    "f1 = pd.DataFrame(data=f1, columns=['GRADING'])"
   ]
  },
  {
   "cell_type": "markdown",
   "metadata": {},
   "source": [
    "### Alcoholic"
   ]
  },
  {
   "cell_type": "code",
   "execution_count": 46,
   "metadata": {
    "colab": {
     "base_uri": "https://localhost:8080/"
    },
    "id": "2Lf7FCe6ahnE",
    "outputId": "0d48ef2f-472d-4737-f9cc-3777433e7d4b"
   },
   "outputs": [],
   "source": [
    "l2 = preprocessing.LabelEncoder()\n",
    "f2 = l2.fit_transform(allen['ALCOHOLIC']) \n",
    "f2 = pd.DataFrame(data=f2, columns=['ALCOHOLIC'])"
   ]
  },
  {
   "cell_type": "markdown",
   "metadata": {},
   "source": [
    "### Smoking"
   ]
  },
  {
   "cell_type": "code",
   "execution_count": 47,
   "metadata": {
    "colab": {
     "base_uri": "https://localhost:8080/"
    },
    "id": "CDZByzRad8xx",
    "outputId": "60e43bfc-4ab1-44cb-9734-8ec79f593094"
   },
   "outputs": [],
   "source": [
    "l3 = preprocessing.LabelEncoder()\n",
    "f3 = l3.fit_transform(allen['SMOKING']) \n",
    "f3 = pd.DataFrame(data=f3, columns=['SMOKING'])"
   ]
  },
  {
   "cell_type": "markdown",
   "metadata": {},
   "source": [
    "### Pan"
   ]
  },
  {
   "cell_type": "code",
   "execution_count": 48,
   "metadata": {
    "colab": {
     "base_uri": "https://localhost:8080/"
    },
    "id": "aVugalwoeXpU",
    "outputId": "f2b03ab5-1eb0-45c6-c129-843656c0ff5a"
   },
   "outputs": [],
   "source": [
    "l4 = preprocessing.LabelEncoder()\n",
    "f4 = l4.fit_transform(allen['PAN CHEW']) \n",
    "f4 = pd.DataFrame(data=f4, columns=['PAN CHEW'])"
   ]
  },
  {
   "cell_type": "markdown",
   "metadata": {},
   "source": [
    "### OHS"
   ]
  },
  {
   "cell_type": "code",
   "execution_count": 49,
   "metadata": {
    "colab": {
     "base_uri": "https://localhost:8080/"
    },
    "id": "8rsn-o1UfMzc",
    "outputId": "18306a99-f973-4eb1-8181-e1be216dd7b9"
   },
   "outputs": [],
   "source": [
    "l5 = preprocessing.LabelEncoder()\n",
    "f5 = l5.fit_transform(allen['OHS']) \n",
    "f5 = pd.DataFrame(data=f5, columns=['OHS'])"
   ]
  },
  {
   "cell_type": "markdown",
   "metadata": {},
   "source": [
    "### Gender"
   ]
  },
  {
   "cell_type": "code",
   "execution_count": 50,
   "metadata": {
    "colab": {
     "base_uri": "https://localhost:8080/"
    },
    "id": "xdHNmBriIOo1",
    "outputId": "40f73c7c-244b-4025-a71c-f192c2431176"
   },
   "outputs": [],
   "source": [
    "l6 = preprocessing.LabelEncoder()\n",
    "f6 = l6.fit_transform(allen['GENDER']) \n",
    "f6 = pd.DataFrame(data=f6, columns=['GENDER'])"
   ]
  },
  {
   "cell_type": "markdown",
   "metadata": {},
   "source": [
    "### Updation"
   ]
  },
  {
   "cell_type": "code",
   "execution_count": 51,
   "metadata": {
    "colab": {
     "base_uri": "https://localhost:8080/",
     "height": 204
    },
    "id": "nLZ-HVcoKYbZ",
    "outputId": "bb612c51-189c-4707-a370-75532f78ecfc"
   },
   "outputs": [],
   "source": [
    "allen['GRADING'] = f1['GRADING']\n",
    "allen['ALCOHOLIC'] = f2['ALCOHOLIC']\n",
    "allen['SMOKING'] = f3['SMOKING']\n",
    "allen['PAN CHEW'] = f4['PAN CHEW']\n",
    "allen['OHS'] = f5['OHS']\n",
    "allen['GENDER'] = f6['GENDER']"
   ]
  },
  {
   "cell_type": "markdown",
   "metadata": {},
   "source": [
    "# Preprocessing - MinMaxScaler"
   ]
  },
  {
   "cell_type": "code",
   "execution_count": 52,
   "metadata": {
    "id": "sQyr51BRzECG"
   },
   "outputs": [],
   "source": [
    "ms = MinMaxScaler()\n",
    "columns = ['AGE','DIABETES SINCE (IN YRS)','TOTAL TOOTH PRESENT','GI','PI','TM G1','TMG2','TMG3','FUR TOOTH']\n",
    "allen[columns] = ms.fit_transform(allen[columns])"
   ]
  },
  {
   "cell_type": "code",
   "execution_count": 53,
   "metadata": {},
   "outputs": [
    {
     "output_type": "execute_result",
     "data": {
      "text/plain": [
       "   PNO    AGE  GENDER  DIABETES SINCE (IN YRS)  OHS  PAN CHEW  SMOKING  \\\n",
       "0    1  0.325       0                 0.230769    0         0        0   \n",
       "1    2  0.475       1                 0.346154    2         0        1   \n",
       "2    3  0.700       1                 0.923077    2         0        1   \n",
       "3    4  0.600       0                 0.192308    0         0        0   \n",
       "4    5  0.750       1                 0.423077    2         0        1   \n",
       "\n",
       "   ALCOHOLIC  TOTAL TOOTH PRESENT        GI        PI     TM G1      TMG2  \\\n",
       "0          0             1.000000  0.373921  0.583660  0.111111  0.000000   \n",
       "1          1             0.965517  0.386385  0.696513  0.222222  0.000000   \n",
       "2          1             0.413793  0.702780  1.000000  0.185185  0.210526   \n",
       "3          0             0.827586  0.177373  0.419475  0.074074  0.105263   \n",
       "4          1             0.379310  0.890221  1.000000  0.148148  0.368421   \n",
       "\n",
       "       TMG3  FUR TOOTH  GRADING  \n",
       "0  0.000000   1.000000        2  \n",
       "1  0.045455   0.928571        2  \n",
       "2  0.272727   0.500000        2  \n",
       "3  0.000000   0.642857        2  \n",
       "4  0.136364   0.357143        2  "
      ],
      "text/html": "<div>\n<style scoped>\n    .dataframe tbody tr th:only-of-type {\n        vertical-align: middle;\n    }\n\n    .dataframe tbody tr th {\n        vertical-align: top;\n    }\n\n    .dataframe thead th {\n        text-align: right;\n    }\n</style>\n<table border=\"1\" class=\"dataframe\">\n  <thead>\n    <tr style=\"text-align: right;\">\n      <th></th>\n      <th>PNO</th>\n      <th>AGE</th>\n      <th>GENDER</th>\n      <th>DIABETES SINCE (IN YRS)</th>\n      <th>OHS</th>\n      <th>PAN CHEW</th>\n      <th>SMOKING</th>\n      <th>ALCOHOLIC</th>\n      <th>TOTAL TOOTH PRESENT</th>\n      <th>GI</th>\n      <th>PI</th>\n      <th>TM G1</th>\n      <th>TMG2</th>\n      <th>TMG3</th>\n      <th>FUR TOOTH</th>\n      <th>GRADING</th>\n    </tr>\n  </thead>\n  <tbody>\n    <tr>\n      <th>0</th>\n      <td>1</td>\n      <td>0.325</td>\n      <td>0</td>\n      <td>0.230769</td>\n      <td>0</td>\n      <td>0</td>\n      <td>0</td>\n      <td>0</td>\n      <td>1.000000</td>\n      <td>0.373921</td>\n      <td>0.583660</td>\n      <td>0.111111</td>\n      <td>0.000000</td>\n      <td>0.000000</td>\n      <td>1.000000</td>\n      <td>2</td>\n    </tr>\n    <tr>\n      <th>1</th>\n      <td>2</td>\n      <td>0.475</td>\n      <td>1</td>\n      <td>0.346154</td>\n      <td>2</td>\n      <td>0</td>\n      <td>1</td>\n      <td>1</td>\n      <td>0.965517</td>\n      <td>0.386385</td>\n      <td>0.696513</td>\n      <td>0.222222</td>\n      <td>0.000000</td>\n      <td>0.045455</td>\n      <td>0.928571</td>\n      <td>2</td>\n    </tr>\n    <tr>\n      <th>2</th>\n      <td>3</td>\n      <td>0.700</td>\n      <td>1</td>\n      <td>0.923077</td>\n      <td>2</td>\n      <td>0</td>\n      <td>1</td>\n      <td>1</td>\n      <td>0.413793</td>\n      <td>0.702780</td>\n      <td>1.000000</td>\n      <td>0.185185</td>\n      <td>0.210526</td>\n      <td>0.272727</td>\n      <td>0.500000</td>\n      <td>2</td>\n    </tr>\n    <tr>\n      <th>3</th>\n      <td>4</td>\n      <td>0.600</td>\n      <td>0</td>\n      <td>0.192308</td>\n      <td>0</td>\n      <td>0</td>\n      <td>0</td>\n      <td>0</td>\n      <td>0.827586</td>\n      <td>0.177373</td>\n      <td>0.419475</td>\n      <td>0.074074</td>\n      <td>0.105263</td>\n      <td>0.000000</td>\n      <td>0.642857</td>\n      <td>2</td>\n    </tr>\n    <tr>\n      <th>4</th>\n      <td>5</td>\n      <td>0.750</td>\n      <td>1</td>\n      <td>0.423077</td>\n      <td>2</td>\n      <td>0</td>\n      <td>1</td>\n      <td>1</td>\n      <td>0.379310</td>\n      <td>0.890221</td>\n      <td>1.000000</td>\n      <td>0.148148</td>\n      <td>0.368421</td>\n      <td>0.136364</td>\n      <td>0.357143</td>\n      <td>2</td>\n    </tr>\n  </tbody>\n</table>\n</div>"
     },
     "metadata": {},
     "execution_count": 53
    }
   ],
   "source": [
    "allen.head()"
   ]
  },
  {
   "cell_type": "markdown",
   "metadata": {
    "id": "crrlZyeK1vU3"
   },
   "source": [
    "# Training"
   ]
  },
  {
   "cell_type": "code",
   "execution_count": 54,
   "metadata": {
    "colab": {
     "base_uri": "https://localhost:8080/",
     "height": 204
    },
    "id": "1E6I2IpxL96L",
    "outputId": "1f5af59a-a5b5-49c9-d719-ccc7994d2005"
   },
   "outputs": [],
   "source": [
    "x = allen.drop(['GRADING','PNO'],axis=1)"
   ]
  },
  {
   "cell_type": "code",
   "execution_count": 55,
   "metadata": {
    "colab": {
     "base_uri": "https://localhost:8080/"
    },
    "id": "HxQC2ml5MoTr",
    "outputId": "c3728f42-261d-48be-b1d5-6b02349892ed"
   },
   "outputs": [],
   "source": [
    "y = allen['GRADING']"
   ]
  },
  {
   "cell_type": "code",
   "execution_count": 58,
   "metadata": {
    "id": "-hUABKPIMvwE"
   },
   "outputs": [],
   "source": [
    "xtrain, xtest, ytrain, ytest = train_test_split(x,y,test_size=0.2,random_state=1,stratify=y)"
   ]
  },
  {
   "cell_type": "code",
   "execution_count": 59,
   "metadata": {
    "id": "-9qxQPoaNxsw"
   },
   "outputs": [],
   "source": [
    "model = RandomForestClassifier()\n",
    "model.fit(xtrain,ytrain)\n",
    "p = model.predict(xtest)"
   ]
  },
  {
   "cell_type": "markdown",
   "metadata": {
    "id": "9DsUfaZu2Ei-"
   },
   "source": [
    "# Assignment"
   ]
  },
  {
   "cell_type": "markdown",
   "metadata": {},
   "source": [
    "### Confusion Matrix "
   ]
  },
  {
   "cell_type": "code",
   "execution_count": 60,
   "metadata": {
    "colab": {
     "base_uri": "https://localhost:8080/"
    },
    "id": "QQK3hbNx3w5g",
    "outputId": "e82b34ce-dc79-4f25-a59a-dffef18d9306"
   },
   "outputs": [
    {
     "output_type": "stream",
     "name": "stdout",
     "text": [
      "[[ 2  2]\n [ 0 18]]\n"
     ]
    }
   ],
   "source": [
    "print(confusion_matrix(ytest,p))"
   ]
  },
  {
   "cell_type": "markdown",
   "metadata": {},
   "source": [
    "### Specificity and Sensitivity"
   ]
  },
  {
   "cell_type": "code",
   "execution_count": 61,
   "metadata": {},
   "outputs": [
    {
     "output_type": "stream",
     "name": "stdout",
     "text": [
      "Specificity:  1.0\nSensitivity:  0.5\n"
     ]
    }
   ],
   "source": [
    "c = confusion_matrix(ytest,p)\n",
    "print('Specificity: ', c[1,1]/(c[1,0]+c[1,1]))\n",
    "print('Sensitivity: ', c[0,0]/(c[0,0]+c[0,1]))"
   ]
  },
  {
   "cell_type": "markdown",
   "metadata": {},
   "source": [
    "### Accuracy"
   ]
  },
  {
   "cell_type": "code",
   "execution_count": 62,
   "metadata": {},
   "outputs": [
    {
     "output_type": "stream",
     "name": "stdout",
     "text": [
      "Accuracy: 90.90909%\n"
     ]
    }
   ],
   "source": [
    "c = confusion_matrix(ytest,p)\n",
    "print('Accuracy: {:.5%}'.format((c[0,0]+c[1,1])/sum(sum(c))))"
   ]
  }
 ],
 "metadata": {
  "colab": {
   "name": "Nasscom Lab DA 3ipynb",
   "provenance": [],
   "toc_visible": true
  },
  "kernelspec": {
   "name": "python38364bit570ee3c6a9ce451c90a4fee19734ed2d",
   "display_name": "Python 3.8.3 64-bit ('base': conda)"
  },
  "language_info": {
   "codemirror_mode": {
    "name": "ipython",
    "version": 3
   },
   "file_extension": ".py",
   "mimetype": "text/x-python",
   "name": "python",
   "nbconvert_exporter": "python",
   "pygments_lexer": "ipython3",
   "version": "3.8.3"
  },
  "metadata": {
   "interpreter": {
    "hash": "5a2c2b1e8e21bd441da1d17902ec1befce5a77884cfd8dc3337a42ec4181cc68"
   }
  }
 },
 "nbformat": 4,
 "nbformat_minor": 1
}