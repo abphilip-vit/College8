{
 "cells": [
  {
   "cell_type": "markdown",
   "metadata": {},
   "source": [
    "# Allen Ben Philipose - 18BIS0043\n",
    "#### Lab FAT, L53+L54\n",
    "#### ECE3502 - IoT Domain Analyst\n",
    "#### Submitted to: Prof. Pradheep T"
   ]
  },
  {
   "cell_type": "markdown",
   "metadata": {},
   "source": [
    "# Aim\n",
    "\n",
    "In the given dataset, use random forest and predict the number of cases for \n",
    "- 01.03.2021,Belgium (Reg.No: 18BIS0043)"
   ]
  },
  {
   "cell_type": "markdown",
   "metadata": {},
   "source": [
    "# Algorithm Explanation\n",
    "\n",
    "Random forests, or random decision forests, are an ensemble learning technique for classification, regression, and other tasks. It works by training a large number of decision trees and then outputing the class that is the mode of the classes (classification) or the mean/average prediction (regression) of the individual trees. Random decision forests compensate for decision trees' inclination for excessive fit to their training set. Although random forests surpass decision trees in practice, their accuracy is lower than that of gradient boosted trees. However, the features of the data might have an effect on their performance.\n",
    "\n",
    "Each tree in the random forest generates a class prediction, and the class with the most votes becomes the prediction of our model. A large number of substantially uncorrelated models (trees) acting in conjunction outperforms any of the component models individually. A random forest is a meta estimator that fits a number of decision tree classifiers to different subsamples of the dataset and then utilises averaging to increase predicted accuracy and avoid overfitting.\n",
    "\n",
    "\"Random Forest is a classifier that combines many decision trees on diverse subsets of a given dataset and uses the average to increase the dataset's predicted accuracy.\" Rather of depending on a single decision tree, the random forest collects the forecasts from each tree and forecasts the final output based on the majority vote of forecasts. \n",
    "\n",
    "<br />\n",
    "\n",
    "*Info from documentations*"
   ]
  },
  {
   "cell_type": "markdown",
   "metadata": {},
   "source": [
    "# Code and Result"
   ]
  },
  {
   "cell_type": "markdown",
   "metadata": {},
   "source": [
    "## Import Libraries"
   ]
  },
  {
   "cell_type": "code",
   "execution_count": 1,
   "metadata": {
    "id": "s9IvUwnBSCl2"
   },
   "outputs": [],
   "source": [
    "import pandas as pd\n",
    "import numpy as np\n",
    "import seaborn as sns\n",
    "import matplotlib.pyplot as plt"
   ]
  },
  {
   "cell_type": "code",
   "execution_count": 2,
   "metadata": {},
   "outputs": [],
   "source": [
    "from sklearn import preprocessing\n",
    "from sklearn.metrics import accuracy_score, log_loss, confusion_matrix, f1_score \n",
    "from sklearn.model_selection import train_test_split, cross_val_score\n",
    "from sklearn.model_selection import StratifiedKFold, GridSearchCV, KFold \n",
    "from sklearn.preprocessing import MinMaxScaler\n",
    "from sklearn.metrics import classification_report"
   ]
  },
  {
   "cell_type": "code",
   "execution_count": 3,
   "metadata": {},
   "outputs": [],
   "source": [
    "from sklearn.ensemble import RandomForestClassifier\n",
    "from sklearn.ensemble import RandomForestRegressor\n",
    "from sklearn.tree import DecisionTreeClassifier\n",
    "from sklearn.naive_bayes import GaussianNB\n",
    "from sklearn.neighbors import KNeighborsClassifier\n",
    "from sklearn.linear_model import LogisticRegression"
   ]
  },
  {
   "cell_type": "code",
   "execution_count": 4,
   "metadata": {},
   "outputs": [],
   "source": [
    "import warnings\n",
    "warnings.filterwarnings('ignore')"
   ]
  },
  {
   "cell_type": "code",
   "execution_count": 5,
   "metadata": {},
   "outputs": [],
   "source": [
    "from sklearn.metrics import accuracy_score\n",
    "from sklearn.metrics import mean_squared_error\n",
    "from scipy.stats import spearmanr"
   ]
  },
  {
   "cell_type": "markdown",
   "metadata": {
    "id": "RyP9iy-qZY4k"
   },
   "source": [
    "## Dataset"
   ]
  },
  {
   "cell_type": "code",
   "execution_count": 42,
   "metadata": {},
   "outputs": [],
   "source": [
    "allen = pd.read_csv(\"Dataset.csv\")"
   ]
  },
  {
   "cell_type": "code",
   "execution_count": 43,
   "metadata": {},
   "outputs": [
    {
     "output_type": "execute_result",
     "data": {
      "text/plain": [
       "      dateRep  day  month  year  cases  deaths countriesAndTerritories geoId  \\\n",
       "0  14-12-2020   14     12  2020    746       6             Afghanistan    AF   \n",
       "1  13-12-2020   13     12  2020    298       9             Afghanistan    AF   \n",
       "2  12-12-2020   12     12  2020    113      11             Afghanistan    AF   \n",
       "3  11-12-2020   11     12  2020     63      10             Afghanistan    AF   \n",
       "4  10-12-2020   10     12  2020    202      16             Afghanistan    AF   \n",
       "\n",
       "  countryterritoryCode  popData2019 continentExp  \\\n",
       "0                  AFG   38041757.0         Asia   \n",
       "1                  AFG   38041757.0         Asia   \n",
       "2                  AFG   38041757.0         Asia   \n",
       "3                  AFG   38041757.0         Asia   \n",
       "4                  AFG   38041757.0         Asia   \n",
       "\n",
       "   Cumulative_number_for_14_days_of_COVID-19_cases_per_100000  \n",
       "0                                           9.013779           \n",
       "1                                           7.052776           \n",
       "2                                           6.868768           \n",
       "3                                           7.134266           \n",
       "4                                           6.968658           "
      ],
      "text/html": "<div>\n<style scoped>\n    .dataframe tbody tr th:only-of-type {\n        vertical-align: middle;\n    }\n\n    .dataframe tbody tr th {\n        vertical-align: top;\n    }\n\n    .dataframe thead th {\n        text-align: right;\n    }\n</style>\n<table border=\"1\" class=\"dataframe\">\n  <thead>\n    <tr style=\"text-align: right;\">\n      <th></th>\n      <th>dateRep</th>\n      <th>day</th>\n      <th>month</th>\n      <th>year</th>\n      <th>cases</th>\n      <th>deaths</th>\n      <th>countriesAndTerritories</th>\n      <th>geoId</th>\n      <th>countryterritoryCode</th>\n      <th>popData2019</th>\n      <th>continentExp</th>\n      <th>Cumulative_number_for_14_days_of_COVID-19_cases_per_100000</th>\n    </tr>\n  </thead>\n  <tbody>\n    <tr>\n      <th>0</th>\n      <td>14-12-2020</td>\n      <td>14</td>\n      <td>12</td>\n      <td>2020</td>\n      <td>746</td>\n      <td>6</td>\n      <td>Afghanistan</td>\n      <td>AF</td>\n      <td>AFG</td>\n      <td>38041757.0</td>\n      <td>Asia</td>\n      <td>9.013779</td>\n    </tr>\n    <tr>\n      <th>1</th>\n      <td>13-12-2020</td>\n      <td>13</td>\n      <td>12</td>\n      <td>2020</td>\n      <td>298</td>\n      <td>9</td>\n      <td>Afghanistan</td>\n      <td>AF</td>\n      <td>AFG</td>\n      <td>38041757.0</td>\n      <td>Asia</td>\n      <td>7.052776</td>\n    </tr>\n    <tr>\n      <th>2</th>\n      <td>12-12-2020</td>\n      <td>12</td>\n      <td>12</td>\n      <td>2020</td>\n      <td>113</td>\n      <td>11</td>\n      <td>Afghanistan</td>\n      <td>AF</td>\n      <td>AFG</td>\n      <td>38041757.0</td>\n      <td>Asia</td>\n      <td>6.868768</td>\n    </tr>\n    <tr>\n      <th>3</th>\n      <td>11-12-2020</td>\n      <td>11</td>\n      <td>12</td>\n      <td>2020</td>\n      <td>63</td>\n      <td>10</td>\n      <td>Afghanistan</td>\n      <td>AF</td>\n      <td>AFG</td>\n      <td>38041757.0</td>\n      <td>Asia</td>\n      <td>7.134266</td>\n    </tr>\n    <tr>\n      <th>4</th>\n      <td>10-12-2020</td>\n      <td>10</td>\n      <td>12</td>\n      <td>2020</td>\n      <td>202</td>\n      <td>16</td>\n      <td>Afghanistan</td>\n      <td>AF</td>\n      <td>AFG</td>\n      <td>38041757.0</td>\n      <td>Asia</td>\n      <td>6.968658</td>\n    </tr>\n  </tbody>\n</table>\n</div>"
     },
     "metadata": {},
     "execution_count": 43
    }
   ],
   "source": [
    "allen.head()"
   ]
  },
  {
   "cell_type": "markdown",
   "metadata": {},
   "source": [
    "## Pre-processing"
   ]
  },
  {
   "cell_type": "code",
   "execution_count": 44,
   "metadata": {},
   "outputs": [],
   "source": [
    "allen = allen.drop_duplicates()"
   ]
  },
  {
   "cell_type": "code",
   "execution_count": 45,
   "metadata": {},
   "outputs": [],
   "source": [
    "allen = allen.dropna()"
   ]
  },
  {
   "cell_type": "code",
   "execution_count": 46,
   "metadata": {},
   "outputs": [
    {
     "output_type": "execute_result",
     "data": {
      "text/plain": [
       "dateRep                                                       0\n",
       "day                                                           0\n",
       "month                                                         0\n",
       "year                                                          0\n",
       "cases                                                         0\n",
       "deaths                                                        0\n",
       "countriesAndTerritories                                       0\n",
       "geoId                                                         0\n",
       "countryterritoryCode                                          0\n",
       "popData2019                                                   0\n",
       "continentExp                                                  0\n",
       "Cumulative_number_for_14_days_of_COVID-19_cases_per_100000    0\n",
       "dtype: int64"
      ]
     },
     "metadata": {},
     "execution_count": 46
    }
   ],
   "source": [
    "allen.isnull().sum()"
   ]
  },
  {
   "cell_type": "code",
   "execution_count": 47,
   "metadata": {},
   "outputs": [
    {
     "output_type": "execute_result",
     "data": {
      "text/plain": [
       "          dateRep  day  month  year  cases  deaths countriesAndTerritories  \\\n",
       "340    14-12-2020   14     12  2020    788      14                 Albania   \n",
       "341    13-12-2020   13     12  2020    879      12                 Albania   \n",
       "342    12-12-2020   12     12  2020    802      12                 Albania   \n",
       "343    11-12-2020   11     12  2020    873      14                 Albania   \n",
       "344    10-12-2020   10     12  2020    752      15                 Albania   \n",
       "...           ...  ...    ...   ...    ...     ...                     ...   \n",
       "58710  17-01-2020   17      1  2020      0       0          United_Kingdom   \n",
       "58711  16-01-2020   16      1  2020      0       0          United_Kingdom   \n",
       "58712  15-01-2020   15      1  2020      0       0          United_Kingdom   \n",
       "58713  14-01-2020   14      1  2020      0       0          United_Kingdom   \n",
       "58714  13-01-2020   13      1  2020      0       0          United_Kingdom   \n",
       "\n",
       "      geoId countryterritoryCode  popData2019 continentExp  \\\n",
       "340      AL                  ALB    2862427.0       Europe   \n",
       "341      AL                  ALB    2862427.0       Europe   \n",
       "342      AL                  ALB    2862427.0       Europe   \n",
       "343      AL                  ALB    2862427.0       Europe   \n",
       "344      AL                  ALB    2862427.0       Europe   \n",
       "...     ...                  ...          ...          ...   \n",
       "58710    UK                  GBR   66647112.0       Europe   \n",
       "58711    UK                  GBR   66647112.0       Europe   \n",
       "58712    UK                  GBR   66647112.0       Europe   \n",
       "58713    UK                  GBR   66647112.0       Europe   \n",
       "58714    UK                  GBR   66647112.0       Europe   \n",
       "\n",
       "       Cumulative_number_for_14_days_of_COVID-19_cases_per_100000  \n",
       "340                                           380.970414           \n",
       "341                                           382.612377           \n",
       "342                                           370.943958           \n",
       "343                                           365.459102           \n",
       "344                                           357.878122           \n",
       "...                                                  ...           \n",
       "58710                                           0.000000           \n",
       "58711                                           0.000000           \n",
       "58712                                           0.000000           \n",
       "58713                                           0.000000           \n",
       "58714                                           0.000000           \n",
       "\n",
       "[16657 rows x 12 columns]"
      ],
      "text/html": "<div>\n<style scoped>\n    .dataframe tbody tr th:only-of-type {\n        vertical-align: middle;\n    }\n\n    .dataframe tbody tr th {\n        vertical-align: top;\n    }\n\n    .dataframe thead th {\n        text-align: right;\n    }\n</style>\n<table border=\"1\" class=\"dataframe\">\n  <thead>\n    <tr style=\"text-align: right;\">\n      <th></th>\n      <th>dateRep</th>\n      <th>day</th>\n      <th>month</th>\n      <th>year</th>\n      <th>cases</th>\n      <th>deaths</th>\n      <th>countriesAndTerritories</th>\n      <th>geoId</th>\n      <th>countryterritoryCode</th>\n      <th>popData2019</th>\n      <th>continentExp</th>\n      <th>Cumulative_number_for_14_days_of_COVID-19_cases_per_100000</th>\n    </tr>\n  </thead>\n  <tbody>\n    <tr>\n      <th>340</th>\n      <td>14-12-2020</td>\n      <td>14</td>\n      <td>12</td>\n      <td>2020</td>\n      <td>788</td>\n      <td>14</td>\n      <td>Albania</td>\n      <td>AL</td>\n      <td>ALB</td>\n      <td>2862427.0</td>\n      <td>Europe</td>\n      <td>380.970414</td>\n    </tr>\n    <tr>\n      <th>341</th>\n      <td>13-12-2020</td>\n      <td>13</td>\n      <td>12</td>\n      <td>2020</td>\n      <td>879</td>\n      <td>12</td>\n      <td>Albania</td>\n      <td>AL</td>\n      <td>ALB</td>\n      <td>2862427.0</td>\n      <td>Europe</td>\n      <td>382.612377</td>\n    </tr>\n    <tr>\n      <th>342</th>\n      <td>12-12-2020</td>\n      <td>12</td>\n      <td>12</td>\n      <td>2020</td>\n      <td>802</td>\n      <td>12</td>\n      <td>Albania</td>\n      <td>AL</td>\n      <td>ALB</td>\n      <td>2862427.0</td>\n      <td>Europe</td>\n      <td>370.943958</td>\n    </tr>\n    <tr>\n      <th>343</th>\n      <td>11-12-2020</td>\n      <td>11</td>\n      <td>12</td>\n      <td>2020</td>\n      <td>873</td>\n      <td>14</td>\n      <td>Albania</td>\n      <td>AL</td>\n      <td>ALB</td>\n      <td>2862427.0</td>\n      <td>Europe</td>\n      <td>365.459102</td>\n    </tr>\n    <tr>\n      <th>344</th>\n      <td>10-12-2020</td>\n      <td>10</td>\n      <td>12</td>\n      <td>2020</td>\n      <td>752</td>\n      <td>15</td>\n      <td>Albania</td>\n      <td>AL</td>\n      <td>ALB</td>\n      <td>2862427.0</td>\n      <td>Europe</td>\n      <td>357.878122</td>\n    </tr>\n    <tr>\n      <th>...</th>\n      <td>...</td>\n      <td>...</td>\n      <td>...</td>\n      <td>...</td>\n      <td>...</td>\n      <td>...</td>\n      <td>...</td>\n      <td>...</td>\n      <td>...</td>\n      <td>...</td>\n      <td>...</td>\n      <td>...</td>\n    </tr>\n    <tr>\n      <th>58710</th>\n      <td>17-01-2020</td>\n      <td>17</td>\n      <td>1</td>\n      <td>2020</td>\n      <td>0</td>\n      <td>0</td>\n      <td>United_Kingdom</td>\n      <td>UK</td>\n      <td>GBR</td>\n      <td>66647112.0</td>\n      <td>Europe</td>\n      <td>0.000000</td>\n    </tr>\n    <tr>\n      <th>58711</th>\n      <td>16-01-2020</td>\n      <td>16</td>\n      <td>1</td>\n      <td>2020</td>\n      <td>0</td>\n      <td>0</td>\n      <td>United_Kingdom</td>\n      <td>UK</td>\n      <td>GBR</td>\n      <td>66647112.0</td>\n      <td>Europe</td>\n      <td>0.000000</td>\n    </tr>\n    <tr>\n      <th>58712</th>\n      <td>15-01-2020</td>\n      <td>15</td>\n      <td>1</td>\n      <td>2020</td>\n      <td>0</td>\n      <td>0</td>\n      <td>United_Kingdom</td>\n      <td>UK</td>\n      <td>GBR</td>\n      <td>66647112.0</td>\n      <td>Europe</td>\n      <td>0.000000</td>\n    </tr>\n    <tr>\n      <th>58713</th>\n      <td>14-01-2020</td>\n      <td>14</td>\n      <td>1</td>\n      <td>2020</td>\n      <td>0</td>\n      <td>0</td>\n      <td>United_Kingdom</td>\n      <td>UK</td>\n      <td>GBR</td>\n      <td>66647112.0</td>\n      <td>Europe</td>\n      <td>0.000000</td>\n    </tr>\n    <tr>\n      <th>58714</th>\n      <td>13-01-2020</td>\n      <td>13</td>\n      <td>1</td>\n      <td>2020</td>\n      <td>0</td>\n      <td>0</td>\n      <td>United_Kingdom</td>\n      <td>UK</td>\n      <td>GBR</td>\n      <td>66647112.0</td>\n      <td>Europe</td>\n      <td>0.000000</td>\n    </tr>\n  </tbody>\n</table>\n<p>16657 rows × 12 columns</p>\n</div>"
     },
     "metadata": {},
     "execution_count": 47
    }
   ],
   "source": [
    "allen = allen[allen['continentExp'] == 'Europe']\n",
    "allen"
   ]
  },
  {
   "cell_type": "code",
   "execution_count": 48,
   "metadata": {
    "colab": {
     "base_uri": "https://localhost:8080/",
     "height": 204
    },
    "id": "87jf1rTUZL5C",
    "outputId": "5b060829-317b-425b-c5fb-c67c502aefb6"
   },
   "outputs": [
    {
     "output_type": "execute_result",
     "data": {
      "text/plain": [
       "        dateRep  day  month  year  cases  deaths countriesAndTerritories  \\\n",
       "340  14-12-2020   14     12  2020    788      14                 Albania   \n",
       "341  13-12-2020   13     12  2020    879      12                 Albania   \n",
       "342  12-12-2020   12     12  2020    802      12                 Albania   \n",
       "343  11-12-2020   11     12  2020    873      14                 Albania   \n",
       "344  10-12-2020   10     12  2020    752      15                 Albania   \n",
       "\n",
       "    geoId countryterritoryCode  popData2019 continentExp  \\\n",
       "340    AL                  ALB    2862427.0       Europe   \n",
       "341    AL                  ALB    2862427.0       Europe   \n",
       "342    AL                  ALB    2862427.0       Europe   \n",
       "343    AL                  ALB    2862427.0       Europe   \n",
       "344    AL                  ALB    2862427.0       Europe   \n",
       "\n",
       "     Cumulative_number_for_14_days_of_COVID-19_cases_per_100000  \n",
       "340                                         380.970414           \n",
       "341                                         382.612377           \n",
       "342                                         370.943958           \n",
       "343                                         365.459102           \n",
       "344                                         357.878122           "
      ],
      "text/html": "<div>\n<style scoped>\n    .dataframe tbody tr th:only-of-type {\n        vertical-align: middle;\n    }\n\n    .dataframe tbody tr th {\n        vertical-align: top;\n    }\n\n    .dataframe thead th {\n        text-align: right;\n    }\n</style>\n<table border=\"1\" class=\"dataframe\">\n  <thead>\n    <tr style=\"text-align: right;\">\n      <th></th>\n      <th>dateRep</th>\n      <th>day</th>\n      <th>month</th>\n      <th>year</th>\n      <th>cases</th>\n      <th>deaths</th>\n      <th>countriesAndTerritories</th>\n      <th>geoId</th>\n      <th>countryterritoryCode</th>\n      <th>popData2019</th>\n      <th>continentExp</th>\n      <th>Cumulative_number_for_14_days_of_COVID-19_cases_per_100000</th>\n    </tr>\n  </thead>\n  <tbody>\n    <tr>\n      <th>340</th>\n      <td>14-12-2020</td>\n      <td>14</td>\n      <td>12</td>\n      <td>2020</td>\n      <td>788</td>\n      <td>14</td>\n      <td>Albania</td>\n      <td>AL</td>\n      <td>ALB</td>\n      <td>2862427.0</td>\n      <td>Europe</td>\n      <td>380.970414</td>\n    </tr>\n    <tr>\n      <th>341</th>\n      <td>13-12-2020</td>\n      <td>13</td>\n      <td>12</td>\n      <td>2020</td>\n      <td>879</td>\n      <td>12</td>\n      <td>Albania</td>\n      <td>AL</td>\n      <td>ALB</td>\n      <td>2862427.0</td>\n      <td>Europe</td>\n      <td>382.612377</td>\n    </tr>\n    <tr>\n      <th>342</th>\n      <td>12-12-2020</td>\n      <td>12</td>\n      <td>12</td>\n      <td>2020</td>\n      <td>802</td>\n      <td>12</td>\n      <td>Albania</td>\n      <td>AL</td>\n      <td>ALB</td>\n      <td>2862427.0</td>\n      <td>Europe</td>\n      <td>370.943958</td>\n    </tr>\n    <tr>\n      <th>343</th>\n      <td>11-12-2020</td>\n      <td>11</td>\n      <td>12</td>\n      <td>2020</td>\n      <td>873</td>\n      <td>14</td>\n      <td>Albania</td>\n      <td>AL</td>\n      <td>ALB</td>\n      <td>2862427.0</td>\n      <td>Europe</td>\n      <td>365.459102</td>\n    </tr>\n    <tr>\n      <th>344</th>\n      <td>10-12-2020</td>\n      <td>10</td>\n      <td>12</td>\n      <td>2020</td>\n      <td>752</td>\n      <td>15</td>\n      <td>Albania</td>\n      <td>AL</td>\n      <td>ALB</td>\n      <td>2862427.0</td>\n      <td>Europe</td>\n      <td>357.878122</td>\n    </tr>\n  </tbody>\n</table>\n</div>"
     },
     "metadata": {},
     "execution_count": 48
    }
   ],
   "source": [
    "allen.head()"
   ]
  },
  {
   "cell_type": "code",
   "execution_count": 49,
   "metadata": {},
   "outputs": [],
   "source": [
    "# allen.drop(allen.columns[4], axis=1, inplace=True)\n",
    "# allen"
   ]
  },
  {
   "cell_type": "code",
   "execution_count": 21,
   "metadata": {},
   "outputs": [],
   "source": [
    "# Backup\n",
    "\n",
    "allen = alvin"
   ]
  },
  {
   "cell_type": "code",
   "execution_count": 50,
   "metadata": {},
   "outputs": [],
   "source": [
    "allen = allen.drop(['dateRep','deaths','geoId','countryterritoryCode','popData2019','continentExp','Cumulative_number_for_14_days_of_COVID-19_cases_per_100000'],axis=1)"
   ]
  },
  {
   "cell_type": "code",
   "execution_count": 51,
   "metadata": {},
   "outputs": [
    {
     "output_type": "execute_result",
     "data": {
      "text/plain": [
       "       day  month  year  cases countriesAndTerritories\n",
       "340     14     12  2020    788                 Albania\n",
       "341     13     12  2020    879                 Albania\n",
       "342     12     12  2020    802                 Albania\n",
       "343     11     12  2020    873                 Albania\n",
       "344     10     12  2020    752                 Albania\n",
       "...    ...    ...   ...    ...                     ...\n",
       "58710   17      1  2020      0          United_Kingdom\n",
       "58711   16      1  2020      0          United_Kingdom\n",
       "58712   15      1  2020      0          United_Kingdom\n",
       "58713   14      1  2020      0          United_Kingdom\n",
       "58714   13      1  2020      0          United_Kingdom\n",
       "\n",
       "[16657 rows x 5 columns]"
      ],
      "text/html": "<div>\n<style scoped>\n    .dataframe tbody tr th:only-of-type {\n        vertical-align: middle;\n    }\n\n    .dataframe tbody tr th {\n        vertical-align: top;\n    }\n\n    .dataframe thead th {\n        text-align: right;\n    }\n</style>\n<table border=\"1\" class=\"dataframe\">\n  <thead>\n    <tr style=\"text-align: right;\">\n      <th></th>\n      <th>day</th>\n      <th>month</th>\n      <th>year</th>\n      <th>cases</th>\n      <th>countriesAndTerritories</th>\n    </tr>\n  </thead>\n  <tbody>\n    <tr>\n      <th>340</th>\n      <td>14</td>\n      <td>12</td>\n      <td>2020</td>\n      <td>788</td>\n      <td>Albania</td>\n    </tr>\n    <tr>\n      <th>341</th>\n      <td>13</td>\n      <td>12</td>\n      <td>2020</td>\n      <td>879</td>\n      <td>Albania</td>\n    </tr>\n    <tr>\n      <th>342</th>\n      <td>12</td>\n      <td>12</td>\n      <td>2020</td>\n      <td>802</td>\n      <td>Albania</td>\n    </tr>\n    <tr>\n      <th>343</th>\n      <td>11</td>\n      <td>12</td>\n      <td>2020</td>\n      <td>873</td>\n      <td>Albania</td>\n    </tr>\n    <tr>\n      <th>344</th>\n      <td>10</td>\n      <td>12</td>\n      <td>2020</td>\n      <td>752</td>\n      <td>Albania</td>\n    </tr>\n    <tr>\n      <th>...</th>\n      <td>...</td>\n      <td>...</td>\n      <td>...</td>\n      <td>...</td>\n      <td>...</td>\n    </tr>\n    <tr>\n      <th>58710</th>\n      <td>17</td>\n      <td>1</td>\n      <td>2020</td>\n      <td>0</td>\n      <td>United_Kingdom</td>\n    </tr>\n    <tr>\n      <th>58711</th>\n      <td>16</td>\n      <td>1</td>\n      <td>2020</td>\n      <td>0</td>\n      <td>United_Kingdom</td>\n    </tr>\n    <tr>\n      <th>58712</th>\n      <td>15</td>\n      <td>1</td>\n      <td>2020</td>\n      <td>0</td>\n      <td>United_Kingdom</td>\n    </tr>\n    <tr>\n      <th>58713</th>\n      <td>14</td>\n      <td>1</td>\n      <td>2020</td>\n      <td>0</td>\n      <td>United_Kingdom</td>\n    </tr>\n    <tr>\n      <th>58714</th>\n      <td>13</td>\n      <td>1</td>\n      <td>2020</td>\n      <td>0</td>\n      <td>United_Kingdom</td>\n    </tr>\n  </tbody>\n</table>\n<p>16657 rows × 5 columns</p>\n</div>"
     },
     "metadata": {},
     "execution_count": 51
    }
   ],
   "source": [
    "allen"
   ]
  },
  {
   "source": [
    "## Label Encoding"
   ],
   "cell_type": "markdown",
   "metadata": {}
  },
  {
   "cell_type": "code",
   "execution_count": 53,
   "metadata": {},
   "outputs": [],
   "source": [
    "l1 = preprocessing.LabelEncoder()\n",
    "f1 = l1.fit_transform(allen['countriesAndTerritories']) \n",
    "f1 = pd.DataFrame(data=f1, columns=['countriesAndTerritories'])\n",
    "allen['countriesAndTerritories'] = f1['countriesAndTerritories']"
   ]
  },
  {
   "cell_type": "code",
   "execution_count": 54,
   "metadata": {},
   "outputs": [
    {
     "output_type": "stream",
     "name": "stdout",
     "text": [
      "['Belgium']\n"
     ]
    }
   ],
   "source": [
    "print(list(l1.inverse_transform([6])))"
   ]
  },
  {
   "cell_type": "code",
   "execution_count": 66,
   "metadata": {},
   "outputs": [],
   "source": [
    "allen.dropna(subset = [\"cases\"], inplace=True)\n",
    "allen.dropna(subset = [\"day\"], inplace=True)\n",
    "allen.dropna(subset = [\"month\"], inplace=True)\n",
    "allen.dropna(subset = [\"year\"], inplace=True)\n",
    "allen.dropna(subset = [\"countriesAndTerritories\"], inplace=True)"
   ]
  },
  {
   "cell_type": "markdown",
   "metadata": {
    "id": "crrlZyeK1vU3"
   },
   "source": [
    "## Train-test-split"
   ]
  },
  {
   "cell_type": "code",
   "execution_count": 67,
   "metadata": {},
   "outputs": [],
   "source": [
    "x = allen.drop(['cases'],axis=1)"
   ]
  },
  {
   "cell_type": "code",
   "execution_count": 68,
   "metadata": {},
   "outputs": [],
   "source": [
    "y = allen['cases']"
   ]
  },
  {
   "cell_type": "code",
   "execution_count": 69,
   "metadata": {},
   "outputs": [],
   "source": [
    "xtrain, xtest, ytrain, ytest = train_test_split(x,y,test_size=0.2,random_state=21)"
   ]
  },
  {
   "source": [
    "## Model"
   ],
   "cell_type": "markdown",
   "metadata": {}
  },
  {
   "cell_type": "code",
   "execution_count": 101,
   "metadata": {},
   "outputs": [],
   "source": [
    "model0 = RandomForestRegressor()\n",
    "model0.fit(xtrain,ytrain)\n",
    "p0 = model0.predict(xtest)"
   ]
  },
  {
   "cell_type": "code",
   "execution_count": 102,
   "metadata": {},
   "outputs": [],
   "source": [
    "allen2 = 0\n",
    "allen2 = pd.DataFrame(columns=['day','month','year','cases',\"countriesAndTerritories\"])"
   ]
  },
  {
   "cell_type": "code",
   "execution_count": 103,
   "metadata": {},
   "outputs": [],
   "source": [
    "values = {\"day\": 1, \n",
    "          \"month\": 3,\n",
    "          \"year\": 2021,\n",
    "          \"cases\": \"\",\n",
    "          \"countriesAndTerritories\":6,\n",
    "}\n",
    "allen2 = allen2.append(values, ignore_index=True)"
   ]
  },
  {
   "source": [
    "## Prediction (18BIS0043)"
   ],
   "cell_type": "markdown",
   "metadata": {}
  },
  {
   "cell_type": "code",
   "execution_count": 104,
   "metadata": {},
   "outputs": [],
   "source": [
    "pred = model0.predict(allen2.drop(['cases'],axis=1))\n",
    "allen2['cases']=pred"
   ]
  },
  {
   "cell_type": "code",
   "execution_count": 105,
   "metadata": {},
   "outputs": [
    {
     "output_type": "execute_result",
     "data": {
      "text/plain": [
       "  day month  year  cases countriesAndTerritories\n",
       "0   1     3  2021  20.05                       6"
      ],
      "text/html": "<div>\n<style scoped>\n    .dataframe tbody tr th:only-of-type {\n        vertical-align: middle;\n    }\n\n    .dataframe tbody tr th {\n        vertical-align: top;\n    }\n\n    .dataframe thead th {\n        text-align: right;\n    }\n</style>\n<table border=\"1\" class=\"dataframe\">\n  <thead>\n    <tr style=\"text-align: right;\">\n      <th></th>\n      <th>day</th>\n      <th>month</th>\n      <th>year</th>\n      <th>cases</th>\n      <th>countriesAndTerritories</th>\n    </tr>\n  </thead>\n  <tbody>\n    <tr>\n      <th>0</th>\n      <td>1</td>\n      <td>3</td>\n      <td>2021</td>\n      <td>20.05</td>\n      <td>6</td>\n    </tr>\n  </tbody>\n</table>\n</div>"
     },
     "metadata": {},
     "execution_count": 105
    }
   ],
   "source": [
    "allen2.head()"
   ]
  },
  {
   "source": [
    "## Evaluation"
   ],
   "cell_type": "markdown",
   "metadata": {}
  },
  {
   "cell_type": "code",
   "execution_count": 106,
   "metadata": {},
   "outputs": [
    {
     "output_type": "stream",
     "name": "stdout",
     "text": [
      "MSE: 460896.66401\n"
     ]
    }
   ],
   "source": [
    "m = mean_squared_error(ytest,model0.predict(xtest))\n",
    "print(\"MSE: %.5f\"%m)"
   ]
  },
  {
   "source": [
    "## Trial I"
   ],
   "cell_type": "markdown",
   "metadata": {}
  },
  {
   "cell_type": "code",
   "execution_count": 25,
   "metadata": {},
   "outputs": [],
   "source": [
    "xtrain = allen.drop(columns=[\"cases\"])\n",
    "ytrain = allen[\"cases\"]"
   ]
  },
  {
   "cell_type": "code",
   "execution_count": 26,
   "metadata": {},
   "outputs": [
    {
     "output_type": "stream",
     "name": "stdout",
     "text": [
      "       day  month  year  countriesAndTerritories_Albania  \\\n340     14     12  2020                                1   \n341     13     12  2020                                1   \n342     12     12  2020                                1   \n343     11     12  2020                                1   \n344     10     12  2020                                1   \n...    ...    ...   ...                              ...   \n58710   17      1  2020                                0   \n58711   16      1  2020                                0   \n58712   15      1  2020                                0   \n58713   14      1  2020                                0   \n58714   13      1  2020                                0   \n\n       countriesAndTerritories_Andorra  countriesAndTerritories_Armenia  \\\n340                                  0                                0   \n341                                  0                                0   \n342                                  0                                0   \n343                                  0                                0   \n344                                  0                                0   \n...                                ...                              ...   \n58710                                0                                0   \n58711                                0                                0   \n58712                                0                                0   \n58713                                0                                0   \n58714                                0                                0   \n\n       countriesAndTerritories_Austria  countriesAndTerritories_Azerbaijan  \\\n340                                  0                                   0   \n341                                  0                                   0   \n342                                  0                                   0   \n343                                  0                                   0   \n344                                  0                                   0   \n...                                ...                                 ...   \n58710                                0                                   0   \n58711                                0                                   0   \n58712                                0                                   0   \n58713                                0                                   0   \n58714                                0                                   0   \n\n       countriesAndTerritories_Belarus  countriesAndTerritories_Belgium  ...  \\\n340                                  0                                0  ...   \n341                                  0                                0  ...   \n342                                  0                                0  ...   \n343                                  0                                0  ...   \n344                                  0                                0  ...   \n...                                ...                              ...  ...   \n58710                                0                                0  ...   \n58711                                0                                0  ...   \n58712                                0                                0  ...   \n58713                                0                                0  ...   \n58714                                0                                0  ...   \n\n       countriesAndTerritories_San_Marino  countriesAndTerritories_Serbia  \\\n340                                     0                               0   \n341                                     0                               0   \n342                                     0                               0   \n343                                     0                               0   \n344                                     0                               0   \n...                                   ...                             ...   \n58710                                   0                               0   \n58711                                   0                               0   \n58712                                   0                               0   \n58713                                   0                               0   \n58714                                   0                               0   \n\n       countriesAndTerritories_Slovakia  countriesAndTerritories_Slovenia  \\\n340                                   0                                 0   \n341                                   0                                 0   \n342                                   0                                 0   \n343                                   0                                 0   \n344                                   0                                 0   \n...                                 ...                               ...   \n58710                                 0                                 0   \n58711                                 0                                 0   \n58712                                 0                                 0   \n58713                                 0                                 0   \n58714                                 0                                 0   \n\n       countriesAndTerritories_Spain  countriesAndTerritories_Sweden  \\\n340                                0                               0   \n341                                0                               0   \n342                                0                               0   \n343                                0                               0   \n344                                0                               0   \n...                              ...                             ...   \n58710                              0                               0   \n58711                              0                               0   \n58712                              0                               0   \n58713                              0                               0   \n58714                              0                               0   \n\n       countriesAndTerritories_Switzerland  countriesAndTerritories_Turkey  \\\n340                                      0                               0   \n341                                      0                               0   \n342                                      0                               0   \n343                                      0                               0   \n344                                      0                               0   \n...                                    ...                             ...   \n58710                                    0                               0   \n58711                                    0                               0   \n58712                                    0                               0   \n58713                                    0                               0   \n58714                                    0                               0   \n\n       countriesAndTerritories_Ukraine  countriesAndTerritories_United_Kingdom  \n340                                  0                                       0  \n341                                  0                                       0  \n342                                  0                                       0  \n343                                  0                                       0  \n344                                  0                                       0  \n...                                ...                                     ...  \n58710                                0                                       1  \n58711                                0                                       1  \n58712                                0                                       1  \n58713                                0                                       1  \n58714                                0                                       1  \n\n[16657 rows x 58 columns]\n16657\n"
     ]
    }
   ],
   "source": [
    "print(xtrain)\n",
    "print(len(xtrain))"
   ]
  },
  {
   "cell_type": "code",
   "execution_count": 27,
   "metadata": {},
   "outputs": [
    {
     "output_type": "stream",
     "name": "stdout",
     "text": [
      "     day  month  year  countriesAndTerritories_Albania  \\\n340    1      3  2021                                0   \n\n     countriesAndTerritories_Andorra  countriesAndTerritories_Armenia  \\\n340                                0                                0   \n\n     countriesAndTerritories_Austria  countriesAndTerritories_Azerbaijan  \\\n340                                0                                   0   \n\n     countriesAndTerritories_Belarus  countriesAndTerritories_Belgium  ...  \\\n340                                0                                1  ...   \n\n     countriesAndTerritories_San_Marino  countriesAndTerritories_Serbia  \\\n340                                   0                               0   \n\n     countriesAndTerritories_Slovakia  countriesAndTerritories_Slovenia  \\\n340                                 0                                 0   \n\n     countriesAndTerritories_Spain  countriesAndTerritories_Sweden  \\\n340                              0                               0   \n\n     countriesAndTerritories_Switzerland  countriesAndTerritories_Turkey  \\\n340                                    0                               0   \n\n     countriesAndTerritories_Ukraine  countriesAndTerritories_United_Kingdom  \n340                                0                                       0  \n\n[1 rows x 58 columns]\n"
     ]
    }
   ],
   "source": [
    "data = pd.DataFrame([xtrain.iloc[0]])\n",
    "for col in data.columns:\n",
    "    data[col].values[:] = 0\n",
    "data['countriesAndTerritories_Belgium'] = 1\n",
    "data['day'] = 1\n",
    "data['month'] = 3\n",
    "data['year'] = 2021\n",
    "x_test = data\n",
    "print(x_test)"
   ]
  },
  {
   "cell_type": "code",
   "execution_count": 28,
   "metadata": {},
   "outputs": [
    {
     "output_type": "stream",
     "name": "stdout",
     "text": [
      "[16.3]\n"
     ]
    }
   ],
   "source": [
    "model0 = RandomForestRegressor(n_estimators=20, random_state=0)\n",
    "model0.fit(xtrain, ytrain)\n",
    "y_pred = model0.predict(x_test)\n",
    "print(y_pred)"
   ]
  },
  {
   "cell_type": "markdown",
   "metadata": {},
   "source": [
    "# Inferences\n",
    "\n",
    "We have successfully predicted the number of corona cases occuring on the given date in the given country. The accuracy was drastically less because of two main reasons\n",
    "- The date being further away from the expected date\n",
    "- The variance available in the dataset\n",
    "\n",
    "Besides these, regression algorithms could not relate with the concept of date being exhibited in the integer format hence the inaccuracies continue to increase drastically. Hence there's a huge difference between the actual numbers and the predicted numbers. \n",
    "\n",
    "This along with the date being perfectly lying on the verge of second wave varied the real value to be over 700 when the predicted value was under 20.\n"
   ]
  },
  {
   "cell_type": "markdown",
   "metadata": {},
   "source": [
    "# Viva\n",
    "\n",
    "Explain the differences between data lake and data warehousing? Which is most suitable for business intelligence applications?\n",
    "\n",
    "Data warehouse is most suitable for business intelligence application due to the variety of applications that can be made from them due to the large amount of raw data available.\n",
    "\n",
    "In terms of data storage, the data lake stores all forms of data in their raw form, including structured and unstructured data. It contains data that may be valuable in the present but is also likely to be valuable in the future. Data warehouse only contains high-quality data that has already been pre-processed and is ready for the team to use.\n",
    "In terms of users, Data lakes are used by data scientists to discover patterns and relevant information that can aid companies, while data warehouses are used by business analysts to develop visualizations and reports.\n",
    "In terms of purpose, the purpose of Data Lake is not fixed. Sometimes organizations have a future use-case in mind. Its general uses include data discovery, user profiling, and machine learning.\n",
    "The data warehouse contains data that has been pre-designed for a certain use case. Business Intelligence, Visualizations, and Batch Reporting are just a few of the applications.\n",
    "In terms of cost, data lakes are comparatively cheaper as data is not necessarily stored in a structured manner. Data warehouses on the other hand are more expensive as well as time consuming."
   ]
  },
  {
   "cell_type": "markdown",
   "metadata": {},
   "source": [
    "## Trial II"
   ]
  },
  {
   "cell_type": "markdown",
   "metadata": {},
   "source": [
    "#### Random Forest"
   ]
  },
  {
   "cell_type": "code",
   "execution_count": 97,
   "metadata": {
    "id": "-9qxQPoaNxsw"
   },
   "outputs": [],
   "source": [
    "model1 = RandomForestRegressor()\n",
    "model1.fit(xtrain,ytrain)\n",
    "p1 = model1.predict(xtest)"
   ]
  },
  {
   "cell_type": "code",
   "execution_count": 98,
   "metadata": {
    "colab": {
     "base_uri": "https://localhost:8080/"
    },
    "id": "QQK3hbNx3w5g",
    "outputId": "e82b34ce-dc79-4f25-a59a-dffef18d9306"
   },
   "outputs": [
    {
     "name": "stdout",
     "output_type": "stream",
     "text": [
      "[[103   1   2 ...   0   0   0]\n",
      " [  8   3   0 ...   0   0   0]\n",
      " [  3   5   0 ...   0   0   0]\n",
      " ...\n",
      " [  0   0   0 ...   0   0   0]\n",
      " [  0   0   0 ...   0   0   0]\n",
      " [  0   0   0 ...   0   1   0]]\n"
     ]
    }
   ],
   "source": [
    "print(confusion_matrix(ytest,p1))"
   ]
  },
  {
   "cell_type": "code",
   "execution_count": 100,
   "metadata": {
    "tags": [
     "outputPrepend"
    ]
   },
   "outputs": [
    {
     "name": "stdout",
     "output_type": "stream",
     "text": [
      "   0.00         0\n",
      "         355       0.00      0.00      0.00         0\n",
      "         356       0.00      0.00      0.00         1\n",
      "         357       0.00      0.00      0.00         0\n",
      "         358       0.00      0.00      0.00         0\n",
      "         359       0.00      0.00      0.00         0\n",
      "         360       0.00      0.00      0.00         2\n",
      "         361       0.00      0.00      0.00         1\n",
      "         362       0.00      0.00      0.00         1\n",
      "         363       0.00      0.00      0.00         0\n",
      "         364       0.00      0.00      0.00         1\n",
      "         365       0.00      0.00      0.00         0\n",
      "         366       0.00      0.00      0.00         0\n",
      "         367       0.00      0.00      0.00         1\n",
      "         368       0.00      0.00      0.00         0\n",
      "         369       0.00      0.00      0.00         1\n",
      "         370       0.00      0.00      0.00         1\n",
      "         371       0.00      0.00      0.00         1\n",
      "         372       0.00      0.00      0.00         1\n",
      "         373       0.00      0.00      0.00         0\n",
      "         374       0.00      0.00      0.00         0\n",
      "         375       0.00      0.00      0.00         1\n",
      "         376       0.00      0.00      0.00         0\n",
      "         377       0.00      0.00      0.00         1\n",
      "         378       0.00      0.00      0.00         1\n",
      "         379       0.00      0.00      0.00         1\n",
      "         380       0.00      0.00      0.00         1\n",
      "         381       0.00      0.00      0.00         1\n",
      "         382       0.00      0.00      0.00         0\n",
      "         383       0.00      0.00      0.00         0\n",
      "         384       0.00      0.00      0.00         0\n",
      "         385       0.00      0.00      0.00         0\n",
      "         386       0.00      0.00      0.00         1\n",
      "         387       0.00      0.00      0.00         0\n",
      "         388       0.00      0.00      0.00         0\n",
      "         389       0.00      0.00      0.00         1\n",
      "         390       0.00      0.00      0.00         1\n",
      "         391       0.00      0.00      0.00         0\n",
      "         392       0.00      0.00      0.00         1\n",
      "         393       0.00      0.00      0.00         1\n",
      "         394       0.00      0.00      0.00         2\n",
      "         395       0.00      0.00      0.00         1\n",
      "         396       0.00      0.00      0.00         1\n",
      "         397       0.00      0.00      0.00         1\n",
      "         398       0.00      0.00      0.00         1\n",
      "         399       0.00      0.00      0.00         1\n",
      "         400       0.00      0.00      0.00         0\n",
      "         401       0.00      0.00      0.00         0\n",
      "         402       0.00      0.00      0.00         0\n",
      "         403       0.00      0.00      0.00         2\n",
      "         404       0.00      0.00      0.00         0\n",
      "         405       0.00      0.00      0.00         0\n",
      "         406       0.00      0.00      0.00         1\n",
      "         407       0.00      0.00      0.00         1\n",
      "         408       0.00      0.00      0.00         1\n",
      "         409       0.00      0.00      0.00         0\n",
      "         410       0.00      0.00      0.00         0\n",
      "         411       0.00      0.00      0.00         1\n",
      "         412       0.00      0.00      0.00         1\n",
      "         413       0.00      0.00      0.00         0\n",
      "         414       0.00      0.00      0.00         0\n",
      "         415       0.00      0.00      0.00         0\n",
      "         416       0.00      0.00      0.00         0\n",
      "         417       0.00      0.00      0.00         0\n",
      "         418       0.00      0.00      0.00         1\n",
      "         419       0.00      0.00      0.00         0\n",
      "         420       0.00      0.00      0.00         0\n",
      "         421       0.00      0.00      0.00         1\n",
      "         422       0.00      0.00      0.00         1\n",
      "         423       0.00      0.00      0.00         0\n",
      "         424       0.00      0.00      0.00         0\n",
      "         425       0.00      0.00      0.00         1\n",
      "         426       0.00      0.00      0.00         0\n",
      "         427       0.00      0.00      0.00         0\n",
      "         428       0.00      0.00      0.00         0\n",
      "         429       0.00      0.00      0.00         1\n",
      "         430       0.00      0.00      0.00         0\n",
      "         431       0.00      0.00      0.00         1\n",
      "         432       0.00      0.00      0.00         0\n",
      "         433       0.00      0.00      0.00         0\n",
      "         434       0.00      0.00      0.00         0\n",
      "         435       0.00      0.00      0.00         0\n",
      "         436       0.00      0.00      0.00         1\n",
      "         437       0.00      0.00      0.00         1\n",
      "         438       0.00      0.00      0.00         1\n",
      "         439       0.00      0.00      0.00         1\n",
      "         440       0.00      0.00      0.00         1\n",
      "         441       0.00      0.00      0.00         1\n",
      "         442       0.00      0.00      0.00         1\n",
      "         443       0.00      0.00      0.00         0\n",
      "         444       0.00      0.00      0.00         1\n",
      "         445       0.00      0.00      0.00         0\n",
      "         446       0.00      0.00      0.00         1\n",
      "         447       0.00      0.00      0.00         1\n",
      "         448       0.00      0.00      0.00         1\n",
      "         449       0.00      0.00      0.00         0\n",
      "         450       0.00      0.00      0.00         0\n",
      "         451       0.00      0.00      0.00         0\n",
      "         452       0.00      0.00      0.00         0\n",
      "         453       0.00      0.00      0.00         0\n",
      "         454       0.00      0.00      0.00         2\n",
      "         455       0.00      0.00      0.00         1\n",
      "         456       0.00      0.00      0.00         0\n",
      "         457       0.00      0.00      0.00         2\n",
      "         458       0.00      0.00      0.00         1\n",
      "         459       0.00      0.00      0.00         0\n",
      "         460       0.00      0.00      0.00         0\n",
      "         461       0.00      0.00      0.00         0\n",
      "         462       0.00      0.00      0.00         1\n",
      "         463       0.00      0.00      0.00         0\n",
      "         464       0.00      0.00      0.00         0\n",
      "         465       0.00      0.00      0.00         0\n",
      "         466       0.00      0.00      0.00         0\n",
      "         467       0.00      0.00      0.00         1\n",
      "         468       0.00      0.00      0.00         1\n",
      "         469       0.00      0.00      0.00         0\n",
      "         470       0.00      0.00      0.00         0\n",
      "         471       0.00      0.00      0.00         1\n",
      "         472       0.00      0.00      0.00         0\n",
      "         473       0.00      0.00      0.00         1\n",
      "         474       0.00      0.00      0.00         1\n",
      "         475       0.00      0.00      0.00         1\n",
      "         476       0.00      0.00      0.00         0\n",
      "         477       0.00      0.00      0.00         1\n",
      "         478       0.00      0.00      0.00         0\n",
      "         479       0.00      0.00      0.00         1\n",
      "         480       0.00      0.00      0.00         1\n",
      "         481       0.00      0.00      0.00         1\n",
      "         482       0.00      0.00      0.00         0\n",
      "         483       0.00      0.00      0.00         1\n",
      "         484       0.00      0.00      0.00         1\n",
      "         485       0.00      0.00      0.00         1\n",
      "         486       0.00      0.00      0.00         0\n",
      "         487       0.00      0.00      0.00         0\n",
      "         488       0.00      0.00      0.00         0\n",
      "         489       0.00      0.00      0.00         0\n",
      "         490       0.00      0.00      0.00         1\n",
      "         491       0.00      0.00      0.00         0\n",
      "         492       0.00      0.00      0.00         1\n",
      "         493       0.00      0.00      0.00         1\n",
      "         494       0.00      0.00      0.00         1\n",
      "         495       0.00      0.00      0.00         1\n",
      "         496       0.00      0.00      0.00         1\n",
      "         497       0.00      0.00      0.00         0\n",
      "         498       0.00      0.00      0.00         1\n",
      "         499       0.00      0.00      0.00         0\n",
      "         500       0.00      0.00      0.00         1\n",
      "         501       0.00      0.00      0.00         0\n",
      "         502       0.00      0.00      0.00         1\n",
      "         503       0.00      0.00      0.00         0\n",
      "         504       0.00      0.00      0.00         0\n",
      "         505       0.00      0.00      0.00         1\n",
      "         506       0.00      0.00      0.00         1\n",
      "         507       0.00      0.00      0.00         0\n",
      "         508       0.00      0.00      0.00         1\n",
      "         509       0.00      0.00      0.00         1\n",
      "         510       0.00      0.00      0.00         1\n",
      "         511       0.00      0.00      0.00         0\n",
      "         512       0.00      0.00      0.00         0\n",
      "         513       0.00      0.00      0.00         0\n",
      "         514       0.00      0.00      0.00         0\n",
      "         515       0.00      0.00      0.00         1\n",
      "         516       0.00      0.00      0.00         1\n",
      "         517       0.00      0.00      0.00         1\n",
      "         518       0.00      0.00      0.00         0\n",
      "         519       0.00      0.00      0.00         0\n",
      "         520       0.00      0.00      0.00         0\n",
      "         521       0.00      0.00      0.00         0\n",
      "         522       0.00      0.00      0.00         0\n",
      "         523       0.00      0.00      0.00         0\n",
      "         524       0.00      0.00      0.00         0\n",
      "         525       0.00      0.00      0.00         1\n",
      "         526       0.00      0.00      0.00         1\n",
      "         527       0.00      0.00      0.00         1\n",
      "         528       0.00      0.00      0.00         1\n",
      "         529       0.00      0.00      0.00         0\n",
      "         530       0.00      0.00      0.00         1\n",
      "         531       0.00      0.00      0.00         0\n",
      "         532       0.00      0.00      0.00         1\n",
      "         533       0.00      0.00      0.00         0\n",
      "         534       0.00      0.00      0.00         1\n",
      "         535       0.00      0.00      0.00         0\n",
      "         536       0.00      0.00      0.00         1\n",
      "         537       0.00      0.00      0.00         1\n",
      "         538       0.00      0.00      0.00         0\n",
      "         539       0.00      0.00      0.00         1\n",
      "         540       0.00      0.00      0.00         0\n",
      "         541       0.00      0.00      0.00         1\n",
      "         542       0.00      0.00      0.00         1\n",
      "         543       0.00      0.00      0.00         1\n",
      "         544       0.00      0.00      0.00         0\n",
      "         545       0.00      0.00      0.00         1\n",
      "         546       0.00      0.00      0.00         1\n",
      "         547       0.00      0.00      0.00         0\n",
      "         548       0.00      0.00      0.00         0\n",
      "         549       0.00      0.00      0.00         2\n",
      "         550       0.00      0.00      0.00         0\n",
      "         551       0.00      0.00      0.00         0\n",
      "         552       0.00      0.00      0.00         0\n",
      "         553       0.00      0.00      0.00         0\n",
      "         554       0.00      0.00      0.00         1\n",
      "         555       0.00      0.00      0.00         1\n",
      "         556       0.00      0.00      0.00         1\n",
      "         557       0.00      0.00      0.00         0\n",
      "         558       0.00      0.00      0.00         1\n",
      "         559       0.00      0.00      0.00         0\n",
      "         560       0.00      0.00      0.00         0\n",
      "         561       0.00      0.00      0.00         1\n",
      "         562       0.00      0.00      0.00         1\n",
      "         563       0.00      0.00      0.00         0\n",
      "         564       0.00      0.00      0.00         0\n",
      "         565       0.00      0.00      0.00         1\n",
      "         566       0.00      0.00      0.00         0\n",
      "         567       0.00      0.00      0.00         1\n",
      "         568       0.00      0.00      0.00         1\n",
      "         569       0.00      0.00      0.00         1\n",
      "         570       0.00      0.00      0.00         0\n",
      "         571       0.00      0.00      0.00         1\n",
      "         572       0.00      0.00      0.00         1\n",
      "         573       0.00      0.00      0.00         0\n",
      "         574       0.00      0.00      0.00         1\n",
      "         575       0.00      0.00      0.00         1\n",
      "         576       0.00      0.00      0.00         1\n",
      "         577       0.00      0.00      0.00         0\n",
      "         578       0.00      0.00      0.00         0\n",
      "         579       0.00      0.00      0.00         1\n",
      "         580       0.00      0.00      0.00         0\n",
      "         581       0.00      0.00      0.00         2\n",
      "         582       0.00      0.00      0.00         0\n",
      "         583       0.00      0.00      0.00         1\n",
      "         584       0.00      0.00      0.00         1\n",
      "         585       0.00      0.00      0.00         0\n",
      "         586       0.00      0.00      0.00         0\n",
      "         587       0.00      0.00      0.00         1\n",
      "         588       0.00      0.00      0.00         0\n",
      "         589       0.00      0.00      0.00         0\n",
      "         590       0.00      0.00      0.00         1\n",
      "         591       0.00      0.00      0.00         0\n",
      "         592       0.00      0.00      0.00         1\n",
      "         593       0.00      0.00      0.00         1\n",
      "         594       0.00      0.00      0.00         1\n",
      "         595       0.00      0.00      0.00         1\n",
      "         596       0.00      0.00      0.00         0\n",
      "         597       0.00      0.00      0.00         1\n",
      "         598       0.00      0.00      0.00         1\n",
      "         599       0.00      0.00      0.00         1\n",
      "         600       0.00      0.00      0.00         1\n",
      "         601       0.00      0.00      0.00         0\n",
      "         602       0.00      0.00      0.00         0\n",
      "         603       0.00      0.00      0.00         1\n",
      "         604       0.00      0.00      0.00         0\n",
      "         605       0.00      0.00      0.00         0\n",
      "         606       0.00      0.00      0.00         1\n",
      "         607       0.00      0.00      0.00         0\n",
      "         608       0.00      0.00      0.00         1\n",
      "         609       0.00      0.00      0.00         1\n",
      "         610       0.00      0.00      0.00         1\n",
      "         611       0.00      0.00      0.00         0\n",
      "         612       0.00      0.00      0.00         1\n",
      "         613       0.00      0.00      0.00         1\n",
      "         614       0.00      0.00      0.00         0\n",
      "         615       0.00      0.00      0.00         0\n",
      "         616       0.00      0.00      0.00         1\n",
      "         617       0.00      0.00      0.00         1\n",
      "         618       0.00      0.00      0.00         0\n",
      "         619       0.00      0.00      0.00         0\n",
      "         620       0.00      0.00      0.00         0\n",
      "         621       0.00      0.00      0.00         0\n",
      "         622       0.00      0.00      0.00         1\n",
      "         623       0.00      0.00      0.00         0\n",
      "         624       0.00      0.00      0.00         1\n",
      "         625       0.00      0.00      0.00         1\n",
      "         626       0.00      0.00      0.00         0\n",
      "         627       0.00      0.00      0.00         1\n",
      "         628       0.00      0.00      0.00         0\n",
      "         629       0.00      0.00      0.00         1\n",
      "         630       0.00      0.00      0.00         0\n",
      "         631       0.00      0.00      0.00         1\n",
      "         632       0.00      0.00      0.00         0\n",
      "         633       0.00      0.00      0.00         1\n",
      "         634       0.00      0.00      0.00         1\n",
      "         635       0.00      0.00      0.00         0\n",
      "         636       0.00      0.00      0.00         2\n",
      "         637       0.00      0.00      0.00         1\n",
      "         638       0.00      0.00      0.00         1\n",
      "         639       0.00      0.00      0.00         1\n",
      "         640       0.00      0.00      0.00         1\n",
      "         641       0.00      0.00      0.00         0\n",
      "         642       0.00      0.00      0.00         0\n",
      "         643       0.00      0.00      0.00         1\n",
      "         644       0.00      0.00      0.00         0\n",
      "         645       0.00      0.00      0.00         0\n",
      "         646       0.00      0.00      0.00         0\n",
      "         647       0.00      0.00      0.00         0\n",
      "         648       0.00      0.00      0.00         0\n",
      "         649       0.00      0.00      0.00         0\n",
      "         650       0.00      0.00      0.00         1\n",
      "         651       0.00      0.00      0.00         0\n",
      "         652       0.00      0.00      0.00         0\n",
      "         653       0.00      0.00      0.00         1\n",
      "         654       0.00      0.00      0.00         1\n",
      "         655       0.00      0.00      0.00         0\n",
      "         656       0.00      0.00      0.00         1\n",
      "         657       0.00      0.00      0.00         1\n",
      "         658       0.00      0.00      0.00         1\n",
      "         659       0.00      0.00      0.00         0\n",
      "         660       0.00      0.00      0.00         1\n",
      "         661       0.00      0.00      0.00         1\n",
      "         662       0.00      0.00      0.00         1\n",
      "         663       0.00      0.00      0.00         0\n",
      "         664       0.00      0.00      0.00         0\n",
      "         665       0.00      0.00      0.00         1\n",
      "         666       0.00      0.00      0.00         1\n",
      "         667       0.00      0.00      0.00         0\n",
      "         668       0.00      0.00      0.00         0\n",
      "         669       0.00      0.00      0.00         0\n",
      "         670       0.00      0.00      0.00         0\n",
      "         671       0.00      0.00      0.00         1\n",
      "         672       0.00      0.00      0.00         1\n",
      "         673       0.00      0.00      0.00         0\n",
      "         674       0.00      0.00      0.00         0\n",
      "         675       0.00      0.00      0.00         0\n",
      "         676       0.00      0.00      0.00         1\n",
      "         677       0.00      0.00      0.00         1\n",
      "         678       0.00      0.00      0.00         1\n",
      "         679       0.00      0.00      0.00         0\n",
      "         680       0.00      0.00      0.00         0\n",
      "         681       0.00      0.00      0.00         0\n",
      "         682       0.00      0.00      0.00         0\n",
      "         683       0.00      0.00      0.00         0\n",
      "         684       0.00      0.00      0.00         0\n",
      "         685       0.00      0.00      0.00         1\n",
      "         686       0.00      0.00      0.00         0\n",
      "         687       0.00      0.00      0.00         1\n",
      "         688       0.00      0.00      0.00         1\n",
      "         689       0.00      0.00      0.00         0\n",
      "         690       0.00      0.00      0.00         1\n",
      "         691       0.00      0.00      0.00         1\n",
      "         692       0.00      0.00      0.00         1\n",
      "         693       0.00      0.00      0.00         0\n",
      "         694       0.00      0.00      0.00         1\n",
      "         695       0.00      0.00      0.00         0\n",
      "         696       0.00      0.00      0.00         0\n",
      "         697       0.00      0.00      0.00         0\n",
      "         698       0.00      0.00      0.00         0\n",
      "         699       0.00      0.00      0.00         0\n",
      "         700       0.00      0.00      0.00         1\n",
      "         701       0.00      0.00      0.00         1\n",
      "         702       0.00      0.00      0.00         1\n",
      "         703       0.00      0.00      0.00         0\n",
      "         704       0.00      0.00      0.00         1\n",
      "         705       0.00      0.00      0.00         1\n",
      "         706       0.00      0.00      0.00         0\n",
      "         707       0.00      0.00      0.00         1\n",
      "         708       0.00      0.00      0.00         0\n",
      "         709       0.00      0.00      0.00         1\n",
      "         710       0.00      0.00      0.00         0\n",
      "         711       0.00      0.00      0.00         1\n",
      "         712       0.00      0.00      0.00         1\n",
      "         713       0.00      0.00      0.00         0\n",
      "         714       0.00      0.00      0.00         0\n",
      "         715       0.00      0.00      0.00         0\n",
      "         716       0.00      0.00      0.00         1\n",
      "         717       0.00      0.00      0.00         1\n",
      "         718       0.00      0.00      0.00         0\n",
      "         719       0.00      0.00      0.00         1\n",
      "         720       0.00      0.00      0.00         0\n",
      "         721       0.00      0.00      0.00         1\n",
      "\n",
      "    accuracy                           0.14       833\n",
      "   macro avg       0.00      0.01      0.00       833\n",
      "weighted avg       0.13      0.14      0.13       833\n",
      "\n"
     ]
    }
   ],
   "source": [
    "print(classification_report(ytest.values.ravel(),p1,target_names=list(str(int) for int in range(0,722))))"
   ]
  },
  {
   "cell_type": "markdown",
   "metadata": {},
   "source": [
    "#### Decision Tree"
   ]
  },
  {
   "cell_type": "code",
   "execution_count": 372,
   "metadata": {},
   "outputs": [],
   "source": [
    "model2 = DecisionTreeClassifier()\n",
    "model2.fit(xtrain,ytrain)\n",
    "p2 = model2.predict(xtest)"
   ]
  },
  {
   "cell_type": "code",
   "execution_count": 374,
   "metadata": {},
   "outputs": [
    {
     "name": "stdout",
     "output_type": "stream",
     "text": [
      "              precision    recall  f1-score   support\n",
      "\n",
      "           0       0.17      0.20      0.18         5\n",
      "           1       0.17      0.25      0.20         4\n",
      "           2       0.40      0.40      0.40         5\n",
      "           3       0.56      0.62      0.59         8\n",
      "           4       0.75      0.43      0.55         7\n",
      "           5       0.40      0.25      0.31         8\n",
      "           6       0.25      0.50      0.33         2\n",
      "\n",
      "    accuracy                           0.38        39\n",
      "   macro avg       0.38      0.38      0.37        39\n",
      "weighted avg       0.43      0.38      0.39        39\n",
      "\n"
     ]
    }
   ],
   "source": [
    "print(classification_report(ytest.values.ravel(),p2,target_names=['0','1','2','3','4','5','6']))"
   ]
  }
 ],
 "metadata": {
  "colab": {
   "name": "Nasscom Lab DA 3ipynb",
   "provenance": [],
   "toc_visible": true
  },
  "kernelspec": {
   "name": "python38364bit570ee3c6a9ce451c90a4fee19734ed2d",
   "display_name": "Python 3.8.3 64-bit ('base': conda)"
  },
  "language_info": {
   "codemirror_mode": {
    "name": "ipython",
    "version": 3
   },
   "file_extension": ".py",
   "mimetype": "text/x-python",
   "name": "python",
   "nbconvert_exporter": "python",
   "pygments_lexer": "ipython3",
   "version": "3.8.3"
  },
  "metadata": {
   "interpreter": {
    "hash": "5a2c2b1e8e21bd441da1d17902ec1befce5a77884cfd8dc3337a42ec4181cc68"
   }
  }
 },
 "nbformat": 4,
 "nbformat_minor": 1
}