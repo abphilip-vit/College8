{
 "cells": [
  {
   "source": [
    "# Allen Ben Philipose - 18BIS0043\n",
    "#### Lab FAT, L53+L54\n",
    "#### ECE3502 - IoT Domain Analyst\n",
    "#### Submitted to: Prof. Pradheep T"
   ],
   "cell_type": "markdown",
   "metadata": {}
  },
  {
   "source": [
    "# Aim\n",
    "\n",
    "In the given dataset, use random forest and predict the number of cases for \n",
    "- 01.03.2021,Belgium (Reg.No: 18BIS0043)"
   ],
   "cell_type": "markdown",
   "metadata": {}
  },
  {
   "source": [
    "# Algorithm Explanation\n",
    "\n",
    "Random forests, or random decision forests, are an ensemble learning technique for classification, regression, and other tasks. It works by training a large number of decision trees and then outputing the class that is the mode of the classes (classification) or the mean/average prediction (regression) of the individual trees. Random decision forests compensate for decision trees' inclination for excessive fit to their training set. Although random forests surpass decision trees in practice, their accuracy is lower than that of gradient boosted trees. However, the features of the data might have an effect on their performance.\n"
   ],
   "cell_type": "markdown",
   "metadata": {}
  },
  {
   "source": [
    "# Code and Result"
   ],
   "cell_type": "markdown",
   "metadata": {}
  },
  {
   "cell_type": "markdown",
   "metadata": {},
   "source": [
    "## Import Libraries"
   ]
  },
  {
   "cell_type": "code",
   "execution_count": 1,
   "metadata": {
    "id": "s9IvUwnBSCl2"
   },
   "outputs": [],
   "source": [
    "import pandas as pd\n",
    "import numpy as np\n",
    "import seaborn as sns\n",
    "import matplotlib.pyplot as plt"
   ]
  },
  {
   "cell_type": "code",
   "execution_count": 2,
   "metadata": {},
   "outputs": [],
   "source": [
    "from sklearn import preprocessing\n",
    "from sklearn.metrics import accuracy_score, log_loss, confusion_matrix, f1_score \n",
    "from sklearn.model_selection import train_test_split, cross_val_score\n",
    "from sklearn.model_selection import StratifiedKFold, GridSearchCV, KFold \n",
    "from sklearn.preprocessing import MinMaxScaler\n",
    "from sklearn.metrics import classification_report"
   ]
  },
  {
   "cell_type": "code",
   "execution_count": 3,
   "metadata": {},
   "outputs": [],
   "source": [
    "from sklearn.ensemble import RandomForestClassifier\n",
    "from sklearn.tree import DecisionTreeClassifier\n",
    "from sklearn.naive_bayes import GaussianNB\n",
    "from sklearn.neighbors import KNeighborsClassifier\n",
    "from sklearn.linear_model import LogisticRegression"
   ]
  },
  {
   "source": [
    "import warnings\n",
    "warnings.filterwarnings('ignore')"
   ],
   "cell_type": "code",
   "metadata": {},
   "execution_count": 4,
   "outputs": []
  },
  {
   "cell_type": "markdown",
   "metadata": {
    "id": "RyP9iy-qZY4k"
   },
   "source": [
    "## Dataset"
   ]
  },
  {
   "cell_type": "code",
   "execution_count": 21,
   "metadata": {},
   "outputs": [],
   "source": [
    "allen = pd.read_csv(\"Dataset.csv\")"
   ]
  },
  {
   "cell_type": "code",
   "execution_count": 22,
   "metadata": {},
   "outputs": [
    {
     "output_type": "execute_result",
     "data": {
      "text/plain": [
       "      dateRep  day  month  year  cases  deaths countriesAndTerritories geoId  \\\n",
       "0  14-12-2020   14     12  2020    746       6             Afghanistan    AF   \n",
       "1  13-12-2020   13     12  2020    298       9             Afghanistan    AF   \n",
       "2  12-12-2020   12     12  2020    113      11             Afghanistan    AF   \n",
       "3  11-12-2020   11     12  2020     63      10             Afghanistan    AF   \n",
       "4  10-12-2020   10     12  2020    202      16             Afghanistan    AF   \n",
       "\n",
       "  countryterritoryCode  popData2019 continentExp  \\\n",
       "0                  AFG   38041757.0         Asia   \n",
       "1                  AFG   38041757.0         Asia   \n",
       "2                  AFG   38041757.0         Asia   \n",
       "3                  AFG   38041757.0         Asia   \n",
       "4                  AFG   38041757.0         Asia   \n",
       "\n",
       "   Cumulative_number_for_14_days_of_COVID-19_cases_per_100000  \n",
       "0                                           9.013779           \n",
       "1                                           7.052776           \n",
       "2                                           6.868768           \n",
       "3                                           7.134266           \n",
       "4                                           6.968658           "
      ],
      "text/html": "<div>\n<style scoped>\n    .dataframe tbody tr th:only-of-type {\n        vertical-align: middle;\n    }\n\n    .dataframe tbody tr th {\n        vertical-align: top;\n    }\n\n    .dataframe thead th {\n        text-align: right;\n    }\n</style>\n<table border=\"1\" class=\"dataframe\">\n  <thead>\n    <tr style=\"text-align: right;\">\n      <th></th>\n      <th>dateRep</th>\n      <th>day</th>\n      <th>month</th>\n      <th>year</th>\n      <th>cases</th>\n      <th>deaths</th>\n      <th>countriesAndTerritories</th>\n      <th>geoId</th>\n      <th>countryterritoryCode</th>\n      <th>popData2019</th>\n      <th>continentExp</th>\n      <th>Cumulative_number_for_14_days_of_COVID-19_cases_per_100000</th>\n    </tr>\n  </thead>\n  <tbody>\n    <tr>\n      <th>0</th>\n      <td>14-12-2020</td>\n      <td>14</td>\n      <td>12</td>\n      <td>2020</td>\n      <td>746</td>\n      <td>6</td>\n      <td>Afghanistan</td>\n      <td>AF</td>\n      <td>AFG</td>\n      <td>38041757.0</td>\n      <td>Asia</td>\n      <td>9.013779</td>\n    </tr>\n    <tr>\n      <th>1</th>\n      <td>13-12-2020</td>\n      <td>13</td>\n      <td>12</td>\n      <td>2020</td>\n      <td>298</td>\n      <td>9</td>\n      <td>Afghanistan</td>\n      <td>AF</td>\n      <td>AFG</td>\n      <td>38041757.0</td>\n      <td>Asia</td>\n      <td>7.052776</td>\n    </tr>\n    <tr>\n      <th>2</th>\n      <td>12-12-2020</td>\n      <td>12</td>\n      <td>12</td>\n      <td>2020</td>\n      <td>113</td>\n      <td>11</td>\n      <td>Afghanistan</td>\n      <td>AF</td>\n      <td>AFG</td>\n      <td>38041757.0</td>\n      <td>Asia</td>\n      <td>6.868768</td>\n    </tr>\n    <tr>\n      <th>3</th>\n      <td>11-12-2020</td>\n      <td>11</td>\n      <td>12</td>\n      <td>2020</td>\n      <td>63</td>\n      <td>10</td>\n      <td>Afghanistan</td>\n      <td>AF</td>\n      <td>AFG</td>\n      <td>38041757.0</td>\n      <td>Asia</td>\n      <td>7.134266</td>\n    </tr>\n    <tr>\n      <th>4</th>\n      <td>10-12-2020</td>\n      <td>10</td>\n      <td>12</td>\n      <td>2020</td>\n      <td>202</td>\n      <td>16</td>\n      <td>Afghanistan</td>\n      <td>AF</td>\n      <td>AFG</td>\n      <td>38041757.0</td>\n      <td>Asia</td>\n      <td>6.968658</td>\n    </tr>\n  </tbody>\n</table>\n</div>"
     },
     "metadata": {},
     "execution_count": 22
    }
   ],
   "source": [
    "allen.head()"
   ]
  },
  {
   "cell_type": "code",
   "execution_count": 23,
   "metadata": {},
   "outputs": [],
   "source": [
    "# Dropping all rows except Europe\n",
    "\n",
    "allen1 = allen[(allen['continentExp'] != 'Europe')].index\n",
    "allen.drop(allen1, inplace=True)"
   ]
  },
  {
   "cell_type": "code",
   "execution_count": 25,
   "metadata": {},
   "outputs": [],
   "source": [
    "# Dropping all columns except date, cases and country\n",
    "\n",
    "allen = allen.drop(['deaths','geoId','countryterritoryCode','popData2019','continentExp','Cumulative_number_for_14_days_of_COVID-19_cases_per_100000'],axis=1)"
   ]
  },
  {
   "cell_type": "code",
   "execution_count": 26,
   "metadata": {
    "colab": {
     "base_uri": "https://localhost:8080/",
     "height": 204
    },
    "id": "87jf1rTUZL5C",
    "outputId": "5b060829-317b-425b-c5fb-c67c502aefb6"
   },
   "outputs": [
    {
     "output_type": "execute_result",
     "data": {
      "text/plain": [
       "        dateRep  day  month  year  cases countriesAndTerritories\n",
       "340  14-12-2020   14     12  2020    788                 Albania\n",
       "341  13-12-2020   13     12  2020    879                 Albania\n",
       "342  12-12-2020   12     12  2020    802                 Albania\n",
       "343  11-12-2020   11     12  2020    873                 Albania\n",
       "344  10-12-2020   10     12  2020    752                 Albania"
      ],
      "text/html": "<div>\n<style scoped>\n    .dataframe tbody tr th:only-of-type {\n        vertical-align: middle;\n    }\n\n    .dataframe tbody tr th {\n        vertical-align: top;\n    }\n\n    .dataframe thead th {\n        text-align: right;\n    }\n</style>\n<table border=\"1\" class=\"dataframe\">\n  <thead>\n    <tr style=\"text-align: right;\">\n      <th></th>\n      <th>dateRep</th>\n      <th>day</th>\n      <th>month</th>\n      <th>year</th>\n      <th>cases</th>\n      <th>countriesAndTerritories</th>\n    </tr>\n  </thead>\n  <tbody>\n    <tr>\n      <th>340</th>\n      <td>14-12-2020</td>\n      <td>14</td>\n      <td>12</td>\n      <td>2020</td>\n      <td>788</td>\n      <td>Albania</td>\n    </tr>\n    <tr>\n      <th>341</th>\n      <td>13-12-2020</td>\n      <td>13</td>\n      <td>12</td>\n      <td>2020</td>\n      <td>879</td>\n      <td>Albania</td>\n    </tr>\n    <tr>\n      <th>342</th>\n      <td>12-12-2020</td>\n      <td>12</td>\n      <td>12</td>\n      <td>2020</td>\n      <td>802</td>\n      <td>Albania</td>\n    </tr>\n    <tr>\n      <th>343</th>\n      <td>11-12-2020</td>\n      <td>11</td>\n      <td>12</td>\n      <td>2020</td>\n      <td>873</td>\n      <td>Albania</td>\n    </tr>\n    <tr>\n      <th>344</th>\n      <td>10-12-2020</td>\n      <td>10</td>\n      <td>12</td>\n      <td>2020</td>\n      <td>752</td>\n      <td>Albania</td>\n    </tr>\n  </tbody>\n</table>\n</div>"
     },
     "metadata": {},
     "execution_count": 26
    }
   ],
   "source": [
    "allen.head()"
   ]
  },
  {
   "cell_type": "markdown",
   "metadata": {},
   "source": [
    "## Label Encoding"
   ]
  },
  {
   "cell_type": "code",
   "execution_count": 27,
   "metadata": {
    "colab": {
     "base_uri": "https://localhost:8080/"
    },
    "id": "xdHNmBriIOo1",
    "outputId": "40f73c7c-244b-4025-a71c-f192c2431176"
   },
   "outputs": [],
   "source": [
    "l1 = preprocessing.LabelEncoder()\n",
    "f1 = l1.fit_transform(allen['countriesAndTerritories']) \n",
    "f1 = pd.DataFrame(data=f1, columns=['countriesAndTerritories'])\n",
    "allen['countriesAndTerritories'] = f1['countriesAndTerritories']"
   ]
  },
  {
   "cell_type": "code",
   "execution_count": 35,
   "metadata": {},
   "outputs": [
    {
     "output_type": "stream",
     "name": "stdout",
     "text": [
      "['Albania', 'Andorra', 'Armenia', 'Austria', 'Azerbaijan', 'Belarus', 'Belgium', 'Bosnia_and_Herzegovina', 'Bulgaria', 'Croatia', 'Cyprus', 'Czechia', 'Denmark', 'Estonia', 'Faroe_Islands', 'Finland', 'France', 'Georgia', 'Germany', 'Gibraltar', 'Greece', 'Guernsey', 'Holy_See', 'Hungary', 'Iceland', 'Ireland', 'Isle_of_Man', 'Italy', 'Jersey', 'Kosovo', 'Latvia', 'Liechtenstein', 'Lithuania', 'Luxembourg', 'Malta', 'Moldova', 'Monaco', 'Montenegro', 'Netherlands', 'North_Macedonia', 'Norway', 'Poland', 'Portugal', 'Romania', 'Russia', 'San_Marino', 'Serbia', 'Slovakia', 'Slovenia', 'Spain', 'Sweden', 'Switzerland', 'Turkey', 'Ukraine', 'United_Kingdom']\n"
     ]
    }
   ],
   "source": [
    "print(list(l1.inverse_transform(range(0,55))))"
   ]
  },
  {
   "cell_type": "code",
   "execution_count": 51,
   "metadata": {},
   "outputs": [
    {
     "output_type": "stream",
     "name": "stdout",
     "text": [
      "['Belgium']\n"
     ]
    }
   ],
   "source": [
    "# Assigned Country\n",
    "\n",
    "print(list(l1.inverse_transform([6])))"
   ]
  },
  {
   "cell_type": "code",
   "execution_count": 36,
   "metadata": {},
   "outputs": [
    {
     "output_type": "execute_result",
     "data": {
      "text/plain": [
       "        dateRep  day  month  year  cases  countriesAndTerritories\n",
       "340  14-12-2020   14     12  2020    788                      1.0\n",
       "341  13-12-2020   13     12  2020    879                      1.0\n",
       "342  12-12-2020   12     12  2020    802                      1.0\n",
       "343  11-12-2020   11     12  2020    873                      1.0\n",
       "344  10-12-2020   10     12  2020    752                      1.0"
      ],
      "text/html": "<div>\n<style scoped>\n    .dataframe tbody tr th:only-of-type {\n        vertical-align: middle;\n    }\n\n    .dataframe tbody tr th {\n        vertical-align: top;\n    }\n\n    .dataframe thead th {\n        text-align: right;\n    }\n</style>\n<table border=\"1\" class=\"dataframe\">\n  <thead>\n    <tr style=\"text-align: right;\">\n      <th></th>\n      <th>dateRep</th>\n      <th>day</th>\n      <th>month</th>\n      <th>year</th>\n      <th>cases</th>\n      <th>countriesAndTerritories</th>\n    </tr>\n  </thead>\n  <tbody>\n    <tr>\n      <th>340</th>\n      <td>14-12-2020</td>\n      <td>14</td>\n      <td>12</td>\n      <td>2020</td>\n      <td>788</td>\n      <td>1.0</td>\n    </tr>\n    <tr>\n      <th>341</th>\n      <td>13-12-2020</td>\n      <td>13</td>\n      <td>12</td>\n      <td>2020</td>\n      <td>879</td>\n      <td>1.0</td>\n    </tr>\n    <tr>\n      <th>342</th>\n      <td>12-12-2020</td>\n      <td>12</td>\n      <td>12</td>\n      <td>2020</td>\n      <td>802</td>\n      <td>1.0</td>\n    </tr>\n    <tr>\n      <th>343</th>\n      <td>11-12-2020</td>\n      <td>11</td>\n      <td>12</td>\n      <td>2020</td>\n      <td>873</td>\n      <td>1.0</td>\n    </tr>\n    <tr>\n      <th>344</th>\n      <td>10-12-2020</td>\n      <td>10</td>\n      <td>12</td>\n      <td>2020</td>\n      <td>752</td>\n      <td>1.0</td>\n    </tr>\n  </tbody>\n</table>\n</div>"
     },
     "metadata": {},
     "execution_count": 36
    }
   ],
   "source": [
    "allen.head()"
   ]
  },
  {
   "source": [
    "## Pre-processing"
   ],
   "cell_type": "markdown",
   "metadata": {}
  },
  {
   "cell_type": "code",
   "execution_count": 43,
   "metadata": {},
   "outputs": [],
   "source": [
    "allen.dropna(subset = [\"cases\"], inplace=True)\n",
    "allen.dropna(subset = [\"day\"], inplace=True)\n",
    "allen.dropna(subset = [\"month\"], inplace=True)\n",
    "allen.dropna(subset = [\"year\"], inplace=True)\n",
    "allen.dropna(subset = [\"countriesAndTerritories\"], inplace=True)"
   ]
  },
  {
   "cell_type": "code",
   "execution_count": 44,
   "metadata": {},
   "outputs": [
    {
     "output_type": "execute_result",
     "data": {
      "text/plain": [
       "        dateRep  day  month  year  cases  countriesAndTerritories\n",
       "340  14-12-2020   14     12  2020    788                      1.0\n",
       "341  13-12-2020   13     12  2020    879                      1.0\n",
       "342  12-12-2020   12     12  2020    802                      1.0\n",
       "343  11-12-2020   11     12  2020    873                      1.0\n",
       "344  10-12-2020   10     12  2020    752                      1.0"
      ],
      "text/html": "<div>\n<style scoped>\n    .dataframe tbody tr th:only-of-type {\n        vertical-align: middle;\n    }\n\n    .dataframe tbody tr th {\n        vertical-align: top;\n    }\n\n    .dataframe thead th {\n        text-align: right;\n    }\n</style>\n<table border=\"1\" class=\"dataframe\">\n  <thead>\n    <tr style=\"text-align: right;\">\n      <th></th>\n      <th>dateRep</th>\n      <th>day</th>\n      <th>month</th>\n      <th>year</th>\n      <th>cases</th>\n      <th>countriesAndTerritories</th>\n    </tr>\n  </thead>\n  <tbody>\n    <tr>\n      <th>340</th>\n      <td>14-12-2020</td>\n      <td>14</td>\n      <td>12</td>\n      <td>2020</td>\n      <td>788</td>\n      <td>1.0</td>\n    </tr>\n    <tr>\n      <th>341</th>\n      <td>13-12-2020</td>\n      <td>13</td>\n      <td>12</td>\n      <td>2020</td>\n      <td>879</td>\n      <td>1.0</td>\n    </tr>\n    <tr>\n      <th>342</th>\n      <td>12-12-2020</td>\n      <td>12</td>\n      <td>12</td>\n      <td>2020</td>\n      <td>802</td>\n      <td>1.0</td>\n    </tr>\n    <tr>\n      <th>343</th>\n      <td>11-12-2020</td>\n      <td>11</td>\n      <td>12</td>\n      <td>2020</td>\n      <td>873</td>\n      <td>1.0</td>\n    </tr>\n    <tr>\n      <th>344</th>\n      <td>10-12-2020</td>\n      <td>10</td>\n      <td>12</td>\n      <td>2020</td>\n      <td>752</td>\n      <td>1.0</td>\n    </tr>\n  </tbody>\n</table>\n</div>"
     },
     "metadata": {},
     "execution_count": 44
    }
   ],
   "source": [
    "allen.head()"
   ]
  },
  {
   "cell_type": "markdown",
   "metadata": {
    "id": "crrlZyeK1vU3"
   },
   "source": [
    "## Train-test-split"
   ]
  },
  {
   "cell_type": "code",
   "execution_count": 45,
   "metadata": {
    "colab": {
     "base_uri": "https://localhost:8080/",
     "height": 204
    },
    "id": "1E6I2IpxL96L",
    "outputId": "1f5af59a-a5b5-49c9-d719-ccc7994d2005"
   },
   "outputs": [],
   "source": [
    "x = allen.drop(['dateRep','cases'],axis=1)"
   ]
  },
  {
   "cell_type": "code",
   "execution_count": 46,
   "metadata": {
    "colab": {
     "base_uri": "https://localhost:8080/"
    },
    "id": "HxQC2ml5MoTr",
    "outputId": "c3728f42-261d-48be-b1d5-6b02349892ed"
   },
   "outputs": [],
   "source": [
    "y = allen['cases']"
   ]
  },
  {
   "cell_type": "code",
   "execution_count": 47,
   "metadata": {
    "id": "-hUABKPIMvwE"
   },
   "outputs": [],
   "source": [
    "xtrain, xtest, ytrain, ytest = train_test_split(x,y,test_size=0.2,random_state=21)"
   ]
  },
  {
   "source": [
    "## Model"
   ],
   "cell_type": "markdown",
   "metadata": {}
  },
  {
   "cell_type": "code",
   "execution_count": 48,
   "metadata": {},
   "outputs": [],
   "source": [
    "model0 = RandomForestClassifier()\n",
    "model0.fit(xtrain,ytrain)\n",
    "p0 = model0.predict(xtest)"
   ]
  },
  {
   "source": [
    "## Prediction (18BIS0043)"
   ],
   "cell_type": "markdown",
   "metadata": {}
  },
  {
   "cell_type": "code",
   "execution_count": 363,
   "metadata": {},
   "outputs": [],
   "source": [
    "allen2 = pd.DataFrame(columns=['day','month','year','countriesAndTerritories','cases'])"
   ]
  },
  {
   "cell_type": "code",
   "execution_count": 364,
   "metadata": {},
   "outputs": [],
   "source": [
    "values = {\"day\": 0, \n",
    "          \"month\":,\n",
    "          \"year\":,\n",
    "          \"countriesAndTerritories\": 6,\n",
    "          \"cases\": 34,\n",
    "}\n",
    "allen2 = allen2.append(values, ignore_index=True)"
   ]
  },
  {
   "cell_type": "code",
   "execution_count": 365,
   "metadata": {},
   "outputs": [],
   "source": [
    "pred = model0.predict(allen2.drop(['Online shopping website'],axis=1))\n",
    "allen2['Online shopping website']=pred"
   ]
  },
  {
   "cell_type": "code",
   "execution_count": 366,
   "metadata": {},
   "outputs": [
    {
     "output_type": "execute_result",
     "data": {
      "text/plain": [
       "   Gender   Age  Amount spend on shopping  Online shopping website\n",
       "0     0.0  34.0                    4900.0                        5"
      ],
      "text/html": "<div>\n<style scoped>\n    .dataframe tbody tr th:only-of-type {\n        vertical-align: middle;\n    }\n\n    .dataframe tbody tr th {\n        vertical-align: top;\n    }\n\n    .dataframe thead th {\n        text-align: right;\n    }\n</style>\n<table border=\"1\" class=\"dataframe\">\n  <thead>\n    <tr style=\"text-align: right;\">\n      <th></th>\n      <th>Gender</th>\n      <th>Age</th>\n      <th>Amount spend on shopping</th>\n      <th>Online shopping website</th>\n    </tr>\n  </thead>\n  <tbody>\n    <tr>\n      <th>0</th>\n      <td>0.0</td>\n      <td>34.0</td>\n      <td>4900.0</td>\n      <td>5</td>\n    </tr>\n  </tbody>\n</table>\n</div>"
     },
     "metadata": {},
     "execution_count": 366
    }
   ],
   "source": [
    "allen2.head()"
   ]
  },
  {
   "cell_type": "code",
   "execution_count": 367,
   "metadata": {},
   "outputs": [
    {
     "output_type": "stream",
     "name": "stdout",
     "text": [
      "['NYKAA']\n"
     ]
    }
   ],
   "source": [
    "print(list(l2.inverse_transform([allen2['Online shopping website']])))"
   ]
  },
  {
   "source": [
    "# Inferences\n",
    "\n",
    "Using the given dataset, we have successfully classified the users based on their shopping patterns to predict the Online Shopping websites they use. The classification model is based on the ML Algorithm - **Decision Tree** with accuracies upto 36%. Availability of training data, and its quality is the primary reason that determines the accuracy. Lower dataset quality indirectly implies a lower accuracy for the model.\n",
    "\n",
    "We have also taken the example of a female user, 34 years old with a spending amount of Rs. 4900, and predicted the online shopping website as \"NYKAA\" based on the learning from the dataset."
   ],
   "cell_type": "markdown",
   "metadata": {}
  },
  {
   "cell_type": "code",
   "execution_count": 368,
   "metadata": {},
   "outputs": [
    {
     "output_type": "stream",
     "name": "stdout",
     "text": [
      "              precision    recall  f1-score   support\n\n           0       0.17      0.20      0.18         5\n           1       0.17      0.25      0.20         4\n           2       0.40      0.40      0.40         5\n           3       0.80      0.50      0.62         8\n           4       0.60      0.43      0.50         7\n           5       0.29      0.25      0.27         8\n           6       0.20      0.50      0.29         2\n\n    accuracy                           0.36        39\n   macro avg       0.37      0.36      0.35        39\nweighted avg       0.43      0.36      0.38        39\n\n"
     ]
    }
   ],
   "source": [
    "print(classification_report(ytest.values.ravel(),p0,target_names=['0','1','2','3','4','5','6']))"
   ]
  },
  {
   "source": [
    "# Viva\n",
    "\n",
    "Which ML algorithm is the most effective for this application given the same dataset. Justify your choice of ML algorithm."
   ],
   "cell_type": "markdown",
   "metadata": {}
  },
  {
   "cell_type": "markdown",
   "metadata": {},
   "source": [
    "#### Random Forest"
   ]
  },
  {
   "cell_type": "code",
   "execution_count": 369,
   "metadata": {
    "id": "-9qxQPoaNxsw"
   },
   "outputs": [],
   "source": [
    "model1 = RandomForestClassifier()\n",
    "model1.fit(xtrain,ytrain)\n",
    "p1 = model1.predict(xtest)"
   ]
  },
  {
   "cell_type": "code",
   "execution_count": 370,
   "metadata": {
    "colab": {
     "base_uri": "https://localhost:8080/"
    },
    "id": "QQK3hbNx3w5g",
    "outputId": "e82b34ce-dc79-4f25-a59a-dffef18d9306"
   },
   "outputs": [
    {
     "output_type": "stream",
     "name": "stdout",
     "text": [
      "[[2 2 0 0 1 0 0]\n [0 1 0 1 0 0 2]\n [1 1 1 0 0 0 2]\n [1 0 0 3 1 1 2]\n [0 1 1 0 2 1 2]\n [3 1 0 1 0 1 2]\n [0 1 0 0 0 0 1]]\n"
     ]
    }
   ],
   "source": [
    "print(confusion_matrix(ytest,p1))"
   ]
  },
  {
   "cell_type": "code",
   "execution_count": 371,
   "metadata": {},
   "outputs": [
    {
     "output_type": "stream",
     "name": "stdout",
     "text": [
      "              precision    recall  f1-score   support\n\n           0       0.29      0.40      0.33         5\n           1       0.14      0.25      0.18         4\n           2       0.50      0.20      0.29         5\n           3       0.60      0.38      0.46         8\n           4       0.50      0.29      0.36         7\n           5       0.33      0.12      0.18         8\n           6       0.09      0.50      0.15         2\n\n    accuracy                           0.28        39\n   macro avg       0.35      0.31      0.28        39\nweighted avg       0.40      0.28      0.30        39\n\n"
     ]
    }
   ],
   "source": [
    "print(classification_report(ytest.values.ravel(),p1,target_names=['0','1','2','3','4','5','6']))"
   ]
  },
  {
   "cell_type": "markdown",
   "metadata": {},
   "source": [
    "#### Decision Tree"
   ]
  },
  {
   "cell_type": "code",
   "execution_count": 372,
   "metadata": {},
   "outputs": [],
   "source": [
    "model2 = DecisionTreeClassifier()\n",
    "model2.fit(xtrain,ytrain)\n",
    "p2 = model2.predict(xtest)"
   ]
  },
  {
   "cell_type": "code",
   "execution_count": 373,
   "metadata": {},
   "outputs": [
    {
     "output_type": "stream",
     "name": "stdout",
     "text": [
      "[[1 1 0 0 1 2 0]\n [0 1 0 2 0 0 1]\n [0 1 2 0 0 1 1]\n [1 0 2 5 0 0 0]\n [1 1 1 1 3 0 0]\n [3 1 0 1 0 2 1]\n [0 1 0 0 0 0 1]]\n"
     ]
    }
   ],
   "source": [
    "print(confusion_matrix(ytest,p2))"
   ]
  },
  {
   "cell_type": "code",
   "execution_count": 374,
   "metadata": {},
   "outputs": [
    {
     "output_type": "stream",
     "name": "stdout",
     "text": [
      "              precision    recall  f1-score   support\n\n           0       0.17      0.20      0.18         5\n           1       0.17      0.25      0.20         4\n           2       0.40      0.40      0.40         5\n           3       0.56      0.62      0.59         8\n           4       0.75      0.43      0.55         7\n           5       0.40      0.25      0.31         8\n           6       0.25      0.50      0.33         2\n\n    accuracy                           0.38        39\n   macro avg       0.38      0.38      0.37        39\nweighted avg       0.43      0.38      0.39        39\n\n"
     ]
    }
   ],
   "source": [
    "print(classification_report(ytest.values.ravel(),p2,target_names=['0','1','2','3','4','5','6']))"
   ]
  },
  {
   "cell_type": "markdown",
   "metadata": {},
   "source": [
    "#### Naive Bayes"
   ]
  },
  {
   "cell_type": "code",
   "execution_count": 375,
   "metadata": {},
   "outputs": [],
   "source": [
    "model3 = GaussianNB()\n",
    "model3.fit(xtrain,ytrain)\n",
    "p3 = model3.predict(xtest)"
   ]
  },
  {
   "source": [
    "print(confusion_matrix(ytest,p3))"
   ],
   "cell_type": "code",
   "metadata": {},
   "execution_count": 376,
   "outputs": [
    {
     "output_type": "stream",
     "name": "stdout",
     "text": [
      "[[0 3 0 0 2 0 0]\n [1 1 0 2 0 0 0]\n [0 1 4 0 0 0 0]\n [1 2 1 4 0 0 0]\n [1 3 0 0 1 0 2]\n [3 1 0 1 1 2 0]\n [0 1 1 0 0 0 0]]\n"
     ]
    }
   ]
  },
  {
   "cell_type": "code",
   "execution_count": 377,
   "metadata": {},
   "outputs": [
    {
     "output_type": "stream",
     "name": "stdout",
     "text": [
      "              precision    recall  f1-score   support\n\n           0       0.00      0.00      0.00         5\n           1       0.08      0.25      0.12         4\n           2       0.67      0.80      0.73         5\n           3       0.57      0.50      0.53         8\n           4       0.25      0.14      0.18         7\n           5       1.00      0.25      0.40         8\n           6       0.00      0.00      0.00         2\n\n    accuracy                           0.31        39\n   macro avg       0.37      0.28      0.28        39\nweighted avg       0.46      0.31      0.33        39\n\n"
     ]
    }
   ],
   "source": [
    "print(classification_report(ytest.values.ravel(),p3,target_names=['0','1','2','3','4','5','6']))"
   ]
  },
  {
   "cell_type": "markdown",
   "metadata": {},
   "source": [
    "#### K-Nearest Neighbour"
   ]
  },
  {
   "cell_type": "code",
   "execution_count": 378,
   "metadata": {},
   "outputs": [],
   "source": [
    "model4 = KNeighborsClassifier()\n",
    "model4.fit(xtrain,ytrain)\n",
    "p4 = model4.predict(xtest)"
   ]
  },
  {
   "cell_type": "code",
   "execution_count": 379,
   "metadata": {},
   "outputs": [
    {
     "output_type": "stream",
     "name": "stdout",
     "text": [
      "[[0 2 0 1 2 0 0]\n [1 1 1 1 0 0 0]\n [0 2 1 1 0 0 1]\n [3 2 1 1 0 0 1]\n [1 2 2 0 1 0 1]\n [4 0 1 0 1 1 1]\n [1 0 0 1 0 0 0]]\n"
     ]
    }
   ],
   "source": [
    "print(confusion_matrix(ytest,p4))"
   ]
  },
  {
   "cell_type": "code",
   "execution_count": 380,
   "metadata": {},
   "outputs": [
    {
     "output_type": "stream",
     "name": "stdout",
     "text": [
      "              precision    recall  f1-score   support\n\n           0       0.00      0.00      0.00         5\n           1       0.11      0.25      0.15         4\n           2       0.17      0.20      0.18         5\n           3       0.20      0.12      0.15         8\n           4       0.25      0.14      0.18         7\n           5       1.00      0.12      0.22         8\n           6       0.00      0.00      0.00         2\n\n    accuracy                           0.13        39\n   macro avg       0.25      0.12      0.13        39\nweighted avg       0.32      0.13      0.15        39\n\n"
     ]
    }
   ],
   "source": [
    "print(classification_report(ytest.values.ravel(),p4,target_names=['0','1','2','3','4','5','6']))"
   ]
  },
  {
   "cell_type": "markdown",
   "metadata": {},
   "source": [
    "#### Logistic Regression"
   ]
  },
  {
   "cell_type": "code",
   "execution_count": 381,
   "metadata": {},
   "outputs": [],
   "source": [
    "model5 = LogisticRegression()\n",
    "model5.fit(xtrain,ytrain)\n",
    "p5 = model5.predict(xtest)"
   ]
  },
  {
   "cell_type": "code",
   "execution_count": 382,
   "metadata": {},
   "outputs": [
    {
     "output_type": "stream",
     "name": "stdout",
     "text": [
      "[[1 0 0 1 0 0 3]\n [0 0 0 3 0 0 1]\n [0 0 0 5 0 0 0]\n [2 0 0 5 0 0 1]\n [2 0 0 1 0 0 4]\n [2 0 0 4 0 0 2]\n [1 0 0 1 0 0 0]]\n"
     ]
    }
   ],
   "source": [
    "print(confusion_matrix(ytest,p5))"
   ]
  },
  {
   "cell_type": "code",
   "execution_count": 383,
   "metadata": {},
   "outputs": [
    {
     "output_type": "stream",
     "name": "stdout",
     "text": [
      "              precision    recall  f1-score   support\n\n           0       0.12      0.20      0.15         5\n           1       0.00      0.00      0.00         4\n           2       0.00      0.00      0.00         5\n           3       0.25      0.62      0.36         8\n           4       0.00      0.00      0.00         7\n           5       0.00      0.00      0.00         8\n           6       0.00      0.00      0.00         2\n\n    accuracy                           0.15        39\n   macro avg       0.05      0.12      0.07        39\nweighted avg       0.07      0.15      0.09        39\n\n"
     ]
    }
   ],
   "source": [
    "print(classification_report(ytest.values.ravel(),p5,target_names=['0','1','2','3','4','5','6']))"
   ]
  },
  {
   "cell_type": "markdown",
   "metadata": {},
   "source": [
    "## K-Fold Analysis"
   ]
  },
  {
   "cell_type": "code",
   "execution_count": 384,
   "metadata": {},
   "outputs": [],
   "source": [
    "kfold = StratifiedKFold(n_splits=6, shuffle=True, random_state=21)"
   ]
  },
  {
   "cell_type": "markdown",
   "metadata": {},
   "source": [
    "#### Random Forest"
   ]
  },
  {
   "cell_type": "code",
   "execution_count": 385,
   "metadata": {},
   "outputs": [],
   "source": [
    "acc = np.mean(cross_val_score(model1, xtrain, ytrain, scoring='accuracy', cv=kfold))"
   ]
  },
  {
   "cell_type": "code",
   "execution_count": 386,
   "metadata": {},
   "outputs": [],
   "source": [
    "allen11 = pd.DataFrame({'Model':'Random Forest',\n",
    "                      'Accuracy':[acc]})"
   ]
  },
  {
   "cell_type": "markdown",
   "metadata": {},
   "source": [
    "#### Decision Tree"
   ]
  },
  {
   "cell_type": "code",
   "execution_count": 387,
   "metadata": {},
   "outputs": [],
   "source": [
    "acc = np.mean(cross_val_score(model2, xtrain, ytrain, scoring='accuracy', cv=kfold))"
   ]
  },
  {
   "cell_type": "code",
   "execution_count": 388,
   "metadata": {},
   "outputs": [],
   "source": [
    "allen12 = pd.DataFrame({'Model':'Decision Tree',\n",
    "                      'Accuracy':[acc]})"
   ]
  },
  {
   "cell_type": "markdown",
   "metadata": {},
   "source": [
    "#### Naive Bayes"
   ]
  },
  {
   "cell_type": "code",
   "execution_count": 389,
   "metadata": {},
   "outputs": [],
   "source": [
    "acc = np.mean(cross_val_score(model3, xtrain, ytrain, scoring='accuracy', cv=kfold))"
   ]
  },
  {
   "cell_type": "code",
   "execution_count": 390,
   "metadata": {},
   "outputs": [],
   "source": [
    "allen13 = pd.DataFrame({'Model':'Naive Bayes',\n",
    "                      'Accuracy':[acc]})"
   ]
  },
  {
   "cell_type": "markdown",
   "metadata": {},
   "source": [
    "#### K-Nearest Neighbour"
   ]
  },
  {
   "cell_type": "code",
   "execution_count": 391,
   "metadata": {},
   "outputs": [],
   "source": [
    "acc = np.mean(cross_val_score(model4, xtrain, ytrain, scoring='accuracy', cv=kfold))"
   ]
  },
  {
   "cell_type": "code",
   "execution_count": 392,
   "metadata": {},
   "outputs": [],
   "source": [
    "allen14 = pd.DataFrame({'Model':'K-Nearest Neighbour',\n",
    "                      'Accuracy':[acc]})"
   ]
  },
  {
   "cell_type": "markdown",
   "metadata": {},
   "source": [
    "#### Logistic Regression"
   ]
  },
  {
   "cell_type": "code",
   "execution_count": 393,
   "metadata": {},
   "outputs": [],
   "source": [
    "acc = np.mean(cross_val_score(model5, xtrain, ytrain, scoring='accuracy', cv=kfold))"
   ]
  },
  {
   "cell_type": "code",
   "execution_count": 394,
   "metadata": {},
   "outputs": [],
   "source": [
    "allen15 = pd.DataFrame({'Model':'Logistic Regression',\n",
    "                      'Accuracy':[acc]})"
   ]
  },
  {
   "cell_type": "markdown",
   "metadata": {},
   "source": [
    "#### Concat"
   ]
  },
  {
   "cell_type": "code",
   "execution_count": 395,
   "metadata": {},
   "outputs": [
    {
     "output_type": "execute_result",
     "data": {
      "text/plain": [
       "                 Model  Accuracy\n",
       "0        Random Forest  0.277425\n",
       "1        Decision Tree  0.288970\n",
       "2          Naive Bayes  0.274501\n",
       "3  K-Nearest Neighbour  0.199486\n",
       "4  Logistic Regression  0.184866"
      ],
      "text/html": "<div>\n<style scoped>\n    .dataframe tbody tr th:only-of-type {\n        vertical-align: middle;\n    }\n\n    .dataframe tbody tr th {\n        vertical-align: top;\n    }\n\n    .dataframe thead th {\n        text-align: right;\n    }\n</style>\n<table border=\"1\" class=\"dataframe\">\n  <thead>\n    <tr style=\"text-align: right;\">\n      <th></th>\n      <th>Model</th>\n      <th>Accuracy</th>\n    </tr>\n  </thead>\n  <tbody>\n    <tr>\n      <th>0</th>\n      <td>Random Forest</td>\n      <td>0.277425</td>\n    </tr>\n    <tr>\n      <th>1</th>\n      <td>Decision Tree</td>\n      <td>0.288970</td>\n    </tr>\n    <tr>\n      <th>2</th>\n      <td>Naive Bayes</td>\n      <td>0.274501</td>\n    </tr>\n    <tr>\n      <th>3</th>\n      <td>K-Nearest Neighbour</td>\n      <td>0.199486</td>\n    </tr>\n    <tr>\n      <th>4</th>\n      <td>Logistic Regression</td>\n      <td>0.184866</td>\n    </tr>\n  </tbody>\n</table>\n</div>"
     },
     "metadata": {},
     "execution_count": 395
    }
   ],
   "source": [
    "al = pd.concat([allen11,allen12,allen13,allen14,allen15],axis=0).reset_index()\n",
    "al = al.drop('index',axis=1)\n",
    "al"
   ]
  },
  {
   "source": [
    "Using the K-Fold Analysis, a method for comparison, we can compare the algorithms based on the accuracies offered by them. Here, the highest accuracy offered is by Decision Tree ML algorithm, closely followed by Random Forest ML algorithm,for the given scenario and dataset."
   ],
   "cell_type": "markdown",
   "metadata": {}
  }
 ],
 "metadata": {
  "colab": {
   "name": "Nasscom Lab DA 3ipynb",
   "provenance": [],
   "toc_visible": true
  },
  "kernelspec": {
   "name": "python38364bit570ee3c6a9ce451c90a4fee19734ed2d",
   "display_name": "Python 3.8.3 64-bit ('base': conda)"
  },
  "language_info": {
   "codemirror_mode": {
    "name": "ipython",
    "version": 3
   },
   "file_extension": ".py",
   "mimetype": "text/x-python",
   "name": "python",
   "nbconvert_exporter": "python",
   "pygments_lexer": "ipython3",
   "version": "3.8.3"
  },
  "metadata": {
   "interpreter": {
    "hash": "5a2c2b1e8e21bd441da1d17902ec1befce5a77884cfd8dc3337a42ec4181cc68"
   }
  }
 },
 "nbformat": 4,
 "nbformat_minor": 1
}