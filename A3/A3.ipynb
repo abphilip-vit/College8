{
 "cells": [
  {
   "source": [
    "# Allen Ben Philipose - 18BIS0043\n",
    "#### Mock Lab FAT, L53+L54\n",
    "#### ECE3502 - IoT Domain Analyst\n",
    "#### Submitted to: Prof. Pradheep T"
   ],
   "cell_type": "markdown",
   "metadata": {}
  },
  {
   "source": [
    "# Aim\n",
    "\n",
    "In the given dataset, use random forest and predict the online shopping website for \n",
    "- Naypyitaw,Male,134,8.4 (Reg.No: 18BEC0402)"
   ],
   "cell_type": "markdown",
   "metadata": {}
  },
  {
   "source": [
    "# Code and Result"
   ],
   "cell_type": "markdown",
   "metadata": {}
  },
  {
   "cell_type": "markdown",
   "metadata": {},
   "source": [
    "## Import Libraries"
   ]
  },
  {
   "cell_type": "code",
   "execution_count": 1,
   "metadata": {
    "id": "s9IvUwnBSCl2"
   },
   "outputs": [],
   "source": [
    "import pandas as pd\n",
    "import numpy as np\n",
    "import seaborn as sns\n",
    "import matplotlib.pyplot as plt"
   ]
  },
  {
   "cell_type": "code",
   "execution_count": 2,
   "metadata": {},
   "outputs": [],
   "source": [
    "from sklearn import preprocessing\n",
    "from sklearn.metrics import accuracy_score, log_loss, confusion_matrix, f1_score \n",
    "from sklearn.model_selection import train_test_split, cross_val_score\n",
    "from sklearn.model_selection import StratifiedKFold, GridSearchCV, KFold \n",
    "from sklearn.preprocessing import MinMaxScaler\n",
    "from sklearn.metrics import classification_report"
   ]
  },
  {
   "cell_type": "code",
   "execution_count": 3,
   "metadata": {},
   "outputs": [],
   "source": [
    "from sklearn.ensemble import RandomForestClassifier\n",
    "from sklearn.tree import DecisionTreeClassifier\n",
    "from sklearn.naive_bayes import GaussianNB\n",
    "from sklearn.neighbors import KNeighborsClassifier\n",
    "from sklearn.linear_model import LogisticRegression"
   ]
  },
  {
   "source": [
    "import warnings\n",
    "warnings.filterwarnings('ignore')"
   ],
   "cell_type": "code",
   "metadata": {},
   "execution_count": 4,
   "outputs": []
  },
  {
   "cell_type": "markdown",
   "metadata": {
    "id": "RyP9iy-qZY4k"
   },
   "source": [
    "## Dataset"
   ]
  },
  {
   "cell_type": "code",
   "execution_count": 5,
   "metadata": {},
   "outputs": [],
   "source": [
    "allen = pd.read_csv(\"Dataset.csv\")"
   ]
  },
  {
   "cell_type": "code",
   "execution_count": 8,
   "metadata": {
    "colab": {
     "base_uri": "https://localhost:8080/",
     "height": 204
    },
    "id": "87jf1rTUZL5C",
    "outputId": "5b060829-317b-425b-c5fb-c67c502aefb6"
   },
   "outputs": [
    {
     "output_type": "execute_result",
     "data": {
      "text/plain": [
       "    Invoice ID Branch       City Customer type  Gender  \\\n",
       "0  750-67-8428      A     Yangon        Member  Female   \n",
       "1  226-31-3081      C  Naypyitaw        Normal  Female   \n",
       "2  631-41-3108      A     Yangon        Normal    Male   \n",
       "3  123-19-1176      A     Yangon        Member    Male   \n",
       "4  373-73-7910      A     Yangon        Normal    Male   \n",
       "\n",
       "             Product line  Unit price  Quantity   Tax 5%     Total       Date  \\\n",
       "0       Health and beauty       74.69         7  26.1415  548.9715   1/5/2019   \n",
       "1  Electronic accessories       15.28         5   3.8200   80.2200   3/8/2019   \n",
       "2      Home and lifestyle       46.33         7  16.2155  340.5255   3/3/2019   \n",
       "3       Health and beauty       58.22         8  23.2880  489.0480  1/27/2019   \n",
       "4       Sports and travel       86.31         7  30.2085  634.3785   2/8/2019   \n",
       "\n",
       "    Time      Payment    cogs  gross margin percentage  gross income  Rating  \n",
       "0  13:08      Ewallet  522.83                 4.761905       26.1415     9.1  \n",
       "1  10:29         Cash   76.40                 4.761905        3.8200     9.6  \n",
       "2  13:23  Credit card  324.31                 4.761905       16.2155     7.4  \n",
       "3  20:33      Ewallet  465.76                 4.761905       23.2880     8.4  \n",
       "4  10:37      Ewallet  604.17                 4.761905       30.2085     5.3  "
      ],
      "text/html": "<div>\n<style scoped>\n    .dataframe tbody tr th:only-of-type {\n        vertical-align: middle;\n    }\n\n    .dataframe tbody tr th {\n        vertical-align: top;\n    }\n\n    .dataframe thead th {\n        text-align: right;\n    }\n</style>\n<table border=\"1\" class=\"dataframe\">\n  <thead>\n    <tr style=\"text-align: right;\">\n      <th></th>\n      <th>Invoice ID</th>\n      <th>Branch</th>\n      <th>City</th>\n      <th>Customer type</th>\n      <th>Gender</th>\n      <th>Product line</th>\n      <th>Unit price</th>\n      <th>Quantity</th>\n      <th>Tax 5%</th>\n      <th>Total</th>\n      <th>Date</th>\n      <th>Time</th>\n      <th>Payment</th>\n      <th>cogs</th>\n      <th>gross margin percentage</th>\n      <th>gross income</th>\n      <th>Rating</th>\n    </tr>\n  </thead>\n  <tbody>\n    <tr>\n      <th>0</th>\n      <td>750-67-8428</td>\n      <td>A</td>\n      <td>Yangon</td>\n      <td>Member</td>\n      <td>Female</td>\n      <td>Health and beauty</td>\n      <td>74.69</td>\n      <td>7</td>\n      <td>26.1415</td>\n      <td>548.9715</td>\n      <td>1/5/2019</td>\n      <td>13:08</td>\n      <td>Ewallet</td>\n      <td>522.83</td>\n      <td>4.761905</td>\n      <td>26.1415</td>\n      <td>9.1</td>\n    </tr>\n    <tr>\n      <th>1</th>\n      <td>226-31-3081</td>\n      <td>C</td>\n      <td>Naypyitaw</td>\n      <td>Normal</td>\n      <td>Female</td>\n      <td>Electronic accessories</td>\n      <td>15.28</td>\n      <td>5</td>\n      <td>3.8200</td>\n      <td>80.2200</td>\n      <td>3/8/2019</td>\n      <td>10:29</td>\n      <td>Cash</td>\n      <td>76.40</td>\n      <td>4.761905</td>\n      <td>3.8200</td>\n      <td>9.6</td>\n    </tr>\n    <tr>\n      <th>2</th>\n      <td>631-41-3108</td>\n      <td>A</td>\n      <td>Yangon</td>\n      <td>Normal</td>\n      <td>Male</td>\n      <td>Home and lifestyle</td>\n      <td>46.33</td>\n      <td>7</td>\n      <td>16.2155</td>\n      <td>340.5255</td>\n      <td>3/3/2019</td>\n      <td>13:23</td>\n      <td>Credit card</td>\n      <td>324.31</td>\n      <td>4.761905</td>\n      <td>16.2155</td>\n      <td>7.4</td>\n    </tr>\n    <tr>\n      <th>3</th>\n      <td>123-19-1176</td>\n      <td>A</td>\n      <td>Yangon</td>\n      <td>Member</td>\n      <td>Male</td>\n      <td>Health and beauty</td>\n      <td>58.22</td>\n      <td>8</td>\n      <td>23.2880</td>\n      <td>489.0480</td>\n      <td>1/27/2019</td>\n      <td>20:33</td>\n      <td>Ewallet</td>\n      <td>465.76</td>\n      <td>4.761905</td>\n      <td>23.2880</td>\n      <td>8.4</td>\n    </tr>\n    <tr>\n      <th>4</th>\n      <td>373-73-7910</td>\n      <td>A</td>\n      <td>Yangon</td>\n      <td>Normal</td>\n      <td>Male</td>\n      <td>Sports and travel</td>\n      <td>86.31</td>\n      <td>7</td>\n      <td>30.2085</td>\n      <td>634.3785</td>\n      <td>2/8/2019</td>\n      <td>10:37</td>\n      <td>Ewallet</td>\n      <td>604.17</td>\n      <td>4.761905</td>\n      <td>30.2085</td>\n      <td>5.3</td>\n    </tr>\n  </tbody>\n</table>\n</div>"
     },
     "metadata": {},
     "execution_count": 8
    }
   ],
   "source": [
    "allen.head()"
   ]
  },
  {
   "cell_type": "code",
   "execution_count": 9,
   "metadata": {},
   "outputs": [],
   "source": [
    "allen.drop('Invoice ID',axis=1, inplace=True)\n",
    "allen.drop('Branch',axis=1, inplace=True)\n",
    "allen.drop('Customer type',axis=1, inplace=True)\n",
    "allen.drop('Quantity',axis=1, inplace=True)\n",
    "allen.drop('Tax 5%',axis=1, inplace=True)\n",
    "allen.drop('Total',axis=1, inplace=True)\n",
    "allen.drop('Time',axis=1, inplace=True)\n",
    "allen.drop('Date',axis=1, inplace=True)\n",
    "allen.drop('cogs',axis=1, inplace=True)\n",
    "allen.drop('gross margin percentage',axis=1, inplace=True)\n",
    "allen.drop('gross income',axis=1, inplace=True)\n",
    "allen.drop('Payment',axis=1, inplace=True)"
   ]
  },
  {
   "cell_type": "code",
   "execution_count": 10,
   "metadata": {},
   "outputs": [
    {
     "output_type": "execute_result",
     "data": {
      "text/plain": [
       "        City  Gender            Product line  Unit price  Rating\n",
       "0     Yangon  Female       Health and beauty       74.69     9.1\n",
       "1  Naypyitaw  Female  Electronic accessories       15.28     9.6\n",
       "2     Yangon    Male      Home and lifestyle       46.33     7.4\n",
       "3     Yangon    Male       Health and beauty       58.22     8.4\n",
       "4     Yangon    Male       Sports and travel       86.31     5.3"
      ],
      "text/html": "<div>\n<style scoped>\n    .dataframe tbody tr th:only-of-type {\n        vertical-align: middle;\n    }\n\n    .dataframe tbody tr th {\n        vertical-align: top;\n    }\n\n    .dataframe thead th {\n        text-align: right;\n    }\n</style>\n<table border=\"1\" class=\"dataframe\">\n  <thead>\n    <tr style=\"text-align: right;\">\n      <th></th>\n      <th>City</th>\n      <th>Gender</th>\n      <th>Product line</th>\n      <th>Unit price</th>\n      <th>Rating</th>\n    </tr>\n  </thead>\n  <tbody>\n    <tr>\n      <th>0</th>\n      <td>Yangon</td>\n      <td>Female</td>\n      <td>Health and beauty</td>\n      <td>74.69</td>\n      <td>9.1</td>\n    </tr>\n    <tr>\n      <th>1</th>\n      <td>Naypyitaw</td>\n      <td>Female</td>\n      <td>Electronic accessories</td>\n      <td>15.28</td>\n      <td>9.6</td>\n    </tr>\n    <tr>\n      <th>2</th>\n      <td>Yangon</td>\n      <td>Male</td>\n      <td>Home and lifestyle</td>\n      <td>46.33</td>\n      <td>7.4</td>\n    </tr>\n    <tr>\n      <th>3</th>\n      <td>Yangon</td>\n      <td>Male</td>\n      <td>Health and beauty</td>\n      <td>58.22</td>\n      <td>8.4</td>\n    </tr>\n    <tr>\n      <th>4</th>\n      <td>Yangon</td>\n      <td>Male</td>\n      <td>Sports and travel</td>\n      <td>86.31</td>\n      <td>5.3</td>\n    </tr>\n  </tbody>\n</table>\n</div>"
     },
     "metadata": {},
     "execution_count": 10
    }
   ],
   "source": [
    "allen.head()"
   ]
  },
  {
   "cell_type": "markdown",
   "metadata": {},
   "source": [
    "## Label Encoding"
   ]
  },
  {
   "cell_type": "code",
   "execution_count": 11,
   "metadata": {
    "colab": {
     "base_uri": "https://localhost:8080/"
    },
    "id": "xdHNmBriIOo1",
    "outputId": "40f73c7c-244b-4025-a71c-f192c2431176"
   },
   "outputs": [],
   "source": [
    "l1 = preprocessing.LabelEncoder()\n",
    "f1 = l1.fit_transform(allen['Gender']) \n",
    "f1 = pd.DataFrame(data=f1, columns=['Gender'])\n",
    "allen['Gender'] = f1['Gender']"
   ]
  },
  {
   "cell_type": "code",
   "execution_count": 12,
   "metadata": {},
   "outputs": [
    {
     "output_type": "stream",
     "name": "stdout",
     "text": [
      "['Female', 'Male']\n"
     ]
    }
   ],
   "source": [
    "print(list(l1.inverse_transform([0,1])))"
   ]
  },
  {
   "cell_type": "code",
   "execution_count": 13,
   "metadata": {},
   "outputs": [],
   "source": [
    "l2 = preprocessing.LabelEncoder()\n",
    "f2 = l2.fit_transform(allen['City']) \n",
    "f2 = pd.DataFrame(data=f2, columns=['City'])\n",
    "allen['City'] = f2['City']"
   ]
  },
  {
   "cell_type": "code",
   "execution_count": 15,
   "metadata": {},
   "outputs": [
    {
     "output_type": "stream",
     "name": "stdout",
     "text": [
      "['Mandalay', 'Naypyitaw', 'Yangon']\n"
     ]
    }
   ],
   "source": [
    "print(list(l2.inverse_transform([0,1,2])))"
   ]
  },
  {
   "cell_type": "code",
   "execution_count": 18,
   "metadata": {},
   "outputs": [],
   "source": [
    "l3 = preprocessing.LabelEncoder()\n",
    "f3 = l3.fit_transform(allen['Product line'])\n",
    "f3 = pd.DataFrame(data=f3, columns=['Product line'])\n",
    "allen['Product line'] = f3['Product line']"
   ]
  },
  {
   "cell_type": "code",
   "execution_count": 19,
   "metadata": {},
   "outputs": [
    {
     "output_type": "stream",
     "name": "stdout",
     "text": [
      "['Electronic accessories', 'Fashion accessories', 'Food and beverages', 'Health and beauty', 'Home and lifestyle', 'Sports and travel']\n"
     ]
    }
   ],
   "source": [
    "print(list(l3.inverse_transform([0,1,2,3,4,5])))"
   ]
  },
  {
   "cell_type": "code",
   "execution_count": 21,
   "metadata": {},
   "outputs": [
    {
     "output_type": "execute_result",
     "data": {
      "text/plain": [
       "   City  Gender  Product line  Unit price  Rating\n",
       "0     2       0             3       74.69     9.1\n",
       "1     1       0             0       15.28     9.6\n",
       "2     2       1             4       46.33     7.4\n",
       "3     2       1             3       58.22     8.4\n",
       "4     2       1             5       86.31     5.3"
      ],
      "text/html": "<div>\n<style scoped>\n    .dataframe tbody tr th:only-of-type {\n        vertical-align: middle;\n    }\n\n    .dataframe tbody tr th {\n        vertical-align: top;\n    }\n\n    .dataframe thead th {\n        text-align: right;\n    }\n</style>\n<table border=\"1\" class=\"dataframe\">\n  <thead>\n    <tr style=\"text-align: right;\">\n      <th></th>\n      <th>City</th>\n      <th>Gender</th>\n      <th>Product line</th>\n      <th>Unit price</th>\n      <th>Rating</th>\n    </tr>\n  </thead>\n  <tbody>\n    <tr>\n      <th>0</th>\n      <td>2</td>\n      <td>0</td>\n      <td>3</td>\n      <td>74.69</td>\n      <td>9.1</td>\n    </tr>\n    <tr>\n      <th>1</th>\n      <td>1</td>\n      <td>0</td>\n      <td>0</td>\n      <td>15.28</td>\n      <td>9.6</td>\n    </tr>\n    <tr>\n      <th>2</th>\n      <td>2</td>\n      <td>1</td>\n      <td>4</td>\n      <td>46.33</td>\n      <td>7.4</td>\n    </tr>\n    <tr>\n      <th>3</th>\n      <td>2</td>\n      <td>1</td>\n      <td>3</td>\n      <td>58.22</td>\n      <td>8.4</td>\n    </tr>\n    <tr>\n      <th>4</th>\n      <td>2</td>\n      <td>1</td>\n      <td>5</td>\n      <td>86.31</td>\n      <td>5.3</td>\n    </tr>\n  </tbody>\n</table>\n</div>"
     },
     "metadata": {},
     "execution_count": 21
    }
   ],
   "source": [
    "allen.head()"
   ]
  },
  {
   "source": [
    "## MinMaxScaler"
   ],
   "cell_type": "markdown",
   "metadata": {}
  },
  {
   "cell_type": "code",
   "execution_count": 22,
   "metadata": {},
   "outputs": [],
   "source": [
    "ms = MinMaxScaler()\n",
    "columns = ['Unit price']\n",
    "allen[columns] = ms.fit_transform(allen[columns])"
   ]
  },
  {
   "cell_type": "code",
   "execution_count": 23,
   "metadata": {},
   "outputs": [
    {
     "output_type": "execute_result",
     "data": {
      "text/plain": [
       "   City  Gender  Product line  Unit price  Rating\n",
       "0     2       0             3    0.718847     9.1\n",
       "1     1       0             0    0.057855     9.6\n",
       "2     2       1             4    0.403316     7.4\n",
       "3     2       1             3    0.535603     8.4\n",
       "4     2       1             5    0.848131     5.3"
      ],
      "text/html": "<div>\n<style scoped>\n    .dataframe tbody tr th:only-of-type {\n        vertical-align: middle;\n    }\n\n    .dataframe tbody tr th {\n        vertical-align: top;\n    }\n\n    .dataframe thead th {\n        text-align: right;\n    }\n</style>\n<table border=\"1\" class=\"dataframe\">\n  <thead>\n    <tr style=\"text-align: right;\">\n      <th></th>\n      <th>City</th>\n      <th>Gender</th>\n      <th>Product line</th>\n      <th>Unit price</th>\n      <th>Rating</th>\n    </tr>\n  </thead>\n  <tbody>\n    <tr>\n      <th>0</th>\n      <td>2</td>\n      <td>0</td>\n      <td>3</td>\n      <td>0.718847</td>\n      <td>9.1</td>\n    </tr>\n    <tr>\n      <th>1</th>\n      <td>1</td>\n      <td>0</td>\n      <td>0</td>\n      <td>0.057855</td>\n      <td>9.6</td>\n    </tr>\n    <tr>\n      <th>2</th>\n      <td>2</td>\n      <td>1</td>\n      <td>4</td>\n      <td>0.403316</td>\n      <td>7.4</td>\n    </tr>\n    <tr>\n      <th>3</th>\n      <td>2</td>\n      <td>1</td>\n      <td>3</td>\n      <td>0.535603</td>\n      <td>8.4</td>\n    </tr>\n    <tr>\n      <th>4</th>\n      <td>2</td>\n      <td>1</td>\n      <td>5</td>\n      <td>0.848131</td>\n      <td>5.3</td>\n    </tr>\n  </tbody>\n</table>\n</div>"
     },
     "metadata": {},
     "execution_count": 23
    }
   ],
   "source": [
    "allen.head()"
   ]
  },
  {
   "cell_type": "markdown",
   "metadata": {
    "id": "crrlZyeK1vU3"
   },
   "source": [
    "## Train-test-split"
   ]
  },
  {
   "cell_type": "code",
   "execution_count": 24,
   "metadata": {
    "colab": {
     "base_uri": "https://localhost:8080/",
     "height": 204
    },
    "id": "1E6I2IpxL96L",
    "outputId": "1f5af59a-a5b5-49c9-d719-ccc7994d2005"
   },
   "outputs": [],
   "source": [
    "x = allen.drop(['Product line'],axis=1)"
   ]
  },
  {
   "cell_type": "code",
   "execution_count": 25,
   "metadata": {
    "colab": {
     "base_uri": "https://localhost:8080/"
    },
    "id": "HxQC2ml5MoTr",
    "outputId": "c3728f42-261d-48be-b1d5-6b02349892ed"
   },
   "outputs": [],
   "source": [
    "y = allen['Product line']"
   ]
  },
  {
   "cell_type": "code",
   "execution_count": 26,
   "metadata": {
    "id": "-hUABKPIMvwE"
   },
   "outputs": [],
   "source": [
    "xtrain, xtest, ytrain, ytest = train_test_split(x,y,test_size=0.2,random_state=21)"
   ]
  },
  {
   "source": [
    "## Model"
   ],
   "cell_type": "markdown",
   "metadata": {}
  },
  {
   "cell_type": "code",
   "execution_count": 46,
   "metadata": {},
   "outputs": [],
   "source": [
    "model0 = RandomForestClassifier()\n",
    "model0.fit(xtrain,ytrain)\n",
    "p0 = model0.predict(xtest)"
   ]
  },
  {
   "source": [
    "## Prediction (18BIS0043)"
   ],
   "cell_type": "markdown",
   "metadata": {}
  },
  {
   "cell_type": "code",
   "execution_count": 47,
   "metadata": {},
   "outputs": [],
   "source": [
    "allen2 = pd.DataFrame(columns=['City','Gender','Unit price','Rating','Product line'])"
   ]
  },
  {
   "cell_type": "code",
   "execution_count": 48,
   "metadata": {},
   "outputs": [],
   "source": [
    "init = {\"City\": 1,\n",
    "        \"Gender\": 1,\n",
    "        \"Unit price\": 134,\n",
    "        \"Rating\": 8.4,\n",
    "       }\n",
    "allen2 = allen2.append(init, ignore_index=True)"
   ]
  },
  {
   "cell_type": "code",
   "execution_count": 49,
   "metadata": {},
   "outputs": [],
   "source": [
    "pred = model0.predict(allen2.drop(['Product line'],axis=1))\n",
    "allen2['Product line']=pred"
   ]
  },
  {
   "cell_type": "code",
   "execution_count": 50,
   "metadata": {},
   "outputs": [
    {
     "output_type": "execute_result",
     "data": {
      "text/plain": [
       "   City  Gender  Unit price  Rating  Product line\n",
       "0   1.0     1.0       134.0     8.4             3"
      ],
      "text/html": "<div>\n<style scoped>\n    .dataframe tbody tr th:only-of-type {\n        vertical-align: middle;\n    }\n\n    .dataframe tbody tr th {\n        vertical-align: top;\n    }\n\n    .dataframe thead th {\n        text-align: right;\n    }\n</style>\n<table border=\"1\" class=\"dataframe\">\n  <thead>\n    <tr style=\"text-align: right;\">\n      <th></th>\n      <th>City</th>\n      <th>Gender</th>\n      <th>Unit price</th>\n      <th>Rating</th>\n      <th>Product line</th>\n    </tr>\n  </thead>\n  <tbody>\n    <tr>\n      <th>0</th>\n      <td>1.0</td>\n      <td>1.0</td>\n      <td>134.0</td>\n      <td>8.4</td>\n      <td>3</td>\n    </tr>\n  </tbody>\n</table>\n</div>"
     },
     "metadata": {},
     "execution_count": 50
    }
   ],
   "source": [
    "allen2.head()"
   ]
  },
  {
   "cell_type": "code",
   "execution_count": 51,
   "metadata": {},
   "outputs": [
    {
     "output_type": "stream",
     "name": "stdout",
     "text": [
      "['Health and beauty']\n"
     ]
    }
   ],
   "source": [
    "print(list(l3.inverse_transform([allen2['Product line']])))"
   ]
  },
  {
   "cell_type": "code",
   "execution_count": 52,
   "metadata": {},
   "outputs": [
    {
     "output_type": "stream",
     "name": "stdout",
     "text": [
      "              precision    recall  f1-score   support\n\n           0       0.11      0.10      0.11        39\n           1       0.10      0.11      0.10        37\n           2       0.19      0.15      0.16        48\n           3       0.10      0.08      0.09        25\n           4       0.07      0.07      0.07        27\n           5       0.21      0.33      0.26        24\n\n    accuracy                           0.14       200\n   macro avg       0.13      0.14      0.13       200\nweighted avg       0.13      0.14      0.13       200\n\n"
     ]
    }
   ],
   "source": [
    "print(classification_report(ytest.values.ravel(),p0,target_names=['0','1','2','3','4','5']))"
   ]
  },
  {
   "source": [
    "# Viva\n",
    "\n",
    "Which ML algorithm is the most effective for this application given the same dataset. Justify your choice of ML algorithm."
   ],
   "cell_type": "markdown",
   "metadata": {}
  },
  {
   "cell_type": "markdown",
   "metadata": {},
   "source": [
    "#### Random Forest"
   ]
  },
  {
   "cell_type": "code",
   "execution_count": 53,
   "metadata": {
    "id": "-9qxQPoaNxsw"
   },
   "outputs": [],
   "source": [
    "model1 = RandomForestClassifier()\n",
    "model1.fit(xtrain,ytrain)\n",
    "p1 = model1.predict(xtest)"
   ]
  },
  {
   "cell_type": "code",
   "execution_count": 54,
   "metadata": {
    "colab": {
     "base_uri": "https://localhost:8080/"
    },
    "id": "QQK3hbNx3w5g",
    "outputId": "e82b34ce-dc79-4f25-a59a-dffef18d9306"
   },
   "outputs": [
    {
     "output_type": "stream",
     "name": "stdout",
     "text": [
      "[[ 3  7 12  9  6  2]\n [ 9  5  6  4  4  9]\n [12 10  8  3 10  5]\n [ 4  9  4  1  3  4]\n [ 6  7  6  3  1  4]\n [ 2  5  2  3  2 10]]\n"
     ]
    }
   ],
   "source": [
    "print(confusion_matrix(ytest,p1))"
   ]
  },
  {
   "cell_type": "code",
   "execution_count": 56,
   "metadata": {},
   "outputs": [
    {
     "output_type": "stream",
     "name": "stdout",
     "text": [
      "              precision    recall  f1-score   support\n\n           0       0.08      0.08      0.08        39\n           1       0.12      0.14      0.12        37\n           2       0.21      0.17      0.19        48\n           3       0.04      0.04      0.04        25\n           4       0.04      0.04      0.04        27\n           5       0.29      0.42      0.34        24\n\n    accuracy                           0.14       200\n   macro avg       0.13      0.15      0.14       200\nweighted avg       0.13      0.14      0.14       200\n\n"
     ]
    }
   ],
   "source": [
    "print(classification_report(ytest.values.ravel(),p1,target_names=['0','1','2','3','4','5']))"
   ]
  },
  {
   "cell_type": "markdown",
   "metadata": {},
   "source": [
    "#### Decision Tree"
   ]
  },
  {
   "cell_type": "code",
   "execution_count": 57,
   "metadata": {},
   "outputs": [],
   "source": [
    "model2 = DecisionTreeClassifier()\n",
    "model2.fit(xtrain,ytrain)\n",
    "p2 = model2.predict(xtest)"
   ]
  },
  {
   "cell_type": "code",
   "execution_count": 58,
   "metadata": {},
   "outputs": [
    {
     "output_type": "stream",
     "name": "stdout",
     "text": [
      "[[ 5  6 10  7  6  5]\n [10  3  5  5  5  9]\n [ 9 11  8  3 11  6]\n [ 6  4  4  1  6  4]\n [ 7  6  4  1  3  6]\n [ 2  6  1  2  1 12]]\n"
     ]
    }
   ],
   "source": [
    "print(confusion_matrix(ytest,p2))"
   ]
  },
  {
   "cell_type": "code",
   "execution_count": 59,
   "metadata": {},
   "outputs": [
    {
     "output_type": "stream",
     "name": "stdout",
     "text": [
      "              precision    recall  f1-score   support\n\n           0       0.13      0.13      0.13        39\n           1       0.08      0.08      0.08        37\n           2       0.25      0.17      0.20        48\n           3       0.05      0.04      0.05        25\n           4       0.09      0.11      0.10        27\n           5       0.29      0.50      0.36        24\n\n    accuracy                           0.16       200\n   macro avg       0.15      0.17      0.15       200\nweighted avg       0.15      0.16      0.15       200\n\n"
     ]
    }
   ],
   "source": [
    "print(classification_report(ytest.values.ravel(),p2,target_names=['0','1','2','3','4','5']))"
   ]
  },
  {
   "cell_type": "markdown",
   "metadata": {},
   "source": [
    "#### Naive Bayes"
   ]
  },
  {
   "cell_type": "code",
   "execution_count": 60,
   "metadata": {},
   "outputs": [],
   "source": [
    "model3 = GaussianNB()\n",
    "model3.fit(xtrain,ytrain)\n",
    "p3 = model3.predict(xtest)"
   ]
  },
  {
   "source": [
    "print(confusion_matrix(ytest,p3))"
   ],
   "cell_type": "code",
   "metadata": {},
   "execution_count": 61,
   "outputs": [
    {
     "output_type": "stream",
     "name": "stdout",
     "text": [
      "[[ 4  8  1  9 12  5]\n [ 2  7  0 15  7  6]\n [ 8 12  1  9  9  9]\n [ 3  8  1  8  4  1]\n [ 5  1  1 11  4  5]\n [ 3  3  4  5  5  4]]\n"
     ]
    }
   ]
  },
  {
   "cell_type": "code",
   "execution_count": 62,
   "metadata": {},
   "outputs": [
    {
     "output_type": "stream",
     "name": "stdout",
     "text": [
      "              precision    recall  f1-score   support\n\n           0       0.16      0.10      0.12        39\n           1       0.18      0.19      0.18        37\n           2       0.12      0.02      0.04        48\n           3       0.14      0.32      0.20        25\n           4       0.10      0.15      0.12        27\n           5       0.13      0.17      0.15        24\n\n    accuracy                           0.14       200\n   macro avg       0.14      0.16      0.13       200\nweighted avg       0.14      0.14      0.13       200\n\n"
     ]
    }
   ],
   "source": [
    "print(classification_report(ytest.values.ravel(),p3,target_names=['0','1','2','3','4','5']))"
   ]
  },
  {
   "cell_type": "markdown",
   "metadata": {},
   "source": [
    "#### K-Nearest Neighbour"
   ]
  },
  {
   "cell_type": "code",
   "execution_count": 63,
   "metadata": {},
   "outputs": [],
   "source": [
    "model4 = KNeighborsClassifier()\n",
    "model4.fit(xtrain,ytrain)\n",
    "p4 = model4.predict(xtest)"
   ]
  },
  {
   "cell_type": "code",
   "execution_count": 64,
   "metadata": {},
   "outputs": [
    {
     "output_type": "stream",
     "name": "stdout",
     "text": [
      "[[12  7 10  2  3  5]\n [12  5  5  5  7  3]\n [19  8  8  2  6  5]\n [ 6  6  5  5  1  2]\n [ 9  5  4  4  1  4]\n [10  2  3  4  2  3]]\n"
     ]
    }
   ],
   "source": [
    "print(confusion_matrix(ytest,p4))"
   ]
  },
  {
   "cell_type": "code",
   "execution_count": 65,
   "metadata": {},
   "outputs": [
    {
     "output_type": "stream",
     "name": "stdout",
     "text": [
      "              precision    recall  f1-score   support\n\n           0       0.18      0.31      0.22        39\n           1       0.15      0.14      0.14        37\n           2       0.23      0.17      0.19        48\n           3       0.23      0.20      0.21        25\n           4       0.05      0.04      0.04        27\n           5       0.14      0.12      0.13        24\n\n    accuracy                           0.17       200\n   macro avg       0.16      0.16      0.16       200\nweighted avg       0.17      0.17      0.16       200\n\n"
     ]
    }
   ],
   "source": [
    "print(classification_report(ytest.values.ravel(),p4,target_names=['0','1','2','3','4','5']))"
   ]
  },
  {
   "cell_type": "markdown",
   "metadata": {},
   "source": [
    "#### Logistic Regression"
   ]
  },
  {
   "cell_type": "code",
   "execution_count": 66,
   "metadata": {},
   "outputs": [],
   "source": [
    "model5 = LogisticRegression()\n",
    "model5.fit(xtrain,ytrain)\n",
    "p5 = model5.predict(xtest)"
   ]
  },
  {
   "cell_type": "code",
   "execution_count": 67,
   "metadata": {},
   "outputs": [
    {
     "output_type": "stream",
     "name": "stdout",
     "text": [
      "[[ 4  6  1  8 13  7]\n [ 1  6  2 14  9  5]\n [10 11  3  7  8  9]\n [ 3  7  1  8  5  1]\n [ 5  2  2  9  5  4]\n [ 3  3  4  2  7  5]]\n"
     ]
    }
   ],
   "source": [
    "print(confusion_matrix(ytest,p5))"
   ]
  },
  {
   "cell_type": "code",
   "execution_count": 68,
   "metadata": {},
   "outputs": [
    {
     "output_type": "stream",
     "name": "stdout",
     "text": [
      "              precision    recall  f1-score   support\n\n           0       0.15      0.10      0.12        39\n           1       0.17      0.16      0.17        37\n           2       0.23      0.06      0.10        48\n           3       0.17      0.32      0.22        25\n           4       0.11      0.19      0.14        27\n           5       0.16      0.21      0.18        24\n\n    accuracy                           0.15       200\n   macro avg       0.17      0.17      0.15       200\nweighted avg       0.17      0.15      0.15       200\n\n"
     ]
    }
   ],
   "source": [
    "print(classification_report(ytest.values.ravel(),p5,target_names=['0','1','2','3','4','5']))"
   ]
  },
  {
   "cell_type": "markdown",
   "metadata": {},
   "source": [
    "## K-Fold Analysis"
   ]
  },
  {
   "cell_type": "code",
   "execution_count": 69,
   "metadata": {},
   "outputs": [],
   "source": [
    "kfold = StratifiedKFold(n_splits=6, shuffle=True, random_state=21)"
   ]
  },
  {
   "cell_type": "markdown",
   "metadata": {},
   "source": [
    "#### Random Forest"
   ]
  },
  {
   "cell_type": "code",
   "execution_count": 70,
   "metadata": {},
   "outputs": [],
   "source": [
    "acc = np.mean(cross_val_score(model1, xtrain, ytrain, scoring='accuracy', cv=kfold))"
   ]
  },
  {
   "cell_type": "code",
   "execution_count": 71,
   "metadata": {},
   "outputs": [],
   "source": [
    "allen11 = pd.DataFrame({'Model':'Random Forest',\n",
    "                      'Accuracy':[acc]})"
   ]
  },
  {
   "cell_type": "markdown",
   "metadata": {},
   "source": [
    "#### Decision Tree"
   ]
  },
  {
   "cell_type": "code",
   "execution_count": 72,
   "metadata": {},
   "outputs": [],
   "source": [
    "acc = np.mean(cross_val_score(model2, xtrain, ytrain, scoring='accuracy', cv=kfold))"
   ]
  },
  {
   "cell_type": "code",
   "execution_count": 73,
   "metadata": {},
   "outputs": [],
   "source": [
    "allen12 = pd.DataFrame({'Model':'Decision Tree',\n",
    "                      'Accuracy':[acc]})"
   ]
  },
  {
   "cell_type": "markdown",
   "metadata": {},
   "source": [
    "#### Naive Bayes"
   ]
  },
  {
   "cell_type": "code",
   "execution_count": 74,
   "metadata": {},
   "outputs": [],
   "source": [
    "acc = np.mean(cross_val_score(model3, xtrain, ytrain, scoring='accuracy', cv=kfold))"
   ]
  },
  {
   "cell_type": "code",
   "execution_count": 75,
   "metadata": {},
   "outputs": [],
   "source": [
    "allen13 = pd.DataFrame({'Model':'Naive Bayes',\n",
    "                      'Accuracy':[acc]})"
   ]
  },
  {
   "cell_type": "markdown",
   "metadata": {},
   "source": [
    "#### K-Nearest Neighbour"
   ]
  },
  {
   "cell_type": "code",
   "execution_count": 76,
   "metadata": {},
   "outputs": [],
   "source": [
    "acc = np.mean(cross_val_score(model4, xtrain, ytrain, scoring='accuracy', cv=kfold))"
   ]
  },
  {
   "cell_type": "code",
   "execution_count": 77,
   "metadata": {},
   "outputs": [],
   "source": [
    "allen14 = pd.DataFrame({'Model':'K-Nearest Neighbour',\n",
    "                      'Accuracy':[acc]})"
   ]
  },
  {
   "cell_type": "markdown",
   "metadata": {},
   "source": [
    "#### Logistic Regression"
   ]
  },
  {
   "cell_type": "code",
   "execution_count": 78,
   "metadata": {},
   "outputs": [],
   "source": [
    "acc = np.mean(cross_val_score(model5, xtrain, ytrain, scoring='accuracy', cv=kfold))"
   ]
  },
  {
   "cell_type": "code",
   "execution_count": 79,
   "metadata": {},
   "outputs": [],
   "source": [
    "allen15 = pd.DataFrame({'Model':'Logistic Regression',\n",
    "                      'Accuracy':[acc]})"
   ]
  },
  {
   "cell_type": "markdown",
   "metadata": {},
   "source": [
    "#### Concat"
   ]
  },
  {
   "cell_type": "code",
   "execution_count": 80,
   "metadata": {},
   "outputs": [
    {
     "output_type": "execute_result",
     "data": {
      "text/plain": [
       "                 Model  Accuracy\n",
       "0        Random Forest  0.177487\n",
       "1        Decision Tree  0.156268\n",
       "2          Naive Bayes  0.158690\n",
       "3  K-Nearest Neighbour  0.176318\n",
       "4  Logistic Regression  0.164946"
      ],
      "text/html": "<div>\n<style scoped>\n    .dataframe tbody tr th:only-of-type {\n        vertical-align: middle;\n    }\n\n    .dataframe tbody tr th {\n        vertical-align: top;\n    }\n\n    .dataframe thead th {\n        text-align: right;\n    }\n</style>\n<table border=\"1\" class=\"dataframe\">\n  <thead>\n    <tr style=\"text-align: right;\">\n      <th></th>\n      <th>Model</th>\n      <th>Accuracy</th>\n    </tr>\n  </thead>\n  <tbody>\n    <tr>\n      <th>0</th>\n      <td>Random Forest</td>\n      <td>0.177487</td>\n    </tr>\n    <tr>\n      <th>1</th>\n      <td>Decision Tree</td>\n      <td>0.156268</td>\n    </tr>\n    <tr>\n      <th>2</th>\n      <td>Naive Bayes</td>\n      <td>0.158690</td>\n    </tr>\n    <tr>\n      <th>3</th>\n      <td>K-Nearest Neighbour</td>\n      <td>0.176318</td>\n    </tr>\n    <tr>\n      <th>4</th>\n      <td>Logistic Regression</td>\n      <td>0.164946</td>\n    </tr>\n  </tbody>\n</table>\n</div>"
     },
     "metadata": {},
     "execution_count": 80
    }
   ],
   "source": [
    "al = pd.concat([allen11,allen12,allen13,allen14,allen15],axis=0).reset_index()\n",
    "al = al.drop('index',axis=1)\n",
    "al"
   ]
  },
  {
   "source": [
    "Using the K-Fold Analysis, a method for comparison, we can compare the algorithms based on the accuracies offered by them. Here, the highest accuracy offered is by Decision Tree ML algorithm, closely followed by Random Forest ML algorithm,for the given scenario and dataset."
   ],
   "cell_type": "markdown",
   "metadata": {}
  }
 ],
 "metadata": {
  "colab": {
   "name": "Nasscom Lab DA 3ipynb",
   "provenance": [],
   "toc_visible": true
  },
  "kernelspec": {
   "name": "python38364bit570ee3c6a9ce451c90a4fee19734ed2d",
   "display_name": "Python 3.8.3 64-bit ('base': conda)"
  },
  "language_info": {
   "codemirror_mode": {
    "name": "ipython",
    "version": 3
   },
   "file_extension": ".py",
   "mimetype": "text/x-python",
   "name": "python",
   "nbconvert_exporter": "python",
   "pygments_lexer": "ipython3",
   "version": "3.8.3"
  },
  "metadata": {
   "interpreter": {
    "hash": "5a2c2b1e8e21bd441da1d17902ec1befce5a77884cfd8dc3337a42ec4181cc68"
   }
  }
 },
 "nbformat": 4,
 "nbformat_minor": 1
}